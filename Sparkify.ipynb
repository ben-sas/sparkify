{
 "cells": [
  {
   "cell_type": "markdown",
   "metadata": {},
   "source": [
    "# Sparkify Project Workspace\n",
    "This workspace contains a tiny subset (128MB) of the full dataset available (12GB). Feel free to use this workspace to build your project, or to explore a smaller subset with Spark before deploying your cluster on the cloud. Instructions for setting up your Spark cluster is included in the last lesson of the Extracurricular Spark Course content.\n",
    "\n",
    "You can follow the steps below to guide your data analysis and model building portion of this project."
   ]
  },
  {
   "cell_type": "code",
   "execution_count": 42,
   "metadata": {},
   "outputs": [],
   "source": [
    "from pyspark.sql import SparkSession\n",
    "from pyspark.sql.functions import udf\n",
    "from pyspark.sql.types import StringType\n",
    "from pyspark.sql.types import IntegerType\n",
    "from pyspark.sql.functions import desc\n",
    "from pyspark.sql.functions import asc\n",
    "from pyspark.sql.functions import sum as Fsum, isnan, to_date, to_timestamp, from_unixtime, count\n",
    "\n",
    "import pyspark.sql.functions as F\n",
    "\n",
    "from pyspark.sql.types import LongType, TimestampType\n",
    "from pyspark.sql.functions import substring, from_unixtime\n",
    "\n",
    "import datetime\n",
    "\n",
    "import numpy as np\n",
    "import pandas as pd\n",
    "%matplotlib inline\n",
    "import matplotlib.pyplot as plt\n",
    "\n",
    "import findspark\n",
    "findspark.init()"
   ]
  },
  {
   "cell_type": "code",
   "execution_count": 2,
   "metadata": {},
   "outputs": [],
   "source": [
    "spark = SparkSession \\\n",
    "    .builder \\\n",
    "    .appName(\"Wrangling Data\") \\\n",
    "    .getOrCreate()"
   ]
  },
  {
   "cell_type": "markdown",
   "metadata": {},
   "source": [
    "# Load and Clean Dataset\n",
    "In this workspace, the mini-dataset file is `mini_sparkify_event_data.json`. Load and clean the dataset, checking for invalid or missing data - for example, records without userids or sessionids. "
   ]
  },
  {
   "cell_type": "code",
   "execution_count": 3,
   "metadata": {},
   "outputs": [],
   "source": [
    "path = \"mini_sparkify_event_data.json\"\n",
    "df = spark.read.json(path)\n",
    "df_original = df"
   ]
  },
  {
   "cell_type": "code",
   "execution_count": 4,
   "metadata": {},
   "outputs": [
    {
     "name": "stdout",
     "output_type": "stream",
     "text": [
      "root\n",
      " |-- artist: string (nullable = true)\n",
      " |-- auth: string (nullable = true)\n",
      " |-- firstName: string (nullable = true)\n",
      " |-- gender: string (nullable = true)\n",
      " |-- itemInSession: long (nullable = true)\n",
      " |-- lastName: string (nullable = true)\n",
      " |-- length: double (nullable = true)\n",
      " |-- level: string (nullable = true)\n",
      " |-- location: string (nullable = true)\n",
      " |-- method: string (nullable = true)\n",
      " |-- page: string (nullable = true)\n",
      " |-- registration: long (nullable = true)\n",
      " |-- sessionId: long (nullable = true)\n",
      " |-- song: string (nullable = true)\n",
      " |-- status: long (nullable = true)\n",
      " |-- ts: long (nullable = true)\n",
      " |-- userAgent: string (nullable = true)\n",
      " |-- userId: string (nullable = true)\n",
      "\n"
     ]
    }
   ],
   "source": [
    "df.printSchema()"
   ]
  },
  {
   "cell_type": "code",
   "execution_count": 5,
   "metadata": {},
   "outputs": [
    {
     "data": {
      "text/html": [
       "<div>\n",
       "<style scoped>\n",
       "    .dataframe tbody tr th:only-of-type {\n",
       "        vertical-align: middle;\n",
       "    }\n",
       "\n",
       "    .dataframe tbody tr th {\n",
       "        vertical-align: top;\n",
       "    }\n",
       "\n",
       "    .dataframe thead th {\n",
       "        text-align: right;\n",
       "    }\n",
       "</style>\n",
       "<table border=\"1\" class=\"dataframe\">\n",
       "  <thead>\n",
       "    <tr style=\"text-align: right;\">\n",
       "      <th></th>\n",
       "      <th>artist</th>\n",
       "      <th>auth</th>\n",
       "      <th>firstName</th>\n",
       "      <th>gender</th>\n",
       "      <th>itemInSession</th>\n",
       "      <th>lastName</th>\n",
       "      <th>length</th>\n",
       "      <th>level</th>\n",
       "      <th>location</th>\n",
       "      <th>method</th>\n",
       "      <th>page</th>\n",
       "      <th>registration</th>\n",
       "      <th>sessionId</th>\n",
       "      <th>song</th>\n",
       "      <th>status</th>\n",
       "      <th>ts</th>\n",
       "      <th>userAgent</th>\n",
       "      <th>userId</th>\n",
       "    </tr>\n",
       "  </thead>\n",
       "  <tbody>\n",
       "    <tr>\n",
       "      <th>0</th>\n",
       "      <td>Martha Tilston</td>\n",
       "      <td>Logged In</td>\n",
       "      <td>Colin</td>\n",
       "      <td>M</td>\n",
       "      <td>50</td>\n",
       "      <td>Freeman</td>\n",
       "      <td>277.89016</td>\n",
       "      <td>paid</td>\n",
       "      <td>Bakersfield, CA</td>\n",
       "      <td>PUT</td>\n",
       "      <td>NextSong</td>\n",
       "      <td>1538173362000</td>\n",
       "      <td>29</td>\n",
       "      <td>Rockpools</td>\n",
       "      <td>200</td>\n",
       "      <td>1538352117000</td>\n",
       "      <td>Mozilla/5.0 (Windows NT 6.1; WOW64; rv:31.0) G...</td>\n",
       "      <td>30</td>\n",
       "    </tr>\n",
       "    <tr>\n",
       "      <th>1</th>\n",
       "      <td>Five Iron Frenzy</td>\n",
       "      <td>Logged In</td>\n",
       "      <td>Micah</td>\n",
       "      <td>M</td>\n",
       "      <td>79</td>\n",
       "      <td>Long</td>\n",
       "      <td>236.09424</td>\n",
       "      <td>free</td>\n",
       "      <td>Boston-Cambridge-Newton, MA-NH</td>\n",
       "      <td>PUT</td>\n",
       "      <td>NextSong</td>\n",
       "      <td>1538331630000</td>\n",
       "      <td>8</td>\n",
       "      <td>Canada</td>\n",
       "      <td>200</td>\n",
       "      <td>1538352180000</td>\n",
       "      <td>\"Mozilla/5.0 (Windows NT 6.1; WOW64) AppleWebK...</td>\n",
       "      <td>9</td>\n",
       "    </tr>\n",
       "    <tr>\n",
       "      <th>2</th>\n",
       "      <td>Adam Lambert</td>\n",
       "      <td>Logged In</td>\n",
       "      <td>Colin</td>\n",
       "      <td>M</td>\n",
       "      <td>51</td>\n",
       "      <td>Freeman</td>\n",
       "      <td>282.82730</td>\n",
       "      <td>paid</td>\n",
       "      <td>Bakersfield, CA</td>\n",
       "      <td>PUT</td>\n",
       "      <td>NextSong</td>\n",
       "      <td>1538173362000</td>\n",
       "      <td>29</td>\n",
       "      <td>Time For Miracles</td>\n",
       "      <td>200</td>\n",
       "      <td>1538352394000</td>\n",
       "      <td>Mozilla/5.0 (Windows NT 6.1; WOW64; rv:31.0) G...</td>\n",
       "      <td>30</td>\n",
       "    </tr>\n",
       "    <tr>\n",
       "      <th>3</th>\n",
       "      <td>Enigma</td>\n",
       "      <td>Logged In</td>\n",
       "      <td>Micah</td>\n",
       "      <td>M</td>\n",
       "      <td>80</td>\n",
       "      <td>Long</td>\n",
       "      <td>262.71302</td>\n",
       "      <td>free</td>\n",
       "      <td>Boston-Cambridge-Newton, MA-NH</td>\n",
       "      <td>PUT</td>\n",
       "      <td>NextSong</td>\n",
       "      <td>1538331630000</td>\n",
       "      <td>8</td>\n",
       "      <td>Knocking On Forbidden Doors</td>\n",
       "      <td>200</td>\n",
       "      <td>1538352416000</td>\n",
       "      <td>\"Mozilla/5.0 (Windows NT 6.1; WOW64) AppleWebK...</td>\n",
       "      <td>9</td>\n",
       "    </tr>\n",
       "    <tr>\n",
       "      <th>4</th>\n",
       "      <td>Daft Punk</td>\n",
       "      <td>Logged In</td>\n",
       "      <td>Colin</td>\n",
       "      <td>M</td>\n",
       "      <td>52</td>\n",
       "      <td>Freeman</td>\n",
       "      <td>223.60771</td>\n",
       "      <td>paid</td>\n",
       "      <td>Bakersfield, CA</td>\n",
       "      <td>PUT</td>\n",
       "      <td>NextSong</td>\n",
       "      <td>1538173362000</td>\n",
       "      <td>29</td>\n",
       "      <td>Harder Better Faster Stronger</td>\n",
       "      <td>200</td>\n",
       "      <td>1538352676000</td>\n",
       "      <td>Mozilla/5.0 (Windows NT 6.1; WOW64; rv:31.0) G...</td>\n",
       "      <td>30</td>\n",
       "    </tr>\n",
       "  </tbody>\n",
       "</table>\n",
       "</div>"
      ],
      "text/plain": [
       "             artist       auth firstName gender  itemInSession lastName  \\\n",
       "0    Martha Tilston  Logged In     Colin      M             50  Freeman   \n",
       "1  Five Iron Frenzy  Logged In     Micah      M             79     Long   \n",
       "2      Adam Lambert  Logged In     Colin      M             51  Freeman   \n",
       "3            Enigma  Logged In     Micah      M             80     Long   \n",
       "4         Daft Punk  Logged In     Colin      M             52  Freeman   \n",
       "\n",
       "      length level                        location method      page  \\\n",
       "0  277.89016  paid                 Bakersfield, CA    PUT  NextSong   \n",
       "1  236.09424  free  Boston-Cambridge-Newton, MA-NH    PUT  NextSong   \n",
       "2  282.82730  paid                 Bakersfield, CA    PUT  NextSong   \n",
       "3  262.71302  free  Boston-Cambridge-Newton, MA-NH    PUT  NextSong   \n",
       "4  223.60771  paid                 Bakersfield, CA    PUT  NextSong   \n",
       "\n",
       "    registration  sessionId                           song  status  \\\n",
       "0  1538173362000         29                      Rockpools     200   \n",
       "1  1538331630000          8                         Canada     200   \n",
       "2  1538173362000         29              Time For Miracles     200   \n",
       "3  1538331630000          8    Knocking On Forbidden Doors     200   \n",
       "4  1538173362000         29  Harder Better Faster Stronger     200   \n",
       "\n",
       "              ts                                          userAgent userId  \n",
       "0  1538352117000  Mozilla/5.0 (Windows NT 6.1; WOW64; rv:31.0) G...     30  \n",
       "1  1538352180000  \"Mozilla/5.0 (Windows NT 6.1; WOW64) AppleWebK...      9  \n",
       "2  1538352394000  Mozilla/5.0 (Windows NT 6.1; WOW64; rv:31.0) G...     30  \n",
       "3  1538352416000  \"Mozilla/5.0 (Windows NT 6.1; WOW64) AppleWebK...      9  \n",
       "4  1538352676000  Mozilla/5.0 (Windows NT 6.1; WOW64; rv:31.0) G...     30  "
      ]
     },
     "execution_count": 5,
     "metadata": {},
     "output_type": "execute_result"
    }
   ],
   "source": [
    "# Easier visual exploration as Pandas data frame\n",
    "df.limit(5).toPandas()\n",
    "\n",
    "# Questions to explore:\n",
    "# sessionId unique across users? (can two users have the same sessionId?)\n",
    "# what is the column \"method\""
   ]
  },
  {
   "cell_type": "code",
   "execution_count": 6,
   "metadata": {},
   "outputs": [
    {
     "data": {
      "text/html": [
       "<div>\n",
       "<style scoped>\n",
       "    .dataframe tbody tr th:only-of-type {\n",
       "        vertical-align: middle;\n",
       "    }\n",
       "\n",
       "    .dataframe tbody tr th {\n",
       "        vertical-align: top;\n",
       "    }\n",
       "\n",
       "    .dataframe thead th {\n",
       "        text-align: right;\n",
       "    }\n",
       "</style>\n",
       "<table border=\"1\" class=\"dataframe\">\n",
       "  <thead>\n",
       "    <tr style=\"text-align: right;\">\n",
       "      <th></th>\n",
       "      <th>page</th>\n",
       "      <th>count</th>\n",
       "    </tr>\n",
       "  </thead>\n",
       "  <tbody>\n",
       "    <tr>\n",
       "      <th>0</th>\n",
       "      <td>NextSong</td>\n",
       "      <td>228108</td>\n",
       "    </tr>\n",
       "    <tr>\n",
       "      <th>1</th>\n",
       "      <td>Home</td>\n",
       "      <td>14457</td>\n",
       "    </tr>\n",
       "    <tr>\n",
       "      <th>2</th>\n",
       "      <td>Thumbs Up</td>\n",
       "      <td>12551</td>\n",
       "    </tr>\n",
       "    <tr>\n",
       "      <th>3</th>\n",
       "      <td>Add to Playlist</td>\n",
       "      <td>6526</td>\n",
       "    </tr>\n",
       "    <tr>\n",
       "      <th>4</th>\n",
       "      <td>Add Friend</td>\n",
       "      <td>4277</td>\n",
       "    </tr>\n",
       "    <tr>\n",
       "      <th>5</th>\n",
       "      <td>Roll Advert</td>\n",
       "      <td>3933</td>\n",
       "    </tr>\n",
       "    <tr>\n",
       "      <th>6</th>\n",
       "      <td>Login</td>\n",
       "      <td>3241</td>\n",
       "    </tr>\n",
       "    <tr>\n",
       "      <th>7</th>\n",
       "      <td>Logout</td>\n",
       "      <td>3226</td>\n",
       "    </tr>\n",
       "    <tr>\n",
       "      <th>8</th>\n",
       "      <td>Thumbs Down</td>\n",
       "      <td>2546</td>\n",
       "    </tr>\n",
       "    <tr>\n",
       "      <th>9</th>\n",
       "      <td>Downgrade</td>\n",
       "      <td>2055</td>\n",
       "    </tr>\n",
       "    <tr>\n",
       "      <th>10</th>\n",
       "      <td>Help</td>\n",
       "      <td>1726</td>\n",
       "    </tr>\n",
       "    <tr>\n",
       "      <th>11</th>\n",
       "      <td>Settings</td>\n",
       "      <td>1514</td>\n",
       "    </tr>\n",
       "    <tr>\n",
       "      <th>12</th>\n",
       "      <td>About</td>\n",
       "      <td>924</td>\n",
       "    </tr>\n",
       "    <tr>\n",
       "      <th>13</th>\n",
       "      <td>Upgrade</td>\n",
       "      <td>499</td>\n",
       "    </tr>\n",
       "    <tr>\n",
       "      <th>14</th>\n",
       "      <td>Save Settings</td>\n",
       "      <td>310</td>\n",
       "    </tr>\n",
       "    <tr>\n",
       "      <th>15</th>\n",
       "      <td>Error</td>\n",
       "      <td>258</td>\n",
       "    </tr>\n",
       "    <tr>\n",
       "      <th>16</th>\n",
       "      <td>Submit Upgrade</td>\n",
       "      <td>159</td>\n",
       "    </tr>\n",
       "    <tr>\n",
       "      <th>17</th>\n",
       "      <td>Submit Downgrade</td>\n",
       "      <td>63</td>\n",
       "    </tr>\n",
       "    <tr>\n",
       "      <th>18</th>\n",
       "      <td>Cancel</td>\n",
       "      <td>52</td>\n",
       "    </tr>\n",
       "    <tr>\n",
       "      <th>19</th>\n",
       "      <td>Cancellation Confirmation</td>\n",
       "      <td>52</td>\n",
       "    </tr>\n",
       "    <tr>\n",
       "      <th>20</th>\n",
       "      <td>Register</td>\n",
       "      <td>18</td>\n",
       "    </tr>\n",
       "    <tr>\n",
       "      <th>21</th>\n",
       "      <td>Submit Registration</td>\n",
       "      <td>5</td>\n",
       "    </tr>\n",
       "  </tbody>\n",
       "</table>\n",
       "</div>"
      ],
      "text/plain": [
       "                         page   count\n",
       "0                    NextSong  228108\n",
       "1                        Home   14457\n",
       "2                   Thumbs Up   12551\n",
       "3             Add to Playlist    6526\n",
       "4                  Add Friend    4277\n",
       "5                 Roll Advert    3933\n",
       "6                       Login    3241\n",
       "7                      Logout    3226\n",
       "8                 Thumbs Down    2546\n",
       "9                   Downgrade    2055\n",
       "10                       Help    1726\n",
       "11                   Settings    1514\n",
       "12                      About     924\n",
       "13                    Upgrade     499\n",
       "14              Save Settings     310\n",
       "15                      Error     258\n",
       "16             Submit Upgrade     159\n",
       "17           Submit Downgrade      63\n",
       "18                     Cancel      52\n",
       "19  Cancellation Confirmation      52\n",
       "20                   Register      18\n",
       "21        Submit Registration       5"
      ]
     },
     "execution_count": 6,
     "metadata": {},
     "output_type": "execute_result"
    }
   ],
   "source": [
    "# Which pages do users interact with?\n",
    "# df.select(\"page\").dropDuplicates().sort(\"page\").show()\n",
    "# df.select(\"auth\").dropDuplicates().sort(\"auth\").show()\n",
    "\n",
    "df.groupBy(\"page\").count().sort(\"count\", ascending=False).toPandas()"
   ]
  },
  {
   "cell_type": "code",
   "execution_count": 7,
   "metadata": {},
   "outputs": [],
   "source": [
    "# https://stackoverflow.com/questions/52319958/pyspark-select-the-distinct-values-from-each-column\n",
    "import pyspark.sql.functions as f\n",
    "# df.select(*[f.collect_set(c).alias(c) for c in df.columns]).toPandas()"
   ]
  },
  {
   "cell_type": "code",
   "execution_count": 8,
   "metadata": {},
   "outputs": [
    {
     "data": {
      "text/html": [
       "<div>\n",
       "<style scoped>\n",
       "    .dataframe tbody tr th:only-of-type {\n",
       "        vertical-align: middle;\n",
       "    }\n",
       "\n",
       "    .dataframe tbody tr th {\n",
       "        vertical-align: top;\n",
       "    }\n",
       "\n",
       "    .dataframe thead th {\n",
       "        text-align: right;\n",
       "    }\n",
       "</style>\n",
       "<table border=\"1\" class=\"dataframe\">\n",
       "  <thead>\n",
       "    <tr style=\"text-align: right;\">\n",
       "      <th></th>\n",
       "      <th>artist</th>\n",
       "      <th>auth</th>\n",
       "      <th>firstName</th>\n",
       "      <th>gender</th>\n",
       "      <th>itemInSession</th>\n",
       "      <th>lastName</th>\n",
       "      <th>length</th>\n",
       "      <th>level</th>\n",
       "      <th>location</th>\n",
       "      <th>method</th>\n",
       "      <th>page</th>\n",
       "      <th>registration</th>\n",
       "      <th>sessionId</th>\n",
       "      <th>song</th>\n",
       "      <th>status</th>\n",
       "      <th>ts</th>\n",
       "      <th>userAgent</th>\n",
       "      <th>userId</th>\n",
       "    </tr>\n",
       "  </thead>\n",
       "  <tbody>\n",
       "    <tr>\n",
       "      <th>0</th>\n",
       "      <td>17655</td>\n",
       "      <td>4</td>\n",
       "      <td>189</td>\n",
       "      <td>2</td>\n",
       "      <td>1322</td>\n",
       "      <td>173</td>\n",
       "      <td>14865</td>\n",
       "      <td>2</td>\n",
       "      <td>114</td>\n",
       "      <td>2</td>\n",
       "      <td>22</td>\n",
       "      <td>225</td>\n",
       "      <td>2354</td>\n",
       "      <td>58480</td>\n",
       "      <td>3</td>\n",
       "      <td>277447</td>\n",
       "      <td>56</td>\n",
       "      <td>226</td>\n",
       "    </tr>\n",
       "  </tbody>\n",
       "</table>\n",
       "</div>"
      ],
      "text/plain": [
       "   artist  auth  firstName  gender  itemInSession  lastName  length  level  \\\n",
       "0   17655     4        189       2           1322       173   14865      2   \n",
       "\n",
       "   location  method  page  registration  sessionId   song  status      ts  \\\n",
       "0       114       2    22           225       2354  58480       3  277447   \n",
       "\n",
       "   userAgent  userId  \n",
       "0         56     226  "
      ]
     },
     "execution_count": 8,
     "metadata": {},
     "output_type": "execute_result"
    }
   ],
   "source": [
    "# Distinct values per column\n",
    "# https://stackoverflow.com/questions/40888946/spark-dataframe-count-distinct-values-of-every-column\n",
    "from pyspark.sql.functions import col, countDistinct\n",
    "\n",
    "distinct_value_count = df.agg(*(countDistinct(col(c)).alias(c) for c in df.columns)).toPandas()\n",
    "distinct_value_count"
   ]
  },
  {
   "cell_type": "code",
   "execution_count": 9,
   "metadata": {},
   "outputs": [
    {
     "data": {
      "text/html": [
       "<div>\n",
       "<style scoped>\n",
       "    .dataframe tbody tr th:only-of-type {\n",
       "        vertical-align: middle;\n",
       "    }\n",
       "\n",
       "    .dataframe tbody tr th {\n",
       "        vertical-align: top;\n",
       "    }\n",
       "\n",
       "    .dataframe thead th {\n",
       "        text-align: right;\n",
       "    }\n",
       "</style>\n",
       "<table border=\"1\" class=\"dataframe\">\n",
       "  <thead>\n",
       "    <tr style=\"text-align: right;\">\n",
       "      <th></th>\n",
       "      <th>artist</th>\n",
       "      <th>auth</th>\n",
       "      <th>firstName</th>\n",
       "      <th>gender</th>\n",
       "      <th>itemInSession</th>\n",
       "      <th>lastName</th>\n",
       "      <th>length</th>\n",
       "      <th>level</th>\n",
       "      <th>location</th>\n",
       "      <th>method</th>\n",
       "      <th>page</th>\n",
       "      <th>registration</th>\n",
       "      <th>sessionId</th>\n",
       "      <th>song</th>\n",
       "      <th>status</th>\n",
       "      <th>ts</th>\n",
       "      <th>userAgent</th>\n",
       "      <th>userId</th>\n",
       "    </tr>\n",
       "  </thead>\n",
       "  <tbody>\n",
       "    <tr>\n",
       "      <th>0</th>\n",
       "      <td>True</td>\n",
       "      <td>True</td>\n",
       "      <td>True</td>\n",
       "      <td>False</td>\n",
       "      <td>True</td>\n",
       "      <td>True</td>\n",
       "      <td>True</td>\n",
       "      <td>False</td>\n",
       "      <td>True</td>\n",
       "      <td>False</td>\n",
       "      <td>True</td>\n",
       "      <td>True</td>\n",
       "      <td>True</td>\n",
       "      <td>True</td>\n",
       "      <td>True</td>\n",
       "      <td>True</td>\n",
       "      <td>True</td>\n",
       "      <td>True</td>\n",
       "    </tr>\n",
       "  </tbody>\n",
       "</table>\n",
       "</div>"
      ],
      "text/plain": [
       "   artist  auth  firstName  gender  itemInSession  lastName  length  level  \\\n",
       "0    True  True       True   False           True      True    True  False   \n",
       "\n",
       "   location  method  page  registration  sessionId  song  status    ts  \\\n",
       "0      True   False  True          True       True  True    True  True   \n",
       "\n",
       "   userAgent  userId  \n",
       "0       True    True  "
      ]
     },
     "execution_count": 9,
     "metadata": {},
     "output_type": "execute_result"
    }
   ],
   "source": [
    "distinct_value_count > 2"
   ]
  },
  {
   "cell_type": "code",
   "execution_count": 10,
   "metadata": {},
   "outputs": [
    {
     "data": {
      "text/plain": [
       "0"
      ]
     },
     "execution_count": 10,
     "metadata": {},
     "output_type": "execute_result"
    }
   ],
   "source": [
    "# https://stackoverflow.com/questions/48229043/python-pyspark-count-null-empty-and-nan\n",
    "df.filter((df[\"ts\"] == \"\") | df[\"ts\"].isNull() | isnan(df[\"ts\"])).count()"
   ]
  },
  {
   "cell_type": "markdown",
   "metadata": {},
   "source": [
    "## Cleanup & Prep of Timestamp and Date"
   ]
  },
  {
   "cell_type": "code",
   "execution_count": 11,
   "metadata": {},
   "outputs": [],
   "source": [
    "get_hour = udf(lambda x: datetime.datetime.fromtimestamp(x / 1000.0). hour)\n",
    "# get_date = udf(lambda x: datetime.datetime.fromtimestamp(x / 1000.0). date)\n"
   ]
  },
  {
   "cell_type": "code",
   "execution_count": 12,
   "metadata": {},
   "outputs": [
    {
     "name": "stdout",
     "output_type": "stream",
     "text": [
      "root\n",
      " |-- artist: string (nullable = true)\n",
      " |-- auth: string (nullable = true)\n",
      " |-- firstName: string (nullable = true)\n",
      " |-- gender: string (nullable = true)\n",
      " |-- itemInSession: long (nullable = true)\n",
      " |-- lastName: string (nullable = true)\n",
      " |-- length: double (nullable = true)\n",
      " |-- level: string (nullable = true)\n",
      " |-- location: string (nullable = true)\n",
      " |-- method: string (nullable = true)\n",
      " |-- page: string (nullable = true)\n",
      " |-- registration: long (nullable = true)\n",
      " |-- sessionId: long (nullable = true)\n",
      " |-- song: string (nullable = true)\n",
      " |-- status: long (nullable = true)\n",
      " |-- ts: long (nullable = true)\n",
      " |-- userAgent: string (nullable = true)\n",
      " |-- userId: string (nullable = true)\n",
      "\n"
     ]
    }
   ],
   "source": [
    "df = df_original\n",
    "df.printSchema()"
   ]
  },
  {
   "cell_type": "code",
   "execution_count": 13,
   "metadata": {},
   "outputs": [
    {
     "data": {
      "text/plain": [
       "[Row(artist='Martha Tilston', auth='Logged In', firstName='Colin', gender='M', itemInSession=50, lastName='Freeman', length=277.89016, level='paid', location='Bakersfield, CA', method='PUT', page='NextSong', registration=1538173362000, sessionId=29, song='Rockpools', status=200, ts=1538352117000, userAgent='Mozilla/5.0 (Windows NT 6.1; WOW64; rv:31.0) Gecko/20100101 Firefox/31.0', userId='30', ts_no_ms='1538352117', ts_str='2018-10-01 02:01:57', ts_tsType=datetime.datetime(2018, 10, 1, 2, 1, 57), weekday=0, hour=2, year=2018, weekNum=40),\n",
       " Row(artist='Five Iron Frenzy', auth='Logged In', firstName='Micah', gender='M', itemInSession=79, lastName='Long', length=236.09424, level='free', location='Boston-Cambridge-Newton, MA-NH', method='PUT', page='NextSong', registration=1538331630000, sessionId=8, song='Canada', status=200, ts=1538352180000, userAgent='\"Mozilla/5.0 (Windows NT 6.1; WOW64) AppleWebKit/537.36 (KHTML, like Gecko) Chrome/37.0.2062.103 Safari/537.36\"', userId='9', ts_no_ms='1538352180', ts_str='2018-10-01 02:03:00', ts_tsType=datetime.datetime(2018, 10, 1, 2, 3), weekday=0, hour=2, year=2018, weekNum=40),\n",
       " Row(artist='Adam Lambert', auth='Logged In', firstName='Colin', gender='M', itemInSession=51, lastName='Freeman', length=282.8273, level='paid', location='Bakersfield, CA', method='PUT', page='NextSong', registration=1538173362000, sessionId=29, song='Time For Miracles', status=200, ts=1538352394000, userAgent='Mozilla/5.0 (Windows NT 6.1; WOW64; rv:31.0) Gecko/20100101 Firefox/31.0', userId='30', ts_no_ms='1538352394', ts_str='2018-10-01 02:06:34', ts_tsType=datetime.datetime(2018, 10, 1, 2, 6, 34), weekday=0, hour=2, year=2018, weekNum=40),\n",
       " Row(artist='Enigma', auth='Logged In', firstName='Micah', gender='M', itemInSession=80, lastName='Long', length=262.71302, level='free', location='Boston-Cambridge-Newton, MA-NH', method='PUT', page='NextSong', registration=1538331630000, sessionId=8, song='Knocking On Forbidden Doors', status=200, ts=1538352416000, userAgent='\"Mozilla/5.0 (Windows NT 6.1; WOW64) AppleWebKit/537.36 (KHTML, like Gecko) Chrome/37.0.2062.103 Safari/537.36\"', userId='9', ts_no_ms='1538352416', ts_str='2018-10-01 02:06:56', ts_tsType=datetime.datetime(2018, 10, 1, 2, 6, 56), weekday=0, hour=2, year=2018, weekNum=40),\n",
       " Row(artist='Daft Punk', auth='Logged In', firstName='Colin', gender='M', itemInSession=52, lastName='Freeman', length=223.60771, level='paid', location='Bakersfield, CA', method='PUT', page='NextSong', registration=1538173362000, sessionId=29, song='Harder Better Faster Stronger', status=200, ts=1538352676000, userAgent='Mozilla/5.0 (Windows NT 6.1; WOW64; rv:31.0) Gecko/20100101 Firefox/31.0', userId='30', ts_no_ms='1538352676', ts_str='2018-10-01 02:11:16', ts_tsType=datetime.datetime(2018, 10, 1, 2, 11, 16), weekday=0, hour=2, year=2018, weekNum=40)]"
      ]
     },
     "execution_count": 13,
     "metadata": {},
     "output_type": "execute_result"
    }
   ],
   "source": [
    "# Remove milliseconds (last 3 digits) from ts to enable conversion to datetime\n",
    "df = df.withColumn(\"ts_no_ms\", substring(df.ts, 0, 10))\n",
    "# df = df.withColumn(\"ts_no_ms\", df.ts_no_ms.cast(TimestampType()))\n",
    "# df = df.withColumn(\"ts_unix\", from_unixtime(df.ts))\n",
    "df = df.withColumn(\"ts_str\", F.from_unixtime(df.ts_no_ms))\n",
    "df = df.withColumn(\"ts_tsType\", df.ts_str.cast(TimestampType()))\n",
    "\n",
    "df = df.withColumn(\"weekday\", F.weekday(df.ts_tsType))\n",
    "df = df.withColumn(\"hour\", F.hour(df.ts_tsType))\n",
    "df = df.withColumn(\"year\", F.year(df.ts_tsType))\n",
    "df = df.withColumn(\"weekNum\", F.weekofyear(df.ts_tsType))\n",
    "\n",
    "\n",
    "\n",
    "# df.printSchema()\n",
    "df.head(5)"
   ]
  },
  {
   "cell_type": "code",
   "execution_count": 14,
   "metadata": {},
   "outputs": [
    {
     "data": {
      "text/html": [
       "<div>\n",
       "<style scoped>\n",
       "    .dataframe tbody tr th:only-of-type {\n",
       "        vertical-align: middle;\n",
       "    }\n",
       "\n",
       "    .dataframe tbody tr th {\n",
       "        vertical-align: top;\n",
       "    }\n",
       "\n",
       "    .dataframe thead th {\n",
       "        text-align: right;\n",
       "    }\n",
       "</style>\n",
       "<table border=\"1\" class=\"dataframe\">\n",
       "  <thead>\n",
       "    <tr style=\"text-align: right;\">\n",
       "      <th></th>\n",
       "      <th>hour</th>\n",
       "      <th>count</th>\n",
       "    </tr>\n",
       "  </thead>\n",
       "  <tbody>\n",
       "    <tr>\n",
       "      <th>0</th>\n",
       "      <td>0</td>\n",
       "      <td>9908</td>\n",
       "    </tr>\n",
       "    <tr>\n",
       "      <th>1</th>\n",
       "      <td>1</td>\n",
       "      <td>9327</td>\n",
       "    </tr>\n",
       "    <tr>\n",
       "      <th>2</th>\n",
       "      <td>2</td>\n",
       "      <td>8895</td>\n",
       "    </tr>\n",
       "    <tr>\n",
       "      <th>3</th>\n",
       "      <td>3</td>\n",
       "      <td>8339</td>\n",
       "    </tr>\n",
       "    <tr>\n",
       "      <th>4</th>\n",
       "      <td>4</td>\n",
       "      <td>8359</td>\n",
       "    </tr>\n",
       "    <tr>\n",
       "      <th>5</th>\n",
       "      <td>5</td>\n",
       "      <td>8229</td>\n",
       "    </tr>\n",
       "    <tr>\n",
       "      <th>6</th>\n",
       "      <td>6</td>\n",
       "      <td>7979</td>\n",
       "    </tr>\n",
       "    <tr>\n",
       "      <th>7</th>\n",
       "      <td>7</td>\n",
       "      <td>8114</td>\n",
       "    </tr>\n",
       "    <tr>\n",
       "      <th>8</th>\n",
       "      <td>8</td>\n",
       "      <td>8119</td>\n",
       "    </tr>\n",
       "    <tr>\n",
       "      <th>9</th>\n",
       "      <td>9</td>\n",
       "      <td>8225</td>\n",
       "    </tr>\n",
       "    <tr>\n",
       "      <th>10</th>\n",
       "      <td>10</td>\n",
       "      <td>8359</td>\n",
       "    </tr>\n",
       "    <tr>\n",
       "      <th>11</th>\n",
       "      <td>11</td>\n",
       "      <td>8602</td>\n",
       "    </tr>\n",
       "    <tr>\n",
       "      <th>12</th>\n",
       "      <td>12</td>\n",
       "      <td>8653</td>\n",
       "    </tr>\n",
       "    <tr>\n",
       "      <th>13</th>\n",
       "      <td>13</td>\n",
       "      <td>9225</td>\n",
       "    </tr>\n",
       "    <tr>\n",
       "      <th>14</th>\n",
       "      <td>14</td>\n",
       "      <td>9479</td>\n",
       "    </tr>\n",
       "    <tr>\n",
       "      <th>15</th>\n",
       "      <td>15</td>\n",
       "      <td>10047</td>\n",
       "    </tr>\n",
       "    <tr>\n",
       "      <th>16</th>\n",
       "      <td>16</td>\n",
       "      <td>11036</td>\n",
       "    </tr>\n",
       "    <tr>\n",
       "      <th>17</th>\n",
       "      <td>17</td>\n",
       "      <td>11381</td>\n",
       "    </tr>\n",
       "    <tr>\n",
       "      <th>18</th>\n",
       "      <td>18</td>\n",
       "      <td>11568</td>\n",
       "    </tr>\n",
       "    <tr>\n",
       "      <th>19</th>\n",
       "      <td>19</td>\n",
       "      <td>11346</td>\n",
       "    </tr>\n",
       "    <tr>\n",
       "      <th>20</th>\n",
       "      <td>20</td>\n",
       "      <td>10940</td>\n",
       "    </tr>\n",
       "    <tr>\n",
       "      <th>21</th>\n",
       "      <td>21</td>\n",
       "      <td>10893</td>\n",
       "    </tr>\n",
       "    <tr>\n",
       "      <th>22</th>\n",
       "      <td>22</td>\n",
       "      <td>10823</td>\n",
       "    </tr>\n",
       "    <tr>\n",
       "      <th>23</th>\n",
       "      <td>23</td>\n",
       "      <td>10262</td>\n",
       "    </tr>\n",
       "  </tbody>\n",
       "</table>\n",
       "</div>"
      ],
      "text/plain": [
       "    hour  count\n",
       "0      0   9908\n",
       "1      1   9327\n",
       "2      2   8895\n",
       "3      3   8339\n",
       "4      4   8359\n",
       "5      5   8229\n",
       "6      6   7979\n",
       "7      7   8114\n",
       "8      8   8119\n",
       "9      9   8225\n",
       "10    10   8359\n",
       "11    11   8602\n",
       "12    12   8653\n",
       "13    13   9225\n",
       "14    14   9479\n",
       "15    15  10047\n",
       "16    16  11036\n",
       "17    17  11381\n",
       "18    18  11568\n",
       "19    19  11346\n",
       "20    20  10940\n",
       "21    21  10893\n",
       "22    22  10823\n",
       "23    23  10262"
      ]
     },
     "execution_count": 14,
     "metadata": {},
     "output_type": "execute_result"
    }
   ],
   "source": [
    "songs_in_hour = df.groupby(\"hour\").count().sort(\"hour\").toPandas()\n",
    "df.filter(df.page == \"NextSong\").groupby(\"hour\").count().sort(\"hour\").toPandas()"
   ]
  },
  {
   "cell_type": "code",
   "execution_count": 15,
   "metadata": {},
   "outputs": [
    {
     "data": {
      "image/png": "[encoded data removed]",
      "text/plain": [
       "<Figure size 640x480 with 1 Axes>"
      ]
     },
     "metadata": {},
     "output_type": "display_data"
    }
   ],
   "source": [
    "plt.scatter(songs_in_hour[\"hour\"], songs_in_hour[\"count\"])\n",
    "plt.xlim(-1, 24);\n",
    "plt.ylim(0, 1.2 * max(songs_in_hour[\"count\"]))\n",
    "plt.xlabel(\"Hour\")\n",
    "plt.ylabel(\"Songs played\");"
   ]
  },
  {
   "cell_type": "code",
   "execution_count": 16,
   "metadata": {},
   "outputs": [],
   "source": [
    "def groupby_plot(df, x_col:str, page_filter:str, x_label:str, y_label:str):\n",
    "    \"\"\"Aggregate data and create scatterplot to visualize trends in the data.\"\"\"\n",
    "    # df_grouped = df.groupby(x_col).count().sort(x_col).toPandas()\n",
    "    df_grouped = df.filter(df.page == page_filter).groupby(x_col).count().sort(x_col).toPandas()\n",
    "    plt.scatter(df_grouped[x_col], df_grouped[\"count\"])\n",
    "    plt.xlim(-1, max(df_grouped[x_col])+1);\n",
    "    plt.ylim(0, 1.2 * max(df_grouped[\"count\"]))\n",
    "    plt.xlabel(x_label)\n",
    "    plt.ylabel(y_label)\n",
    "    plt.show\n",
    "    return None"
   ]
  },
  {
   "cell_type": "code",
   "execution_count": 17,
   "metadata": {},
   "outputs": [
    {
     "data": {
      "text/html": [
       "<div>\n",
       "<style scoped>\n",
       "    .dataframe tbody tr th:only-of-type {\n",
       "        vertical-align: middle;\n",
       "    }\n",
       "\n",
       "    .dataframe tbody tr th {\n",
       "        vertical-align: top;\n",
       "    }\n",
       "\n",
       "    .dataframe thead th {\n",
       "        text-align: right;\n",
       "    }\n",
       "</style>\n",
       "<table border=\"1\" class=\"dataframe\">\n",
       "  <thead>\n",
       "    <tr style=\"text-align: right;\">\n",
       "      <th></th>\n",
       "      <th>artist</th>\n",
       "      <th>auth</th>\n",
       "      <th>firstName</th>\n",
       "      <th>gender</th>\n",
       "      <th>itemInSession</th>\n",
       "      <th>lastName</th>\n",
       "      <th>length</th>\n",
       "      <th>level</th>\n",
       "      <th>location</th>\n",
       "      <th>method</th>\n",
       "      <th>...</th>\n",
       "      <th>ts</th>\n",
       "      <th>userAgent</th>\n",
       "      <th>userId</th>\n",
       "      <th>ts_no_ms</th>\n",
       "      <th>ts_str</th>\n",
       "      <th>ts_tsType</th>\n",
       "      <th>weekday</th>\n",
       "      <th>hour</th>\n",
       "      <th>year</th>\n",
       "      <th>weekNum</th>\n",
       "    </tr>\n",
       "  </thead>\n",
       "  <tbody>\n",
       "    <tr>\n",
       "      <th>0</th>\n",
       "      <td>17655</td>\n",
       "      <td>4</td>\n",
       "      <td>189</td>\n",
       "      <td>2</td>\n",
       "      <td>1322</td>\n",
       "      <td>173</td>\n",
       "      <td>14865</td>\n",
       "      <td>2</td>\n",
       "      <td>114</td>\n",
       "      <td>2</td>\n",
       "      <td>...</td>\n",
       "      <td>277447</td>\n",
       "      <td>56</td>\n",
       "      <td>226</td>\n",
       "      <td>277447</td>\n",
       "      <td>277447</td>\n",
       "      <td>277447</td>\n",
       "      <td>7</td>\n",
       "      <td>24</td>\n",
       "      <td>1</td>\n",
       "      <td>10</td>\n",
       "    </tr>\n",
       "  </tbody>\n",
       "</table>\n",
       "<p>1 rows × 25 columns</p>\n",
       "</div>"
      ],
      "text/plain": [
       "   artist  auth  firstName  gender  itemInSession  lastName  length  level  \\\n",
       "0   17655     4        189       2           1322       173   14865      2   \n",
       "\n",
       "   location  method  ...      ts  userAgent  userId  ts_no_ms  ts_str  \\\n",
       "0       114       2  ...  277447         56     226    277447  277447   \n",
       "\n",
       "   ts_tsType  weekday  hour  year  weekNum  \n",
       "0     277447        7    24     1       10  \n",
       "\n",
       "[1 rows x 25 columns]"
      ]
     },
     "execution_count": 17,
     "metadata": {},
     "output_type": "execute_result"
    }
   ],
   "source": [
    "df.agg(*(countDistinct(col(c)).alias(c) for c in df.columns)).toPandas()"
   ]
  },
  {
   "cell_type": "code",
   "execution_count": 18,
   "metadata": {},
   "outputs": [
    {
     "data": {
      "image/png": "[encoded data removed]",
      "text/plain": [
       "<Figure size 640x480 with 1 Axes>"
      ]
     },
     "metadata": {},
     "output_type": "display_data"
    }
   ],
   "source": [
    "# groupby_plot(df, \"hour\", \"NextSong\", \"Hour\", \"Songs played\")\n",
    "\n",
    "# groupby_plot(df, \"hour\", \"Home\", \"Hour\", \"Songs played\")\n",
    "\n",
    "groupby_plot(df, \"weekday\", \"NextSong\", \"year\", \"Songs played\")"
   ]
  },
  {
   "cell_type": "markdown",
   "metadata": {},
   "source": [
    "# Exploratory Data Analysis\n",
    "When you're working with the full dataset, perform EDA by loading a small subset of the data and doing basic manipulations within Spark. In this workspace, you are already provided a small subset of data you can explore.\n",
    "\n",
    "### Define Churn\n",
    "\n",
    "Once you've done some preliminary analysis, create a column `Churn` to use as the label for your model. I suggest using the `Cancellation Confirmation` events to define your churn, which happen for both paid and free users. As a bonus task, you can also look into the `Downgrade` events.\n",
    "\n",
    "### Explore Data\n",
    "Once you've defined churn, perform some exploratory data analysis to observe the behavior for users who stayed vs users who churned. You can start by exploring aggregates on these two groups of users, observing how much of a specific action they experienced per a certain time unit or number of songs played."
   ]
  },
  {
   "cell_type": "code",
   "execution_count": 20,
   "metadata": {},
   "outputs": [
    {
     "name": "stdout",
     "output_type": "stream",
     "text": [
      "root\n",
      " |-- artist: string (nullable = true)\n",
      " |-- auth: string (nullable = true)\n",
      " |-- firstName: string (nullable = true)\n",
      " |-- gender: string (nullable = true)\n",
      " |-- itemInSession: long (nullable = true)\n",
      " |-- lastName: string (nullable = true)\n",
      " |-- length: double (nullable = true)\n",
      " |-- level: string (nullable = true)\n",
      " |-- location: string (nullable = true)\n",
      " |-- method: string (nullable = true)\n",
      " |-- page: string (nullable = true)\n",
      " |-- registration: long (nullable = true)\n",
      " |-- sessionId: long (nullable = true)\n",
      " |-- song: string (nullable = true)\n",
      " |-- status: long (nullable = true)\n",
      " |-- ts: long (nullable = true)\n",
      " |-- userAgent: string (nullable = true)\n",
      " |-- userId: string (nullable = true)\n",
      " |-- ts_no_ms: string (nullable = true)\n",
      " |-- ts_str: string (nullable = true)\n",
      " |-- ts_tsType: timestamp (nullable = true)\n",
      " |-- weekday: integer (nullable = true)\n",
      " |-- hour: integer (nullable = true)\n",
      " |-- year: integer (nullable = true)\n",
      " |-- weekNum: integer (nullable = true)\n",
      "\n"
     ]
    }
   ],
   "source": [
    "df.printSchema()"
   ]
  },
  {
   "cell_type": "code",
   "execution_count": 48,
   "metadata": {},
   "outputs": [
    {
     "data": {
      "text/plain": [
       "226"
      ]
     },
     "execution_count": 48,
     "metadata": {},
     "output_type": "execute_result"
    }
   ],
   "source": [
    "# Number of unique users in this subset of data\n",
    "df.agg(countDistinct(\"userID\")).collect()[0][0]"
   ]
  },
  {
   "cell_type": "code",
   "execution_count": 45,
   "metadata": {},
   "outputs": [
    {
     "data": {
      "text/plain": [
       "52"
      ]
     },
     "execution_count": 45,
     "metadata": {},
     "output_type": "execute_result"
    }
   ],
   "source": [
    "# Number of subscription cancellations (churn)\n",
    "df.where(df.page==\"Cancellation Confirmation\").agg(count(\"userID\")).collect()\n",
    "\n",
    "df.where(df.page==\"Cancellation Confirmation\").count()"
   ]
  },
  {
   "cell_type": "code",
   "execution_count": 58,
   "metadata": {},
   "outputs": [
    {
     "data": {
      "text/plain": [
       "Row(userId='18', count=1)"
      ]
     },
     "execution_count": 58,
     "metadata": {},
     "output_type": "execute_result"
    }
   ],
   "source": [
    "# Are all of these unique cancellations or did some users resubscribe and cancel again?\n",
    "df.where(df.page==\"Cancellation Confirmation\").groupBy(\"userId\").count().sort(\"count\", ascending=False).head()\n",
    "# > No, all cancellations are from unique users"
   ]
  },
  {
   "cell_type": "markdown",
   "metadata": {},
   "source": [
    "### Add churn flag and other potentially useful features"
   ]
  },
  {
   "cell_type": "code",
   "execution_count": 139,
   "metadata": {},
   "outputs": [
    {
     "name": "stdout",
     "output_type": "stream",
     "text": [
      "+------+---------+---------+------+-------------+--------+------+-----+--------------------+------+--------------------+-------------+---------+----+------+-------------+--------------------+------+----------+-------------------+-------------------+-------+----+----+-------+---------+-----------+\n",
      "|artist|     auth|firstName|gender|itemInSession|lastName|length|level|            location|method|                page| registration|sessionId|song|status|           ts|           userAgent|userId|  ts_no_ms|             ts_str|          ts_tsType|weekday|hour|year|weekNum|churnFlag|window_test|\n",
      "+------+---------+---------+------+-------------+--------+------+-----+--------------------+------+--------------------+-------------+---------+----+------+-------------+--------------------+------+----------+-------------------+-------------------+-------+----+----+-------+---------+-----------+\n",
      "|  NULL|Cancelled|  Rodrigo|     M|           73|   Carey|  NULL| paid|New York-Newark-J...|   GET|Cancellation Conf...|1535389443000|      185|NULL|   200|1542740649000|\"Mozilla/5.0 (Win...|100014|1542740649|2018-11-20 20:04:09|2018-11-20 20:04:09|      1|  20|2018|     47|        1|        310|\n",
      "|  NULL|Cancelled|   Rayden|     M|          185|Phillips|  NULL| free|Dallas-Fort Worth...|   GET|Cancellation Conf...|1537550344000|      172|NULL|   200|1543143782000|\"Mozilla/5.0 (Mac...|100021|1543143782|2018-11-25 12:03:02|2018-11-25 12:03:02|      6|  12|2018|     47|        1|        319|\n",
      "|  NULL|Cancelled|     Alex|     M|          145|   Hogan|  NULL| paid|Denver-Aurora-Lak...|   GET|Cancellation Conf...|1535066380000|      842|NULL|   200|1539729037000|Mozilla/5.0 (Wind...|   101|1539729037|2018-10-17 00:30:37|2018-10-17 00:30:37|      2|   0|2018|     42|        1|       2149|\n",
      "|  NULL|Cancelled|    Mason|     M|           10|    Hart|  NULL| free|  Corpus Christi, TX|   GET|Cancellation Conf...|1533157139000|      174|NULL|   200|1539318918000|\"Mozilla/5.0 (Mac...|   125|1539318918|2018-10-12 06:35:18|2018-10-12 06:35:18|      4|   6|2018|     41|        1|         11|\n",
      "|  NULL|Cancelled|    Kaleb|     M|           49|Thompson|  NULL| paid|Los Angeles-Long ...|   GET|Cancellation Conf...|1536988041000|     1864|NULL|   200|1542181031000|\"Mozilla/5.0 (Mac...|    29|1542181031|2018-11-14 08:37:11|2018-11-14 08:37:11|      2|   8|2018|     46|        1|       3603|\n",
      "+------+---------+---------+------+-------------+--------+------+-----+--------------------+------+--------------------+-------------+---------+----+------+-------------+--------------------+------+----------+-------------------+-------------------+-------+----+----+-------+---------+-----------+\n",
      "only showing top 5 rows\n",
      "\n"
     ]
    }
   ],
   "source": [
    "df = df.withColumn(\"churnFlag\", F.when(df.page==\"Cancellation Confirmation\", 1).otherwise(0))\n",
    "df.where(df.churnFlag==1).show(5)"
   ]
  },
  {
   "cell_type": "markdown",
   "metadata": {},
   "source": [
    "### Create column that flags all churned users for each interaction"
   ]
  },
  {
   "cell_type": "code",
   "execution_count": 159,
   "metadata": {},
   "outputs": [],
   "source": [
    "# from pyspark.sql.window import Window\n",
    "\n",
    "# window_userId = Window.partitionBy(\"userId\").orderBy(\"ts\")\n",
    "\n",
    "# df = df.withColumn(\"window_test\", count(\"userId\").over(window_userId))\n",
    "# df.show()"
   ]
  },
  {
   "cell_type": "code",
   "execution_count": 161,
   "metadata": {},
   "outputs": [
    {
     "name": "stdout",
     "output_type": "stream",
     "text": [
      "+--------------------+---------+---------+------+-------------+---------+---------+-----+--------------------+------+-----------+-------------+---------+--------------------+------+-------------+--------------------+------+----------+-------------------+-------------------+-------+----+----+-------+---------+-----------+-----------+\n",
      "|              artist|     auth|firstName|gender|itemInSession| lastName|   length|level|            location|method|       page| registration|sessionId|                song|status|           ts|           userAgent|userId|  ts_no_ms|             ts_str|          ts_tsType|weekday|hour|year|weekNum|churnFlag|window_test|userChurned|\n",
      "+--------------------+---------+---------+------+-------------+---------+---------+-----+--------------------+------+-----------+-------------+---------+--------------------+------+-------------+--------------------+------+----------+-------------------+-------------------+-------+----+----+-------+---------+-----------+-----------+\n",
      "|Sleeping With Sirens|Logged In| Darianna|     F|            0|Carpenter|202.97098| free|Bridgeport-Stamfo...|   PUT|   NextSong|1538016340000|       31|Captain Tyin Knot...|   200|1539003534000|\"Mozilla/5.0 (iPh...|100010|1539003534|2018-10-08 14:58:54|2018-10-08 14:58:54|      0|  14|2018|     41|        0|          1|          0|\n",
      "|Francesca Battist...|Logged In| Darianna|     F|            1|Carpenter|196.54485| free|Bridgeport-Stamfo...|   PUT|   NextSong|1538016340000|       31|Beautiful_ Beauti...|   200|1539003736000|\"Mozilla/5.0 (iPh...|100010|1539003736|2018-10-08 15:02:16|2018-10-08 15:02:16|      0|  15|2018|     41|        0|          2|          0|\n",
      "|              Brutha|Logged In| Darianna|     F|            2|Carpenter|263.13098| free|Bridgeport-Stamfo...|   PUT|   NextSong|1538016340000|       31|          She's Gone|   200|1539003932000|\"Mozilla/5.0 (iPh...|100010|1539003932|2018-10-08 15:05:32|2018-10-08 15:05:32|      0|  15|2018|     41|        0|          3|          0|\n",
      "|                NULL|Logged In| Darianna|     F|            3|Carpenter|     NULL| free|Bridgeport-Stamfo...|   PUT|  Thumbs Up|1538016340000|       31|                NULL|   307|1539003933000|\"Mozilla/5.0 (iPh...|100010|1539003933|2018-10-08 15:05:33|2018-10-08 15:05:33|      0|  15|2018|     41|        0|          4|          0|\n",
      "|         Josh Ritter|Logged In| Darianna|     F|            4|Carpenter|316.23791| free|Bridgeport-Stamfo...|   PUT|   NextSong|1538016340000|       31|      Folk Bloodbath|   200|1539004195000|\"Mozilla/5.0 (iPh...|100010|1539004195|2018-10-08 15:09:55|2018-10-08 15:09:55|      0|  15|2018|     41|        0|          5|          0|\n",
      "|               LMFAO|Logged In| Darianna|     F|            5|Carpenter|183.74485| free|Bridgeport-Stamfo...|   PUT|   NextSong|1538016340000|       31|                 Yes|   200|1539004511000|\"Mozilla/5.0 (iPh...|100010|1539004511|2018-10-08 15:15:11|2018-10-08 15:15:11|      0|  15|2018|     41|        0|          6|          0|\n",
      "|         OneRepublic|Logged In| Darianna|     F|            6|Carpenter|224.67873| free|Bridgeport-Stamfo...|   PUT|   NextSong|1538016340000|       31|             Secrets|   200|1539004694000|\"Mozilla/5.0 (iPh...|100010|1539004694|2018-10-08 15:18:14|2018-10-08 15:18:14|      0|  15|2018|     41|        0|          7|          0|\n",
      "|       Dwight Yoakam|Logged In| Darianna|     F|            7|Carpenter| 239.3073| free|Bridgeport-Stamfo...|   PUT|   NextSong|1538016340000|       31|      You're The One|   200|1539004918000|\"Mozilla/5.0 (iPh...|100010|1539004918|2018-10-08 15:21:58|2018-10-08 15:21:58|      0|  15|2018|     41|        0|          8|          0|\n",
      "|                NULL|Logged In| Darianna|     F|            8|Carpenter|     NULL| free|Bridgeport-Stamfo...|   GET|Roll Advert|1538016340000|       31|                NULL|   200|1539004961000|\"Mozilla/5.0 (iPh...|100010|1539004961|2018-10-08 15:22:41|2018-10-08 15:22:41|      0|  15|2018|     41|        0|          9|          0|\n",
      "|      The Chordettes|Logged In| Darianna|     F|            9|Carpenter|142.41914| free|Bridgeport-Stamfo...|   PUT|   NextSong|1538016340000|       31|          Mr Sandman|   200|1539005157000|\"Mozilla/5.0 (iPh...|100010|1539005157|2018-10-08 15:25:57|2018-10-08 15:25:57|      0|  15|2018|     41|        0|         10|          0|\n",
      "|Coko featuring Ki...|Logged In| Darianna|     F|           10|Carpenter| 249.3122| free|Bridgeport-Stamfo...|   PUT|   NextSong|1538016340000|       31|           I Get Joy|   200|1539005299000|\"Mozilla/5.0 (iPh...|100010|1539005299|2018-10-08 15:28:19|2018-10-08 15:28:19|      0|  15|2018|     41|        0|         11|          0|\n",
      "|            The Cure|Logged In| Darianna|     F|           11|Carpenter| 52.27057| free|Bridgeport-Stamfo...|   PUT|   NextSong|1538016340000|       31|     The Final Sound|   200|1539005548000|\"Mozilla/5.0 (iPh...|100010|1539005548|2018-10-08 15:32:28|2018-10-08 15:32:28|      0|  15|2018|     41|        0|         12|          0|\n",
      "|                NULL|Logged In| Darianna|     F|           12|Carpenter|     NULL| free|Bridgeport-Stamfo...|   GET|Roll Advert|1538016340000|       31|                NULL|   200|1539005571000|\"Mozilla/5.0 (iPh...|100010|1539005571|2018-10-08 15:32:51|2018-10-08 15:32:51|      0|  15|2018|     41|        0|         13|          0|\n",
      "|Kid Cudi Vs Crookers|Logged In| Darianna|     F|           13|Carpenter|162.97751| free|Bridgeport-Stamfo...|   PUT|   NextSong|1538016340000|       31|        Day 'N' Nite|   200|1539005600000|\"Mozilla/5.0 (iPh...|100010|1539005600|2018-10-08 15:33:20|2018-10-08 15:33:20|      0|  15|2018|     41|        0|         14|          0|\n",
      "|                NULL|Logged In| Darianna|     F|           14|Carpenter|     NULL| free|Bridgeport-Stamfo...|   PUT|  Thumbs Up|1538016340000|       31|                NULL|   307|1539005601000|\"Mozilla/5.0 (iPh...|100010|1539005601|2018-10-08 15:33:21|2018-10-08 15:33:21|      0|  15|2018|     41|        0|         15|          0|\n",
      "|            Yeasayer|Logged In| Darianna|     F|           15|Carpenter|323.44771| free|Bridgeport-Stamfo...|   PUT|   NextSong|1538016340000|       31|                2080|   200|1539005762000|\"Mozilla/5.0 (iPh...|100010|1539005762|2018-10-08 15:36:02|2018-10-08 15:36:02|      0|  15|2018|     41|        0|         16|          0|\n",
      "|             Ben Lee|Logged In| Darianna|     F|           16|Carpenter|245.78567| free|Bridgeport-Stamfo...|   PUT|   NextSong|1538016340000|       31|        Ache For You|   200|1539006085000|\"Mozilla/5.0 (iPh...|100010|1539006085|2018-10-08 15:41:25|2018-10-08 15:41:25|      0|  15|2018|     41|        0|         17|          0|\n",
      "|                NULL|Logged In| Darianna|     F|           17|Carpenter|     NULL| free|Bridgeport-Stamfo...|   GET|Roll Advert|1538016340000|       31|                NULL|   200|1539006103000|\"Mozilla/5.0 (iPh...|100010|1539006103|2018-10-08 15:41:43|2018-10-08 15:41:43|      0|  15|2018|     41|        0|         18|          0|\n",
      "|  ? & The Mysterians|Logged In| Darianna|     F|           18|Carpenter|128.10404| free|Bridgeport-Stamfo...|   PUT|   NextSong|1538016340000|       31|    Just Like A Rose|   200|1539006330000|\"Mozilla/5.0 (iPh...|100010|1539006330|2018-10-08 15:45:30|2018-10-08 15:45:30|      0|  15|2018|     41|        0|         19|          0|\n",
      "|                NULL|Logged In| Darianna|     F|           19|Carpenter|     NULL| free|Bridgeport-Stamfo...|   GET|Roll Advert|1538016340000|       31|                NULL|   200|1539006331000|\"Mozilla/5.0 (iPh...|100010|1539006331|2018-10-08 15:45:31|2018-10-08 15:45:31|      0|  15|2018|     41|        0|         20|          0|\n",
      "+--------------------+---------+---------+------+-------------+---------+---------+-----+--------------------+------+-----------+-------------+---------+--------------------+------+-------------+--------------------+------+----------+-------------------+-------------------+-------+----+----+-------+---------+-----------+-----------+\n",
      "only showing top 20 rows\n",
      "\n"
     ]
    }
   ],
   "source": [
    "df.createOrReplaceTempView(\"user_logs\")\n",
    "\n",
    "# Issue, the distinct userId also selects rows where the flag is not present\n",
    "\n",
    "df_sql = spark.sql('''\n",
    "    SELECT *, IF(flag = 1, 1, 0) AS userChurned\n",
    "    FROM user_logs\n",
    "    LEFT JOIN (\n",
    "        SELECT DISTINCT userId AS uid, 1 AS flag\n",
    "        FROM user_logs\n",
    "        WHERE churnFlag = 1\n",
    "        ) AS churned_users\n",
    "    ON user_logs.userId = churned_users.uid\n",
    "    '''\n",
    ")\n",
    "\n",
    "df_sql = df_sql.drop(*[\"uid\", \"flag\"])\n",
    "\n",
    "df_sql.show()"
   ]
  },
  {
   "cell_type": "code",
   "execution_count": 167,
   "metadata": {},
   "outputs": [
    {
     "name": "stdout",
     "output_type": "stream",
     "text": [
      "+--------------------+---------+---------+------+-------------+--------+---------+-----+--------------------+------+---------+-------------+---------+--------------------+------+-------------+--------------------+------+----------+-------------------+-------------------+-------+----+----+-------+---------+-----------+-----------+\n",
      "|              artist|     auth|firstName|gender|itemInSession|lastName|   length|level|            location|method|     page| registration|sessionId|                song|status|           ts|           userAgent|userId|  ts_no_ms|             ts_str|          ts_tsType|weekday|hour|year|weekNum|churnFlag|window_test|userChurned|\n",
      "+--------------------+---------+---------+------+-------------+--------+---------+-----+--------------------+------+---------+-------------+---------+--------------------+------+-------------+--------------------+------+----------+-------------------+-------------------+-------+----+----+-------+---------+-----------+-----------+\n",
      "|            Gorillaz|Logged In|  Rodrigo|     M|            0|   Carey|215.19628| paid|New York-Newark-J...|   PUT| NextSong|1535389443000|       37|Welcome To The Wo...|   200|1539177136000|\"Mozilla/5.0 (Win...|100014|1539177136|2018-10-10 15:12:16|2018-10-10 15:12:16|      2|  15|2018|     41|        0|          1|          1|\n",
      "|The Cinematic Orc...|Logged In|  Rodrigo|     M|            1|   Carey|125.70077| paid|New York-Newark-J...|   PUT| NextSong|1535389443000|       37|              Odessa|   200|1539177351000|\"Mozilla/5.0 (Win...|100014|1539177351|2018-10-10 15:15:51|2018-10-10 15:15:51|      2|  15|2018|     41|        0|          2|          1|\n",
      "|            Sanalejo|Logged In|  Rodrigo|     M|            2|   Carey|222.45832| paid|New York-Newark-J...|   PUT| NextSong|1535389443000|       37|             Amapola|   200|1539177476000|\"Mozilla/5.0 (Win...|100014|1539177476|2018-10-10 15:17:56|2018-10-10 15:17:56|      2|  15|2018|     41|        0|          3|          1|\n",
      "|                Muse|Logged In|  Rodrigo|     M|            3|   Carey|258.42893| paid|New York-Newark-J...|   PUT| NextSong|1535389443000|       37|Exogenesis: Symph...|   200|1539177698000|\"Mozilla/5.0 (Win...|100014|1539177698|2018-10-10 15:21:38|2018-10-10 15:21:38|      2|  15|2018|     41|        0|          4|          1|\n",
      "|                NULL|Logged In|  Rodrigo|     M|            4|   Carey|     NULL| paid|New York-Newark-J...|   GET|     Help|1535389443000|       37|                NULL|   200|1539177705000|\"Mozilla/5.0 (Win...|100014|1539177705|2018-10-10 15:21:45|2018-10-10 15:21:45|      2|  15|2018|     41|        0|          5|          1|\n",
      "|            Harmonia|Logged In|  Rodrigo|     M|            5|   Carey|655.77751| paid|New York-Newark-J...|   PUT| NextSong|1535389443000|       37|       Sehr kosmisch|   200|1539177956000|\"Mozilla/5.0 (Win...|100014|1539177956|2018-10-10 15:25:56|2018-10-10 15:25:56|      2|  15|2018|     41|        0|          6|          1|\n",
      "|        Ragheb Alama|Logged In|  Rodrigo|     M|            6|   Carey|303.72526| paid|New York-Newark-J...|   PUT| NextSong|1535389443000|       37|     Moghram Ya Lail|   200|1539178611000|\"Mozilla/5.0 (Win...|100014|1539178611|2018-10-10 15:36:51|2018-10-10 15:36:51|      2|  15|2018|     41|        0|          7|          1|\n",
      "|            Calle 13|Logged In|  Rodrigo|     M|            7|   Carey| 239.3073| paid|New York-Newark-J...|   PUT| NextSong|1535389443000|       37|   AtrÃÂ©vete te te|   200|1539178914000|\"Mozilla/5.0 (Win...|100014|1539178914|2018-10-10 15:41:54|2018-10-10 15:41:54|      2|  15|2018|     41|        0|          8|          1|\n",
      "|Drake / Kanye Wes...|Logged In|  Rodrigo|     M|            8|   Carey|357.66812| paid|New York-Newark-J...|   PUT| NextSong|1535389443000|       37|             Forever|   200|1539179153000|\"Mozilla/5.0 (Win...|100014|1539179153|2018-10-10 15:45:53|2018-10-10 15:45:53|      2|  15|2018|     41|        0|          9|          1|\n",
      "|          Parliament|Logged In|  Rodrigo|     M|            9|   Carey|278.62159| paid|New York-Newark-J...|   PUT| NextSong|1535389443000|       37|       My Automobile|   200|1539179510000|\"Mozilla/5.0 (Win...|100014|1539179510|2018-10-10 15:51:50|2018-10-10 15:51:50|      2|  15|2018|     41|        0|         10|          1|\n",
      "|          Whitesnake|Logged In|  Rodrigo|     M|           10|   Carey| 250.3571| paid|New York-Newark-J...|   PUT| NextSong|1535389443000|       37|Fool For Your Loving|   200|1539179788000|\"Mozilla/5.0 (Win...|100014|1539179788|2018-10-10 15:56:28|2018-10-10 15:56:28|      2|  15|2018|     41|        0|         11|          1|\n",
      "|       Guns N' Roses|Logged In|  Rodrigo|     M|           11|   Carey|507.29751| paid|New York-Newark-J...|   PUT| NextSong|1535389443000|       37|        Rocket Queen|   200|1539180038000|\"Mozilla/5.0 (Win...|100014|1539180038|2018-10-10 16:00:38|2018-10-10 16:00:38|      2|  16|2018|     41|        0|         12|          1|\n",
      "|         Hans Zimmer|Logged In|  Rodrigo|     M|           12|   Carey|380.99546| paid|New York-Newark-J...|   PUT| NextSong|1535389443000|       37|            Run Free|   200|1539180545000|\"Mozilla/5.0 (Win...|100014|1539180545|2018-10-10 16:09:05|2018-10-10 16:09:05|      2|  16|2018|     41|        0|         13|          1|\n",
      "|            Don Omar|Logged In|  Rodrigo|     M|           13|   Carey| 204.9824| paid|New York-Newark-J...|   PUT| NextSong|1535389443000|       37|                Dile|   200|1539180925000|\"Mozilla/5.0 (Win...|100014|1539180925|2018-10-10 16:15:25|2018-10-10 16:15:25|      2|  16|2018|     41|        0|         14|          1|\n",
      "|         James Blunt|Logged In|  Rodrigo|     M|           14|   Carey|205.47873| paid|New York-Newark-J...|   PUT| NextSong|1535389443000|       37|Annie (Album Vers...|   200|1539181129000|\"Mozilla/5.0 (Win...|100014|1539181129|2018-10-10 16:18:49|2018-10-10 16:18:49|      2|  16|2018|     41|        0|         15|          1|\n",
      "|   Ray J / Yung Berg|Logged In|  Rodrigo|     M|           15|   Carey|207.82975| paid|New York-Newark-J...|   PUT| NextSong|1535389443000|       37|          Sexy Can I|   200|1539181334000|\"Mozilla/5.0 (Win...|100014|1539181334|2018-10-10 16:22:14|2018-10-10 16:22:14|      2|  16|2018|     41|        0|         16|          1|\n",
      "|         Evanescence|Logged In|  Rodrigo|     M|           16|   Carey|237.11302| paid|New York-Newark-J...|   PUT| NextSong|1535389443000|       37|    Bring Me To Life|   200|1539181541000|\"Mozilla/5.0 (Win...|100014|1539181541|2018-10-10 16:25:41|2018-10-10 16:25:41|      2|  16|2018|     41|        0|         17|          1|\n",
      "|                NULL|Logged In|  Rodrigo|     M|           17|   Carey|     NULL| paid|New York-Newark-J...|   PUT|Thumbs Up|1535389443000|       37|                NULL|   307|1539181542000|\"Mozilla/5.0 (Win...|100014|1539181542|2018-10-10 16:25:42|2018-10-10 16:25:42|      2|  16|2018|     41|        0|         18|          1|\n",
      "|              Mogwai|Logged In|  Rodrigo|     M|           18|   Carey|293.56363| paid|New York-Newark-J...|   PUT| NextSong|1535389443000|       37|Stop Coming To My...|   200|1539181778000|\"Mozilla/5.0 (Win...|100014|1539181778|2018-10-10 16:29:38|2018-10-10 16:29:38|      2|  16|2018|     41|        0|         19|          1|\n",
      "|      In This Moment|Logged In|  Rodrigo|     M|           19|   Carey|217.52118| paid|New York-Newark-J...|   PUT| NextSong|1535389443000|       37|     Mechanical Love|   200|1539182071000|\"Mozilla/5.0 (Win...|100014|1539182071|2018-10-10 16:34:31|2018-10-10 16:34:31|      2|  16|2018|     41|        0|         20|          1|\n",
      "+--------------------+---------+---------+------+-------------+--------+---------+-----+--------------------+------+---------+-------------+---------+--------------------+------+-------------+--------------------+------+----------+-------------------+-------------------+-------+----+----+-------+---------+-----------+-----------+\n",
      "only showing top 20 rows\n",
      "\n"
     ]
    }
   ],
   "source": [
    "df_sql.filter((df_sql.userChurned == 1) & (df_sql.page != \"Cancellation Confirmation\")).show()"
   ]
  },
  {
   "cell_type": "code",
   "execution_count": null,
   "metadata": {},
   "outputs": [],
   "source": [
    "# How to flg actions before churn per user?\n",
    "# Groupby / window by user and flag where the timestamp is before the churnFlag\n",
    "# df = df.withColumn(\"beforeChurn\")\n",
    "\n"
   ]
  },
  {
   "cell_type": "markdown",
   "metadata": {},
   "source": [
    "# Feature Engineering\n",
    "Once you've familiarized yourself with the data, build out the features you find promising to train your model on. To work with the full dataset, you can follow the following steps.\n",
    "- Write a script to extract the necessary features from the smaller subset of data\n",
    "- Ensure that your script is scalable, using the best practices discussed in Lesson 3\n",
    "- Try your script on the full data set, debugging your script if necessary\n",
    "\n",
    "If you are working in the classroom workspace, you can just extract features based on the small subset of data contained here. Be sure to transfer over this work to the larger dataset when you work on your Spark cluster."
   ]
  },
  {
   "cell_type": "code",
   "execution_count": 111,
   "metadata": {},
   "outputs": [],
   "source": [
    "from pyspark.ml.feature import StringIndexer, OneHotEncoder, VectorAssembler\n",
    "from pyspark.ml.classification import LogisticRegression\n",
    "from pyspark.ml import Pipeline\n"
   ]
  },
  {
   "cell_type": "code",
   "execution_count": 89,
   "metadata": {},
   "outputs": [
    {
     "name": "stdout",
     "output_type": "stream",
     "text": [
      "+--------------------+---------+---------+------+-------------+--------+---------+-----+--------------------+------+---------------+-------------+---------+--------------------+------+-------------+--------------------+------+----------+-------------------+-------------------+-------+----+----+-------+---------+------------+--------------+\n",
      "|              artist|     auth|firstName|gender|itemInSession|lastName|   length|level|            location|method|           page| registration|sessionId|                song|status|           ts|           userAgent|userId|  ts_no_ms|             ts_str|          ts_tsType|weekday|hour|year|weekNum|churnFlag|page_numeric|      page_vec|\n",
      "+--------------------+---------+---------+------+-------------+--------+---------+-----+--------------------+------+---------------+-------------+---------+--------------------+------+-------------+--------------------+------+----------+-------------------+-------------------+-------+----+----+-------+---------+------------+--------------+\n",
      "|      Martha Tilston|Logged In|    Colin|     M|           50| Freeman|277.89016| paid|     Bakersfield, CA|   PUT|       NextSong|1538173362000|       29|           Rockpools|   200|1538352117000|Mozilla/5.0 (Wind...|    30|1538352117|2018-10-01 02:01:57|2018-10-01 02:01:57|      0|   2|2018|     40|        0|         0.0|(21,[0],[1.0])|\n",
      "|    Five Iron Frenzy|Logged In|    Micah|     M|           79|    Long|236.09424| free|Boston-Cambridge-...|   PUT|       NextSong|1538331630000|        8|              Canada|   200|1538352180000|\"Mozilla/5.0 (Win...|     9|1538352180|2018-10-01 02:03:00|2018-10-01 02:03:00|      0|   2|2018|     40|        0|         0.0|(21,[0],[1.0])|\n",
      "|        Adam Lambert|Logged In|    Colin|     M|           51| Freeman| 282.8273| paid|     Bakersfield, CA|   PUT|       NextSong|1538173362000|       29|   Time For Miracles|   200|1538352394000|Mozilla/5.0 (Wind...|    30|1538352394|2018-10-01 02:06:34|2018-10-01 02:06:34|      0|   2|2018|     40|        0|         0.0|(21,[0],[1.0])|\n",
      "|              Enigma|Logged In|    Micah|     M|           80|    Long|262.71302| free|Boston-Cambridge-...|   PUT|       NextSong|1538331630000|        8|Knocking On Forbi...|   200|1538352416000|\"Mozilla/5.0 (Win...|     9|1538352416|2018-10-01 02:06:56|2018-10-01 02:06:56|      0|   2|2018|     40|        0|         0.0|(21,[0],[1.0])|\n",
      "|           Daft Punk|Logged In|    Colin|     M|           52| Freeman|223.60771| paid|     Bakersfield, CA|   PUT|       NextSong|1538173362000|       29|Harder Better Fas...|   200|1538352676000|Mozilla/5.0 (Wind...|    30|1538352676|2018-10-01 02:11:16|2018-10-01 02:11:16|      0|   2|2018|     40|        0|         0.0|(21,[0],[1.0])|\n",
      "|The All-American ...|Logged In|    Micah|     M|           81|    Long|208.29995| free|Boston-Cambridge-...|   PUT|       NextSong|1538331630000|        8|      Don't Leave Me|   200|1538352678000|\"Mozilla/5.0 (Win...|     9|1538352678|2018-10-01 02:11:18|2018-10-01 02:11:18|      0|   2|2018|     40|        0|         0.0|(21,[0],[1.0])|\n",
      "|The Velvet Underg...|Logged In|    Micah|     M|           82|    Long|260.46649| free|Boston-Cambridge-...|   PUT|       NextSong|1538331630000|        8|         Run Run Run|   200|1538352886000|\"Mozilla/5.0 (Win...|     9|1538352886|2018-10-01 02:14:46|2018-10-01 02:14:46|      0|   2|2018|     40|        0|         0.0|(21,[0],[1.0])|\n",
      "|        Starflyer 59|Logged In|    Colin|     M|           53| Freeman|185.44281| paid|     Bakersfield, CA|   PUT|       NextSong|1538173362000|       29|Passengers (Old A...|   200|1538352899000|Mozilla/5.0 (Wind...|    30|1538352899|2018-10-01 02:14:59|2018-10-01 02:14:59|      0|   2|2018|     40|        0|         0.0|(21,[0],[1.0])|\n",
      "|                NULL|Logged In|    Colin|     M|           54| Freeman|     NULL| paid|     Bakersfield, CA|   PUT|Add to Playlist|1538173362000|       29|                NULL|   200|1538352905000|Mozilla/5.0 (Wind...|    30|1538352905|2018-10-01 02:15:05|2018-10-01 02:15:05|      0|   2|2018|     40|        0|         3.0|(21,[3],[1.0])|\n",
      "|            Frumpies|Logged In|    Colin|     M|           55| Freeman|134.47791| paid|     Bakersfield, CA|   PUT|       NextSong|1538173362000|       29|          Fuck Kitty|   200|1538353084000|Mozilla/5.0 (Wind...|    30|1538353084|2018-10-01 02:18:04|2018-10-01 02:18:04|      0|   2|2018|     40|        0|         0.0|(21,[0],[1.0])|\n",
      "|        Britt Nicole|Logged In|    Micah|     M|           83|    Long| 229.8771| free|Boston-Cambridge-...|   PUT|       NextSong|1538331630000|        8|   Walk On The Water|   200|1538353146000|\"Mozilla/5.0 (Win...|     9|1538353146|2018-10-01 02:19:06|2018-10-01 02:19:06|      0|   2|2018|     40|        0|         0.0|(21,[0],[1.0])|\n",
      "|                NULL|Logged In|    Micah|     M|           84|    Long|     NULL| free|Boston-Cambridge-...|   GET|    Roll Advert|1538331630000|        8|                NULL|   200|1538353150000|\"Mozilla/5.0 (Win...|     9|1538353150|2018-10-01 02:19:10|2018-10-01 02:19:10|      0|   2|2018|     40|        0|         5.0|(21,[5],[1.0])|\n",
      "|Edward Sharpe & T...|Logged In|    Colin|     M|           56| Freeman|223.58159| paid|     Bakersfield, CA|   PUT|       NextSong|1538173362000|       29|                Jade|   200|1538353218000|Mozilla/5.0 (Wind...|    30|1538353218|2018-10-01 02:20:18|2018-10-01 02:20:18|      0|   2|2018|     40|        0|         0.0|(21,[0],[1.0])|\n",
      "|               Tesla|Logged In|    Micah|     M|           85|    Long|201.06404| free|Boston-Cambridge-...|   PUT|       NextSong|1538331630000|        8|      Gettin' Better|   200|1538353375000|\"Mozilla/5.0 (Win...|     9|1538353375|2018-10-01 02:22:55|2018-10-01 02:22:55|      0|   2|2018|     40|        0|         0.0|(21,[0],[1.0])|\n",
      "|                NULL|Logged In|    Micah|     M|           86|    Long|     NULL| free|Boston-Cambridge-...|   PUT|      Thumbs Up|1538331630000|        8|                NULL|   307|1538353376000|\"Mozilla/5.0 (Win...|     9|1538353376|2018-10-01 02:22:56|2018-10-01 02:22:56|      0|   2|2018|     40|        0|         2.0|(21,[2],[1.0])|\n",
      "|         Stan Mosley|Logged In|    Colin|     M|           57| Freeman|246.69995| paid|     Bakersfield, CA|   PUT|       NextSong|1538173362000|       29|   So-Called Friends|   200|1538353441000|Mozilla/5.0 (Wind...|    30|1538353441|2018-10-01 02:24:01|2018-10-01 02:24:01|      0|   2|2018|     40|        0|         0.0|(21,[0],[1.0])|\n",
      "|Florence + The Ma...|Logged In|    Micah|     M|           87|    Long|168.64608| free|Boston-Cambridge-...|   PUT|       NextSong|1538331630000|        8| You've Got The Love|   200|1538353576000|\"Mozilla/5.0 (Win...|     9|1538353576|2018-10-01 02:26:16|2018-10-01 02:26:16|      0|   2|2018|     40|        0|         0.0|(21,[0],[1.0])|\n",
      "|   Tokyo Police Club|Logged In|  Ashlynn|     F|            0|Williams| 166.1122| free|     Tallahassee, FL|   PUT|       NextSong|1537365219000|      217|Citizens Of Tomorrow|   200|1538353668000|\"Mozilla/5.0 (Mac...|    74|1538353668|2018-10-01 02:27:48|2018-10-01 02:27:48|      0|   2|2018|     40|        0|         0.0|(21,[0],[1.0])|\n",
      "|             Orishas|Logged In|    Colin|     M|           58| Freeman|222.22322| paid|     Bakersfield, CA|   PUT|       NextSong|1538173362000|       29|           Represent|   200|1538353687000|Mozilla/5.0 (Wind...|    30|1538353687|2018-10-01 02:28:07|2018-10-01 02:28:07|      0|   2|2018|     40|        0|         0.0|(21,[0],[1.0])|\n",
      "|             Ratatat|Logged In|    Micah|     M|           88|    Long|229.77261| free|Boston-Cambridge-...|   PUT|       NextSong|1538331630000|        8|              Swisha|   200|1538353744000|\"Mozilla/5.0 (Win...|     9|1538353744|2018-10-01 02:29:04|2018-10-01 02:29:04|      0|   2|2018|     40|        0|         0.0|(21,[0],[1.0])|\n",
      "+--------------------+---------+---------+------+-------------+--------+---------+-----+--------------------+------+---------------+-------------+---------+--------------------+------+-------------+--------------------+------+----------+-------------------+-------------------+-------+----+----+-------+---------+------------+--------------+\n",
      "only showing top 20 rows\n",
      "\n"
     ]
    }
   ],
   "source": [
    "# String indexer for visited page\n",
    "str_indexer = StringIndexer(inputCol=\"page\", outputCol=\"page_numeric\")\n",
    "\n",
    "model = str_indexer.fit(df)\n",
    "\n",
    "df_transformed = model.transform(df)\n",
    "\n",
    "str_ohe = OneHotEncoder(inputCol=\"page_numeric\", outputCol=\"page_vec\")\n",
    "model2 = str_ohe.fit(df_transformed)\n",
    "df_transformed = model2.transform(df_transformed)\n",
    "\n",
    "# df_transformed.groupby([\"page\", \"page_numeric\"]).count().sort(\"page_numeric\").toPandas()\n",
    "\n",
    "df_transformed.show()"
   ]
  },
  {
   "cell_type": "code",
   "execution_count": 81,
   "metadata": {},
   "outputs": [
    {
     "data": {
      "text/plain": [
       "Row(artist='Martha Tilston', auth='Logged In', firstName='Colin', gender='M', itemInSession=50, lastName='Freeman', length=277.89016, level='paid', location='Bakersfield, CA', method='PUT', page='NextSong', registration=1538173362000, sessionId=29, song='Rockpools', status=200, ts=1538352117000, userAgent='Mozilla/5.0 (Windows NT 6.1; WOW64; rv:31.0) Gecko/20100101 Firefox/31.0', userId='30', ts_no_ms='1538352117', ts_str='2018-10-01 02:01:57', ts_tsType=datetime.datetime(2018, 10, 1, 2, 1, 57), weekday=0, hour=2, year=2018, weekNum=40, churnFlag=0, page_index=0.0)"
      ]
     },
     "execution_count": 81,
     "metadata": {},
     "output_type": "execute_result"
    }
   ],
   "source": [
    "# The approach of indexing and transforming several columns at once was taken from here: \n",
    "# https://stackoverflow.com/questions/36942233/apply-stringindexer-to-several-columns-in-a-pyspark-dataframe\n",
    "\n",
    "indexers = [StringIndexer(inputCol=column, outputCol=column+\"_index\").fit(df) for column in [\"page\"]]\n",
    "\n",
    "pipeline = Pipeline(stages=indexers)\n",
    "\n",
    "df_transformed = pipeline.fit(df).transform(df)\n",
    "\n",
    "df_transformed.head()"
   ]
  },
  {
   "cell_type": "code",
   "execution_count": 101,
   "metadata": {},
   "outputs": [
    {
     "ename": "IllegalArgumentException",
     "evalue": "page_index does not exist. Available: artist, auth, firstName, gender, itemInSession, lastName, length, level, location, method, page, registration, sessionId, song, status, ts, userAgent, userId, ts_no_ms, ts_str, ts_tsType, weekday, hour, year, weekNum, churnFlag",
     "output_type": "error",
     "traceback": [
      "\u001b[1;31m---------------------------------------------------------------------------\u001b[0m",
      "\u001b[1;31mIllegalArgumentException\u001b[0m                  Traceback (most recent call last)",
      "\u001b[1;32mc:\\develop\\VSCode\\Udacity\\capstone_sparkify\\Sparkify.ipynb Cell 34\u001b[0m line \u001b[0;36m4\n\u001b[0;32m      <a href='vscode-notebook-cell:/c%3A/develop/VSCode/Udacity/capstone_sparkify/Sparkify.ipynb#Y121sZmlsZQ%3D%3D?line=0'>1</a>\u001b[0m \u001b[39m# Test same approach as above for multiple columns and then indexing + vectorizing\u001b[39;00m\n\u001b[0;32m      <a href='vscode-notebook-cell:/c%3A/develop/VSCode/Udacity/capstone_sparkify/Sparkify.ipynb#Y121sZmlsZQ%3D%3D?line=1'>2</a>\u001b[0m indexers \u001b[39m=\u001b[39m [StringIndexer(inputCol\u001b[39m=\u001b[39mcolumn, outputCol\u001b[39m=\u001b[39mcolumn\u001b[39m+\u001b[39m\u001b[39m\"\u001b[39m\u001b[39m_index\u001b[39m\u001b[39m\"\u001b[39m)\u001b[39m.\u001b[39mfit(df) \u001b[39mfor\u001b[39;00m column \u001b[39min\u001b[39;00m [\u001b[39m\"\u001b[39m\u001b[39mpage\u001b[39m\u001b[39m\"\u001b[39m, \u001b[39m\"\u001b[39m\u001b[39mgender\u001b[39m\u001b[39m\"\u001b[39m]]\n\u001b[1;32m----> <a href='vscode-notebook-cell:/c%3A/develop/VSCode/Udacity/capstone_sparkify/Sparkify.ipynb#Y121sZmlsZQ%3D%3D?line=3'>4</a>\u001b[0m vectorizers \u001b[39m=\u001b[39m [OneHotEncoder(inputCol\u001b[39m=\u001b[39mcolumn, outputCol\u001b[39m=\u001b[39mcolumn\u001b[39m+\u001b[39m\u001b[39m\"\u001b[39m\u001b[39m_ohe\u001b[39m\u001b[39m\"\u001b[39m)\u001b[39m.\u001b[39mfit(df) \u001b[39mfor\u001b[39;00m column \u001b[39min\u001b[39;00m [\u001b[39m\"\u001b[39m\u001b[39mpage_index\u001b[39m\u001b[39m\"\u001b[39m, \u001b[39m\"\u001b[39m\u001b[39mgender_index\u001b[39m\u001b[39m\"\u001b[39m]]\n\u001b[0;32m      <a href='vscode-notebook-cell:/c%3A/develop/VSCode/Udacity/capstone_sparkify/Sparkify.ipynb#Y121sZmlsZQ%3D%3D?line=6'>7</a>\u001b[0m pipeline \u001b[39m=\u001b[39m Pipeline(stages\u001b[39m=\u001b[39mindexers)\n\u001b[0;32m      <a href='vscode-notebook-cell:/c%3A/develop/VSCode/Udacity/capstone_sparkify/Sparkify.ipynb#Y121sZmlsZQ%3D%3D?line=8'>9</a>\u001b[0m df_transformed \u001b[39m=\u001b[39m pipeline\u001b[39m.\u001b[39mfit(df)\u001b[39m.\u001b[39mtransform(df)\n",
      "\u001b[1;32mc:\\develop\\VSCode\\Udacity\\capstone_sparkify\\Sparkify.ipynb Cell 34\u001b[0m line \u001b[0;36m4\n\u001b[0;32m      <a href='vscode-notebook-cell:/c%3A/develop/VSCode/Udacity/capstone_sparkify/Sparkify.ipynb#Y121sZmlsZQ%3D%3D?line=0'>1</a>\u001b[0m \u001b[39m# Test same approach as above for multiple columns and then indexing + vectorizing\u001b[39;00m\n\u001b[0;32m      <a href='vscode-notebook-cell:/c%3A/develop/VSCode/Udacity/capstone_sparkify/Sparkify.ipynb#Y121sZmlsZQ%3D%3D?line=1'>2</a>\u001b[0m indexers \u001b[39m=\u001b[39m [StringIndexer(inputCol\u001b[39m=\u001b[39mcolumn, outputCol\u001b[39m=\u001b[39mcolumn\u001b[39m+\u001b[39m\u001b[39m\"\u001b[39m\u001b[39m_index\u001b[39m\u001b[39m\"\u001b[39m)\u001b[39m.\u001b[39mfit(df) \u001b[39mfor\u001b[39;00m column \u001b[39min\u001b[39;00m [\u001b[39m\"\u001b[39m\u001b[39mpage\u001b[39m\u001b[39m\"\u001b[39m, \u001b[39m\"\u001b[39m\u001b[39mgender\u001b[39m\u001b[39m\"\u001b[39m]]\n\u001b[1;32m----> <a href='vscode-notebook-cell:/c%3A/develop/VSCode/Udacity/capstone_sparkify/Sparkify.ipynb#Y121sZmlsZQ%3D%3D?line=3'>4</a>\u001b[0m vectorizers \u001b[39m=\u001b[39m [OneHotEncoder(inputCol\u001b[39m=\u001b[39;49mcolumn, outputCol\u001b[39m=\u001b[39;49mcolumn\u001b[39m+\u001b[39;49m\u001b[39m\"\u001b[39;49m\u001b[39m_ohe\u001b[39;49m\u001b[39m\"\u001b[39;49m)\u001b[39m.\u001b[39;49mfit(df) \u001b[39mfor\u001b[39;00m column \u001b[39min\u001b[39;00m [\u001b[39m\"\u001b[39m\u001b[39mpage_index\u001b[39m\u001b[39m\"\u001b[39m, \u001b[39m\"\u001b[39m\u001b[39mgender_index\u001b[39m\u001b[39m\"\u001b[39m]]\n\u001b[0;32m      <a href='vscode-notebook-cell:/c%3A/develop/VSCode/Udacity/capstone_sparkify/Sparkify.ipynb#Y121sZmlsZQ%3D%3D?line=6'>7</a>\u001b[0m pipeline \u001b[39m=\u001b[39m Pipeline(stages\u001b[39m=\u001b[39mindexers)\n\u001b[0;32m      <a href='vscode-notebook-cell:/c%3A/develop/VSCode/Udacity/capstone_sparkify/Sparkify.ipynb#Y121sZmlsZQ%3D%3D?line=8'>9</a>\u001b[0m df_transformed \u001b[39m=\u001b[39m pipeline\u001b[39m.\u001b[39mfit(df)\u001b[39m.\u001b[39mtransform(df)\n",
      "File \u001b[1;32mc:\\Users\\q514907\\Anaconda3\\envs\\spark_env\\lib\\site-packages\\pyspark\\ml\\base.py:205\u001b[0m, in \u001b[0;36mEstimator.fit\u001b[1;34m(self, dataset, params)\u001b[0m\n\u001b[0;32m    203\u001b[0m         \u001b[39mreturn\u001b[39;00m \u001b[39mself\u001b[39m\u001b[39m.\u001b[39mcopy(params)\u001b[39m.\u001b[39m_fit(dataset)\n\u001b[0;32m    204\u001b[0m     \u001b[39melse\u001b[39;00m:\n\u001b[1;32m--> 205\u001b[0m         \u001b[39mreturn\u001b[39;00m \u001b[39mself\u001b[39;49m\u001b[39m.\u001b[39;49m_fit(dataset)\n\u001b[0;32m    206\u001b[0m \u001b[39melse\u001b[39;00m:\n\u001b[0;32m    207\u001b[0m     \u001b[39mraise\u001b[39;00m \u001b[39mTypeError\u001b[39;00m(\n\u001b[0;32m    208\u001b[0m         \u001b[39m\"\u001b[39m\u001b[39mParams must be either a param map or a list/tuple of param maps, \u001b[39m\u001b[39m\"\u001b[39m\n\u001b[0;32m    209\u001b[0m         \u001b[39m\"\u001b[39m\u001b[39mbut got \u001b[39m\u001b[39m%s\u001b[39;00m\u001b[39m.\u001b[39m\u001b[39m\"\u001b[39m \u001b[39m%\u001b[39m \u001b[39mtype\u001b[39m(params)\n\u001b[0;32m    210\u001b[0m     )\n",
      "File \u001b[1;32mc:\\Users\\q514907\\Anaconda3\\envs\\spark_env\\lib\\site-packages\\pyspark\\ml\\wrapper.py:381\u001b[0m, in \u001b[0;36mJavaEstimator._fit\u001b[1;34m(self, dataset)\u001b[0m\n\u001b[0;32m    380\u001b[0m \u001b[39mdef\u001b[39;00m \u001b[39m_fit\u001b[39m(\u001b[39mself\u001b[39m, dataset: DataFrame) \u001b[39m-\u001b[39m\u001b[39m>\u001b[39m JM:\n\u001b[1;32m--> 381\u001b[0m     java_model \u001b[39m=\u001b[39m \u001b[39mself\u001b[39;49m\u001b[39m.\u001b[39;49m_fit_java(dataset)\n\u001b[0;32m    382\u001b[0m     model \u001b[39m=\u001b[39m \u001b[39mself\u001b[39m\u001b[39m.\u001b[39m_create_model(java_model)\n\u001b[0;32m    383\u001b[0m     \u001b[39mreturn\u001b[39;00m \u001b[39mself\u001b[39m\u001b[39m.\u001b[39m_copyValues(model)\n",
      "File \u001b[1;32mc:\\Users\\q514907\\Anaconda3\\envs\\spark_env\\lib\\site-packages\\pyspark\\ml\\wrapper.py:378\u001b[0m, in \u001b[0;36mJavaEstimator._fit_java\u001b[1;34m(self, dataset)\u001b[0m\n\u001b[0;32m    375\u001b[0m \u001b[39massert\u001b[39;00m \u001b[39mself\u001b[39m\u001b[39m.\u001b[39m_java_obj \u001b[39mis\u001b[39;00m \u001b[39mnot\u001b[39;00m \u001b[39mNone\u001b[39;00m\n\u001b[0;32m    377\u001b[0m \u001b[39mself\u001b[39m\u001b[39m.\u001b[39m_transfer_params_to_java()\n\u001b[1;32m--> 378\u001b[0m \u001b[39mreturn\u001b[39;00m \u001b[39mself\u001b[39;49m\u001b[39m.\u001b[39;49m_java_obj\u001b[39m.\u001b[39;49mfit(dataset\u001b[39m.\u001b[39;49m_jdf)\n",
      "File \u001b[1;32mc:\\Users\\q514907\\Anaconda3\\envs\\spark_env\\lib\\site-packages\\py4j\\java_gateway.py:1322\u001b[0m, in \u001b[0;36mJavaMember.__call__\u001b[1;34m(self, *args)\u001b[0m\n\u001b[0;32m   1316\u001b[0m command \u001b[39m=\u001b[39m proto\u001b[39m.\u001b[39mCALL_COMMAND_NAME \u001b[39m+\u001b[39m\\\n\u001b[0;32m   1317\u001b[0m     \u001b[39mself\u001b[39m\u001b[39m.\u001b[39mcommand_header \u001b[39m+\u001b[39m\\\n\u001b[0;32m   1318\u001b[0m     args_command \u001b[39m+\u001b[39m\\\n\u001b[0;32m   1319\u001b[0m     proto\u001b[39m.\u001b[39mEND_COMMAND_PART\n\u001b[0;32m   1321\u001b[0m answer \u001b[39m=\u001b[39m \u001b[39mself\u001b[39m\u001b[39m.\u001b[39mgateway_client\u001b[39m.\u001b[39msend_command(command)\n\u001b[1;32m-> 1322\u001b[0m return_value \u001b[39m=\u001b[39m get_return_value(\n\u001b[0;32m   1323\u001b[0m     answer, \u001b[39mself\u001b[39;49m\u001b[39m.\u001b[39;49mgateway_client, \u001b[39mself\u001b[39;49m\u001b[39m.\u001b[39;49mtarget_id, \u001b[39mself\u001b[39;49m\u001b[39m.\u001b[39;49mname)\n\u001b[0;32m   1325\u001b[0m \u001b[39mfor\u001b[39;00m temp_arg \u001b[39min\u001b[39;00m temp_args:\n\u001b[0;32m   1326\u001b[0m     \u001b[39mif\u001b[39;00m \u001b[39mhasattr\u001b[39m(temp_arg, \u001b[39m\"\u001b[39m\u001b[39m_detach\u001b[39m\u001b[39m\"\u001b[39m):\n",
      "File \u001b[1;32mc:\\Users\\q514907\\Anaconda3\\envs\\spark_env\\lib\\site-packages\\pyspark\\errors\\exceptions\\captured.py:185\u001b[0m, in \u001b[0;36mcapture_sql_exception.<locals>.deco\u001b[1;34m(*a, **kw)\u001b[0m\n\u001b[0;32m    181\u001b[0m converted \u001b[39m=\u001b[39m convert_exception(e\u001b[39m.\u001b[39mjava_exception)\n\u001b[0;32m    182\u001b[0m \u001b[39mif\u001b[39;00m \u001b[39mnot\u001b[39;00m \u001b[39misinstance\u001b[39m(converted, UnknownException):\n\u001b[0;32m    183\u001b[0m     \u001b[39m# Hide where the exception came from that shows a non-Pythonic\u001b[39;00m\n\u001b[0;32m    184\u001b[0m     \u001b[39m# JVM exception message.\u001b[39;00m\n\u001b[1;32m--> 185\u001b[0m     \u001b[39mraise\u001b[39;00m converted \u001b[39mfrom\u001b[39;00m \u001b[39mNone\u001b[39m\n\u001b[0;32m    186\u001b[0m \u001b[39melse\u001b[39;00m:\n\u001b[0;32m    187\u001b[0m     \u001b[39mraise\u001b[39;00m\n",
      "\u001b[1;31mIllegalArgumentException\u001b[0m: page_index does not exist. Available: artist, auth, firstName, gender, itemInSession, lastName, length, level, location, method, page, registration, sessionId, song, status, ts, userAgent, userId, ts_no_ms, ts_str, ts_tsType, weekday, hour, year, weekNum, churnFlag"
     ]
    }
   ],
   "source": [
    "# Test same approach as above for multiple columns and then indexing + vectorizing\n",
    "indexers = [StringIndexer(inputCol=column, outputCol=column+\"_index\").fit(df) for column in [\"page\", \"gender\"]]\n",
    "\n",
    "vectorizers = [OneHotEncoder(inputCol=column, outputCol=column+\"_ohe\").fit(df) for column in [\"page_index\", \"gender_index\"]]\n",
    "\n",
    "\n",
    "pipeline = Pipeline(stages=indexers)\n",
    "\n",
    "df_transformed = pipeline.fit(df).transform(df)\n",
    "\n",
    "df_transformed.show()"
   ]
  },
  {
   "cell_type": "code",
   "execution_count": 108,
   "metadata": {},
   "outputs": [
    {
     "data": {
      "text/plain": [
       "['page_vec', 'gender_vec']"
      ]
     },
     "execution_count": 108,
     "metadata": {},
     "output_type": "execute_result"
    }
   ],
   "source": [
    "cols_for_transformation = [\"page\", \"gender\"]\n",
    "indexed_cols = [x + \"_index\" for x in cols_for_transformation]\n",
    "vectorized_cols = [x + \"_vec\" for x in cols_for_transformation]\n",
    "\n",
    "vectorized_cols"
   ]
  },
  {
   "cell_type": "code",
   "execution_count": 114,
   "metadata": {},
   "outputs": [
    {
     "name": "stdout",
     "output_type": "stream",
     "text": [
      "+--------------------+---------+---------+------+-------------+--------+---------+-----+--------------------+------+---------------+-------------+---------+--------------------+------+-------------+--------------------+------+----------+-------------------+-------------------+-------+----+----+-------+---------+----------+------------+--------------+-------------+--------------------+\n",
      "|              artist|     auth|firstName|gender|itemInSession|lastName|   length|level|            location|method|           page| registration|sessionId|                song|status|           ts|           userAgent|userId|  ts_no_ms|             ts_str|          ts_tsType|weekday|hour|year|weekNum|churnFlag|page_index|gender_index|      page_vec|   gender_vec|            features|\n",
      "+--------------------+---------+---------+------+-------------+--------+---------+-----+--------------------+------+---------------+-------------+---------+--------------------+------+-------------+--------------------+------+----------+-------------------+-------------------+-------+----+----+-------+---------+----------+------------+--------------+-------------+--------------------+\n",
      "|      Martha Tilston|Logged In|    Colin|     M|           50| Freeman|277.89016| paid|     Bakersfield, CA|   PUT|       NextSong|1538173362000|       29|           Rockpools|   200|1538352117000|Mozilla/5.0 (Wind...|    30|1538352117|2018-10-01 02:01:57|2018-10-01 02:01:57|      0|   2|2018|     40|        0|       0.0|         1.0|(21,[0],[1.0])|    (1,[],[])|      (22,[0],[1.0])|\n",
      "|    Five Iron Frenzy|Logged In|    Micah|     M|           79|    Long|236.09424| free|Boston-Cambridge-...|   PUT|       NextSong|1538331630000|        8|              Canada|   200|1538352180000|\"Mozilla/5.0 (Win...|     9|1538352180|2018-10-01 02:03:00|2018-10-01 02:03:00|      0|   2|2018|     40|        0|       0.0|         1.0|(21,[0],[1.0])|    (1,[],[])|      (22,[0],[1.0])|\n",
      "|        Adam Lambert|Logged In|    Colin|     M|           51| Freeman| 282.8273| paid|     Bakersfield, CA|   PUT|       NextSong|1538173362000|       29|   Time For Miracles|   200|1538352394000|Mozilla/5.0 (Wind...|    30|1538352394|2018-10-01 02:06:34|2018-10-01 02:06:34|      0|   2|2018|     40|        0|       0.0|         1.0|(21,[0],[1.0])|    (1,[],[])|      (22,[0],[1.0])|\n",
      "|              Enigma|Logged In|    Micah|     M|           80|    Long|262.71302| free|Boston-Cambridge-...|   PUT|       NextSong|1538331630000|        8|Knocking On Forbi...|   200|1538352416000|\"Mozilla/5.0 (Win...|     9|1538352416|2018-10-01 02:06:56|2018-10-01 02:06:56|      0|   2|2018|     40|        0|       0.0|         1.0|(21,[0],[1.0])|    (1,[],[])|      (22,[0],[1.0])|\n",
      "|           Daft Punk|Logged In|    Colin|     M|           52| Freeman|223.60771| paid|     Bakersfield, CA|   PUT|       NextSong|1538173362000|       29|Harder Better Fas...|   200|1538352676000|Mozilla/5.0 (Wind...|    30|1538352676|2018-10-01 02:11:16|2018-10-01 02:11:16|      0|   2|2018|     40|        0|       0.0|         1.0|(21,[0],[1.0])|    (1,[],[])|      (22,[0],[1.0])|\n",
      "|The All-American ...|Logged In|    Micah|     M|           81|    Long|208.29995| free|Boston-Cambridge-...|   PUT|       NextSong|1538331630000|        8|      Don't Leave Me|   200|1538352678000|\"Mozilla/5.0 (Win...|     9|1538352678|2018-10-01 02:11:18|2018-10-01 02:11:18|      0|   2|2018|     40|        0|       0.0|         1.0|(21,[0],[1.0])|    (1,[],[])|      (22,[0],[1.0])|\n",
      "|The Velvet Underg...|Logged In|    Micah|     M|           82|    Long|260.46649| free|Boston-Cambridge-...|   PUT|       NextSong|1538331630000|        8|         Run Run Run|   200|1538352886000|\"Mozilla/5.0 (Win...|     9|1538352886|2018-10-01 02:14:46|2018-10-01 02:14:46|      0|   2|2018|     40|        0|       0.0|         1.0|(21,[0],[1.0])|    (1,[],[])|      (22,[0],[1.0])|\n",
      "|        Starflyer 59|Logged In|    Colin|     M|           53| Freeman|185.44281| paid|     Bakersfield, CA|   PUT|       NextSong|1538173362000|       29|Passengers (Old A...|   200|1538352899000|Mozilla/5.0 (Wind...|    30|1538352899|2018-10-01 02:14:59|2018-10-01 02:14:59|      0|   2|2018|     40|        0|       0.0|         1.0|(21,[0],[1.0])|    (1,[],[])|      (22,[0],[1.0])|\n",
      "|                NULL|Logged In|    Colin|     M|           54| Freeman|     NULL| paid|     Bakersfield, CA|   PUT|Add to Playlist|1538173362000|       29|                NULL|   200|1538352905000|Mozilla/5.0 (Wind...|    30|1538352905|2018-10-01 02:15:05|2018-10-01 02:15:05|      0|   2|2018|     40|        0|       3.0|         1.0|(21,[3],[1.0])|    (1,[],[])|      (22,[3],[1.0])|\n",
      "|            Frumpies|Logged In|    Colin|     M|           55| Freeman|134.47791| paid|     Bakersfield, CA|   PUT|       NextSong|1538173362000|       29|          Fuck Kitty|   200|1538353084000|Mozilla/5.0 (Wind...|    30|1538353084|2018-10-01 02:18:04|2018-10-01 02:18:04|      0|   2|2018|     40|        0|       0.0|         1.0|(21,[0],[1.0])|    (1,[],[])|      (22,[0],[1.0])|\n",
      "|        Britt Nicole|Logged In|    Micah|     M|           83|    Long| 229.8771| free|Boston-Cambridge-...|   PUT|       NextSong|1538331630000|        8|   Walk On The Water|   200|1538353146000|\"Mozilla/5.0 (Win...|     9|1538353146|2018-10-01 02:19:06|2018-10-01 02:19:06|      0|   2|2018|     40|        0|       0.0|         1.0|(21,[0],[1.0])|    (1,[],[])|      (22,[0],[1.0])|\n",
      "|                NULL|Logged In|    Micah|     M|           84|    Long|     NULL| free|Boston-Cambridge-...|   GET|    Roll Advert|1538331630000|        8|                NULL|   200|1538353150000|\"Mozilla/5.0 (Win...|     9|1538353150|2018-10-01 02:19:10|2018-10-01 02:19:10|      0|   2|2018|     40|        0|       5.0|         1.0|(21,[5],[1.0])|    (1,[],[])|      (22,[5],[1.0])|\n",
      "|Edward Sharpe & T...|Logged In|    Colin|     M|           56| Freeman|223.58159| paid|     Bakersfield, CA|   PUT|       NextSong|1538173362000|       29|                Jade|   200|1538353218000|Mozilla/5.0 (Wind...|    30|1538353218|2018-10-01 02:20:18|2018-10-01 02:20:18|      0|   2|2018|     40|        0|       0.0|         1.0|(21,[0],[1.0])|    (1,[],[])|      (22,[0],[1.0])|\n",
      "|               Tesla|Logged In|    Micah|     M|           85|    Long|201.06404| free|Boston-Cambridge-...|   PUT|       NextSong|1538331630000|        8|      Gettin' Better|   200|1538353375000|\"Mozilla/5.0 (Win...|     9|1538353375|2018-10-01 02:22:55|2018-10-01 02:22:55|      0|   2|2018|     40|        0|       0.0|         1.0|(21,[0],[1.0])|    (1,[],[])|      (22,[0],[1.0])|\n",
      "|                NULL|Logged In|    Micah|     M|           86|    Long|     NULL| free|Boston-Cambridge-...|   PUT|      Thumbs Up|1538331630000|        8|                NULL|   307|1538353376000|\"Mozilla/5.0 (Win...|     9|1538353376|2018-10-01 02:22:56|2018-10-01 02:22:56|      0|   2|2018|     40|        0|       2.0|         1.0|(21,[2],[1.0])|    (1,[],[])|      (22,[2],[1.0])|\n",
      "|         Stan Mosley|Logged In|    Colin|     M|           57| Freeman|246.69995| paid|     Bakersfield, CA|   PUT|       NextSong|1538173362000|       29|   So-Called Friends|   200|1538353441000|Mozilla/5.0 (Wind...|    30|1538353441|2018-10-01 02:24:01|2018-10-01 02:24:01|      0|   2|2018|     40|        0|       0.0|         1.0|(21,[0],[1.0])|    (1,[],[])|      (22,[0],[1.0])|\n",
      "|Florence + The Ma...|Logged In|    Micah|     M|           87|    Long|168.64608| free|Boston-Cambridge-...|   PUT|       NextSong|1538331630000|        8| You've Got The Love|   200|1538353576000|\"Mozilla/5.0 (Win...|     9|1538353576|2018-10-01 02:26:16|2018-10-01 02:26:16|      0|   2|2018|     40|        0|       0.0|         1.0|(21,[0],[1.0])|    (1,[],[])|      (22,[0],[1.0])|\n",
      "|   Tokyo Police Club|Logged In|  Ashlynn|     F|            0|Williams| 166.1122| free|     Tallahassee, FL|   PUT|       NextSong|1537365219000|      217|Citizens Of Tomorrow|   200|1538353668000|\"Mozilla/5.0 (Mac...|    74|1538353668|2018-10-01 02:27:48|2018-10-01 02:27:48|      0|   2|2018|     40|        0|       0.0|         0.0|(21,[0],[1.0])|(1,[0],[1.0])|(22,[0,21],[1.0,1...|\n",
      "|             Orishas|Logged In|    Colin|     M|           58| Freeman|222.22322| paid|     Bakersfield, CA|   PUT|       NextSong|1538173362000|       29|           Represent|   200|1538353687000|Mozilla/5.0 (Wind...|    30|1538353687|2018-10-01 02:28:07|2018-10-01 02:28:07|      0|   2|2018|     40|        0|       0.0|         1.0|(21,[0],[1.0])|    (1,[],[])|      (22,[0],[1.0])|\n",
      "|             Ratatat|Logged In|    Micah|     M|           88|    Long|229.77261| free|Boston-Cambridge-...|   PUT|       NextSong|1538331630000|        8|              Swisha|   200|1538353744000|\"Mozilla/5.0 (Win...|     9|1538353744|2018-10-01 02:29:04|2018-10-01 02:29:04|      0|   2|2018|     40|        0|       0.0|         1.0|(21,[0],[1.0])|    (1,[],[])|      (22,[0],[1.0])|\n",
      "+--------------------+---------+---------+------+-------------+--------+---------+-----+--------------------+------+---------------+-------------+---------+--------------------+------+-------------+--------------------+------+----------+-------------------+-------------------+-------+----+----+-------+---------+----------+------------+--------------+-------------+--------------------+\n",
      "only showing top 20 rows\n",
      "\n"
     ]
    }
   ],
   "source": [
    "# Test other approach with new argument input_cols / output_cols\n",
    "str_indexer = StringIndexer(inputCols=cols_for_transformation, outputCols=indexed_cols)\n",
    "model = str_indexer.fit(df)\n",
    "df_transformed = model.transform(df)\n",
    "\n",
    "ohe = OneHotEncoder(inputCols=indexed_cols, outputCols=vectorized_cols)\n",
    "model2 = ohe.fit(df_transformed)\n",
    "df_transformed = model2.transform(df_transformed)\n",
    "\n",
    "vec_assembler = VectorAssembler(inputCols=vectorized_cols, outputCol=\"features\")\n",
    "df_transformed = vec_assembler.transform(df_transformed)\n",
    "# df_transformed.groupby([\"page\", \"page_numeric\"]).count().sort(\"page_numeric\").toPandas()\n",
    "\n",
    "df_transformed.show()"
   ]
  },
  {
   "cell_type": "code",
   "execution_count": null,
   "metadata": {},
   "outputs": [],
   "source": [
    "lr = LogisticRegression(featuresCol=\"features\", labelCol=)"
   ]
  },
  {
   "cell_type": "code",
   "execution_count": 100,
   "metadata": {},
   "outputs": [
    {
     "data": {
      "text/plain": [
       "[StringIndexerModel: uid=StringIndexer_b667f761e199, handleInvalid=error,\n",
       " StringIndexerModel: uid=StringIndexer_2f83db9a6380, handleInvalid=error]"
      ]
     },
     "execution_count": 100,
     "metadata": {},
     "output_type": "execute_result"
    }
   ],
   "source": [
    "indexers"
   ]
  },
  {
   "cell_type": "code",
   "execution_count": 78,
   "metadata": {},
   "outputs": [],
   "source": [
    "# https://www.geeksforgeeks.org/logistic-regression-using-pyspark-python/"
   ]
  },
  {
   "cell_type": "markdown",
   "metadata": {},
   "source": [
    "# Modeling\n",
    "Split the full dataset into train, test, and validation sets. Test out several of the machine learning methods you learned. Evaluate the accuracy of the various models, tuning parameters as necessary. Determine your winning model based on test accuracy and report results on the validation set. Since the churned users are a fairly small subset, I suggest using F1 score as the metric to optimize."
   ]
  },
  {
   "cell_type": "code",
   "execution_count": null,
   "metadata": {},
   "outputs": [],
   "source": []
  },
  {
   "cell_type": "markdown",
   "metadata": {},
   "source": [
    "# Final Steps\n",
    "Clean up your code, adding comments and renaming variables to make the code easier to read and maintain. Refer to the Spark Project Overview page and Data Scientist Capstone Project Rubric to make sure you are including all components of the capstone project and meet all expectations. Remember, this includes thorough documentation in a README file in a Github repository, as well as a web app or blog post."
   ]
  },
  {
   "cell_type": "code",
   "execution_count": null,
   "metadata": {},
   "outputs": [],
   "source": []
  }
 ],
 "metadata": {
  "kernelspec": {
   "display_name": "Python 3",
   "language": "python",
   "name": "python3"
  },
  "language_info": {
   "codemirror_mode": {
    "name": "ipython",
    "version": 3
   },
   "file_extension": ".py",
   "mimetype": "text/x-python",
   "name": "python",
   "nbconvert_exporter": "python",
   "pygments_lexer": "ipython3",
   "version": "3.10.8"
  }
 },
 "nbformat": 4,
 "nbformat_minor": 2
}
