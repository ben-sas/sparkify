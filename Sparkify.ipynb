{
 "cells": [
  {
   "cell_type": "markdown",
   "metadata": {},
   "source": [
    "# Sparkify Project Workspace\n",
    "This workspace contains a tiny subset (128MB) of the full dataset available (12GB). Feel free to use this workspace to build your project, or to explore a smaller subset with Spark before deploying your cluster on the cloud. Instructions for setting up your Spark cluster is included in the last lesson of the Extracurricular Spark Course content.\n",
    "\n",
    "You can follow the steps below to guide your data analysis and model building portion of this project."
   ]
  },
  {
   "cell_type": "code",
   "execution_count": 35,
   "metadata": {},
   "outputs": [],
   "source": [
    "from pyspark.sql import SparkSession\n",
    "from pyspark.sql.functions import udf\n",
    "from pyspark.sql.types import StringType\n",
    "from pyspark.sql.types import IntegerType\n",
    "from pyspark.sql.functions import desc\n",
    "from pyspark.sql.functions import asc\n",
    "from pyspark.sql.functions import sum as Fsum, isnan, to_date, to_timestamp, from_unixtime, count\n",
    "from pyspark.sql.window import Window\n",
    "\n",
    "\n",
    "import pyspark.sql.functions as F\n",
    "\n",
    "from pyspark.sql.types import LongType, TimestampType\n",
    "from pyspark.sql.functions import substring, from_unixtime\n",
    "\n",
    "import datetime\n",
    "\n",
    "import numpy as np\n",
    "import pandas as pd\n",
    "%matplotlib inline\n",
    "import matplotlib.pyplot as plt\n",
    "\n",
    "import findspark\n",
    "findspark.init()"
   ]
  },
  {
   "cell_type": "code",
   "execution_count": 2,
   "metadata": {},
   "outputs": [],
   "source": [
    "spark = SparkSession \\\n",
    "    .builder \\\n",
    "    .appName(\"Wrangling Data\") \\\n",
    "    .getOrCreate()"
   ]
  },
  {
   "cell_type": "markdown",
   "metadata": {},
   "source": [
    "# Load and Clean Dataset\n",
    "In this workspace, the mini-dataset file is `mini_sparkify_event_data.json`. Load and clean the dataset, checking for invalid or missing data - for example, records without userids or sessionids. "
   ]
  },
  {
   "cell_type": "code",
   "execution_count": 3,
   "metadata": {},
   "outputs": [],
   "source": [
    "path = \"mini_sparkify_event_data.json\"\n",
    "df = spark.read.json(path)\n",
    "df_original = df"
   ]
  },
  {
   "cell_type": "code",
   "execution_count": 4,
   "metadata": {},
   "outputs": [
    {
     "name": "stdout",
     "output_type": "stream",
     "text": [
      "root\n",
      " |-- artist: string (nullable = true)\n",
      " |-- auth: string (nullable = true)\n",
      " |-- firstName: string (nullable = true)\n",
      " |-- gender: string (nullable = true)\n",
      " |-- itemInSession: long (nullable = true)\n",
      " |-- lastName: string (nullable = true)\n",
      " |-- length: double (nullable = true)\n",
      " |-- level: string (nullable = true)\n",
      " |-- location: string (nullable = true)\n",
      " |-- method: string (nullable = true)\n",
      " |-- page: string (nullable = true)\n",
      " |-- registration: long (nullable = true)\n",
      " |-- sessionId: long (nullable = true)\n",
      " |-- song: string (nullable = true)\n",
      " |-- status: long (nullable = true)\n",
      " |-- ts: long (nullable = true)\n",
      " |-- userAgent: string (nullable = true)\n",
      " |-- userId: string (nullable = true)\n",
      "\n"
     ]
    }
   ],
   "source": [
    "df.printSchema()"
   ]
  },
  {
   "cell_type": "code",
   "execution_count": 5,
   "metadata": {},
   "outputs": [
    {
     "data": {
      "text/html": [
       "<div>\n",
       "<style scoped>\n",
       "    .dataframe tbody tr th:only-of-type {\n",
       "        vertical-align: middle;\n",
       "    }\n",
       "\n",
       "    .dataframe tbody tr th {\n",
       "        vertical-align: top;\n",
       "    }\n",
       "\n",
       "    .dataframe thead th {\n",
       "        text-align: right;\n",
       "    }\n",
       "</style>\n",
       "<table border=\"1\" class=\"dataframe\">\n",
       "  <thead>\n",
       "    <tr style=\"text-align: right;\">\n",
       "      <th></th>\n",
       "      <th>artist</th>\n",
       "      <th>auth</th>\n",
       "      <th>firstName</th>\n",
       "      <th>gender</th>\n",
       "      <th>itemInSession</th>\n",
       "      <th>lastName</th>\n",
       "      <th>length</th>\n",
       "      <th>level</th>\n",
       "      <th>location</th>\n",
       "      <th>method</th>\n",
       "      <th>page</th>\n",
       "      <th>registration</th>\n",
       "      <th>sessionId</th>\n",
       "      <th>song</th>\n",
       "      <th>status</th>\n",
       "      <th>ts</th>\n",
       "      <th>userAgent</th>\n",
       "      <th>userId</th>\n",
       "    </tr>\n",
       "  </thead>\n",
       "  <tbody>\n",
       "    <tr>\n",
       "      <th>0</th>\n",
       "      <td>Martha Tilston</td>\n",
       "      <td>Logged In</td>\n",
       "      <td>Colin</td>\n",
       "      <td>M</td>\n",
       "      <td>50</td>\n",
       "      <td>Freeman</td>\n",
       "      <td>277.89016</td>\n",
       "      <td>paid</td>\n",
       "      <td>Bakersfield, CA</td>\n",
       "      <td>PUT</td>\n",
       "      <td>NextSong</td>\n",
       "      <td>1538173362000</td>\n",
       "      <td>29</td>\n",
       "      <td>Rockpools</td>\n",
       "      <td>200</td>\n",
       "      <td>1538352117000</td>\n",
       "      <td>Mozilla/5.0 (Windows NT 6.1; WOW64; rv:31.0) G...</td>\n",
       "      <td>30</td>\n",
       "    </tr>\n",
       "    <tr>\n",
       "      <th>1</th>\n",
       "      <td>Five Iron Frenzy</td>\n",
       "      <td>Logged In</td>\n",
       "      <td>Micah</td>\n",
       "      <td>M</td>\n",
       "      <td>79</td>\n",
       "      <td>Long</td>\n",
       "      <td>236.09424</td>\n",
       "      <td>free</td>\n",
       "      <td>Boston-Cambridge-Newton, MA-NH</td>\n",
       "      <td>PUT</td>\n",
       "      <td>NextSong</td>\n",
       "      <td>1538331630000</td>\n",
       "      <td>8</td>\n",
       "      <td>Canada</td>\n",
       "      <td>200</td>\n",
       "      <td>1538352180000</td>\n",
       "      <td>\"Mozilla/5.0 (Windows NT 6.1; WOW64) AppleWebK...</td>\n",
       "      <td>9</td>\n",
       "    </tr>\n",
       "    <tr>\n",
       "      <th>2</th>\n",
       "      <td>Adam Lambert</td>\n",
       "      <td>Logged In</td>\n",
       "      <td>Colin</td>\n",
       "      <td>M</td>\n",
       "      <td>51</td>\n",
       "      <td>Freeman</td>\n",
       "      <td>282.82730</td>\n",
       "      <td>paid</td>\n",
       "      <td>Bakersfield, CA</td>\n",
       "      <td>PUT</td>\n",
       "      <td>NextSong</td>\n",
       "      <td>1538173362000</td>\n",
       "      <td>29</td>\n",
       "      <td>Time For Miracles</td>\n",
       "      <td>200</td>\n",
       "      <td>1538352394000</td>\n",
       "      <td>Mozilla/5.0 (Windows NT 6.1; WOW64; rv:31.0) G...</td>\n",
       "      <td>30</td>\n",
       "    </tr>\n",
       "    <tr>\n",
       "      <th>3</th>\n",
       "      <td>Enigma</td>\n",
       "      <td>Logged In</td>\n",
       "      <td>Micah</td>\n",
       "      <td>M</td>\n",
       "      <td>80</td>\n",
       "      <td>Long</td>\n",
       "      <td>262.71302</td>\n",
       "      <td>free</td>\n",
       "      <td>Boston-Cambridge-Newton, MA-NH</td>\n",
       "      <td>PUT</td>\n",
       "      <td>NextSong</td>\n",
       "      <td>1538331630000</td>\n",
       "      <td>8</td>\n",
       "      <td>Knocking On Forbidden Doors</td>\n",
       "      <td>200</td>\n",
       "      <td>1538352416000</td>\n",
       "      <td>\"Mozilla/5.0 (Windows NT 6.1; WOW64) AppleWebK...</td>\n",
       "      <td>9</td>\n",
       "    </tr>\n",
       "    <tr>\n",
       "      <th>4</th>\n",
       "      <td>Daft Punk</td>\n",
       "      <td>Logged In</td>\n",
       "      <td>Colin</td>\n",
       "      <td>M</td>\n",
       "      <td>52</td>\n",
       "      <td>Freeman</td>\n",
       "      <td>223.60771</td>\n",
       "      <td>paid</td>\n",
       "      <td>Bakersfield, CA</td>\n",
       "      <td>PUT</td>\n",
       "      <td>NextSong</td>\n",
       "      <td>1538173362000</td>\n",
       "      <td>29</td>\n",
       "      <td>Harder Better Faster Stronger</td>\n",
       "      <td>200</td>\n",
       "      <td>1538352676000</td>\n",
       "      <td>Mozilla/5.0 (Windows NT 6.1; WOW64; rv:31.0) G...</td>\n",
       "      <td>30</td>\n",
       "    </tr>\n",
       "  </tbody>\n",
       "</table>\n",
       "</div>"
      ],
      "text/plain": [
       "             artist       auth firstName gender  itemInSession lastName  \\\n",
       "0    Martha Tilston  Logged In     Colin      M             50  Freeman   \n",
       "1  Five Iron Frenzy  Logged In     Micah      M             79     Long   \n",
       "2      Adam Lambert  Logged In     Colin      M             51  Freeman   \n",
       "3            Enigma  Logged In     Micah      M             80     Long   \n",
       "4         Daft Punk  Logged In     Colin      M             52  Freeman   \n",
       "\n",
       "      length level                        location method      page  \\\n",
       "0  277.89016  paid                 Bakersfield, CA    PUT  NextSong   \n",
       "1  236.09424  free  Boston-Cambridge-Newton, MA-NH    PUT  NextSong   \n",
       "2  282.82730  paid                 Bakersfield, CA    PUT  NextSong   \n",
       "3  262.71302  free  Boston-Cambridge-Newton, MA-NH    PUT  NextSong   \n",
       "4  223.60771  paid                 Bakersfield, CA    PUT  NextSong   \n",
       "\n",
       "    registration  sessionId                           song  status  \\\n",
       "0  1538173362000         29                      Rockpools     200   \n",
       "1  1538331630000          8                         Canada     200   \n",
       "2  1538173362000         29              Time For Miracles     200   \n",
       "3  1538331630000          8    Knocking On Forbidden Doors     200   \n",
       "4  1538173362000         29  Harder Better Faster Stronger     200   \n",
       "\n",
       "              ts                                          userAgent userId  \n",
       "0  1538352117000  Mozilla/5.0 (Windows NT 6.1; WOW64; rv:31.0) G...     30  \n",
       "1  1538352180000  \"Mozilla/5.0 (Windows NT 6.1; WOW64) AppleWebK...      9  \n",
       "2  1538352394000  Mozilla/5.0 (Windows NT 6.1; WOW64; rv:31.0) G...     30  \n",
       "3  1538352416000  \"Mozilla/5.0 (Windows NT 6.1; WOW64) AppleWebK...      9  \n",
       "4  1538352676000  Mozilla/5.0 (Windows NT 6.1; WOW64; rv:31.0) G...     30  "
      ]
     },
     "execution_count": 5,
     "metadata": {},
     "output_type": "execute_result"
    }
   ],
   "source": [
    "# Easier visual exploration as Pandas data frame\n",
    "df.limit(5).toPandas()\n",
    "\n",
    "# Questions to explore:\n",
    "# sessionId unique across users? (can two users have the same sessionId?)\n",
    "# what is the column \"method\""
   ]
  },
  {
   "cell_type": "code",
   "execution_count": 6,
   "metadata": {},
   "outputs": [
    {
     "data": {
      "text/html": [
       "<div>\n",
       "<style scoped>\n",
       "    .dataframe tbody tr th:only-of-type {\n",
       "        vertical-align: middle;\n",
       "    }\n",
       "\n",
       "    .dataframe tbody tr th {\n",
       "        vertical-align: top;\n",
       "    }\n",
       "\n",
       "    .dataframe thead th {\n",
       "        text-align: right;\n",
       "    }\n",
       "</style>\n",
       "<table border=\"1\" class=\"dataframe\">\n",
       "  <thead>\n",
       "    <tr style=\"text-align: right;\">\n",
       "      <th></th>\n",
       "      <th>page</th>\n",
       "      <th>count</th>\n",
       "    </tr>\n",
       "  </thead>\n",
       "  <tbody>\n",
       "    <tr>\n",
       "      <th>0</th>\n",
       "      <td>NextSong</td>\n",
       "      <td>228108</td>\n",
       "    </tr>\n",
       "    <tr>\n",
       "      <th>1</th>\n",
       "      <td>Home</td>\n",
       "      <td>14457</td>\n",
       "    </tr>\n",
       "    <tr>\n",
       "      <th>2</th>\n",
       "      <td>Thumbs Up</td>\n",
       "      <td>12551</td>\n",
       "    </tr>\n",
       "    <tr>\n",
       "      <th>3</th>\n",
       "      <td>Add to Playlist</td>\n",
       "      <td>6526</td>\n",
       "    </tr>\n",
       "    <tr>\n",
       "      <th>4</th>\n",
       "      <td>Add Friend</td>\n",
       "      <td>4277</td>\n",
       "    </tr>\n",
       "    <tr>\n",
       "      <th>5</th>\n",
       "      <td>Roll Advert</td>\n",
       "      <td>3933</td>\n",
       "    </tr>\n",
       "    <tr>\n",
       "      <th>6</th>\n",
       "      <td>Login</td>\n",
       "      <td>3241</td>\n",
       "    </tr>\n",
       "    <tr>\n",
       "      <th>7</th>\n",
       "      <td>Logout</td>\n",
       "      <td>3226</td>\n",
       "    </tr>\n",
       "    <tr>\n",
       "      <th>8</th>\n",
       "      <td>Thumbs Down</td>\n",
       "      <td>2546</td>\n",
       "    </tr>\n",
       "    <tr>\n",
       "      <th>9</th>\n",
       "      <td>Downgrade</td>\n",
       "      <td>2055</td>\n",
       "    </tr>\n",
       "    <tr>\n",
       "      <th>10</th>\n",
       "      <td>Help</td>\n",
       "      <td>1726</td>\n",
       "    </tr>\n",
       "    <tr>\n",
       "      <th>11</th>\n",
       "      <td>Settings</td>\n",
       "      <td>1514</td>\n",
       "    </tr>\n",
       "    <tr>\n",
       "      <th>12</th>\n",
       "      <td>About</td>\n",
       "      <td>924</td>\n",
       "    </tr>\n",
       "    <tr>\n",
       "      <th>13</th>\n",
       "      <td>Upgrade</td>\n",
       "      <td>499</td>\n",
       "    </tr>\n",
       "    <tr>\n",
       "      <th>14</th>\n",
       "      <td>Save Settings</td>\n",
       "      <td>310</td>\n",
       "    </tr>\n",
       "    <tr>\n",
       "      <th>15</th>\n",
       "      <td>Error</td>\n",
       "      <td>258</td>\n",
       "    </tr>\n",
       "    <tr>\n",
       "      <th>16</th>\n",
       "      <td>Submit Upgrade</td>\n",
       "      <td>159</td>\n",
       "    </tr>\n",
       "    <tr>\n",
       "      <th>17</th>\n",
       "      <td>Submit Downgrade</td>\n",
       "      <td>63</td>\n",
       "    </tr>\n",
       "    <tr>\n",
       "      <th>18</th>\n",
       "      <td>Cancel</td>\n",
       "      <td>52</td>\n",
       "    </tr>\n",
       "    <tr>\n",
       "      <th>19</th>\n",
       "      <td>Cancellation Confirmation</td>\n",
       "      <td>52</td>\n",
       "    </tr>\n",
       "    <tr>\n",
       "      <th>20</th>\n",
       "      <td>Register</td>\n",
       "      <td>18</td>\n",
       "    </tr>\n",
       "    <tr>\n",
       "      <th>21</th>\n",
       "      <td>Submit Registration</td>\n",
       "      <td>5</td>\n",
       "    </tr>\n",
       "  </tbody>\n",
       "</table>\n",
       "</div>"
      ],
      "text/plain": [
       "                         page   count\n",
       "0                    NextSong  228108\n",
       "1                        Home   14457\n",
       "2                   Thumbs Up   12551\n",
       "3             Add to Playlist    6526\n",
       "4                  Add Friend    4277\n",
       "5                 Roll Advert    3933\n",
       "6                       Login    3241\n",
       "7                      Logout    3226\n",
       "8                 Thumbs Down    2546\n",
       "9                   Downgrade    2055\n",
       "10                       Help    1726\n",
       "11                   Settings    1514\n",
       "12                      About     924\n",
       "13                    Upgrade     499\n",
       "14              Save Settings     310\n",
       "15                      Error     258\n",
       "16             Submit Upgrade     159\n",
       "17           Submit Downgrade      63\n",
       "18                     Cancel      52\n",
       "19  Cancellation Confirmation      52\n",
       "20                   Register      18\n",
       "21        Submit Registration       5"
      ]
     },
     "execution_count": 6,
     "metadata": {},
     "output_type": "execute_result"
    }
   ],
   "source": [
    "# Which pages do users interact with?\n",
    "# df.select(\"page\").dropDuplicates().sort(\"page\").show()\n",
    "# df.select(\"auth\").dropDuplicates().sort(\"auth\").show()\n",
    "\n",
    "df.groupBy(\"page\").count().sort(\"count\", ascending=False).toPandas()"
   ]
  },
  {
   "cell_type": "code",
   "execution_count": 7,
   "metadata": {},
   "outputs": [],
   "source": [
    "# https://stackoverflow.com/questions/52319958/pyspark-select-the-distinct-values-from-each-column\n",
    "import pyspark.sql.functions as f\n",
    "# df.select(*[f.collect_set(c).alias(c) for c in df.columns]).toPandas()"
   ]
  },
  {
   "cell_type": "code",
   "execution_count": 8,
   "metadata": {},
   "outputs": [
    {
     "data": {
      "text/html": [
       "<div>\n",
       "<style scoped>\n",
       "    .dataframe tbody tr th:only-of-type {\n",
       "        vertical-align: middle;\n",
       "    }\n",
       "\n",
       "    .dataframe tbody tr th {\n",
       "        vertical-align: top;\n",
       "    }\n",
       "\n",
       "    .dataframe thead th {\n",
       "        text-align: right;\n",
       "    }\n",
       "</style>\n",
       "<table border=\"1\" class=\"dataframe\">\n",
       "  <thead>\n",
       "    <tr style=\"text-align: right;\">\n",
       "      <th></th>\n",
       "      <th>artist</th>\n",
       "      <th>auth</th>\n",
       "      <th>firstName</th>\n",
       "      <th>gender</th>\n",
       "      <th>itemInSession</th>\n",
       "      <th>lastName</th>\n",
       "      <th>length</th>\n",
       "      <th>level</th>\n",
       "      <th>location</th>\n",
       "      <th>method</th>\n",
       "      <th>page</th>\n",
       "      <th>registration</th>\n",
       "      <th>sessionId</th>\n",
       "      <th>song</th>\n",
       "      <th>status</th>\n",
       "      <th>ts</th>\n",
       "      <th>userAgent</th>\n",
       "      <th>userId</th>\n",
       "    </tr>\n",
       "  </thead>\n",
       "  <tbody>\n",
       "    <tr>\n",
       "      <th>0</th>\n",
       "      <td>17655</td>\n",
       "      <td>4</td>\n",
       "      <td>189</td>\n",
       "      <td>2</td>\n",
       "      <td>1322</td>\n",
       "      <td>173</td>\n",
       "      <td>14865</td>\n",
       "      <td>2</td>\n",
       "      <td>114</td>\n",
       "      <td>2</td>\n",
       "      <td>22</td>\n",
       "      <td>225</td>\n",
       "      <td>2354</td>\n",
       "      <td>58480</td>\n",
       "      <td>3</td>\n",
       "      <td>277447</td>\n",
       "      <td>56</td>\n",
       "      <td>226</td>\n",
       "    </tr>\n",
       "  </tbody>\n",
       "</table>\n",
       "</div>"
      ],
      "text/plain": [
       "   artist  auth  firstName  gender  itemInSession  lastName  length  level  \\\n",
       "0   17655     4        189       2           1322       173   14865      2   \n",
       "\n",
       "   location  method  page  registration  sessionId   song  status      ts  \\\n",
       "0       114       2    22           225       2354  58480       3  277447   \n",
       "\n",
       "   userAgent  userId  \n",
       "0         56     226  "
      ]
     },
     "execution_count": 8,
     "metadata": {},
     "output_type": "execute_result"
    }
   ],
   "source": [
    "# Distinct values per column\n",
    "# https://stackoverflow.com/questions/40888946/spark-dataframe-count-distinct-values-of-every-column\n",
    "from pyspark.sql.functions import col, countDistinct\n",
    "\n",
    "distinct_value_count = df.agg(*(countDistinct(col(c)).alias(c) for c in df.columns)).toPandas()\n",
    "distinct_value_count\n",
    "\n",
    "# Can be used to build a mask\n",
    "# distinct_value_count > 2"
   ]
  },
  {
   "cell_type": "code",
   "execution_count": 9,
   "metadata": {},
   "outputs": [
    {
     "data": {
      "text/plain": [
       "0"
      ]
     },
     "execution_count": 9,
     "metadata": {},
     "output_type": "execute_result"
    }
   ],
   "source": [
    "# https://stackoverflow.com/questions/48229043/python-pyspark-count-null-empty-and-nan\n",
    "df.filter((df[\"ts\"] == \"\") | df[\"ts\"].isNull() | isnan(df[\"ts\"])).count()"
   ]
  },
  {
   "cell_type": "markdown",
   "metadata": {},
   "source": [
    "## Cleanup & Prep of Timestamp and Date"
   ]
  },
  {
   "cell_type": "code",
   "execution_count": 10,
   "metadata": {},
   "outputs": [],
   "source": [
    "get_hour = udf(lambda x: datetime.datetime.fromtimestamp(x / 1000.0). hour)\n",
    "# get_date = udf(lambda x: datetime.datetime.fromtimestamp(x / 1000.0). date)\n"
   ]
  },
  {
   "cell_type": "code",
   "execution_count": 11,
   "metadata": {},
   "outputs": [
    {
     "name": "stdout",
     "output_type": "stream",
     "text": [
      "root\n",
      " |-- artist: string (nullable = true)\n",
      " |-- auth: string (nullable = true)\n",
      " |-- firstName: string (nullable = true)\n",
      " |-- gender: string (nullable = true)\n",
      " |-- itemInSession: long (nullable = true)\n",
      " |-- lastName: string (nullable = true)\n",
      " |-- length: double (nullable = true)\n",
      " |-- level: string (nullable = true)\n",
      " |-- location: string (nullable = true)\n",
      " |-- method: string (nullable = true)\n",
      " |-- page: string (nullable = true)\n",
      " |-- registration: long (nullable = true)\n",
      " |-- sessionId: long (nullable = true)\n",
      " |-- song: string (nullable = true)\n",
      " |-- status: long (nullable = true)\n",
      " |-- ts: long (nullable = true)\n",
      " |-- userAgent: string (nullable = true)\n",
      " |-- userId: string (nullable = true)\n",
      "\n"
     ]
    }
   ],
   "source": [
    "df = df_original\n",
    "df.printSchema()"
   ]
  },
  {
   "cell_type": "code",
   "execution_count": 12,
   "metadata": {},
   "outputs": [
    {
     "data": {
      "text/plain": [
       "[Row(artist='Martha Tilston', auth='Logged In', firstName='Colin', gender='M', itemInSession=50, lastName='Freeman', length=277.89016, level='paid', location='Bakersfield, CA', method='PUT', page='NextSong', registration=1538173362000, sessionId=29, song='Rockpools', status=200, ts=1538352117000, userAgent='Mozilla/5.0 (Windows NT 6.1; WOW64; rv:31.0) Gecko/20100101 Firefox/31.0', userId='30', ts_no_ms='1538352117', ts_str='2018-10-01 02:01:57', ts_tsType=datetime.datetime(2018, 10, 1, 2, 1, 57), weekday=0, hour=2, year=2018, weekNum=40),\n",
       " Row(artist='Five Iron Frenzy', auth='Logged In', firstName='Micah', gender='M', itemInSession=79, lastName='Long', length=236.09424, level='free', location='Boston-Cambridge-Newton, MA-NH', method='PUT', page='NextSong', registration=1538331630000, sessionId=8, song='Canada', status=200, ts=1538352180000, userAgent='\"Mozilla/5.0 (Windows NT 6.1; WOW64) AppleWebKit/537.36 (KHTML, like Gecko) Chrome/37.0.2062.103 Safari/537.36\"', userId='9', ts_no_ms='1538352180', ts_str='2018-10-01 02:03:00', ts_tsType=datetime.datetime(2018, 10, 1, 2, 3), weekday=0, hour=2, year=2018, weekNum=40),\n",
       " Row(artist='Adam Lambert', auth='Logged In', firstName='Colin', gender='M', itemInSession=51, lastName='Freeman', length=282.8273, level='paid', location='Bakersfield, CA', method='PUT', page='NextSong', registration=1538173362000, sessionId=29, song='Time For Miracles', status=200, ts=1538352394000, userAgent='Mozilla/5.0 (Windows NT 6.1; WOW64; rv:31.0) Gecko/20100101 Firefox/31.0', userId='30', ts_no_ms='1538352394', ts_str='2018-10-01 02:06:34', ts_tsType=datetime.datetime(2018, 10, 1, 2, 6, 34), weekday=0, hour=2, year=2018, weekNum=40),\n",
       " Row(artist='Enigma', auth='Logged In', firstName='Micah', gender='M', itemInSession=80, lastName='Long', length=262.71302, level='free', location='Boston-Cambridge-Newton, MA-NH', method='PUT', page='NextSong', registration=1538331630000, sessionId=8, song='Knocking On Forbidden Doors', status=200, ts=1538352416000, userAgent='\"Mozilla/5.0 (Windows NT 6.1; WOW64) AppleWebKit/537.36 (KHTML, like Gecko) Chrome/37.0.2062.103 Safari/537.36\"', userId='9', ts_no_ms='1538352416', ts_str='2018-10-01 02:06:56', ts_tsType=datetime.datetime(2018, 10, 1, 2, 6, 56), weekday=0, hour=2, year=2018, weekNum=40),\n",
       " Row(artist='Daft Punk', auth='Logged In', firstName='Colin', gender='M', itemInSession=52, lastName='Freeman', length=223.60771, level='paid', location='Bakersfield, CA', method='PUT', page='NextSong', registration=1538173362000, sessionId=29, song='Harder Better Faster Stronger', status=200, ts=1538352676000, userAgent='Mozilla/5.0 (Windows NT 6.1; WOW64; rv:31.0) Gecko/20100101 Firefox/31.0', userId='30', ts_no_ms='1538352676', ts_str='2018-10-01 02:11:16', ts_tsType=datetime.datetime(2018, 10, 1, 2, 11, 16), weekday=0, hour=2, year=2018, weekNum=40)]"
      ]
     },
     "execution_count": 12,
     "metadata": {},
     "output_type": "execute_result"
    }
   ],
   "source": [
    "# Remove milliseconds (last 3 digits) from ts to enable conversion to datetime\n",
    "df = df.withColumn(\"ts_no_ms\", substring(df.ts, 0, 10))\n",
    "# df = df.withColumn(\"ts_no_ms\", df.ts_no_ms.cast(TimestampType()))\n",
    "# df = df.withColumn(\"ts_unix\", from_unixtime(df.ts))\n",
    "df = df.withColumn(\"ts_str\", F.from_unixtime(df.ts_no_ms))\n",
    "df = df.withColumn(\"ts_tsType\", df.ts_str.cast(TimestampType()))\n",
    "\n",
    "df = df.withColumn(\"weekday\", F.weekday(df.ts_tsType))\n",
    "df = df.withColumn(\"hour\", F.hour(df.ts_tsType))\n",
    "df = df.withColumn(\"year\", F.year(df.ts_tsType))\n",
    "df = df.withColumn(\"weekNum\", F.weekofyear(df.ts_tsType))\n",
    "\n",
    "\n",
    "\n",
    "# df.printSchema()\n",
    "df.head(5)"
   ]
  },
  {
   "cell_type": "code",
   "execution_count": 13,
   "metadata": {},
   "outputs": [
    {
     "data": {
      "text/html": [
       "<div>\n",
       "<style scoped>\n",
       "    .dataframe tbody tr th:only-of-type {\n",
       "        vertical-align: middle;\n",
       "    }\n",
       "\n",
       "    .dataframe tbody tr th {\n",
       "        vertical-align: top;\n",
       "    }\n",
       "\n",
       "    .dataframe thead th {\n",
       "        text-align: right;\n",
       "    }\n",
       "</style>\n",
       "<table border=\"1\" class=\"dataframe\">\n",
       "  <thead>\n",
       "    <tr style=\"text-align: right;\">\n",
       "      <th></th>\n",
       "      <th>hour</th>\n",
       "      <th>count</th>\n",
       "    </tr>\n",
       "  </thead>\n",
       "  <tbody>\n",
       "    <tr>\n",
       "      <th>0</th>\n",
       "      <td>0</td>\n",
       "      <td>9908</td>\n",
       "    </tr>\n",
       "    <tr>\n",
       "      <th>1</th>\n",
       "      <td>1</td>\n",
       "      <td>9327</td>\n",
       "    </tr>\n",
       "    <tr>\n",
       "      <th>2</th>\n",
       "      <td>2</td>\n",
       "      <td>8895</td>\n",
       "    </tr>\n",
       "    <tr>\n",
       "      <th>3</th>\n",
       "      <td>3</td>\n",
       "      <td>8339</td>\n",
       "    </tr>\n",
       "    <tr>\n",
       "      <th>4</th>\n",
       "      <td>4</td>\n",
       "      <td>8359</td>\n",
       "    </tr>\n",
       "    <tr>\n",
       "      <th>5</th>\n",
       "      <td>5</td>\n",
       "      <td>8229</td>\n",
       "    </tr>\n",
       "    <tr>\n",
       "      <th>6</th>\n",
       "      <td>6</td>\n",
       "      <td>7979</td>\n",
       "    </tr>\n",
       "    <tr>\n",
       "      <th>7</th>\n",
       "      <td>7</td>\n",
       "      <td>8114</td>\n",
       "    </tr>\n",
       "    <tr>\n",
       "      <th>8</th>\n",
       "      <td>8</td>\n",
       "      <td>8119</td>\n",
       "    </tr>\n",
       "    <tr>\n",
       "      <th>9</th>\n",
       "      <td>9</td>\n",
       "      <td>8225</td>\n",
       "    </tr>\n",
       "    <tr>\n",
       "      <th>10</th>\n",
       "      <td>10</td>\n",
       "      <td>8359</td>\n",
       "    </tr>\n",
       "    <tr>\n",
       "      <th>11</th>\n",
       "      <td>11</td>\n",
       "      <td>8602</td>\n",
       "    </tr>\n",
       "    <tr>\n",
       "      <th>12</th>\n",
       "      <td>12</td>\n",
       "      <td>8653</td>\n",
       "    </tr>\n",
       "    <tr>\n",
       "      <th>13</th>\n",
       "      <td>13</td>\n",
       "      <td>9225</td>\n",
       "    </tr>\n",
       "    <tr>\n",
       "      <th>14</th>\n",
       "      <td>14</td>\n",
       "      <td>9479</td>\n",
       "    </tr>\n",
       "    <tr>\n",
       "      <th>15</th>\n",
       "      <td>15</td>\n",
       "      <td>10047</td>\n",
       "    </tr>\n",
       "    <tr>\n",
       "      <th>16</th>\n",
       "      <td>16</td>\n",
       "      <td>11036</td>\n",
       "    </tr>\n",
       "    <tr>\n",
       "      <th>17</th>\n",
       "      <td>17</td>\n",
       "      <td>11381</td>\n",
       "    </tr>\n",
       "    <tr>\n",
       "      <th>18</th>\n",
       "      <td>18</td>\n",
       "      <td>11568</td>\n",
       "    </tr>\n",
       "    <tr>\n",
       "      <th>19</th>\n",
       "      <td>19</td>\n",
       "      <td>11346</td>\n",
       "    </tr>\n",
       "    <tr>\n",
       "      <th>20</th>\n",
       "      <td>20</td>\n",
       "      <td>10940</td>\n",
       "    </tr>\n",
       "    <tr>\n",
       "      <th>21</th>\n",
       "      <td>21</td>\n",
       "      <td>10893</td>\n",
       "    </tr>\n",
       "    <tr>\n",
       "      <th>22</th>\n",
       "      <td>22</td>\n",
       "      <td>10823</td>\n",
       "    </tr>\n",
       "    <tr>\n",
       "      <th>23</th>\n",
       "      <td>23</td>\n",
       "      <td>10262</td>\n",
       "    </tr>\n",
       "  </tbody>\n",
       "</table>\n",
       "</div>"
      ],
      "text/plain": [
       "    hour  count\n",
       "0      0   9908\n",
       "1      1   9327\n",
       "2      2   8895\n",
       "3      3   8339\n",
       "4      4   8359\n",
       "5      5   8229\n",
       "6      6   7979\n",
       "7      7   8114\n",
       "8      8   8119\n",
       "9      9   8225\n",
       "10    10   8359\n",
       "11    11   8602\n",
       "12    12   8653\n",
       "13    13   9225\n",
       "14    14   9479\n",
       "15    15  10047\n",
       "16    16  11036\n",
       "17    17  11381\n",
       "18    18  11568\n",
       "19    19  11346\n",
       "20    20  10940\n",
       "21    21  10893\n",
       "22    22  10823\n",
       "23    23  10262"
      ]
     },
     "execution_count": 13,
     "metadata": {},
     "output_type": "execute_result"
    }
   ],
   "source": [
    "songs_in_hour = df.groupby(\"hour\").count().sort(\"hour\").toPandas()\n",
    "df.filter(df.page == \"NextSong\").groupby(\"hour\").count().sort(\"hour\").toPandas()"
   ]
  },
  {
   "cell_type": "code",
   "execution_count": 14,
   "metadata": {},
   "outputs": [
    {
     "data": {
      "image/png": "[encoded data removed]",
      "text/plain": [
       "<Figure size 640x480 with 1 Axes>"
      ]
     },
     "metadata": {},
     "output_type": "display_data"
    }
   ],
   "source": [
    "plt.scatter(songs_in_hour[\"hour\"], songs_in_hour[\"count\"])\n",
    "plt.xlim(-1, 24);\n",
    "plt.ylim(0, 1.2 * max(songs_in_hour[\"count\"]))\n",
    "plt.xlabel(\"Hour\")\n",
    "plt.ylabel(\"Songs played\");"
   ]
  },
  {
   "cell_type": "code",
   "execution_count": 15,
   "metadata": {},
   "outputs": [],
   "source": [
    "def groupby_plot(df, x_col:str, page_filter:str, x_label:str, y_label:str):\n",
    "    \"\"\"Aggregate data and create scatterplot to visualize trends in the data.\"\"\"\n",
    "    # df_grouped = df.groupby(x_col).count().sort(x_col).toPandas()\n",
    "    df_grouped = df.filter(df.page == page_filter).groupby(x_col).count().sort(x_col).toPandas()\n",
    "    plt.scatter(df_grouped[x_col], df_grouped[\"count\"])\n",
    "    plt.xlim(-1, max(df_grouped[x_col])+1);\n",
    "    plt.ylim(0, 1.2 * max(df_grouped[\"count\"]))\n",
    "    plt.xlabel(x_label)\n",
    "    plt.ylabel(y_label)\n",
    "    plt.show\n",
    "    return None"
   ]
  },
  {
   "cell_type": "code",
   "execution_count": 16,
   "metadata": {},
   "outputs": [
    {
     "data": {
      "text/html": [
       "<div>\n",
       "<style scoped>\n",
       "    .dataframe tbody tr th:only-of-type {\n",
       "        vertical-align: middle;\n",
       "    }\n",
       "\n",
       "    .dataframe tbody tr th {\n",
       "        vertical-align: top;\n",
       "    }\n",
       "\n",
       "    .dataframe thead th {\n",
       "        text-align: right;\n",
       "    }\n",
       "</style>\n",
       "<table border=\"1\" class=\"dataframe\">\n",
       "  <thead>\n",
       "    <tr style=\"text-align: right;\">\n",
       "      <th></th>\n",
       "      <th>artist</th>\n",
       "      <th>auth</th>\n",
       "      <th>firstName</th>\n",
       "      <th>gender</th>\n",
       "      <th>itemInSession</th>\n",
       "      <th>lastName</th>\n",
       "      <th>length</th>\n",
       "      <th>level</th>\n",
       "      <th>location</th>\n",
       "      <th>method</th>\n",
       "      <th>...</th>\n",
       "      <th>ts</th>\n",
       "      <th>userAgent</th>\n",
       "      <th>userId</th>\n",
       "      <th>ts_no_ms</th>\n",
       "      <th>ts_str</th>\n",
       "      <th>ts_tsType</th>\n",
       "      <th>weekday</th>\n",
       "      <th>hour</th>\n",
       "      <th>year</th>\n",
       "      <th>weekNum</th>\n",
       "    </tr>\n",
       "  </thead>\n",
       "  <tbody>\n",
       "    <tr>\n",
       "      <th>0</th>\n",
       "      <td>17655</td>\n",
       "      <td>4</td>\n",
       "      <td>189</td>\n",
       "      <td>2</td>\n",
       "      <td>1322</td>\n",
       "      <td>173</td>\n",
       "      <td>14865</td>\n",
       "      <td>2</td>\n",
       "      <td>114</td>\n",
       "      <td>2</td>\n",
       "      <td>...</td>\n",
       "      <td>277447</td>\n",
       "      <td>56</td>\n",
       "      <td>226</td>\n",
       "      <td>277447</td>\n",
       "      <td>277447</td>\n",
       "      <td>277447</td>\n",
       "      <td>7</td>\n",
       "      <td>24</td>\n",
       "      <td>1</td>\n",
       "      <td>10</td>\n",
       "    </tr>\n",
       "  </tbody>\n",
       "</table>\n",
       "<p>1 rows × 25 columns</p>\n",
       "</div>"
      ],
      "text/plain": [
       "   artist  auth  firstName  gender  itemInSession  lastName  length  level  \\\n",
       "0   17655     4        189       2           1322       173   14865      2   \n",
       "\n",
       "   location  method  ...      ts  userAgent  userId  ts_no_ms  ts_str  \\\n",
       "0       114       2  ...  277447         56     226    277447  277447   \n",
       "\n",
       "   ts_tsType  weekday  hour  year  weekNum  \n",
       "0     277447        7    24     1       10  \n",
       "\n",
       "[1 rows x 25 columns]"
      ]
     },
     "execution_count": 16,
     "metadata": {},
     "output_type": "execute_result"
    }
   ],
   "source": [
    "# https://stackoverflow.com/questions/44627386/how-to-find-count-of-null-and-nan-values-for-each-column-in-a-pyspark-dataframe\n",
    "df.agg(*(countDistinct(col(c)).alias(c) for c in df.columns)).toPandas()"
   ]
  },
  {
   "cell_type": "code",
   "execution_count": 17,
   "metadata": {},
   "outputs": [
    {
     "data": {
      "image/png": "[encoded data removed]",
      "text/plain": [
       "<Figure size 640x480 with 1 Axes>"
      ]
     },
     "metadata": {},
     "output_type": "display_data"
    }
   ],
   "source": [
    "# groupby_plot(df, \"hour\", \"NextSong\", \"Hour\", \"Songs played\")\n",
    "\n",
    "# groupby_plot(df, \"hour\", \"Home\", \"Hour\", \"Songs played\")\n",
    "\n",
    "groupby_plot(df, \"weekday\", \"NextSong\", \"year\", \"Songs played\")"
   ]
  },
  {
   "cell_type": "markdown",
   "metadata": {},
   "source": [
    "### Analysis and handling of null values"
   ]
  },
  {
   "cell_type": "code",
   "execution_count": 18,
   "metadata": {},
   "outputs": [
    {
     "name": "stdout",
     "output_type": "stream",
     "text": [
      "+------+----+---------+------+-------------+--------+------+-----+--------+------+----+------------+---------+-----+------+---+---------+------+--------+------+---------+-------+----+----+-------+\n",
      "|artist|auth|firstName|gender|itemInSession|lastName|length|level|location|method|page|registration|sessionId| song|status| ts|userAgent|userId|ts_no_ms|ts_str|ts_tsType|weekday|hour|year|weekNum|\n",
      "+------+----+---------+------+-------------+--------+------+-----+--------+------+----+------------+---------+-----+------+---+---------+------+--------+------+---------+-------+----+----+-------+\n",
      "| 58392|   0|     8346|  8346|            0|    8346| 58392|    0|    8346|     0|   0|        8346|        0|58392|     0|  0|     8346|     0|       0|     0|        0|      0|   0|   0|      0|\n",
      "+------+----+---------+------+-------------+--------+------+-----+--------+------+----+------------+---------+-----+------+---+---------+------+--------+------+---------+-------+----+----+-------+\n",
      "\n"
     ]
    }
   ],
   "source": [
    "# https://stackoverflow.com/questions/64147246/pyspark-need-to-show-a-count-of-null-empty-values-per-each-column-in-a-datafram\n",
    "df.select(*(count(F.when(col(c).isNull(), c)).alias(c) for c in df.columns)).show()"
   ]
  },
  {
   "cell_type": "code",
   "execution_count": 19,
   "metadata": {},
   "outputs": [
    {
     "name": "stdout",
     "output_type": "stream",
     "text": [
      "+------+---------+---------+------+-------------+--------+------+-----+--------------------+------+--------------------+-------------+---------+----+------+-------------+--------------------+------+----------+-------------------+-------------------+-------+----+----+-------+\n",
      "|artist|     auth|firstName|gender|itemInSession|lastName|length|level|            location|method|                page| registration|sessionId|song|status|           ts|           userAgent|userId|  ts_no_ms|             ts_str|          ts_tsType|weekday|hour|year|weekNum|\n",
      "+------+---------+---------+------+-------------+--------+------+-----+--------------------+------+--------------------+-------------+---------+----+------+-------------+--------------------+------+----------+-------------------+-------------------+-------+----+----+-------+\n",
      "|  NULL|Cancelled|   Adriel|     M|          104| Mendoza|  NULL| paid|  Kansas City, MO-KS|   GET|Cancellation Conf...|1535623466000|      514|NULL|   200|1538943990000|\"Mozilla/5.0 (Mac...|    18|1538943990|2018-10-07 22:26:30|2018-10-07 22:26:30|      6|  22|2018|     40|\n",
      "|  NULL|Cancelled|    Diego|     M|           56|   Mckee|  NULL| paid|Phoenix-Mesa-Scot...|   GET|Cancellation Conf...|1537167593000|      540|NULL|   200|1539033046000|\"Mozilla/5.0 (iPh...|    32|1539033046|2018-10-08 23:10:46|2018-10-08 23:10:46|      0|  23|2018|     41|\n",
      "|  NULL|Cancelled|    Mason|     M|           10|    Hart|  NULL| free|  Corpus Christi, TX|   GET|Cancellation Conf...|1533157139000|      174|NULL|   200|1539318918000|\"Mozilla/5.0 (Mac...|   125|1539318918|2018-10-12 06:35:18|2018-10-12 06:35:18|      4|   6|2018|     41|\n",
      "|  NULL|Cancelled|Alexander|     M|          332|  Garcia|  NULL| paid|Indianapolis-Carm...|   GET|Cancellation Conf...|1536817381000|      508|NULL|   200|1539375441000|Mozilla/5.0 (Wind...|   105|1539375441|2018-10-12 22:17:21|2018-10-12 22:17:21|      4|  22|2018|     41|\n",
      "|  NULL|Cancelled|    Kayla|     F|          273| Johnson|  NULL| paid|Philadelphia-Camd...|   GET|Cancellation Conf...|1538333829000|      797|NULL|   200|1539465584000|Mozilla/5.0 (Wind...|    17|1539465584|2018-10-13 23:19:44|2018-10-13 23:19:44|      5|  23|2018|     41|\n",
      "+------+---------+---------+------+-------------+--------+------+-----+--------------------+------+--------------------+-------------+---------+----+------+-------------+--------------------+------+----------+-------------------+-------------------+-------+----+----+-------+\n",
      "only showing top 5 rows\n",
      "\n",
      "+------+-----+---------+------+-------------+--------+------+-----+--------+------+--------+------------+---------+----+------+-------------+---------+------+----------+-------------------+-------------------+-------+----+----+-------+\n",
      "|artist| auth|firstName|gender|itemInSession|lastName|length|level|location|method|    page|registration|sessionId|song|status|           ts|userAgent|userId|  ts_no_ms|             ts_str|          ts_tsType|weekday|hour|year|weekNum|\n",
      "+------+-----+---------+------+-------------+--------+------+-----+--------+------+--------+------------+---------+----+------+-------------+---------+------+----------+-------------------+-------------------+-------+----+----+-------+\n",
      "|  NULL|Guest|     NULL|  NULL|            0|    NULL|  NULL| free|    NULL|   GET|   Error|        NULL|      151|NULL|   404|1540841775000|     NULL|      |1540841775|2018-10-29 20:36:15|2018-10-29 20:36:15|      0|  20|2018|     44|\n",
      "|  NULL|Guest|     NULL|  NULL|            1|    NULL|  NULL| free|    NULL|   GET|    Home|        NULL|      151|NULL|   200|1540841817000|     NULL|      |1540841817|2018-10-29 20:36:57|2018-10-29 20:36:57|      0|  20|2018|     44|\n",
      "|  NULL|Guest|     NULL|  NULL|            2|    NULL|  NULL| free|    NULL|   GET|Register|        NULL|      151|NULL|   200|1540841826000|     NULL|      |1540841826|2018-10-29 20:37:06|2018-10-29 20:37:06|      0|  20|2018|     44|\n",
      "|  NULL|Guest|     NULL|  NULL|            3|    NULL|  NULL| free|    NULL|   GET|    Help|        NULL|      151|NULL|   200|1540841834000|     NULL|      |1540841834|2018-10-29 20:37:14|2018-10-29 20:37:14|      0|  20|2018|     44|\n",
      "|  NULL|Guest|     NULL|  NULL|            4|    NULL|  NULL| free|    NULL|   GET|    Home|        NULL|      151|NULL|   200|1540841838000|     NULL|      |1540841838|2018-10-29 20:37:18|2018-10-29 20:37:18|      0|  20|2018|     44|\n",
      "+------+-----+---------+------+-------------+--------+------+-----+--------+------+--------+------------+---------+----+------+-------------+---------+------+----------+-------------------+-------------------+-------+----+----+-------+\n",
      "only showing top 5 rows\n",
      "\n"
     ]
    }
   ],
   "source": [
    "# df.filter(df.gender.isNull()).show()\n",
    "\n",
    "df.filter(df.auth == \"Cancelled\").show(5)\n",
    "\n",
    "df.filter(df.auth == \"Guest\").show(5)"
   ]
  },
  {
   "cell_type": "code",
   "execution_count": 20,
   "metadata": {},
   "outputs": [
    {
     "name": "stdout",
     "output_type": "stream",
     "text": [
      "+------+------+\n",
      "|gender| count|\n",
      "+------+------+\n",
      "|     F|154578|\n",
      "|  NULL|  8346|\n",
      "|     M|123576|\n",
      "+------+------+\n",
      "\n",
      "+----------+------+\n",
      "|      auth| count|\n",
      "+----------+------+\n",
      "|Logged Out|  8249|\n",
      "| Cancelled|    52|\n",
      "| Logged In|278102|\n",
      "|     Guest|    97|\n",
      "+----------+------+\n",
      "\n"
     ]
    }
   ],
   "source": [
    "df.groupBy(\"gender\").count().show()\n",
    "\n",
    "df.groupBy(\"auth\").count().show()"
   ]
  },
  {
   "cell_type": "code",
   "execution_count": 21,
   "metadata": {},
   "outputs": [
    {
     "name": "stdout",
     "output_type": "stream",
     "text": [
      "+----------+--------------------+------+\n",
      "|      auth|                page| count|\n",
      "+----------+--------------------+------+\n",
      "| Cancelled|Cancellation Conf...|    52|\n",
      "|     Guest|            Register|    18|\n",
      "|     Guest|               About|    14|\n",
      "|     Guest|               Error|     1|\n",
      "|     Guest| Submit Registration|     5|\n",
      "|     Guest|                Help|    23|\n",
      "|     Guest|                Home|    36|\n",
      "| Logged In|              Logout|  3226|\n",
      "| Logged In|           Thumbs Up| 12551|\n",
      "| Logged In|         Roll Advert|  3933|\n",
      "| Logged In|      Submit Upgrade|   159|\n",
      "| Logged In|            Settings|  1514|\n",
      "| Logged In|         Thumbs Down|  2546|\n",
      "| Logged In|       Save Settings|   310|\n",
      "| Logged In|                Help|  1454|\n",
      "| Logged In|            NextSong|228108|\n",
      "| Logged In|               About|   495|\n",
      "| Logged In|     Add to Playlist|  6526|\n",
      "| Logged In|               Error|   252|\n",
      "| Logged In|                Home| 10082|\n",
      "| Logged In|          Add Friend|  4277|\n",
      "| Logged In|           Downgrade|  2055|\n",
      "| Logged In|             Upgrade|   499|\n",
      "| Logged In|              Cancel|    52|\n",
      "| Logged In|    Submit Downgrade|    63|\n",
      "|Logged Out|                Home|  4339|\n",
      "|Logged Out|               Login|  3241|\n",
      "|Logged Out|                Help|   249|\n",
      "|Logged Out|               About|   415|\n",
      "|Logged Out|               Error|     5|\n",
      "+----------+--------------------+------+\n",
      "\n"
     ]
    }
   ],
   "source": [
    "# Number of subscription cancellations (churn)\n",
    "# df.where(df.page==\"Cancellation Confirmation\").agg(count(\"userID\")).collect()\n",
    "\n",
    "# df.where(df.page==\"Cancellation Confirmation\").show()\n",
    "\n",
    "# See which pages can be visited as a logged in user / guest\n",
    "df.groupBy([\"auth\", \"page\"]).count().sort(\"auth\").show(100)"
   ]
  },
  {
   "cell_type": "code",
   "execution_count": 100,
   "metadata": {},
   "outputs": [],
   "source": [
    "# Keep only logged in users in the data set\n",
    "df = df.filter((df.auth == \"Logged In\") | (df.auth == \"Cancelled\"))"
   ]
  },
  {
   "cell_type": "code",
   "execution_count": 121,
   "metadata": {},
   "outputs": [
    {
     "name": "stdout",
     "output_type": "stream",
     "text": [
      "+------+---------------+-----------+---------------+--------------------+\n",
      "|userId|           page|page_visits|sum_page_visits|   share_page_visits|\n",
      "+------+---------------+-----------+---------------+--------------------+\n",
      "|    10|          About|          2|            795|0.002515723270440...|\n",
      "|    10|     Add Friend|         12|            795| 0.01509433962264151|\n",
      "|    10|Add to Playlist|          9|            795|0.011320754716981131|\n",
      "|    10|      Downgrade|          7|            795| 0.00880503144654088|\n",
      "|    10|           Help|          1|            795|0.001257861635220...|\n",
      "|    10|           Home|         30|            795| 0.03773584905660377|\n",
      "|    10|         Logout|         11|            795|0.013836477987421384|\n",
      "|    10|       NextSong|        673|            795|  0.8465408805031447|\n",
      "|    10|    Roll Advert|          1|            795|0.001257861635220...|\n",
      "|    10|  Save Settings|          1|            795|0.001257861635220...|\n",
      "|    10|       Settings|          7|            795| 0.00880503144654088|\n",
      "|    10|    Thumbs Down|          4|            795|0.005031446540880503|\n",
      "|    10|      Thumbs Up|         37|            795| 0.04654088050314465|\n",
      "|   100|          About|         12|           3214| 0.00373366521468575|\n",
      "|   100|     Add Friend|         49|           3214|0.015245799626633479|\n",
      "|   100|Add to Playlist|         61|           3214|0.018979464841319228|\n",
      "|   100|      Downgrade|         30|           3214|0.009334163036714374|\n",
      "|   100|          Error|          3|           3214|9.334163036714375E-4|\n",
      "|   100|           Help|         18|           3214|0.005600497822028625|\n",
      "|   100|           Home|        105|           3214| 0.03266957062850031|\n",
      "+------+---------------+-----------+---------------+--------------------+\n",
      "only showing top 20 rows\n",
      "\n"
     ]
    }
   ],
   "source": [
    "# Remove cancellation confirmation from df that will be pivoted for feature engineering\n",
    "df_pages_share = df.filter((df.auth == \"Logged In\"))\n",
    "\n",
    "df_pages_share = df_pages_share.groupBy([\"userId\", \"page\"]).count().sort([\"userId\", \"page\"])\n",
    "df_pages_share = df_pages_share.withColumnRenamed(\"count\", \"page_visits\")\n",
    "# df_pages_share = df_pages_share.where(\"\")\n",
    "\n",
    "\n",
    "window = Window.partitionBy([\"userId\"])\n",
    "\n",
    "df_pages_share = df_pages_share.withColumn(\"sum_page_visits\", F.sum(col(\"page_visits\")).over(window))\n",
    "df_pages_share = df_pages_share.withColumn(\"share_page_visits\", (df_pages_share.page_visits / F.sum(col(\"page_visits\")).over(window)))\n",
    "\n",
    "\n",
    "df_pages_share.show()"
   ]
  },
  {
   "cell_type": "code",
   "execution_count": 128,
   "metadata": {},
   "outputs": [
    {
     "name": "stdout",
     "output_type": "stream",
     "text": [
      "+------+--------------------+--------------------+--------------------+--------------------+--------------------+--------------------+--------------------+--------------------+--------------------+------------------+--------------------+--------------------+--------------------+--------------------+--------------------+--------------------+--------------------+--------------------+\n",
      "|userId|               About|          Add Friend|     Add to Playlist|              Cancel|           Downgrade|               Error|                Help|                Home|              Logout|          NextSong|         Roll Advert|       Save Settings|            Settings|    Submit Downgrade|      Submit Upgrade|         Thumbs Down|           Thumbs Up|             Upgrade|\n",
      "+------+--------------------+--------------------+--------------------+--------------------+--------------------+--------------------+--------------------+--------------------+--------------------+------------------+--------------------+--------------------+--------------------+--------------------+--------------------+--------------------+--------------------+--------------------+\n",
      "|    10|0.002515723270440...| 0.01509433962264151|0.011320754716981131|                 0.0| 0.00880503144654088|                 0.0|0.001257861635220...| 0.03773584905660377|0.013836477987421384|0.8465408805031447|0.001257861635220...|0.001257861635220...| 0.00880503144654088|                 0.0|                 0.0|0.005031446540880503| 0.04654088050314465|                 0.0|\n",
      "|   100| 0.00373366521468575|0.015245799626633479|0.018979464841319228|                 0.0|0.009334163036714374|9.334163036714375E-4|0.005600497822028625| 0.03266957062850031|0.010889856876166771|0.8344741754822651|0.007778469197261979|0.001555693839452...|0.003422526446795271|3.111387678904791...|3.111387678904791...|0.008400746733042938| 0.04604853764779091|3.111387678904791...|\n",
      "|100001|                 0.0|0.010752688172043012|0.016129032258064516|0.005376344086021506|                 0.0|0.005376344086021506|0.005376344086021506| 0.05913978494623656| 0.03763440860215054|0.7150537634408602| 0.07526881720430108|                 0.0|0.005376344086021506|                 0.0|                 0.0|0.010752688172043012|0.043010752688172046|0.010752688172043012|\n",
      "|100002|                 0.0|0.004587155963302...|0.022935779816513763|                 0.0|0.009174311926605505|                 0.0|                 0.0|0.027522935779816515|0.004587155963302...|0.8944954128440367|0.013761467889908258|                 0.0|                 0.0|                 0.0|                 0.0|                 0.0|0.022935779816513763|                 0.0|\n",
      "|100003|                 0.0|                 0.0|0.025974025974025976|0.012987012987012988|                 0.0|                 0.0|0.012987012987012988| 0.09090909090909091| 0.03896103896103896|0.6623376623376623| 0.11688311688311688|                 0.0|                 0.0|                 0.0|                 0.0|                 0.0| 0.03896103896103896|                 0.0|\n",
      "|100004|                 0.0|0.015261044176706828|0.018473895582329317|                 0.0|0.008032128514056224|0.001606425702811245|0.004819277108433735| 0.05301204819277108|0.015261044176706828|0.7566265060240964| 0.06907630522088354|0.001606425702811245|0.008835341365461847|0.001606425702811245|0.002409638554216...|0.008835341365461847|0.028112449799196786| 0.00642570281124498|\n",
      "|100005|                 0.0|0.013953488372093023|0.013953488372093023|0.004651162790697674|                 0.0|                 0.0|0.009302325581395349| 0.06976744186046512|0.013953488372093023|0.7162790697674418| 0.08372093023255814|                 0.0|0.009302325581395349|                 0.0|                 0.0|0.013953488372093023| 0.03255813953488372|0.018604651162790697|\n",
      "|100006|                 0.0| 0.09302325581395349|0.023255813953488372|0.023255813953488372|                 0.0|                 0.0|                 0.0|0.046511627906976744|0.023255813953488372|0.6046511627906976| 0.06976744186046512|                 0.0|0.023255813953488372|                 0.0|                 0.0|0.046511627906976744|0.046511627906976744|                 0.0|\n",
      "|100007|                 0.0| 0.03275529865125241|0.017341040462427744|0.001926782273603...| 0.01348747591522158|                 0.0|0.005780346820809248|0.038535645472061654|0.009633911368015413| 0.815028901734104|0.009633911368015413|0.001926782273603...|0.005780346820809248|                 0.0|                 0.0|0.011560693641618497|0.036608863198458574|                 0.0|\n",
      "|100008|0.003191489361702...|0.018085106382978722|0.031914893617021274|                 0.0|0.010638297872340425|                 0.0|0.006382978723404255| 0.02553191489361702|0.007446808510638298|0.8212765957446808| 0.02127659574468085|                 0.0|0.003191489361702...|0.001063829787234...|                 0.0|0.006382978723404255|0.039361702127659576| 0.00425531914893617|\n",
      "|100009|0.001492537313432...|0.010447761194029851| 0.01791044776119403|0.001492537313432...|0.007462686567164179|                 0.0|0.008955223880597015|0.034328358208955224|0.019402985074626865|0.7731343283582089|  0.0626865671641791|0.001492537313432...|0.005970149253731343|0.001492537313432...|0.001492537313432...|0.011940298507462687|0.034328358208955224|0.005970149253731343|\n",
      "|100010|0.002624671916010...|0.010498687664041995| 0.01837270341207349|                 0.0|                 0.0|                 0.0|0.005249343832020997|0.028871391076115485|0.013123359580052493|0.7217847769028871| 0.13648293963254593|                 0.0|                 0.0|                 0.0|                 0.0|0.013123359580052493| 0.04461942257217848|0.005249343832020997|\n",
      "|100011|                 0.0|                 0.0| 0.09090909090909091|0.045454545454545456|                 0.0|                 0.0|                 0.0| 0.18181818181818182|                 0.0|               0.5| 0.09090909090909091|                 0.0|0.045454545454545456|                 0.0|                 0.0|0.045454545454545456|                 0.0|                 0.0|\n",
      "|100012|0.001669449081803005| 0.00333889816360601| 0.02003338898163606|0.001669449081803005| 0.00667779632721202|                 0.0| 0.00333889816360601|0.045075125208681135| 0.01001669449081803|0.7946577629382304| 0.06343906510851419|                 0.0|                 0.0|0.001669449081803005|0.001669449081803005|0.015025041736227046| 0.03005008347245409|0.001669449081803005|\n",
      "|100013|0.001437814521926...|0.020129403306973402| 0.02228612508986341|7.189072609633358E-4|0.009345794392523364|0.001437814521926...|0.006470165348670022|0.038102084831056794|0.009345794392523364|0.8130841121495327|0.028037383177570093|0.002156721782890007|0.005032350826743...|                 0.0|7.189072609633358E-4|0.010783608914450037|0.028037383177570093|0.002875629043853343|\n",
      "|100014|                 0.0|0.019417475728155338|0.022653721682847898|0.003236245954692557|0.009708737864077669|                 0.0|0.006472491909385114|0.022653721682847898|0.009708737864077669|0.8317152103559871|0.006472491909385114|                 0.0|0.003236245954692557|                 0.0|                 0.0|0.009708737864077669| 0.05501618122977346|                 0.0|\n",
      "|100015|0.003813155386081...| 0.01334604385128694|0.020972354623450904|9.532888465204957E-4|0.004766444232602479|9.532888465204957E-4|0.005719733079122974|0.044804575786463297|0.017159199237368923|0.7626310772163966|  0.0657769304099142|9.532888465204957E-4| 0.00667302192564347|9.532888465204957E-4|0.001906577693040...|0.007626310772163...| 0.03336510962821735|0.007626310772163...|\n",
      "|100016|0.001567398119122257| 0.02037617554858934|0.009404388714733543|                 0.0|0.009404388714733543|0.001567398119122257|0.004702194357366771|0.032915360501567396|0.014106583072100314|0.8307210031347962|0.025078369905956112|                 0.0|0.001567398119122257|0.001567398119122257|                 0.0|0.007836990595611285| 0.03918495297805643|                 0.0|\n",
      "|100017|                 0.0|                 0.0|0.013513513513513514|0.013513513513513514|                 0.0|                 0.0|                 0.0| 0.04054054054054054|                 0.0|0.7027027027027027|  0.1891891891891892|                 0.0|                 0.0|                 0.0|                 0.0|0.013513513513513514| 0.02702702702702703|                 0.0|\n",
      "|100018|7.763975155279503E-4|0.017857142857142856| 0.02406832298136646|                 0.0|0.006987577639751553|                 0.0|0.005434782608695652|0.033385093167701864|0.013198757763975156|0.7779503105590062|0.062111801242236024|0.002329192546583851|0.006987577639751553|0.001552795031055...|0.001552795031055...|0.006987577639751553| 0.03571428571428571|0.003105590062111801|\n",
      "+------+--------------------+--------------------+--------------------+--------------------+--------------------+--------------------+--------------------+--------------------+--------------------+------------------+--------------------+--------------------+--------------------+--------------------+--------------------+--------------------+--------------------+--------------------+\n",
      "only showing top 20 rows\n",
      "\n"
     ]
    }
   ],
   "source": [
    "df_pages_share.groupBy(\"userId\").pivot(\"page\").max(\"share_page_visits\").fillna(0).show()"
   ]
  },
  {
   "cell_type": "markdown",
   "metadata": {},
   "source": [
    "# Exploratory Data Analysis\n",
    "When you're working with the full dataset, perform EDA by loading a small subset of the data and doing basic manipulations within Spark. In this workspace, you are already provided a small subset of data you can explore.\n",
    "\n",
    "### Define Churn\n",
    "\n",
    "Once you've done some preliminary analysis, create a column `Churn` to use as the label for your model. I suggest using the `Cancellation Confirmation` events to define your churn, which happen for both paid and free users. As a bonus task, you can also look into the `Downgrade` events.\n",
    "\n",
    "### Explore Data\n",
    "Once you've defined churn, perform some exploratory data analysis to observe the behavior for users who stayed vs users who churned. You can start by exploring aggregates on these two groups of users, observing how much of a specific action they experienced per a certain time unit or number of songs played."
   ]
  },
  {
   "cell_type": "code",
   "execution_count": 23,
   "metadata": {},
   "outputs": [
    {
     "name": "stdout",
     "output_type": "stream",
     "text": [
      "root\n",
      " |-- artist: string (nullable = true)\n",
      " |-- auth: string (nullable = true)\n",
      " |-- firstName: string (nullable = true)\n",
      " |-- gender: string (nullable = true)\n",
      " |-- itemInSession: long (nullable = true)\n",
      " |-- lastName: string (nullable = true)\n",
      " |-- length: double (nullable = true)\n",
      " |-- level: string (nullable = true)\n",
      " |-- location: string (nullable = true)\n",
      " |-- method: string (nullable = true)\n",
      " |-- page: string (nullable = true)\n",
      " |-- registration: long (nullable = true)\n",
      " |-- sessionId: long (nullable = true)\n",
      " |-- song: string (nullable = true)\n",
      " |-- status: long (nullable = true)\n",
      " |-- ts: long (nullable = true)\n",
      " |-- userAgent: string (nullable = true)\n",
      " |-- userId: string (nullable = true)\n",
      " |-- ts_no_ms: string (nullable = true)\n",
      " |-- ts_str: string (nullable = true)\n",
      " |-- ts_tsType: timestamp (nullable = true)\n",
      " |-- weekday: integer (nullable = true)\n",
      " |-- hour: integer (nullable = true)\n",
      " |-- year: integer (nullable = true)\n",
      " |-- weekNum: integer (nullable = true)\n",
      "\n"
     ]
    }
   ],
   "source": [
    "df.printSchema()"
   ]
  },
  {
   "cell_type": "code",
   "execution_count": 24,
   "metadata": {},
   "outputs": [
    {
     "data": {
      "text/plain": [
       "225"
      ]
     },
     "execution_count": 24,
     "metadata": {},
     "output_type": "execute_result"
    }
   ],
   "source": [
    "# Number of unique users in this subset of data\n",
    "df.agg(countDistinct(\"userID\")).collect()[0][0]"
   ]
  },
  {
   "cell_type": "code",
   "execution_count": 25,
   "metadata": {},
   "outputs": [
    {
     "data": {
      "text/plain": [
       "Row(userId='18', count=1)"
      ]
     },
     "execution_count": 25,
     "metadata": {},
     "output_type": "execute_result"
    }
   ],
   "source": [
    "# Are all of these unique cancellations or did some users resubscribe and cancel again?\n",
    "df.where(df.page==\"Cancellation Confirmation\").groupBy(\"userId\").count().sort(\"count\", ascending=False).head()\n",
    "# > No, all cancellations are from unique users"
   ]
  },
  {
   "cell_type": "markdown",
   "metadata": {},
   "source": [
    "### Add churn flag and other potentially useful features"
   ]
  },
  {
   "cell_type": "code",
   "execution_count": 26,
   "metadata": {},
   "outputs": [
    {
     "name": "stdout",
     "output_type": "stream",
     "text": [
      "+------+---------+---------+------+-------------+--------+------+-----+--------------------+------+--------------------+-------------+---------+----+------+-------------+--------------------+------+----------+-------------------+-------------------+-------+----+----+-------+---------+\n",
      "|artist|     auth|firstName|gender|itemInSession|lastName|length|level|            location|method|                page| registration|sessionId|song|status|           ts|           userAgent|userId|  ts_no_ms|             ts_str|          ts_tsType|weekday|hour|year|weekNum|churnFlag|\n",
      "+------+---------+---------+------+-------------+--------+------+-----+--------------------+------+--------------------+-------------+---------+----+------+-------------+--------------------+------+----------+-------------------+-------------------+-------+----+----+-------+---------+\n",
      "|  NULL|Cancelled|   Adriel|     M|          104| Mendoza|  NULL| paid|  Kansas City, MO-KS|   GET|Cancellation Conf...|1535623466000|      514|NULL|   200|1538943990000|\"Mozilla/5.0 (Mac...|    18|1538943990|2018-10-07 22:26:30|2018-10-07 22:26:30|      6|  22|2018|     40|        1|\n",
      "|  NULL|Cancelled|    Diego|     M|           56|   Mckee|  NULL| paid|Phoenix-Mesa-Scot...|   GET|Cancellation Conf...|1537167593000|      540|NULL|   200|1539033046000|\"Mozilla/5.0 (iPh...|    32|1539033046|2018-10-08 23:10:46|2018-10-08 23:10:46|      0|  23|2018|     41|        1|\n",
      "|  NULL|Cancelled|    Mason|     M|           10|    Hart|  NULL| free|  Corpus Christi, TX|   GET|Cancellation Conf...|1533157139000|      174|NULL|   200|1539318918000|\"Mozilla/5.0 (Mac...|   125|1539318918|2018-10-12 06:35:18|2018-10-12 06:35:18|      4|   6|2018|     41|        1|\n",
      "|  NULL|Cancelled|Alexander|     M|          332|  Garcia|  NULL| paid|Indianapolis-Carm...|   GET|Cancellation Conf...|1536817381000|      508|NULL|   200|1539375441000|Mozilla/5.0 (Wind...|   105|1539375441|2018-10-12 22:17:21|2018-10-12 22:17:21|      4|  22|2018|     41|        1|\n",
      "|  NULL|Cancelled|    Kayla|     F|          273| Johnson|  NULL| paid|Philadelphia-Camd...|   GET|Cancellation Conf...|1538333829000|      797|NULL|   200|1539465584000|Mozilla/5.0 (Wind...|    17|1539465584|2018-10-13 23:19:44|2018-10-13 23:19:44|      5|  23|2018|     41|        1|\n",
      "+------+---------+---------+------+-------------+--------+------+-----+--------------------+------+--------------------+-------------+---------+----+------+-------------+--------------------+------+----------+-------------------+-------------------+-------+----+----+-------+---------+\n",
      "only showing top 5 rows\n",
      "\n"
     ]
    }
   ],
   "source": [
    "df = df.withColumn(\"churnFlag\", F.when(df.page==\"Cancellation Confirmation\", 1).otherwise(0))\n",
    "df.where(df.churnFlag==1).show(5)"
   ]
  },
  {
   "cell_type": "markdown",
   "metadata": {},
   "source": [
    "### Create column that flags all churned users for each interaction"
   ]
  },
  {
   "cell_type": "code",
   "execution_count": 27,
   "metadata": {},
   "outputs": [],
   "source": [
    "# window_userId = Window.partitionBy(\"userId\").orderBy(\"ts\")\n",
    "\n",
    "# df = df.withColumn(\"window_test\", count(\"userId\").over(window_userId))\n",
    "# df.show()"
   ]
  },
  {
   "cell_type": "code",
   "execution_count": 28,
   "metadata": {},
   "outputs": [
    {
     "name": "stdout",
     "output_type": "stream",
     "text": [
      "+--------------------+---------+---------+------+-------------+--------+---------+-----+--------------------+------+---------------+-------------+---------+--------------------+------+-------------+--------------------+------+----------+-------------------+-------------------+-------+----+----+-------+---------+-----------+\n",
      "|              artist|     auth|firstName|gender|itemInSession|lastName|   length|level|            location|method|           page| registration|sessionId|                song|status|           ts|           userAgent|userId|  ts_no_ms|             ts_str|          ts_tsType|weekday|hour|year|weekNum|churnFlag|userChurned|\n",
      "+--------------------+---------+---------+------+-------------+--------+---------+-----+--------------------+------+---------------+-------------+---------+--------------------+------+-------------+--------------------+------+----------+-------------------+-------------------+-------+----+----+-------+---------+-----------+\n",
      "|      Martha Tilston|Logged In|    Colin|     M|           50| Freeman|277.89016| paid|     Bakersfield, CA|   PUT|       NextSong|1538173362000|       29|           Rockpools|   200|1538352117000|Mozilla/5.0 (Wind...|    30|1538352117|2018-10-01 02:01:57|2018-10-01 02:01:57|      0|   2|2018|     40|        0|          0|\n",
      "|        Adam Lambert|Logged In|    Colin|     M|           51| Freeman| 282.8273| paid|     Bakersfield, CA|   PUT|       NextSong|1538173362000|       29|   Time For Miracles|   200|1538352394000|Mozilla/5.0 (Wind...|    30|1538352394|2018-10-01 02:06:34|2018-10-01 02:06:34|      0|   2|2018|     40|        0|          0|\n",
      "|           Daft Punk|Logged In|    Colin|     M|           52| Freeman|223.60771| paid|     Bakersfield, CA|   PUT|       NextSong|1538173362000|       29|Harder Better Fas...|   200|1538352676000|Mozilla/5.0 (Wind...|    30|1538352676|2018-10-01 02:11:16|2018-10-01 02:11:16|      0|   2|2018|     40|        0|          0|\n",
      "|        Starflyer 59|Logged In|    Colin|     M|           53| Freeman|185.44281| paid|     Bakersfield, CA|   PUT|       NextSong|1538173362000|       29|Passengers (Old A...|   200|1538352899000|Mozilla/5.0 (Wind...|    30|1538352899|2018-10-01 02:14:59|2018-10-01 02:14:59|      0|   2|2018|     40|        0|          0|\n",
      "|                NULL|Logged In|    Colin|     M|           54| Freeman|     NULL| paid|     Bakersfield, CA|   PUT|Add to Playlist|1538173362000|       29|                NULL|   200|1538352905000|Mozilla/5.0 (Wind...|    30|1538352905|2018-10-01 02:15:05|2018-10-01 02:15:05|      0|   2|2018|     40|        0|          0|\n",
      "|            Frumpies|Logged In|    Colin|     M|           55| Freeman|134.47791| paid|     Bakersfield, CA|   PUT|       NextSong|1538173362000|       29|          Fuck Kitty|   200|1538353084000|Mozilla/5.0 (Wind...|    30|1538353084|2018-10-01 02:18:04|2018-10-01 02:18:04|      0|   2|2018|     40|        0|          0|\n",
      "|Edward Sharpe & T...|Logged In|    Colin|     M|           56| Freeman|223.58159| paid|     Bakersfield, CA|   PUT|       NextSong|1538173362000|       29|                Jade|   200|1538353218000|Mozilla/5.0 (Wind...|    30|1538353218|2018-10-01 02:20:18|2018-10-01 02:20:18|      0|   2|2018|     40|        0|          0|\n",
      "|         Stan Mosley|Logged In|    Colin|     M|           57| Freeman|246.69995| paid|     Bakersfield, CA|   PUT|       NextSong|1538173362000|       29|   So-Called Friends|   200|1538353441000|Mozilla/5.0 (Wind...|    30|1538353441|2018-10-01 02:24:01|2018-10-01 02:24:01|      0|   2|2018|     40|        0|          0|\n",
      "|             Orishas|Logged In|    Colin|     M|           58| Freeman|222.22322| paid|     Bakersfield, CA|   PUT|       NextSong|1538173362000|       29|           Represent|   200|1538353687000|Mozilla/5.0 (Wind...|    30|1538353687|2018-10-01 02:28:07|2018-10-01 02:28:07|      0|   2|2018|     40|        0|          0|\n",
      "|    Five Iron Frenzy|Logged In|    Micah|     M|           79|    Long|236.09424| free|Boston-Cambridge-...|   PUT|       NextSong|1538331630000|        8|              Canada|   200|1538352180000|\"Mozilla/5.0 (Win...|     9|1538352180|2018-10-01 02:03:00|2018-10-01 02:03:00|      0|   2|2018|     40|        0|          0|\n",
      "|              Enigma|Logged In|    Micah|     M|           80|    Long|262.71302| free|Boston-Cambridge-...|   PUT|       NextSong|1538331630000|        8|Knocking On Forbi...|   200|1538352416000|\"Mozilla/5.0 (Win...|     9|1538352416|2018-10-01 02:06:56|2018-10-01 02:06:56|      0|   2|2018|     40|        0|          0|\n",
      "|The All-American ...|Logged In|    Micah|     M|           81|    Long|208.29995| free|Boston-Cambridge-...|   PUT|       NextSong|1538331630000|        8|      Don't Leave Me|   200|1538352678000|\"Mozilla/5.0 (Win...|     9|1538352678|2018-10-01 02:11:18|2018-10-01 02:11:18|      0|   2|2018|     40|        0|          0|\n",
      "|The Velvet Underg...|Logged In|    Micah|     M|           82|    Long|260.46649| free|Boston-Cambridge-...|   PUT|       NextSong|1538331630000|        8|         Run Run Run|   200|1538352886000|\"Mozilla/5.0 (Win...|     9|1538352886|2018-10-01 02:14:46|2018-10-01 02:14:46|      0|   2|2018|     40|        0|          0|\n",
      "|        Britt Nicole|Logged In|    Micah|     M|           83|    Long| 229.8771| free|Boston-Cambridge-...|   PUT|       NextSong|1538331630000|        8|   Walk On The Water|   200|1538353146000|\"Mozilla/5.0 (Win...|     9|1538353146|2018-10-01 02:19:06|2018-10-01 02:19:06|      0|   2|2018|     40|        0|          0|\n",
      "|                NULL|Logged In|    Micah|     M|           84|    Long|     NULL| free|Boston-Cambridge-...|   GET|    Roll Advert|1538331630000|        8|                NULL|   200|1538353150000|\"Mozilla/5.0 (Win...|     9|1538353150|2018-10-01 02:19:10|2018-10-01 02:19:10|      0|   2|2018|     40|        0|          0|\n",
      "|               Tesla|Logged In|    Micah|     M|           85|    Long|201.06404| free|Boston-Cambridge-...|   PUT|       NextSong|1538331630000|        8|      Gettin' Better|   200|1538353375000|\"Mozilla/5.0 (Win...|     9|1538353375|2018-10-01 02:22:55|2018-10-01 02:22:55|      0|   2|2018|     40|        0|          0|\n",
      "|                NULL|Logged In|    Micah|     M|           86|    Long|     NULL| free|Boston-Cambridge-...|   PUT|      Thumbs Up|1538331630000|        8|                NULL|   307|1538353376000|\"Mozilla/5.0 (Win...|     9|1538353376|2018-10-01 02:22:56|2018-10-01 02:22:56|      0|   2|2018|     40|        0|          0|\n",
      "|Florence + The Ma...|Logged In|    Micah|     M|           87|    Long|168.64608| free|Boston-Cambridge-...|   PUT|       NextSong|1538331630000|        8| You've Got The Love|   200|1538353576000|\"Mozilla/5.0 (Win...|     9|1538353576|2018-10-01 02:26:16|2018-10-01 02:26:16|      0|   2|2018|     40|        0|          0|\n",
      "|             Ratatat|Logged In|    Micah|     M|           88|    Long|229.77261| free|Boston-Cambridge-...|   PUT|       NextSong|1538331630000|        8|              Swisha|   200|1538353744000|\"Mozilla/5.0 (Win...|     9|1538353744|2018-10-01 02:29:04|2018-10-01 02:29:04|      0|   2|2018|     40|        0|          0|\n",
      "|   Tokyo Police Club|Logged In|  Ashlynn|     F|            0|Williams| 166.1122| free|     Tallahassee, FL|   PUT|       NextSong|1537365219000|      217|Citizens Of Tomorrow|   200|1538353668000|\"Mozilla/5.0 (Mac...|    74|1538353668|2018-10-01 02:27:48|2018-10-01 02:27:48|      0|   2|2018|     40|        0|          0|\n",
      "+--------------------+---------+---------+------+-------------+--------+---------+-----+--------------------+------+---------------+-------------+---------+--------------------+------+-------------+--------------------+------+----------+-------------------+-------------------+-------+----+----+-------+---------+-----------+\n",
      "only showing top 20 rows\n",
      "\n"
     ]
    }
   ],
   "source": [
    "df.createOrReplaceTempView(\"user_logs\")\n",
    "\n",
    "# Issue, the distinct userId also selects rows where the flag is not present\n",
    "\n",
    "df_sql = spark.sql('''\n",
    "    SELECT *, IF(flag = 1, 1, 0) AS userChurned\n",
    "    FROM user_logs\n",
    "    LEFT JOIN (\n",
    "        SELECT DISTINCT userId AS uid, 1 AS flag\n",
    "        FROM user_logs\n",
    "        WHERE churnFlag = 1\n",
    "        ) AS churned_users\n",
    "    ON user_logs.userId = churned_users.uid\n",
    "    '''\n",
    ")\n",
    "\n",
    "df_sql = df_sql.drop(*[\"uid\", \"flag\"])\n",
    "\n",
    "df_sql.show()\n",
    "\n",
    "df = df_sql"
   ]
  },
  {
   "cell_type": "code",
   "execution_count": 29,
   "metadata": {},
   "outputs": [
    {
     "name": "stdout",
     "output_type": "stream",
     "text": [
      "+--------------------+---------+---------+------+-------------+--------+---------+-----+--------------------+------+---------------+-------------+---------+--------------------+------+-------------+--------------------+------+----------+-------------------+-------------------+-------+----+----+-------+---------+-----------+\n",
      "|              artist|     auth|firstName|gender|itemInSession|lastName|   length|level|            location|method|           page| registration|sessionId|                song|status|           ts|           userAgent|userId|  ts_no_ms|             ts_str|          ts_tsType|weekday|hour|year|weekNum|churnFlag|userChurned|\n",
      "+--------------------+---------+---------+------+-------------+--------+---------+-----+--------------------+------+---------------+-------------+---------+--------------------+------+-------------+--------------------+------+----------+-------------------+-------------------+-------+----+----+-------+---------+-----------+\n",
      "|                NULL|Logged In|    Ethan|     M|            6| Johnson|     NULL| paid|Lexington-Fayette...|   GET|           Home|1538080987000|      236|                NULL|   200|1538398632000|\"Mozilla/5.0 (Win...|    51|1538398632|2018-10-01 14:57:12|2018-10-01 14:57:12|      0|  14|2018|     40|        0|          1|\n",
      "|         Erykah Badu|Logged In|    Ethan|     M|            7| Johnson|289.69751| paid|Lexington-Fayette...|   PUT|       NextSong|1538080987000|      236|         Window Seat|   200|1538398649000|\"Mozilla/5.0 (Win...|    51|1538398649|2018-10-01 14:57:29|2018-10-01 14:57:29|      0|  14|2018|     40|        0|          1|\n",
      "|             BlÃÂ¸f|Logged In|    Ethan|     M|            8| Johnson|229.82485| paid|Lexington-Fayette...|   PUT|       NextSong|1538080987000|      236|       Niets Dan Dit|   200|1538398938000|\"Mozilla/5.0 (Win...|    51|1538398938|2018-10-01 15:02:18|2018-10-01 15:02:18|      0|  15|2018|     40|        0|          1|\n",
      "|Mousse T. Vs Hot ...|Logged In|    Ethan|     M|            9| Johnson|184.29342| paid|Lexington-Fayette...|   PUT|       NextSong|1538080987000|      236|               Horny|   200|1538399167000|\"Mozilla/5.0 (Win...|    51|1538399167|2018-10-01 15:06:07|2018-10-01 15:06:07|      0|  15|2018|     40|        0|          1|\n",
      "|     Miranda Lambert|Logged In|    Ethan|     M|           10| Johnson|144.14322| paid|Lexington-Fayette...|   PUT|       NextSong|1538080987000|      236|Me and Your Cigar...|   200|1538399351000|\"Mozilla/5.0 (Win...|    51|1538399351|2018-10-01 15:09:11|2018-10-01 15:09:11|      0|  15|2018|     40|        0|          1|\n",
      "|            BjÃÂ¶rk|Logged In|    Ethan|     M|           11| Johnson|348.57751| paid|Lexington-Fayette...|   PUT|       NextSong|1538080987000|      236|                Undo|   200|1538399495000|\"Mozilla/5.0 (Win...|    51|1538399495|2018-10-01 15:11:35|2018-10-01 15:11:35|      0|  15|2018|     40|        0|          1|\n",
      "|         Chris Cagle|Logged In|    Ethan|     M|           12| Johnson|243.04281| paid|Lexington-Fayette...|   PUT|       NextSong|1538080987000|      236|   Anywhere But Here|   200|1538399843000|\"Mozilla/5.0 (Win...|    51|1538399843|2018-10-01 15:17:23|2018-10-01 15:17:23|      0|  15|2018|     40|        0|          1|\n",
      "|           Daft Punk|Logged In|    Ethan|     M|           13| Johnson|223.60771| paid|Lexington-Fayette...|   PUT|       NextSong|1538080987000|      236|Harder Better Fas...|   200|1538400086000|\"Mozilla/5.0 (Win...|    51|1538400086|2018-10-01 15:21:26|2018-10-01 15:21:26|      0|  15|2018|     40|        0|          1|\n",
      "|   Avenged Sevenfold|Logged In|    Ethan|     M|           14| Johnson|312.11057| paid|Lexington-Fayette...|   PUT|       NextSong|1538080987000|      236|Bat Country (Albu...|   200|1538400309000|\"Mozilla/5.0 (Win...|    51|1538400309|2018-10-01 15:25:09|2018-10-01 15:25:09|      0|  15|2018|     40|        0|          1|\n",
      "|       Jorge Drexler|Logged In|    Ethan|     M|           15| Johnson|203.72853| paid|Lexington-Fayette...|   PUT|       NextSong|1538080987000|      236|              Veneno|   200|1538400621000|\"Mozilla/5.0 (Win...|    51|1538400621|2018-10-01 15:30:21|2018-10-01 15:30:21|      0|  15|2018|     40|        0|          1|\n",
      "|Derek & The Domin...|Logged In|    Ethan|     M|           16| Johnson| 425.1424| paid|Lexington-Fayette...|   PUT|       NextSong|1538080987000|      236|               Layla|   200|1538400824000|\"Mozilla/5.0 (Win...|    51|1538400824|2018-10-01 15:33:44|2018-10-01 15:33:44|      0|  15|2018|     40|        0|          1|\n",
      "|                NULL|Logged In|    Ethan|     M|           17| Johnson|     NULL| paid|Lexington-Fayette...|   PUT|Add to Playlist|1538080987000|      236|                NULL|   200|1538400891000|\"Mozilla/5.0 (Win...|    51|1538400891|2018-10-01 15:34:51|2018-10-01 15:34:51|      0|  15|2018|     40|        0|          1|\n",
      "|       Melody Gardot|Logged In|    Ethan|     M|           18| Johnson| 210.6771| paid|Lexington-Fayette...|   PUT|       NextSong|1538080987000|      236|     Baby I'm A Fool|   200|1538401249000|\"Mozilla/5.0 (Win...|    51|1538401249|2018-10-01 15:40:49|2018-10-01 15:40:49|      0|  15|2018|     40|        0|          1|\n",
      "|         Miley Cyrus|Logged In|    Ethan|     M|           19| Johnson|229.98159| paid|Lexington-Fayette...|   PUT|       NextSong|1538080987000|      236|G.N.O. (Girl's Ni...|   200|1538401459000|\"Mozilla/5.0 (Win...|    51|1538401459|2018-10-01 15:44:19|2018-10-01 15:44:19|      0|  15|2018|     40|        0|          1|\n",
      "|                NULL|Logged In|    Ethan|     M|           20| Johnson|     NULL| paid|Lexington-Fayette...|   PUT|    Thumbs Down|1538080987000|      236|                NULL|   307|1538401460000|\"Mozilla/5.0 (Win...|    51|1538401460|2018-10-01 15:44:20|2018-10-01 15:44:20|      0|  15|2018|     40|        0|          1|\n",
      "|              Poison|Logged In|    Ethan|     M|           21| Johnson|185.75628| paid|Lexington-Fayette...|   PUT|       NextSong|1538080987000|      236|       I Want Action|   200|1538401688000|\"Mozilla/5.0 (Win...|    51|1538401688|2018-10-01 15:48:08|2018-10-01 15:48:08|      0|  15|2018|     40|        0|          1|\n",
      "|  Eminem / Nate Dogg|Logged In|    Ethan|     M|           22| Johnson| 297.9522| paid|Lexington-Fayette...|   PUT|       NextSong|1538080987000|      236|    'Till I Collapse|   200|1538401873000|\"Mozilla/5.0 (Win...|    51|1538401873|2018-10-01 15:51:13|2018-10-01 15:51:13|      0|  15|2018|     40|        0|          1|\n",
      "|  Neutral Milk Hotel|Logged In|    Ethan|     M|           23| Johnson|140.48608| paid|Lexington-Fayette...|   PUT|       NextSong|1538080987000|      236|        Tuesday Moon|   200|1538402170000|\"Mozilla/5.0 (Win...|    51|1538402170|2018-10-01 15:56:10|2018-10-01 15:56:10|      0|  15|2018|     40|        0|          1|\n",
      "|    Enrique Iglesias|Logged In|    Ethan|     M|           24| Johnson|  264.202| paid|Lexington-Fayette...|   PUT|       NextSong|1538080987000|      236|                Hero|   200|1538402310000|\"Mozilla/5.0 (Win...|    51|1538402310|2018-10-01 15:58:30|2018-10-01 15:58:30|      0|  15|2018|     40|        0|          1|\n",
      "|          Billy Idol|Logged In|    Ethan|     M|           25| Johnson|298.65751| paid|Lexington-Fayette...|   PUT|       NextSong|1538080987000|      236|Mony Mony (Downto...|   200|1538402574000|\"Mozilla/5.0 (Win...|    51|1538402574|2018-10-01 16:02:54|2018-10-01 16:02:54|      0|  16|2018|     40|        0|          1|\n",
      "+--------------------+---------+---------+------+-------------+--------+---------+-----+--------------------+------+---------------+-------------+---------+--------------------+------+-------------+--------------------+------+----------+-------------------+-------------------+-------+----+----+-------+---------+-----------+\n",
      "only showing top 20 rows\n",
      "\n"
     ]
    }
   ],
   "source": [
    "df_sql.filter((df_sql.userChurned == 1) & (df_sql.page != \"Cancellation Confirmation\")).show()"
   ]
  },
  {
   "cell_type": "code",
   "execution_count": 30,
   "metadata": {},
   "outputs": [],
   "source": [
    "# How to flg actions before churn per user?\n",
    "# Groupby / window by user and flag where the timestamp is before the churnFlag\n",
    "# df = df.withColumn(\"beforeChurn\")\n",
    "\n"
   ]
  },
  {
   "cell_type": "markdown",
   "metadata": {},
   "source": [
    "## Aggregations on user level"
   ]
  },
  {
   "cell_type": "code",
   "execution_count": 47,
   "metadata": {},
   "outputs": [
    {
     "name": "stdout",
     "output_type": "stream",
     "text": [
      "+------+---------+---------+------+-------------+---------+------+-----+--------------------+------+--------------------+-------------+---------+----+------+-------------+--------------------+------+----------+-------------------+-------------------+-------+----+----+-------+---------+-----------+\n",
      "|artist|     auth|firstName|gender|itemInSession| lastName|length|level|            location|method|                page| registration|sessionId|song|status|           ts|           userAgent|userId|  ts_no_ms|             ts_str|          ts_tsType|weekday|hour|year|weekNum|churnFlag|userChurned|\n",
      "+------+---------+---------+------+-------------+---------+------+-----+--------------------+------+--------------------+-------------+---------+----+------+-------------+--------------------+------+----------+-------------------+-------------------+-------+----+----+-------+---------+-----------+\n",
      "|  NULL|Cancelled|   Adriel|     M|          104|  Mendoza|  NULL| paid|  Kansas City, MO-KS|   GET|Cancellation Conf...|1535623466000|      514|NULL|   200|1538943990000|\"Mozilla/5.0 (Mac...|    18|1538943990|2018-10-07 22:26:30|2018-10-07 22:26:30|      6|  22|2018|     40|        1|          1|\n",
      "|  NULL|Cancelled|    Diego|     M|           56|    Mckee|  NULL| paid|Phoenix-Mesa-Scot...|   GET|Cancellation Conf...|1537167593000|      540|NULL|   200|1539033046000|\"Mozilla/5.0 (iPh...|    32|1539033046|2018-10-08 23:10:46|2018-10-08 23:10:46|      0|  23|2018|     41|        1|          1|\n",
      "|  NULL|Cancelled|    Mason|     M|           10|     Hart|  NULL| free|  Corpus Christi, TX|   GET|Cancellation Conf...|1533157139000|      174|NULL|   200|1539318918000|\"Mozilla/5.0 (Mac...|   125|1539318918|2018-10-12 06:35:18|2018-10-12 06:35:18|      4|   6|2018|     41|        1|          1|\n",
      "|  NULL|Cancelled|    Ethan|     M|          176|  Johnson|  NULL| paid|Lexington-Fayette...|   GET|Cancellation Conf...|1538080987000|      934|NULL|   200|1539761972000|\"Mozilla/5.0 (Win...|    51|1539761972|2018-10-17 09:39:32|2018-10-17 09:39:32|      2|   9|2018|     42|        1|          1|\n",
      "|  NULL|Cancelled|     Alex|     M|          145|    Hogan|  NULL| paid|Denver-Aurora-Lak...|   GET|Cancellation Conf...|1535066380000|      842|NULL|   200|1539729037000|Mozilla/5.0 (Wind...|   101|1539729037|2018-10-17 00:30:37|2018-10-17 00:30:37|      2|   0|2018|     42|        1|          1|\n",
      "|  NULL|Cancelled|Christian|     M|          100| Robinson|  NULL| paid|       Quincy, IL-MO|   GET|Cancellation Conf...|1534942082000|     1092|NULL|   200|1540050556000|\"Mozilla/5.0 (Win...|    87|1540050556|2018-10-20 17:49:16|2018-10-20 17:49:16|      5|  17|2018|     42|        1|          1|\n",
      "|  NULL|Cancelled|    Kayla|     F|          273|  Johnson|  NULL| paid|Philadelphia-Camd...|   GET|Cancellation Conf...|1538333829000|      797|NULL|   200|1539465584000|Mozilla/5.0 (Wind...|    17|1539465584|2018-10-13 23:19:44|2018-10-13 23:19:44|      5|  23|2018|     41|        1|          1|\n",
      "|  NULL|Cancelled|    Molly|     F|           43|Patterson|  NULL| paid|   Memphis, TN-MS-AR|   GET|Cancellation Conf...|1535498705000|     1029|NULL|   200|1540062068000|Mozilla/5.0 (X11;...|   122|1540062068|2018-10-20 21:01:08|2018-10-20 21:01:08|      5|  21|2018|     42|        1|          1|\n",
      "|  NULL|Cancelled|    Molly|     F|           29| Harrison|  NULL| free|Virginia Beach-No...|   GET|Cancellation Conf...|1534255113000|      843|NULL|   200|1539588854000|\"Mozilla/5.0 (Mac...|   143|1539588854|2018-10-15 09:34:14|2018-10-15 09:34:14|      0|   9|2018|     42|        1|          1|\n",
      "|  NULL|Cancelled|Alexander|     M|          332|   Garcia|  NULL| paid|Indianapolis-Carm...|   GET|Cancellation Conf...|1536817381000|      508|NULL|   200|1539375441000|Mozilla/5.0 (Wind...|   105|1539375441|2018-10-12 22:17:21|2018-10-12 22:17:21|      4|  22|2018|     41|        1|          1|\n",
      "|  NULL|Cancelled|  Nikolas|     M|          287|    Olsen|  NULL| paid|Oxnard-Thousand O...|   GET|Cancellation Conf...|1528403713000|      881|NULL|   200|1539759749000|Mozilla/5.0 (X11;...|   121|1539759749|2018-10-17 09:02:29|2018-10-17 09:02:29|      2|   9|2018|     42|        1|          1|\n",
      "|  NULL|Cancelled|   Sophia|     F|           72|    Perry|  NULL| paid|Los Angeles-Long ...|   GET|Cancellation Conf...|1533885783000|     1072|NULL|   200|1540193374000|Mozilla/5.0 (Wind...|    12|1540193374|2018-10-22 09:29:34|2018-10-22 09:29:34|      0|   9|2018|     43|        1|          1|\n",
      "|  NULL|Cancelled|    Davis|     M|           34|     Wang|  NULL| paid|           Flint, MI|   GET|Cancellation Conf...|1538289776000|      802|NULL|   200|1539736161000|\"Mozilla/5.0 (Win...|   129|1539736161|2018-10-17 02:29:21|2018-10-17 02:29:21|      2|   2|2018|     42|        1|          1|\n",
      "|  NULL|Cancelled|   Rachel|     F|           11|   Bailey|  NULL| paid|Albany-Schenectad...|   GET|Cancellation Conf...|1536102943000|     1059|NULL|   200|1540402387000|Mozilla/5.0 (Wind...|    73|1540402387|2018-10-24 19:33:07|2018-10-24 19:33:07|      2|  19|2018|     43|        1|          1|\n",
      "|  NULL|Cancelled|  Jeffery|     M|           46|  Wheeler|  NULL| paid|         Bozeman, MT|   GET|Cancellation Conf...|1533886191000|     1324|NULL|   200|1540875543000|\"Mozilla/5.0 (Win...|     3|1540875543|2018-10-30 05:59:03|2018-10-30 05:59:03|      1|   5|2018|     44|        1|          1|\n",
      "|  NULL|Cancelled|    Erick|     M|           48|   Brooks|  NULL| paid|           Selma, AL|   GET|Cancellation Conf...|1537956751000|     1112|NULL|   200|1540223006000|\"Mozilla/5.0 (Win...|    58|1540223006|2018-10-22 17:43:26|2018-10-22 17:43:26|      0|  17|2018|     43|        1|          1|\n",
      "|  NULL|Cancelled|   Teagan|     F|          306|  Roberts|  NULL| paid|New Philadelphia-...|   GET|Cancellation Conf...|1537634865000|     1519|NULL|   200|1541463632000|Mozilla/5.0 (Wind...|    28|1541463632|2018-11-06 01:20:32|2018-11-06 01:20:32|      1|   1|2018|     45|        1|          1|\n",
      "|  NULL|Cancelled|    Piper|     F|            8|  Nielsen|  NULL| paid|New York-Newark-J...|   GET|Cancellation Conf...|1537699856000|     1583|NULL|   200|1541340091000|\"Mozilla/5.0 (Mac...|   103|1541340091|2018-11-04 15:01:31|2018-11-04 15:01:31|      6|  15|2018|     44|        1|          1|\n",
      "|  NULL|Cancelled|   Sophia|     F|           18|      Key|  NULL| paid|Los Angeles-Long ...|   GET|Cancellation Conf...|1537679535000|     1383|NULL|   200|1541166424000|\"Mozilla/5.0 (Mac...|   106|1541166424|2018-11-02 14:47:04|2018-11-02 14:47:04|      4|  14|2018|     44|        1|          1|\n",
      "|  NULL|Cancelled|    Alexi|     F|           42|   Warren|  NULL| paid|Spokane-Spokane V...|   GET|Cancellation Conf...|1532482662000|     1819|NULL|   200|1542051608000|Mozilla/5.0 (Wind...|    54|1542051608|2018-11-12 20:40:08|2018-11-12 20:40:08|      0|  20|2018|     46|        1|          1|\n",
      "+------+---------+---------+------+-------------+---------+------+-----+--------------------+------+--------------------+-------------+---------+----+------+-------------+--------------------+------+----------+-------------------+-------------------+-------+----+----+-------+---------+-----------+\n",
      "only showing top 20 rows\n",
      "\n"
     ]
    }
   ],
   "source": [
    "df_agg = df\n",
    "\n",
    "# df_agg.show()\n",
    "\n",
    "# df_agg.select(\"weekNum\").distinct().collect()\n",
    "\n",
    "df_agg.where(df_agg.churnFlag == 1).show()"
   ]
  },
  {
   "cell_type": "code",
   "execution_count": 77,
   "metadata": {},
   "outputs": [
    {
     "name": "stdout",
     "output_type": "stream",
     "text": [
      "+------+-------+-----------+------------------+------------------+------------+\n",
      "|userId|weekNum|userChurned|        avg_length|        sum_length|played_songs|\n",
      "+------+-------+-----------+------------------+------------------+------------+\n",
      "|   143|     40|          1|247.14041907692314|16064.127240000003|          65|\n",
      "|   143|     41|          1|237.30048294117643|4034.1082099999994|          17|\n",
      "|   143|     42|          1|262.78725894736846| 4992.957920000001|          19|\n",
      "+------+-------+-----------+------------------+------------------+------------+\n",
      "\n",
      "+------+-------+-----------+------------------+------------------+------------+-------------------+----------------------+\n",
      "|userId|weekNum|userChurned|        avg_length|        sum_length|played_songs| delta_playtime_wow|delta_songs_played_wow|\n",
      "+------+-------+-----------+------------------+------------------+------------+-------------------+----------------------+\n",
      "|   100|     40|          0| 244.2558602362204|62040.988499999985|         254|               NULL|                  NULL|\n",
      "|   100|     41|          0| 247.9595591538462|64469.485380000006|         260| 1.0391434266073956|    1.0236220472440944|\n",
      "|   100|     42|          0|252.45126944162433| 49732.90007999999|         197|  0.771417668170628|    0.7576923076923077|\n",
      "|   100|     43|          0|249.55147358722337|101567.44974999991|         407|  2.042258737910301|     2.065989847715736|\n",
      "|   100|     44|          0|252.27935996062988|128157.91485999998|         508| 1.2618010511778168|    1.2481572481572483|\n",
      "|   100|     45|          0| 250.2552666467066|       41792.62953|         167|0.32610260221270276|     0.328740157480315|\n",
      "|   100|     46|          0| 257.1805128164557|       81269.04205|         316| 1.9445783374712677|    1.8922155688622755|\n",
      "|   100|     47|          0|251.19532356466868| 79628.91756999998|         317| 0.9798185823454033|    1.0031645569620253|\n",
      "|   100|     48|          0| 250.8536283984375|       64218.52887|         256| 0.8064724578674192|     0.807570977917981|\n",
      "|100005|     40|          1|230.58022678571425|19368.739049999996|          84|               NULL|                  NULL|\n",
      "|100005|     42|          1|252.40547085714283|       17668.38296|          70|  0.912211317132697|    0.8333333333333334|\n",
      "|100006|     40|          1|225.18811730769232|        5854.89105|          26|               NULL|                  NULL|\n",
      "|100007|     40|          1| 239.8681658169936| 36699.82937000002|         153|               NULL|                  NULL|\n",
      "|100007|     42|          1|259.09136056603774|       13731.84211|          53|0.37416637476862447|    0.3464052287581699|\n",
      "|100007|     43|          1|271.57287833333334|        1629.43727|           6|0.11866122964036906|   0.11320754716981132|\n",
      "|100007|     44|          1|        250.114158|        2501.14158|          10|  1.534972610513567|    1.6666666666666667|\n",
      "|100007|     45|          1| 242.2489160869565|5571.7250699999995|          23| 2.2276728013133904|                   2.3|\n",
      "|100007|     46|          1|202.61178999999998| 810.4471599999999|           4|0.14545713397879484|   0.17391304347826086|\n",
      "|100007|     47|          1| 255.1565027272727|        2806.72153|          11|   3.46317646421267|                  2.75|\n",
      "|100007|     48|          1| 249.9642995705522| 40744.18083000001|         163| 14.516645272607438|    14.818181818181818|\n",
      "+------+-------+-----------+------------------+------------------+------------+-------------------+----------------------+\n",
      "only showing top 20 rows\n",
      "\n"
     ]
    }
   ],
   "source": [
    "# df_agg = df.groupBy([\"userId\", \"weekNum\"]).agg({\"length\":\"mean\", \"length\":\"sum\", \"length\":\"count\"})\n",
    "\n",
    "df_agg = df.groupBy([\"userId\", \"weekNum\"]).agg(\n",
    "                                                F.max(\"userChurned\").alias(\"userChurned\"),\n",
    "                                                F.mean(\"length\").alias(\"avg_length\"), \n",
    "                                                F.sum(\"length\").alias(\"sum_length\"),\n",
    "                                                F.count(\"length\").alias(\"played_songs\")\n",
    "                                                )\n",
    "\n",
    "\n",
    "df_agg.where(df_agg.userId == 143).show()\n",
    "\n",
    "window = Window.partitionBy([\"userId\"]).orderBy([\"userId\", \"weekNum\"])\n",
    "\n",
    "# df_agg.withColumn(\"delta_playtime_wow\", F.lag(\"sum_length\", default=0).over(window)).show()\n",
    "\n",
    "df_agg = df_agg.withColumn(\"delta_playtime_wow\", (df_agg.sum_length / F.lag(\"sum_length\", default=0).over(window)))\n",
    "\n",
    "df_agg = df_agg.withColumn(\"delta_songs_played_wow\", (df_agg.played_songs / F.lag(\"played_songs\", default=0).over(window)))\n",
    "\n",
    "\n",
    "df_agg.show()\n"
   ]
  },
  {
   "cell_type": "code",
   "execution_count": null,
   "metadata": {},
   "outputs": [],
   "source": []
  },
  {
   "cell_type": "code",
   "execution_count": 32,
   "metadata": {},
   "outputs": [
    {
     "name": "stdout",
     "output_type": "stream",
     "text": [
      "+-------+-----------+------------------+\n",
      "|weekNum|userChurned|       avg(length)|\n",
      "+-------+-----------+------------------+\n",
      "|     40|          0| 249.0758146580483|\n",
      "|     40|          1|251.29148589659144|\n",
      "|     41|          0|249.08369661440724|\n",
      "|     41|          1| 246.7571002761861|\n",
      "|     42|          0|249.09202399430873|\n",
      "|     42|          1|248.63771257003464|\n",
      "|     43|          0|248.11867449926936|\n",
      "|     43|          1|248.56677212676468|\n",
      "|     44|          0| 248.9506544349808|\n",
      "|     44|          1|249.89442505002262|\n",
      "|     45|          0|249.92767089111177|\n",
      "|     45|          1| 249.3542718750001|\n",
      "|     46|          0|249.67536296446684|\n",
      "|     46|          1| 244.4998359778091|\n",
      "|     47|          0|249.41155847383985|\n",
      "|     47|          1|246.02865317535583|\n",
      "|     48|          0|249.51936177871258|\n",
      "|     48|          1| 249.9642995705522|\n",
      "|     49|          0|         465.60608|\n",
      "+-------+-----------+------------------+\n",
      "\n"
     ]
    }
   ],
   "source": [
    "# df_agg.groupBy([\"userId\", \"weekNum\"]).agg({\"length\":\"mean\"}).show()\n",
    "\n",
    "# df_agg.groupBy(\"weekNum\").agg(F.avg(\"length\")).sort(\"weekNum\").show()\n",
    "\n",
    "# df_agg.groupBy(\"weekNum\", \"userChurned\").agg(F.avg(\"length\")).sort(\"weekNum\", \"userChurned\").show()"
   ]
  },
  {
   "cell_type": "code",
   "execution_count": 33,
   "metadata": {},
   "outputs": [
    {
     "name": "stdout",
     "output_type": "stream",
     "text": [
      "+-------+---------+-----+\n",
      "|weekNum|churnFlag|count|\n",
      "+-------+---------+-----+\n",
      "|     40|        0|28208|\n",
      "|     40|        1|    6|\n",
      "|     41|        0|33434|\n",
      "|     41|        1|    7|\n",
      "|     42|        0|35766|\n",
      "|     42|        1|   10|\n",
      "|     43|        0|29972|\n",
      "|     43|        1|    6|\n",
      "|     44|        0|38161|\n",
      "|     44|        1|    8|\n",
      "|     45|        0|28766|\n",
      "|     45|        1|    2|\n",
      "|     46|        0|28499|\n",
      "|     46|        1|    7|\n",
      "|     47|        0|30155|\n",
      "|     47|        1|    5|\n",
      "|     48|        0|25140|\n",
      "|     48|        1|    1|\n",
      "|     49|        0|    1|\n",
      "+-------+---------+-----+\n",
      "\n"
     ]
    }
   ],
   "source": [
    "# How many users churned per week?\n",
    "df_agg.groupBy(\"weekNum\", \"churnFlag\").count().sort(\"weekNum\", \"churnFlag\").show()\n",
    "\n",
    "# df.groupBy([\"auth\", \"page\"]).count().sort(\"auth\").show(100)"
   ]
  },
  {
   "cell_type": "code",
   "execution_count": 36,
   "metadata": {},
   "outputs": [
    {
     "name": "stdout",
     "output_type": "stream",
     "text": [
      "+-------------------+---------+---------+------+-------------+--------+---------+-----+--------------------+------+---------+-------------+---------+--------------------+------+-------------+--------------------+------+----------+-------------------+-------------------+-------+----+----+-------+---------+-----------+-----------------+\n",
      "|             artist|     auth|firstName|gender|itemInSession|lastName|   length|level|            location|method|     page| registration|sessionId|                song|status|           ts|           userAgent|userId|  ts_no_ms|             ts_str|          ts_tsType|weekday|hour|year|weekNum|churnFlag|userChurned|             TEST|\n",
      "+-------------------+---------+---------+------+-------------+--------+---------+-----+--------------------+------+---------+-------------+---------+--------------------+------+-------------+--------------------+------+----------+-------------------+-------------------+-------+----+----+-------+---------+-----------+-----------------+\n",
      "|     Dustin Kensrue|Logged In|   Nicole|     F|            0|    Beck|105.19465| paid|Vineland-Bridgeto...|   PUT| NextSong|1532224335000|     2248|Hark! The Herald ...|   200|1543349083000|\"Mozilla/5.0 (Mac...|   124|1543349083|2018-11-27 21:04:43|2018-11-27 21:04:43|      1|  21|2018|     48|        0|          0|249.5228796706445|\n",
      "|               NULL|Logged In|   Nicole|     F|            1|    Beck|     NULL| paid|Vineland-Bridgeto...|   GET|     Home|1532224335000|     2248|                NULL|   200|1543349118000|\"Mozilla/5.0 (Mac...|   124|1543349118|2018-11-27 21:05:18|2018-11-27 21:05:18|      1|  21|2018|     48|        0|          0|249.5228796706445|\n",
      "|       Joe Satriani|Logged In|   Nicole|     F|            2|    Beck|309.83791| paid|Vineland-Bridgeto...|   PUT| NextSong|1532224335000|     2248|The Mystical Pota...|   200|1543349188000|\"Mozilla/5.0 (Mac...|   124|1543349188|2018-11-27 21:06:28|2018-11-27 21:06:28|      1|  21|2018|     48|        0|          0|249.5228796706445|\n",
      "|   Michael BublÃÂ©|Logged In|   Nicole|     F|            3|    Beck|199.20934| paid|Vineland-Bridgeto...|   PUT| NextSong|1532224335000|     2248|Come Fly With Me ...|   200|1543349497000|\"Mozilla/5.0 (Mac...|   124|1543349497|2018-11-27 21:11:37|2018-11-27 21:11:37|      1|  21|2018|     48|        0|          0|249.5228796706445|\n",
      "|               NULL|Logged In|   Nicole|     F|            4|    Beck|     NULL| paid|Vineland-Bridgeto...|   GET|     Help|1532224335000|     2248|                NULL|   200|1543349527000|\"Mozilla/5.0 (Mac...|   124|1543349527|2018-11-27 21:12:07|2018-11-27 21:12:07|      1|  21|2018|     48|        0|          0|249.5228796706445|\n",
      "|La Banda Del Diablo|Logged In|   Nicole|     F|            5|    Beck|237.42649| paid|Vineland-Bridgeto...|   PUT| NextSong|1532224335000|     2248|  Mundian To Back Me|   200|1543349696000|\"Mozilla/5.0 (Mac...|   124|1543349696|2018-11-27 21:14:56|2018-11-27 21:14:56|      1|  21|2018|     48|        0|          0|249.5228796706445|\n",
      "|       Eddie Vedder|Logged In|   Nicole|     F|            6|    Beck|164.17914| paid|Vineland-Bridgeto...|   PUT| NextSong|1532224335000|     2248|          Guaranteed|   200|1543349933000|\"Mozilla/5.0 (Mac...|   124|1543349933|2018-11-27 21:18:53|2018-11-27 21:18:53|      1|  21|2018|     48|        0|          0|249.5228796706445|\n",
      "|          Daft Punk|Logged In|   Nicole|     F|            7|    Beck|396.45995| paid|Vineland-Bridgeto...|   PUT| NextSong|1532224335000|     2248|Around The World ...|   200|1543350097000|\"Mozilla/5.0 (Mac...|   124|1543350097|2018-11-27 21:21:37|2018-11-27 21:21:37|      1|  21|2018|     48|        0|          0|249.5228796706445|\n",
      "|       Jack Johnson|Logged In|   Nicole|     F|            8|    Beck|236.19873| paid|Vineland-Bridgeto...|   PUT| NextSong|1532224335000|     2248|              Adrift|   200|1543350493000|\"Mozilla/5.0 (Mac...|   124|1543350493|2018-11-27 21:28:13|2018-11-27 21:28:13|      1|  21|2018|     48|        0|          0|249.5228796706445|\n",
      "|   Titus Andronicus|Logged In|   Nicole|     F|            9|    Beck|115.22567| paid|Vineland-Bridgeto...|   PUT| NextSong|1532224335000|     2248|Titus Andronicus ...|   200|1543350729000|\"Mozilla/5.0 (Mac...|   124|1543350729|2018-11-27 21:32:09|2018-11-27 21:32:09|      1|  21|2018|     48|        0|          0|249.5228796706445|\n",
      "|        Arcade Fire|Logged In|   Nicole|     F|           10|    Beck|310.33424| paid|Vineland-Bridgeto...|   PUT| NextSong|1532224335000|     2248|(Antichrist Telev...|   200|1543350844000|\"Mozilla/5.0 (Mac...|   124|1543350844|2018-11-27 21:34:04|2018-11-27 21:34:04|      1|  21|2018|     48|        0|          0|249.5228796706445|\n",
      "|           GG Allin|Logged In|   Nicole|     F|           11|    Beck|106.60526| paid|Vineland-Bridgeto...|   PUT| NextSong|1532224335000|     2248|       Watch Me Kill|   200|1543351154000|\"Mozilla/5.0 (Mac...|   124|1543351154|2018-11-27 21:39:14|2018-11-27 21:39:14|      1|  21|2018|     48|        0|          0|249.5228796706445|\n",
      "|          Femi Kuti|Logged In|   Nicole|     F|           12|    Beck| 360.9073| paid|Vineland-Bridgeto...|   PUT| NextSong|1532224335000|     2248|         Look Around|   200|1543351260000|\"Mozilla/5.0 (Mac...|   124|1543351260|2018-11-27 21:41:00|2018-11-27 21:41:00|      1|  21|2018|     48|        0|          0|249.5228796706445|\n",
      "|               NULL|Logged In|   Nicole|     F|           13|    Beck|     NULL| paid|Vineland-Bridgeto...|   PUT|Thumbs Up|1532224335000|     2248|                NULL|   307|1543351261000|\"Mozilla/5.0 (Mac...|   124|1543351261|2018-11-27 21:41:01|2018-11-27 21:41:01|      1|  21|2018|     48|        0|          0|249.5228796706445|\n",
      "|     Camera Obscura|Logged In|   Nicole|     F|           14|    Beck|248.08444| paid|Vineland-Bridgeto...|   PUT| NextSong|1532224335000|     2248|    Away With Murder|   200|1543351620000|\"Mozilla/5.0 (Mac...|   124|1543351620|2018-11-27 21:47:00|2018-11-27 21:47:00|      1|  21|2018|     48|        0|          0|249.5228796706445|\n",
      "|      Kings Of Leon|Logged In|   Nicole|     F|           15|    Beck|231.26159| paid|Vineland-Bridgeto...|   PUT| NextSong|1532224335000|     2248|        Use Somebody|   200|1543351868000|\"Mozilla/5.0 (Mac...|   124|1543351868|2018-11-27 21:51:08|2018-11-27 21:51:08|      1|  21|2018|     48|        0|          0|249.5228796706445|\n",
      "|            Prodigy|Logged In|   Nicole|     F|           16|    Beck|335.90812| paid|Vineland-Bridgeto...|   PUT| NextSong|1532224335000|     2248|             Breathe|   200|1543352099000|\"Mozilla/5.0 (Mac...|   124|1543352099|2018-11-27 21:54:59|2018-11-27 21:54:59|      1|  21|2018|     48|        0|          0|249.5228796706445|\n",
      "|      Bad Astronaut|Logged In|   Nicole|     F|           17|    Beck|241.65832| paid|Vineland-Bridgeto...|   PUT| NextSong|1532224335000|     2248|Stillwater_ Calif...|   200|1543352434000|\"Mozilla/5.0 (Mac...|   124|1543352434|2018-11-27 22:00:34|2018-11-27 22:00:34|      1|  22|2018|     48|        0|          0|249.5228796706445|\n",
      "|               NULL|Logged In|   Nicole|     F|           18|    Beck|     NULL| paid|Vineland-Bridgeto...|   GET|     Help|1532224335000|     2248|                NULL|   200|1543352464000|\"Mozilla/5.0 (Mac...|   124|1543352464|2018-11-27 22:01:04|2018-11-27 22:01:04|      1|  22|2018|     48|        0|          0|249.5228796706445|\n",
      "|               NULL|Logged In|   Nicole|     F|           19|    Beck|     NULL| paid|Vineland-Bridgeto...|   GET|     Home|1532224335000|     2248|                NULL|   200|1543352471000|\"Mozilla/5.0 (Mac...|   124|1543352471|2018-11-27 22:01:11|2018-11-27 22:01:11|      1|  22|2018|     48|        0|          0|249.5228796706445|\n",
      "+-------------------+---------+---------+------+-------------+--------+---------+-----+--------------------+------+---------+-------------+---------+--------------------+------+-------------+--------------------+------+----------+-------------------+-------------------+-------+----+----+-------+---------+-----------+-----------------+\n",
      "only showing top 20 rows\n",
      "\n"
     ]
    }
   ],
   "source": [
    "window = Window.partitionBy(\"weekNum\").orderBy(\"weekNum\")\n",
    "\n",
    "df_window = df.withColumn(\"TEST\", F.avg(\"length\").over(window))\n",
    "\n",
    "df_window.where(df_window.weekNum == 48).show()"
   ]
  },
  {
   "cell_type": "markdown",
   "metadata": {},
   "source": [
    "# Feature Engineering\n",
    "Once you've familiarized yourself with the data, build out the features you find promising to train your model on. To work with the full dataset, you can follow the following steps.\n",
    "- Write a script to extract the necessary features from the smaller subset of data\n",
    "- Ensure that your script is scalable, using the best practices discussed in Lesson 3\n",
    "- Try your script on the full data set, debugging your script if necessary\n",
    "\n",
    "If you are working in the classroom workspace, you can just extract features based on the small subset of data contained here. Be sure to transfer over this work to the larger dataset when you work on your Spark cluster."
   ]
  },
  {
   "cell_type": "code",
   "execution_count": 37,
   "metadata": {},
   "outputs": [],
   "source": [
    "from pyspark.ml.feature import StringIndexer, OneHotEncoder, VectorAssembler\n",
    "from pyspark.ml.classification import LogisticRegression\n",
    "from pyspark.ml import Pipeline\n"
   ]
  },
  {
   "cell_type": "code",
   "execution_count": null,
   "metadata": {},
   "outputs": [],
   "source": [
    "# String indexer for visited page\n",
    "str_indexer = StringIndexer(inputCol=\"page\", outputCol=\"page_numeric\")\n",
    "\n",
    "model = str_indexer.fit(df)\n",
    "\n",
    "df_transformed = model.transform(df)\n",
    "\n",
    "str_ohe = OneHotEncoder(inputCol=\"page_numeric\", outputCol=\"page_vec\")\n",
    "model2 = str_ohe.fit(df_transformed)\n",
    "df_transformed = model2.transform(df_transformed)\n",
    "\n",
    "# df_transformed.groupby([\"page\", \"page_numeric\"]).count().sort(\"page_numeric\").toPandas()\n",
    "\n",
    "df_transformed.show()"
   ]
  },
  {
   "cell_type": "code",
   "execution_count": null,
   "metadata": {},
   "outputs": [],
   "source": [
    "# The approach of indexing and transforming several columns at once was taken from here: \n",
    "# https://stackoverflow.com/questions/36942233/apply-stringindexer-to-several-columns-in-a-pyspark-dataframe\n",
    "\n",
    "indexers = [StringIndexer(inputCol=column, outputCol=column+\"_index\").fit(df) for column in [\"page\"]]\n",
    "\n",
    "pipeline = Pipeline(stages=indexers)\n",
    "\n",
    "df_transformed = pipeline.fit(df).transform(df)\n",
    "\n",
    "df_transformed.head()"
   ]
  },
  {
   "cell_type": "code",
   "execution_count": null,
   "metadata": {},
   "outputs": [],
   "source": [
    "# Test same approach as above for multiple columns and then indexing + vectorizing\n",
    "indexers = [StringIndexer(inputCol=column, outputCol=column+\"_index\").fit(df) for column in [\"page\", \"gender\"]]\n",
    "\n",
    "vectorizers = [OneHotEncoder(inputCol=column, outputCol=column+\"_ohe\").fit(df) for column in [\"page_index\", \"gender_index\"]]\n",
    "\n",
    "\n",
    "pipeline = Pipeline(stages=indexers)\n",
    "\n",
    "df_transformed = pipeline.fit(df).transform(df)\n",
    "\n",
    "df_transformed.show()"
   ]
  },
  {
   "cell_type": "code",
   "execution_count": null,
   "metadata": {},
   "outputs": [],
   "source": [
    "cols_for_transformation = [\"page\", \"gender\"]\n",
    "indexed_cols = [x + \"_index\" for x in cols_for_transformation]\n",
    "vectorized_cols = [x + \"_vec\" for x in cols_for_transformation]\n",
    "\n",
    "vectorized_cols"
   ]
  },
  {
   "cell_type": "code",
   "execution_count": null,
   "metadata": {},
   "outputs": [],
   "source": [
    "# Test other approach with new argument input_cols / output_cols\n",
    "str_indexer = StringIndexer(inputCols=cols_for_transformation, outputCols=indexed_cols)\n",
    "model = str_indexer.fit(df)\n",
    "df_transformed = model.transform(df)\n",
    "\n",
    "ohe = OneHotEncoder(inputCols=indexed_cols, outputCols=vectorized_cols)\n",
    "model2 = ohe.fit(df_transformed)\n",
    "df_transformed = model2.transform(df_transformed)\n",
    "\n",
    "vec_assembler = VectorAssembler(inputCols=vectorized_cols, outputCol=\"features\")\n",
    "df_transformed = vec_assembler.transform(df_transformed)\n",
    "# df_transformed.groupby([\"page\", \"page_numeric\"]).count().sort(\"page_numeric\").toPandas()\n",
    "\n",
    "df_transformed.show()"
   ]
  },
  {
   "cell_type": "markdown",
   "metadata": {},
   "source": [
    "## Test pre-aggregated data frame for modeling"
   ]
  },
  {
   "cell_type": "code",
   "execution_count": 78,
   "metadata": {},
   "outputs": [
    {
     "name": "stdout",
     "output_type": "stream",
     "text": [
      "+------+-------+-----------+------------------+------------------+------------+-------------------+----------------------+\n",
      "|userId|weekNum|userChurned|        avg_length|        sum_length|played_songs| delta_playtime_wow|delta_songs_played_wow|\n",
      "+------+-------+-----------+------------------+------------------+------------+-------------------+----------------------+\n",
      "|   100|     40|          0| 244.2558602362204|62040.988499999985|         254|               NULL|                  NULL|\n",
      "|   100|     41|          0| 247.9595591538462|64469.485380000006|         260| 1.0391434266073956|    1.0236220472440944|\n",
      "|   100|     42|          0|252.45126944162433| 49732.90007999999|         197|  0.771417668170628|    0.7576923076923077|\n",
      "|   100|     43|          0|249.55147358722337|101567.44974999991|         407|  2.042258737910301|     2.065989847715736|\n",
      "|   100|     44|          0|252.27935996062988|128157.91485999998|         508| 1.2618010511778168|    1.2481572481572483|\n",
      "|   100|     45|          0| 250.2552666467066|       41792.62953|         167|0.32610260221270276|     0.328740157480315|\n",
      "|   100|     46|          0| 257.1805128164557|       81269.04205|         316| 1.9445783374712677|    1.8922155688622755|\n",
      "|   100|     47|          0|251.19532356466868| 79628.91756999998|         317| 0.9798185823454033|    1.0031645569620253|\n",
      "|   100|     48|          0| 250.8536283984375|       64218.52887|         256| 0.8064724578674192|     0.807570977917981|\n",
      "|100005|     40|          1|230.58022678571425|19368.739049999996|          84|               NULL|                  NULL|\n",
      "|100005|     42|          1|252.40547085714283|       17668.38296|          70|  0.912211317132697|    0.8333333333333334|\n",
      "|100006|     40|          1|225.18811730769232|        5854.89105|          26|               NULL|                  NULL|\n",
      "|100007|     40|          1| 239.8681658169936| 36699.82937000002|         153|               NULL|                  NULL|\n",
      "|100007|     42|          1|259.09136056603774|       13731.84211|          53|0.37416637476862447|    0.3464052287581699|\n",
      "|100007|     43|          1|271.57287833333334|        1629.43727|           6|0.11866122964036906|   0.11320754716981132|\n",
      "|100007|     44|          1|        250.114158|        2501.14158|          10|  1.534972610513567|    1.6666666666666667|\n",
      "|100007|     45|          1| 242.2489160869565|5571.7250699999995|          23| 2.2276728013133904|                   2.3|\n",
      "|100007|     46|          1|202.61178999999998| 810.4471599999999|           4|0.14545713397879484|   0.17391304347826086|\n",
      "|100007|     47|          1| 255.1565027272727|        2806.72153|          11|   3.46317646421267|                  2.75|\n",
      "|100007|     48|          1| 249.9642995705522| 40744.18083000001|         163| 14.516645272607438|    14.818181818181818|\n",
      "+------+-------+-----------+------------------+------------------+------------+-------------------+----------------------+\n",
      "only showing top 20 rows\n",
      "\n"
     ]
    }
   ],
   "source": [
    "df_agg.show()"
   ]
  },
  {
   "cell_type": "code",
   "execution_count": 93,
   "metadata": {},
   "outputs": [],
   "source": [
    "# df_transformed = df_agg.withColumnRenamed(\"delta_songs_played_wow\", \"features\")\n",
    "df_transformed = df_agg.where(col(\"delta_songs_played_wow\").isNotNull())\n",
    "\n",
    "vec_assembler = VectorAssembler(inputCols=[\"delta_songs_played_wow\"], outputCol=\"features\")\n",
    "df_transformed = vec_assembler.transform(df_transformed)"
   ]
  },
  {
   "cell_type": "code",
   "execution_count": 94,
   "metadata": {},
   "outputs": [],
   "source": [
    "lr = LogisticRegression(featuresCol=\"features\", labelCol=\"userChurned\")"
   ]
  },
  {
   "cell_type": "code",
   "execution_count": 95,
   "metadata": {},
   "outputs": [
    {
     "name": "stdout",
     "output_type": "stream",
     "text": [
      "+------+-------+-----------+------------------+------------------+------------+-------------------+----------------------+--------------------+\n",
      "|userId|weekNum|userChurned|        avg_length|        sum_length|played_songs| delta_playtime_wow|delta_songs_played_wow|            features|\n",
      "+------+-------+-----------+------------------+------------------+------------+-------------------+----------------------+--------------------+\n",
      "|   100|     41|          0| 247.9595591538462|64469.485380000006|         260| 1.0391434266073956|    1.0236220472440944|[1.0236220472440944]|\n",
      "|   100|     42|          0|252.45126944162433| 49732.90007999999|         197|  0.771417668170628|    0.7576923076923077|[0.7576923076923077]|\n",
      "|   100|     44|          0|252.27935996062988|128157.91485999998|         508| 1.2618010511778168|    1.2481572481572483|[1.2481572481572483]|\n",
      "|   100|     45|          0| 250.2552666467066|       41792.62953|         167|0.32610260221270276|     0.328740157480315| [0.328740157480315]|\n",
      "|   100|     46|          0| 257.1805128164557|       81269.04205|         316| 1.9445783374712677|    1.8922155688622755|[1.8922155688622755]|\n",
      "|   100|     48|          0| 250.8536283984375|       64218.52887|         256| 0.8064724578674192|     0.807570977917981| [0.807570977917981]|\n",
      "|100007|     42|          1|259.09136056603774|       13731.84211|          53|0.37416637476862447|    0.3464052287581699|[0.3464052287581699]|\n",
      "|100007|     43|          1|271.57287833333334|        1629.43727|           6|0.11866122964036906|   0.11320754716981132|[0.11320754716981...|\n",
      "|100007|     44|          1|        250.114158|        2501.14158|          10|  1.534972610513567|    1.6666666666666667|[1.6666666666666667]|\n",
      "|100007|     45|          1| 242.2489160869565|5571.7250699999995|          23| 2.2276728013133904|                   2.3|               [2.3]|\n",
      "|100007|     47|          1| 255.1565027272727|        2806.72153|          11|   3.46317646421267|                  2.75|              [2.75]|\n",
      "|100007|     48|          1| 249.9642995705522| 40744.18083000001|         163| 14.516645272607438|    14.818181818181818|[14.818181818181818]|\n",
      "|100008|     42|          0|241.30337534351148|31610.742170000005|         131| 1.0841847720452336|    1.1293103448275863|[1.1293103448275863]|\n",
      "|100008|     47|          0| 248.8018277189409|122161.69740999998|         491| 3.8645627727759218|    3.7480916030534353|[3.7480916030534353]|\n",
      "|100008|     48|          0| 249.0624991176471|        8468.12497|          34|0.06931898581581769|   0.06924643584521385|[0.06924643584521...|\n",
      "|100010|     45|          0| 249.4274575572519|32674.996939999997|         131| 1.5299959780557664|    1.4719101123595506|[1.4719101123595506]|\n",
      "|100010|     47|          0|249.96961499999998| 5999.270759999999|          24|0.18360432507511046|     0.183206106870229| [0.183206106870229]|\n",
      "|100014|     42|          1| 272.9608072807017|31117.532029999995|         114|  1.440007213101735|    1.4074074074074074|[1.4074074074074074]|\n",
      "|100014|     47|          1|242.60090683333334|       14556.05441|          60|  34.60810911375802|                  30.0|              [30.0]|\n",
      "|100021|     44|          1| 275.0853822222222|        7427.30532|          27|0.44496114555846333|   0.39705882352941174|[0.39705882352941...|\n",
      "+------+-------+-----------+------------------+------------------+------------+-------------------+----------------------+--------------------+\n",
      "only showing top 20 rows\n",
      "\n"
     ]
    }
   ],
   "source": [
    "# https://www.geeksforgeeks.org/logistic-regression-using-pyspark-python/\n",
    "\n",
    "# Split dataset into training and test\n",
    "df_train, df_test = df_transformed.randomSplit([0.8, 0.2], seed=42)\n",
    "\n",
    "model = lr.fit(df_train)\n",
    "\n",
    "predictions = model.transform(df_test)\n",
    "\n",
    "df_train.show()"
   ]
  },
  {
   "cell_type": "code",
   "execution_count": 96,
   "metadata": {},
   "outputs": [
    {
     "name": "stdout",
     "output_type": "stream",
     "text": [
      "+------+-------+-----------+------------------+------------------+------------+--------------------+----------------------+--------------------+--------------------+--------------------+----------+\n",
      "|userId|weekNum|userChurned|        avg_length|        sum_length|played_songs|  delta_playtime_wow|delta_songs_played_wow|            features|       rawPrediction|         probability|prediction|\n",
      "+------+-------+-----------+------------------+------------------+------------+--------------------+----------------------+--------------------+--------------------+--------------------+----------+\n",
      "|   100|     43|          0|249.55147358722337|101567.44974999991|         407|   2.042258737910301|     2.065989847715736| [2.065989847715736]|[1.75778482385866...|[0.85293200790743...|       0.0|\n",
      "|   100|     47|          0|251.19532356466868| 79628.91756999998|         317|  0.9798185823454033|    1.0031645569620253|[1.0031645569620253]|[1.74793546106283...|[0.85169221401587...|       0.0|\n",
      "|100005|     42|          1|252.40547085714283|       17668.38296|          70|   0.912211317132697|    0.8333333333333334|[0.8333333333333334]|[1.74636160941465...|[0.85149330668685...|       0.0|\n",
      "|100007|     46|          1|202.61178999999998| 810.4471599999999|           4| 0.14545713397879484|   0.17391304347826086|[0.17391304347826...|[1.74025066180527...|[0.85071890137758...|       0.0|\n",
      "|100010|     42|          0|239.95801449438193| 21356.26328999999|          89|  3.0904675928064673|     2.870967741935484| [2.870967741935484]|[1.76524467581342...|[0.85386530273444...|       0.0|\n",
      "|100014|     45|          1|         210.29832|         420.59664|           2|0.013516388111837032|  0.017543859649122806|[0.01754385964912...|[1.73880156491699...|[0.85053477795964...|       0.0|\n",
      "|100022|     43|          1|228.43814898305087|       13477.85079|          59|   59.88277716629056|                  59.0|              [59.0]|[2.28540091117805...|[0.90766070982252...|       0.0|\n",
      "|   101|     41|          1| 248.5902509113096| 305517.4183699995|        1229|  2.7386755915554017|    2.7433035714285716|[2.7433035714285716]|[1.76406159262723...|[0.85371761657451...|       0.0|\n",
      "|    11|     46|          0|  258.143859068323| 41561.16131000001|         161|  2.1979432851845973|    1.9166666666666667|[1.9166666666666667]|[1.75640102334434...|[0.85275834056852...|       0.0|\n",
      "|    11|     47|          0|239.94564619718312|17036.140880000003|          71|  0.4099053140726591|    0.4409937888198758|[0.4409937888198758]|[1.74272573948694...|[0.85103295419118...|       0.0|\n",
      "|    11|     48|          0|      243.57179125|        7794.29732|          32|  0.4575154299851034|    0.4507042253521127|[0.4507042253521127]|[1.74281572757166...|[0.85104436214810...|       0.0|\n",
      "|   110|     45|          0|264.92281210937506| 33910.11995000001|         128|  115.82118225650359|                 128.0|             [128.0]|[2.92483435223836...|[0.94906052216009...|       0.0|\n",
      "|   112|     43|          0| 251.5391385714286| 7043.095880000001|          28|  0.5721941561139962|    0.5384615384615384|[0.5384615384615384]|[1.74362898787166...|[0.85114742798254...|       0.0|\n",
      "|   112|     48|          0| 287.6781265217391| 6616.596909999999|          23| 0.33817456883704916|    0.2839506172839506|[0.2839506172839506]|[1.74127039665258...|[0.85084835757148...|       0.0|\n",
      "|   113|     48|          0|238.38970911392406|       37665.57404|         158|  1.7147813734075892|                 1.975|             [1.975]|[1.75694160717132...|[0.85282620417051...|       0.0|\n",
      "|   120|     48|          0|240.61432471264382| 20933.44625000001|          87|  0.6489879088258499|    0.7016129032258065|[0.7016129032258065]|[1.74514093625695...|[0.85133888333140...|       0.0|\n",
      "|   124|     48|          0|251.29641740740712|54280.026159999936|         216|  0.9569364635307012|    0.9642857142857143|[0.9642857142857143]|[1.74757516494461...|[0.85164669831428...|       0.0|\n",
      "|   138|     42|          0|241.84912950310576| 38937.70985000003|         161|   5.765869443365503|    6.1923076923076925|[6.1923076923076925]|[1.79602403571774...|[0.85766425404923...|       0.0|\n",
      "|   140|     44|          0|242.44931088819217| 232023.9905199999|         957|  1.2339475017645714|    1.2444733420026008|[1.2444733420026008]|[1.75017170608858...|[0.85197445781545...|       0.0|\n",
      "|   140|     48|          0| 248.9939323214284| 97605.62146999993|         392|  0.6033891003409522|    0.6105919003115264|[0.6105919003115264]|[1.74429743084967...|[0.85123209681226...|       0.0|\n",
      "+------+-------+-----------+------------------+------------------+------------+--------------------+----------------------+--------------------+--------------------+--------------------+----------+\n",
      "only showing top 20 rows\n",
      "\n"
     ]
    }
   ],
   "source": [
    "predictions.show()"
   ]
  },
  {
   "cell_type": "code",
   "execution_count": 97,
   "metadata": {},
   "outputs": [
    {
     "data": {
      "text/plain": [
       "0.5"
      ]
     },
     "execution_count": 97,
     "metadata": {},
     "output_type": "execute_result"
    }
   ],
   "source": [
    "from pyspark.ml.evaluation import BinaryClassificationEvaluator\n",
    "\n",
    "evaluator = BinaryClassificationEvaluator(rawPredictionCol=\"prediction\", labelCol=\"userChurned\")\n",
    "\n",
    "evaluator.evaluate(predictions)"
   ]
  },
  {
   "cell_type": "markdown",
   "metadata": {},
   "source": [
    "# Modeling\n",
    "Split the full dataset into train, test, and validation sets. Test out several of the machine learning methods you learned. Evaluate the accuracy of the various models, tuning parameters as necessary. Determine your winning model based on test accuracy and report results on the validation set. Since the churned users are a fairly small subset, I suggest using F1 score as the metric to optimize."
   ]
  },
  {
   "cell_type": "code",
   "execution_count": null,
   "metadata": {},
   "outputs": [],
   "source": []
  },
  {
   "cell_type": "markdown",
   "metadata": {},
   "source": [
    "# Final Steps\n",
    "Clean up your code, adding comments and renaming variables to make the code easier to read and maintain. Refer to the Spark Project Overview page and Data Scientist Capstone Project Rubric to make sure you are including all components of the capstone project and meet all expectations. Remember, this includes thorough documentation in a README file in a Github repository, as well as a web app or blog post."
   ]
  },
  {
   "cell_type": "code",
   "execution_count": null,
   "metadata": {},
   "outputs": [],
   "source": []
  }
 ],
 "metadata": {
  "kernelspec": {
   "display_name": "Python 3",
   "language": "python",
   "name": "python3"
  },
  "language_info": {
   "codemirror_mode": {
    "name": "ipython",
    "version": 3
   },
   "file_extension": ".py",
   "mimetype": "text/x-python",
   "name": "python",
   "nbconvert_exporter": "python",
   "pygments_lexer": "ipython3",
   "version": "3.10.8"
  }
 },
 "nbformat": 4,
 "nbformat_minor": 2
}
