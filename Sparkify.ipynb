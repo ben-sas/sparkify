{
 "cells": [
  {
   "cell_type": "markdown",
   "metadata": {},
   "source": [
    "# Sparkify Project Workspace\n",
    "This workspace contains a tiny subset (128MB) of the full dataset available (12GB). Feel free to use this workspace to build your project, or to explore a smaller subset with Spark before deploying your cluster on the cloud. Instructions for setting up your Spark cluster is included in the last lesson of the Extracurricular Spark Course content.\n",
    "\n",
    "You can follow the steps below to guide your data analysis and model building portion of this project."
   ]
  },
  {
   "cell_type": "code",
   "execution_count": 1,
   "metadata": {},
   "outputs": [],
   "source": [
    "import findspark\n",
    "findspark.init()\n",
    "\n",
    "from pyspark.sql import SparkSession\n",
    "from pyspark.sql.functions import udf\n",
    "from pyspark.sql.types import StringType\n",
    "from pyspark.sql.types import IntegerType\n",
    "from pyspark.sql.functions import desc\n",
    "from pyspark.sql.functions import asc\n",
    "from pyspark.sql.functions import sum as Fsum, isnan, to_date, to_timestamp, from_unixtime, count\n",
    "from pyspark.sql.window import Window\n",
    "\n",
    "\n",
    "import pyspark.sql.functions as F\n",
    "from pyspark.sql.functions import col, count_distinct, countDistinct\n",
    "\n",
    "from pyspark.sql.types import LongType, TimestampType\n",
    "from pyspark.sql.functions import substring, from_unixtime\n",
    "\n",
    "import datetime\n",
    "\n",
    "import numpy as np\n",
    "import pandas as pd\n",
    "%matplotlib inline\n",
    "import matplotlib.pyplot as plt"
   ]
  },
  {
   "cell_type": "code",
   "execution_count": 2,
   "metadata": {},
   "outputs": [],
   "source": [
    "spark = SparkSession \\\n",
    "    .builder \\\n",
    "    .appName(\"Wrangling Data\") \\\n",
    "    .config(\"spark.driver.bindAddress\", \"127.0.0.1\") \\\n",
    "    .getOrCreate()"
   ]
  },
  {
   "cell_type": "markdown",
   "metadata": {},
   "source": [
    "# Load and Clean Dataset\n",
    "In this workspace, the mini-dataset file is `mini_sparkify_event_data.json`. Load and clean the dataset, checking for invalid or missing data - for example, records without userids or sessionids. "
   ]
  },
  {
   "cell_type": "code",
   "execution_count": 3,
   "metadata": {},
   "outputs": [],
   "source": [
    "path = \"mini_sparkify_event_data.json\"\n",
    "df = spark.read.json(path)\n",
    "df_original = df"
   ]
  },
  {
   "cell_type": "code",
   "execution_count": 4,
   "metadata": {},
   "outputs": [
    {
     "name": "stdout",
     "output_type": "stream",
     "text": [
      "root\n",
      " |-- artist: string (nullable = true)\n",
      " |-- auth: string (nullable = true)\n",
      " |-- firstName: string (nullable = true)\n",
      " |-- gender: string (nullable = true)\n",
      " |-- itemInSession: long (nullable = true)\n",
      " |-- lastName: string (nullable = true)\n",
      " |-- length: double (nullable = true)\n",
      " |-- level: string (nullable = true)\n",
      " |-- location: string (nullable = true)\n",
      " |-- method: string (nullable = true)\n",
      " |-- page: string (nullable = true)\n",
      " |-- registration: long (nullable = true)\n",
      " |-- sessionId: long (nullable = true)\n",
      " |-- song: string (nullable = true)\n",
      " |-- status: long (nullable = true)\n",
      " |-- ts: long (nullable = true)\n",
      " |-- userAgent: string (nullable = true)\n",
      " |-- userId: string (nullable = true)\n",
      "\n"
     ]
    }
   ],
   "source": [
    "df.printSchema()"
   ]
  },
  {
   "cell_type": "code",
   "execution_count": 5,
   "metadata": {},
   "outputs": [
    {
     "data": {
      "text/html": [
       "<div>\n",
       "<style scoped>\n",
       "    .dataframe tbody tr th:only-of-type {\n",
       "        vertical-align: middle;\n",
       "    }\n",
       "\n",
       "    .dataframe tbody tr th {\n",
       "        vertical-align: top;\n",
       "    }\n",
       "\n",
       "    .dataframe thead th {\n",
       "        text-align: right;\n",
       "    }\n",
       "</style>\n",
       "<table border=\"1\" class=\"dataframe\">\n",
       "  <thead>\n",
       "    <tr style=\"text-align: right;\">\n",
       "      <th></th>\n",
       "      <th>artist</th>\n",
       "      <th>auth</th>\n",
       "      <th>firstName</th>\n",
       "      <th>gender</th>\n",
       "      <th>itemInSession</th>\n",
       "      <th>lastName</th>\n",
       "      <th>length</th>\n",
       "      <th>level</th>\n",
       "      <th>location</th>\n",
       "      <th>method</th>\n",
       "      <th>page</th>\n",
       "      <th>registration</th>\n",
       "      <th>sessionId</th>\n",
       "      <th>song</th>\n",
       "      <th>status</th>\n",
       "      <th>ts</th>\n",
       "      <th>userAgent</th>\n",
       "      <th>userId</th>\n",
       "    </tr>\n",
       "  </thead>\n",
       "  <tbody>\n",
       "    <tr>\n",
       "      <th>0</th>\n",
       "      <td>Martha Tilston</td>\n",
       "      <td>Logged In</td>\n",
       "      <td>Colin</td>\n",
       "      <td>M</td>\n",
       "      <td>50</td>\n",
       "      <td>Freeman</td>\n",
       "      <td>277.89016</td>\n",
       "      <td>paid</td>\n",
       "      <td>Bakersfield, CA</td>\n",
       "      <td>PUT</td>\n",
       "      <td>NextSong</td>\n",
       "      <td>1538173362000</td>\n",
       "      <td>29</td>\n",
       "      <td>Rockpools</td>\n",
       "      <td>200</td>\n",
       "      <td>1538352117000</td>\n",
       "      <td>Mozilla/5.0 (Windows NT 6.1; WOW64; rv:31.0) G...</td>\n",
       "      <td>30</td>\n",
       "    </tr>\n",
       "    <tr>\n",
       "      <th>1</th>\n",
       "      <td>Five Iron Frenzy</td>\n",
       "      <td>Logged In</td>\n",
       "      <td>Micah</td>\n",
       "      <td>M</td>\n",
       "      <td>79</td>\n",
       "      <td>Long</td>\n",
       "      <td>236.09424</td>\n",
       "      <td>free</td>\n",
       "      <td>Boston-Cambridge-Newton, MA-NH</td>\n",
       "      <td>PUT</td>\n",
       "      <td>NextSong</td>\n",
       "      <td>1538331630000</td>\n",
       "      <td>8</td>\n",
       "      <td>Canada</td>\n",
       "      <td>200</td>\n",
       "      <td>1538352180000</td>\n",
       "      <td>\"Mozilla/5.0 (Windows NT 6.1; WOW64) AppleWebK...</td>\n",
       "      <td>9</td>\n",
       "    </tr>\n",
       "    <tr>\n",
       "      <th>2</th>\n",
       "      <td>Adam Lambert</td>\n",
       "      <td>Logged In</td>\n",
       "      <td>Colin</td>\n",
       "      <td>M</td>\n",
       "      <td>51</td>\n",
       "      <td>Freeman</td>\n",
       "      <td>282.82730</td>\n",
       "      <td>paid</td>\n",
       "      <td>Bakersfield, CA</td>\n",
       "      <td>PUT</td>\n",
       "      <td>NextSong</td>\n",
       "      <td>1538173362000</td>\n",
       "      <td>29</td>\n",
       "      <td>Time For Miracles</td>\n",
       "      <td>200</td>\n",
       "      <td>1538352394000</td>\n",
       "      <td>Mozilla/5.0 (Windows NT 6.1; WOW64; rv:31.0) G...</td>\n",
       "      <td>30</td>\n",
       "    </tr>\n",
       "    <tr>\n",
       "      <th>3</th>\n",
       "      <td>Enigma</td>\n",
       "      <td>Logged In</td>\n",
       "      <td>Micah</td>\n",
       "      <td>M</td>\n",
       "      <td>80</td>\n",
       "      <td>Long</td>\n",
       "      <td>262.71302</td>\n",
       "      <td>free</td>\n",
       "      <td>Boston-Cambridge-Newton, MA-NH</td>\n",
       "      <td>PUT</td>\n",
       "      <td>NextSong</td>\n",
       "      <td>1538331630000</td>\n",
       "      <td>8</td>\n",
       "      <td>Knocking On Forbidden Doors</td>\n",
       "      <td>200</td>\n",
       "      <td>1538352416000</td>\n",
       "      <td>\"Mozilla/5.0 (Windows NT 6.1; WOW64) AppleWebK...</td>\n",
       "      <td>9</td>\n",
       "    </tr>\n",
       "    <tr>\n",
       "      <th>4</th>\n",
       "      <td>Daft Punk</td>\n",
       "      <td>Logged In</td>\n",
       "      <td>Colin</td>\n",
       "      <td>M</td>\n",
       "      <td>52</td>\n",
       "      <td>Freeman</td>\n",
       "      <td>223.60771</td>\n",
       "      <td>paid</td>\n",
       "      <td>Bakersfield, CA</td>\n",
       "      <td>PUT</td>\n",
       "      <td>NextSong</td>\n",
       "      <td>1538173362000</td>\n",
       "      <td>29</td>\n",
       "      <td>Harder Better Faster Stronger</td>\n",
       "      <td>200</td>\n",
       "      <td>1538352676000</td>\n",
       "      <td>Mozilla/5.0 (Windows NT 6.1; WOW64; rv:31.0) G...</td>\n",
       "      <td>30</td>\n",
       "    </tr>\n",
       "  </tbody>\n",
       "</table>\n",
       "</div>"
      ],
      "text/plain": [
       "             artist       auth firstName gender  itemInSession lastName  \\\n",
       "0    Martha Tilston  Logged In     Colin      M             50  Freeman   \n",
       "1  Five Iron Frenzy  Logged In     Micah      M             79     Long   \n",
       "2      Adam Lambert  Logged In     Colin      M             51  Freeman   \n",
       "3            Enigma  Logged In     Micah      M             80     Long   \n",
       "4         Daft Punk  Logged In     Colin      M             52  Freeman   \n",
       "\n",
       "      length level                        location method      page  \\\n",
       "0  277.89016  paid                 Bakersfield, CA    PUT  NextSong   \n",
       "1  236.09424  free  Boston-Cambridge-Newton, MA-NH    PUT  NextSong   \n",
       "2  282.82730  paid                 Bakersfield, CA    PUT  NextSong   \n",
       "3  262.71302  free  Boston-Cambridge-Newton, MA-NH    PUT  NextSong   \n",
       "4  223.60771  paid                 Bakersfield, CA    PUT  NextSong   \n",
       "\n",
       "    registration  sessionId                           song  status  \\\n",
       "0  1538173362000         29                      Rockpools     200   \n",
       "1  1538331630000          8                         Canada     200   \n",
       "2  1538173362000         29              Time For Miracles     200   \n",
       "3  1538331630000          8    Knocking On Forbidden Doors     200   \n",
       "4  1538173362000         29  Harder Better Faster Stronger     200   \n",
       "\n",
       "              ts                                          userAgent userId  \n",
       "0  1538352117000  Mozilla/5.0 (Windows NT 6.1; WOW64; rv:31.0) G...     30  \n",
       "1  1538352180000  \"Mozilla/5.0 (Windows NT 6.1; WOW64) AppleWebK...      9  \n",
       "2  1538352394000  Mozilla/5.0 (Windows NT 6.1; WOW64; rv:31.0) G...     30  \n",
       "3  1538352416000  \"Mozilla/5.0 (Windows NT 6.1; WOW64) AppleWebK...      9  \n",
       "4  1538352676000  Mozilla/5.0 (Windows NT 6.1; WOW64; rv:31.0) G...     30  "
      ]
     },
     "execution_count": 5,
     "metadata": {},
     "output_type": "execute_result"
    }
   ],
   "source": [
    "# Easier visual exploration as Pandas data frame\n",
    "df.limit(5).toPandas()\n",
    "\n",
    "# Questions to explore:\n",
    "# sessionId unique across users? (can two users have the same sessionId?)\n",
    "# what is the column \"method\""
   ]
  },
  {
   "cell_type": "code",
   "execution_count": 6,
   "metadata": {},
   "outputs": [
    {
     "name": "stdout",
     "output_type": "stream",
     "text": [
      "+------+---------------------+\n",
      "|userId|count(DISTINCT level)|\n",
      "+------+---------------------+\n",
      "|100010|                    1|\n",
      "|200002|                    2|\n",
      "|   125|                    1|\n",
      "|     7|                    1|\n",
      "|   124|                    1|\n",
      "+------+---------------------+\n",
      "only showing top 5 rows\n",
      "\n"
     ]
    }
   ],
   "source": [
    "# Do some users switch between subscription levels? > yes\n",
    "df.groupby(\"userId\").agg(F.count_distinct(\"level\")).show(5)"
   ]
  },
  {
   "cell_type": "markdown",
   "metadata": {},
   "source": [
    "#### Extract State from Location"
   ]
  },
  {
   "cell_type": "code",
   "execution_count": 7,
   "metadata": {},
   "outputs": [
    {
     "name": "stdout",
     "output_type": "stream",
     "text": [
      "115 unique locations.\n",
      "+--------------------+\n",
      "|            location|\n",
      "+--------------------+\n",
      "|     Gainesville, FL|\n",
      "|Atlantic City-Ham...|\n",
      "|Kingsport-Bristol...|\n",
      "|New Haven-Milford...|\n",
      "|         Dubuque, IA|\n",
      "+--------------------+\n",
      "only showing top 5 rows\n",
      "\n"
     ]
    }
   ],
   "source": [
    "# Which locations are contained in the data set?\n",
    "print(f\"{df.select('location').distinct().count()} unique locations.\")\n",
    "\n",
    "df.select(\"location\").distinct().show(5)\n",
    "\n",
    "# --> Only locations within the USA are contained"
   ]
  },
  {
   "cell_type": "code",
   "execution_count": 8,
   "metadata": {},
   "outputs": [
    {
     "name": "stdout",
     "output_type": "stream",
     "text": [
      "+----------------+---------+---------+------+-------------+--------+---------+-----+--------------------+------+--------+-------------+---------+--------------------+------+-------------+--------------------+------+-----+\n",
      "|          artist|     auth|firstName|gender|itemInSession|lastName|   length|level|            location|method|    page| registration|sessionId|                song|status|           ts|           userAgent|userId|state|\n",
      "+----------------+---------+---------+------+-------------+--------+---------+-----+--------------------+------+--------+-------------+---------+--------------------+------+-------------+--------------------+------+-----+\n",
      "|  Martha Tilston|Logged In|    Colin|     M|           50| Freeman|277.89016| paid|     Bakersfield, CA|   PUT|NextSong|1538173362000|       29|           Rockpools|   200|1538352117000|Mozilla/5.0 (Wind...|    30|   CA|\n",
      "|Five Iron Frenzy|Logged In|    Micah|     M|           79|    Long|236.09424| free|Boston-Cambridge-...|   PUT|NextSong|1538331630000|        8|              Canada|   200|1538352180000|\"Mozilla/5.0 (Win...|     9|MA-NH|\n",
      "|    Adam Lambert|Logged In|    Colin|     M|           51| Freeman| 282.8273| paid|     Bakersfield, CA|   PUT|NextSong|1538173362000|       29|   Time For Miracles|   200|1538352394000|Mozilla/5.0 (Wind...|    30|   CA|\n",
      "|          Enigma|Logged In|    Micah|     M|           80|    Long|262.71302| free|Boston-Cambridge-...|   PUT|NextSong|1538331630000|        8|Knocking On Forbi...|   200|1538352416000|\"Mozilla/5.0 (Win...|     9|MA-NH|\n",
      "|       Daft Punk|Logged In|    Colin|     M|           52| Freeman|223.60771| paid|     Bakersfield, CA|   PUT|NextSong|1538173362000|       29|Harder Better Fas...|   200|1538352676000|Mozilla/5.0 (Wind...|    30|   CA|\n",
      "+----------------+---------+---------+------+-------------+--------+---------+-----+--------------------+------+--------+-------------+---------+--------------------+------+-------------+--------------------+------+-----+\n",
      "only showing top 5 rows\n",
      "\n",
      "+------+--------------+\n",
      "|userId|distinct_state|\n",
      "+------+--------------+\n",
      "|100010|             1|\n",
      "|200002|             1|\n",
      "|   125|             1|\n",
      "|    51|             1|\n",
      "|   124|             1|\n",
      "|     7|             1|\n",
      "|    15|             1|\n",
      "|    54|             1|\n",
      "|   155|             1|\n",
      "|   132|             1|\n",
      "|   154|             1|\n",
      "|100014|             1|\n",
      "|    11|             1|\n",
      "|   101|             1|\n",
      "|   138|             1|\n",
      "|300017|             1|\n",
      "|    69|             1|\n",
      "|    29|             1|\n",
      "|100021|             1|\n",
      "|    42|             1|\n",
      "+------+--------------+\n",
      "only showing top 20 rows\n",
      "\n"
     ]
    }
   ],
   "source": [
    "# Extract state with regex\n",
    "\n",
    "# https://stackoverflow.com/questions/4419000/regex-match-everything-after-question-mark\n",
    "df = df.withColumn(\"state\", F.regexp_extract(df.location, \"\\, (.*)\", 1))\n",
    "df.show(5)\n",
    "\n",
    "# Are there users who used the service from multiple states? --> no\n",
    "df.groupBy(\"userId\").agg(F.count_distinct(\"state\").alias(\"distinct_state\")).sort(\"distinct_state\", ascending=False).show()"
   ]
  },
  {
   "cell_type": "markdown",
   "metadata": {},
   "source": [
    "#### Extract Device"
   ]
  },
  {
   "cell_type": "code",
   "execution_count": 9,
   "metadata": {},
   "outputs": [
    {
     "name": "stdout",
     "output_type": "stream",
     "text": [
      "Distinct user agents: 57\n",
      "+--------------------+\n",
      "|           userAgent|\n",
      "+--------------------+\n",
      "|\"Mozilla/5.0 (Win...|\n",
      "|Mozilla/5.0 (X11;...|\n",
      "|\"Mozilla/5.0 (Mac...|\n",
      "|Mozilla/5.0 (Wind...|\n",
      "|Mozilla/5.0 (Wind...|\n",
      "+--------------------+\n",
      "only showing top 5 rows\n",
      "\n"
     ]
    }
   ],
   "source": [
    "print(f'Distinct user agents: {df.select(\"userAgent\").distinct().count()}') # there are 57 distinct user agents (OS & browser combinations)\n",
    "\n",
    "df.select(\"userAgent\").distinct().show(5)"
   ]
  },
  {
   "cell_type": "code",
   "execution_count": 10,
   "metadata": {},
   "outputs": [
    {
     "name": "stdout",
     "output_type": "stream",
     "text": [
      "+-------------------+------+\n",
      "|deviceGroupDetailed| count|\n",
      "+-------------------+------+\n",
      "|               iPad| 11381|\n",
      "|             iPhone| 11192|\n",
      "|              Linux|  8961|\n",
      "|              other|  8346|\n",
      "|          MacIntosh|102749|\n",
      "|            Windows|143871|\n",
      "+-------------------+------+\n",
      "\n",
      "+-----------+------+\n",
      "|deviceGroup| count|\n",
      "+-----------+------+\n",
      "|      Linux|  8961|\n",
      "|      other|  8346|\n",
      "|      Apple|125322|\n",
      "|    Windows|143871|\n",
      "+-----------+------+\n",
      "\n"
     ]
    }
   ],
   "source": [
    "# Keywords to group by (manual analysis of the distinct user agents): Windows, Macintosh, iPhone, Linux, iPad\n",
    "\n",
    "# Create dummy variables for these groups with text search\n",
    "\n",
    "# https://stackoverflow.com/questions/40161879/pyspark-withcolumn-with-two-conditions-and-three-outcomes\n",
    "device_detailed =   F.when(F.locate(\"Windows\", df.userAgent) > 0, \"Windows\")\\\n",
    "                        .otherwise(F.when(F.locate(\"Macintosh\", df.userAgent) > 0, \"MacIntosh\")\\\n",
    "                        .otherwise(F.when(F.locate(\"iPhone\", df.userAgent) > 0, \"iPhone\")\\\n",
    "                        .otherwise(F.when(F.locate(\"Linux\", df.userAgent) > 0, \"Linux\")\\\n",
    "                        .otherwise(F.when(F.locate(\"iPad\", df.userAgent) > 0, \"iPad\")\n",
    "                        .otherwise(\"other\")\n",
    "                    ))))\n",
    "\n",
    "\n",
    "device_group =   F.when(F.locate(\"Windows\", df.userAgent) > 0, \"Windows\")\\\n",
    "                    .otherwise(F.when(\n",
    "                                        (F.locate(\"Macintosh\", df.userAgent) > 0) | \n",
    "                                        (F.locate(\"iPhone\", df.userAgent) > 0) | \n",
    "                                        (F.locate(\"iPad\", df.userAgent) > 0), \"Apple\")\\\n",
    "                    .otherwise(F.when(F.locate(\"Linux\", df.userAgent) > 0, \"Linux\")\\\n",
    "                    .otherwise(\"other\")))\n",
    "                \n",
    "\n",
    "df = df.withColumn(\"deviceGroup\", device_group)\n",
    "df = df.withColumn(\"deviceGroupDetailed\", device_detailed)\n",
    "\n",
    "\n",
    "# To be tested whether the more detailed grouping makes sense since iPad & iPhone represent a small percentage\n",
    "df.groupBy(\"deviceGroupDetailed\").count().show()\n",
    "\n",
    "df.groupBy(\"deviceGroup\").count().show()"
   ]
  },
  {
   "cell_type": "code",
   "execution_count": 11,
   "metadata": {},
   "outputs": [
    {
     "name": "stdout",
     "output_type": "stream",
     "text": [
      "+------+--------------+\n",
      "|userId|unique_devices|\n",
      "+------+--------------+\n",
      "|100010|             1|\n",
      "|200002|             1|\n",
      "|   125|             1|\n",
      "|    51|             1|\n",
      "|     7|             1|\n",
      "+------+--------------+\n",
      "only showing top 5 rows\n",
      "\n"
     ]
    }
   ],
   "source": [
    "# Do users use multiple devices to access the service? --> no\n",
    "\n",
    "df.groupBy(\"userId\").agg(F.count_distinct(\"deviceGroup\").alias(\"unique_devices\")).sort(\"unique_devices\", ascending=False).show(5)"
   ]
  },
  {
   "cell_type": "markdown",
   "metadata": {},
   "source": [
    "### Add other columns based on visited pages (e.g. Error, Thumbs Down, Help)"
   ]
  },
  {
   "cell_type": "code",
   "execution_count": 12,
   "metadata": {},
   "outputs": [
    {
     "data": {
      "text/html": [
       "<div>\n",
       "<style scoped>\n",
       "    .dataframe tbody tr th:only-of-type {\n",
       "        vertical-align: middle;\n",
       "    }\n",
       "\n",
       "    .dataframe tbody tr th {\n",
       "        vertical-align: top;\n",
       "    }\n",
       "\n",
       "    .dataframe thead th {\n",
       "        text-align: right;\n",
       "    }\n",
       "</style>\n",
       "<table border=\"1\" class=\"dataframe\">\n",
       "  <thead>\n",
       "    <tr style=\"text-align: right;\">\n",
       "      <th></th>\n",
       "      <th>page</th>\n",
       "      <th>count</th>\n",
       "    </tr>\n",
       "  </thead>\n",
       "  <tbody>\n",
       "    <tr>\n",
       "      <th>0</th>\n",
       "      <td>NextSong</td>\n",
       "      <td>228108</td>\n",
       "    </tr>\n",
       "    <tr>\n",
       "      <th>1</th>\n",
       "      <td>Home</td>\n",
       "      <td>14457</td>\n",
       "    </tr>\n",
       "    <tr>\n",
       "      <th>2</th>\n",
       "      <td>Thumbs Up</td>\n",
       "      <td>12551</td>\n",
       "    </tr>\n",
       "    <tr>\n",
       "      <th>3</th>\n",
       "      <td>Add to Playlist</td>\n",
       "      <td>6526</td>\n",
       "    </tr>\n",
       "    <tr>\n",
       "      <th>4</th>\n",
       "      <td>Add Friend</td>\n",
       "      <td>4277</td>\n",
       "    </tr>\n",
       "    <tr>\n",
       "      <th>5</th>\n",
       "      <td>Roll Advert</td>\n",
       "      <td>3933</td>\n",
       "    </tr>\n",
       "    <tr>\n",
       "      <th>6</th>\n",
       "      <td>Login</td>\n",
       "      <td>3241</td>\n",
       "    </tr>\n",
       "    <tr>\n",
       "      <th>7</th>\n",
       "      <td>Logout</td>\n",
       "      <td>3226</td>\n",
       "    </tr>\n",
       "    <tr>\n",
       "      <th>8</th>\n",
       "      <td>Thumbs Down</td>\n",
       "      <td>2546</td>\n",
       "    </tr>\n",
       "    <tr>\n",
       "      <th>9</th>\n",
       "      <td>Downgrade</td>\n",
       "      <td>2055</td>\n",
       "    </tr>\n",
       "    <tr>\n",
       "      <th>10</th>\n",
       "      <td>Help</td>\n",
       "      <td>1726</td>\n",
       "    </tr>\n",
       "    <tr>\n",
       "      <th>11</th>\n",
       "      <td>Settings</td>\n",
       "      <td>1514</td>\n",
       "    </tr>\n",
       "    <tr>\n",
       "      <th>12</th>\n",
       "      <td>About</td>\n",
       "      <td>924</td>\n",
       "    </tr>\n",
       "    <tr>\n",
       "      <th>13</th>\n",
       "      <td>Upgrade</td>\n",
       "      <td>499</td>\n",
       "    </tr>\n",
       "    <tr>\n",
       "      <th>14</th>\n",
       "      <td>Save Settings</td>\n",
       "      <td>310</td>\n",
       "    </tr>\n",
       "    <tr>\n",
       "      <th>15</th>\n",
       "      <td>Error</td>\n",
       "      <td>258</td>\n",
       "    </tr>\n",
       "    <tr>\n",
       "      <th>16</th>\n",
       "      <td>Submit Upgrade</td>\n",
       "      <td>159</td>\n",
       "    </tr>\n",
       "    <tr>\n",
       "      <th>17</th>\n",
       "      <td>Submit Downgrade</td>\n",
       "      <td>63</td>\n",
       "    </tr>\n",
       "    <tr>\n",
       "      <th>18</th>\n",
       "      <td>Cancel</td>\n",
       "      <td>52</td>\n",
       "    </tr>\n",
       "    <tr>\n",
       "      <th>19</th>\n",
       "      <td>Cancellation Confirmation</td>\n",
       "      <td>52</td>\n",
       "    </tr>\n",
       "    <tr>\n",
       "      <th>20</th>\n",
       "      <td>Register</td>\n",
       "      <td>18</td>\n",
       "    </tr>\n",
       "    <tr>\n",
       "      <th>21</th>\n",
       "      <td>Submit Registration</td>\n",
       "      <td>5</td>\n",
       "    </tr>\n",
       "  </tbody>\n",
       "</table>\n",
       "</div>"
      ],
      "text/plain": [
       "                         page   count\n",
       "0                    NextSong  228108\n",
       "1                        Home   14457\n",
       "2                   Thumbs Up   12551\n",
       "3             Add to Playlist    6526\n",
       "4                  Add Friend    4277\n",
       "5                 Roll Advert    3933\n",
       "6                       Login    3241\n",
       "7                      Logout    3226\n",
       "8                 Thumbs Down    2546\n",
       "9                   Downgrade    2055\n",
       "10                       Help    1726\n",
       "11                   Settings    1514\n",
       "12                      About     924\n",
       "13                    Upgrade     499\n",
       "14              Save Settings     310\n",
       "15                      Error     258\n",
       "16             Submit Upgrade     159\n",
       "17           Submit Downgrade      63\n",
       "18                     Cancel      52\n",
       "19  Cancellation Confirmation      52\n",
       "20                   Register      18\n",
       "21        Submit Registration       5"
      ]
     },
     "execution_count": 12,
     "metadata": {},
     "output_type": "execute_result"
    }
   ],
   "source": [
    "# Which pages do users interact with the most?\n",
    "df.groupBy(\"page\").count().sort(\"count\", ascending=False).toPandas()"
   ]
  },
  {
   "cell_type": "code",
   "execution_count": 13,
   "metadata": {},
   "outputs": [
    {
     "name": "stdout",
     "output_type": "stream",
     "text": [
      "+------+----+---------+------+-------------+--------+------+-----+--------+------+----+------------+---------+-----+------+------+---------+------+-----+-----------+-------------------+\n",
      "|artist|auth|firstName|gender|itemInSession|lastName|length|level|location|method|page|registration|sessionId| song|status|    ts|userAgent|userId|state|deviceGroup|deviceGroupDetailed|\n",
      "+------+----+---------+------+-------------+--------+------+-----+--------+------+----+------------+---------+-----+------+------+---------+------+-----+-----------+-------------------+\n",
      "| 17655|   4|      189|     2|         1322|     173| 14865|    2|     114|     2|  22|         225|     2354|58480|     3|277447|       56|   226|   58|          4|                  6|\n",
      "+------+----+---------+------+-------------+--------+------+-----+--------+------+----+------------+---------+-----+------+------+---------+------+-----+-----------+-------------------+\n",
      "\n"
     ]
    }
   ],
   "source": [
    "# Distinct values per column\n",
    "# https://stackoverflow.com/questions/40888946/spark-dataframe-count-distinct-values-of-every-column\n",
    "\n",
    "distinct_value_count = df.agg(*(F.countDistinct(F.col(c)).alias(c) for c in df.columns)).show()\n",
    "distinct_value_count"
   ]
  },
  {
   "cell_type": "markdown",
   "metadata": {},
   "source": [
    "## Cleanup & Prep of Timestamp and Date"
   ]
  },
  {
   "cell_type": "code",
   "execution_count": 14,
   "metadata": {},
   "outputs": [
    {
     "data": {
      "text/plain": [
       "0"
      ]
     },
     "execution_count": 14,
     "metadata": {},
     "output_type": "execute_result"
    }
   ],
   "source": [
    "# Check for null values in the timestamp column\n",
    "# https://stackoverflow.com/questions/48229043/python-pyspark-count-null-empty-and-nan\n",
    "df.filter((df[\"ts\"] == \"\") | df[\"ts\"].isNull() | isnan(df[\"ts\"])).count()"
   ]
  },
  {
   "cell_type": "code",
   "execution_count": 15,
   "metadata": {},
   "outputs": [
    {
     "name": "stdout",
     "output_type": "stream",
     "text": [
      "+----------------+---------+---------+------+-------------+--------+---------+-----+--------------------+------+--------+-------------+---------+--------------------+------+-------------+--------------------+------+-----+-----------+-------------------+----------+-------------------+----------+-------------------+-------+-----------+---+----+----+-------+\n",
      "|          artist|     auth|firstName|gender|itemInSession|lastName|   length|level|            location|method|    page| registration|sessionId|                song|status|           ts|           userAgent|userId|state|deviceGroup|deviceGroupDetailed|  ts_no_ms|             ts_str|   ts_date|          ts_tsType|weekday|day_of_week|day|hour|year|weekNum|\n",
      "+----------------+---------+---------+------+-------------+--------+---------+-----+--------------------+------+--------+-------------+---------+--------------------+------+-------------+--------------------+------+-----+-----------+-------------------+----------+-------------------+----------+-------------------+-------+-----------+---+----+----+-------+\n",
      "|  Martha Tilston|Logged In|    Colin|     M|           50| Freeman|277.89016| paid|     Bakersfield, CA|   PUT|NextSong|1538173362000|       29|           Rockpools|   200|1538352117000|Mozilla/5.0 (Wind...|    30|   CA|    Windows|            Windows|1538352117|2018-10-01 02:01:57|2018-10-01|2018-10-01 02:01:57|      0|          2|Mon|   2|2018|     40|\n",
      "|Five Iron Frenzy|Logged In|    Micah|     M|           79|    Long|236.09424| free|Boston-Cambridge-...|   PUT|NextSong|1538331630000|        8|              Canada|   200|1538352180000|\"Mozilla/5.0 (Win...|     9|MA-NH|    Windows|            Windows|1538352180|2018-10-01 02:03:00|2018-10-01|2018-10-01 02:03:00|      0|          2|Mon|   2|2018|     40|\n",
      "|    Adam Lambert|Logged In|    Colin|     M|           51| Freeman| 282.8273| paid|     Bakersfield, CA|   PUT|NextSong|1538173362000|       29|   Time For Miracles|   200|1538352394000|Mozilla/5.0 (Wind...|    30|   CA|    Windows|            Windows|1538352394|2018-10-01 02:06:34|2018-10-01|2018-10-01 02:06:34|      0|          2|Mon|   2|2018|     40|\n",
      "|          Enigma|Logged In|    Micah|     M|           80|    Long|262.71302| free|Boston-Cambridge-...|   PUT|NextSong|1538331630000|        8|Knocking On Forbi...|   200|1538352416000|\"Mozilla/5.0 (Win...|     9|MA-NH|    Windows|            Windows|1538352416|2018-10-01 02:06:56|2018-10-01|2018-10-01 02:06:56|      0|          2|Mon|   2|2018|     40|\n",
      "|       Daft Punk|Logged In|    Colin|     M|           52| Freeman|223.60771| paid|     Bakersfield, CA|   PUT|NextSong|1538173362000|       29|Harder Better Fas...|   200|1538352676000|Mozilla/5.0 (Wind...|    30|   CA|    Windows|            Windows|1538352676|2018-10-01 02:11:16|2018-10-01|2018-10-01 02:11:16|      0|          2|Mon|   2|2018|     40|\n",
      "+----------------+---------+---------+------+-------------+--------+---------+-----+--------------------+------+--------+-------------+---------+--------------------+------+-------------+--------------------+------+-----+-----------+-------------------+----------+-------------------+----------+-------------------+-------+-----------+---+----+----+-------+\n",
      "only showing top 5 rows\n",
      "\n"
     ]
    }
   ],
   "source": [
    "# Remove milliseconds (last 3 digits) from ts to enable conversion to datetime\n",
    "df = df.withColumn(\"ts_no_ms\", substring(df.ts, 0, 10))\n",
    "# df = df.withColumn(\"ts_no_ms\", df.ts_no_ms.cast(TimestampType()))\n",
    "# df = df.withColumn(\"ts_unix\", from_unixtime(df.ts))\n",
    "df = df.withColumn(\"ts_str\", F.from_unixtime(df.ts_no_ms))\n",
    "df = df.withColumn(\"ts_date\", F.to_date(F.from_unixtime(df.ts_no_ms)))\n",
    "\n",
    "\n",
    "df = df.withColumn(\"ts_tsType\", df.ts_str.cast(TimestampType()))\n",
    "\n",
    "df = df.withColumn(\"weekday\", F.weekday(df.ts_tsType))\n",
    "df = df.withColumn(\"day_of_week\", F.dayofweek(df.ts_tsType))\n",
    "df = df.withColumn(\"day\", F.date_format(df.ts_tsType, \"E\"))\n",
    "df = df.withColumn(\"hour\", F.hour(df.ts_tsType))\n",
    "df = df.withColumn(\"year\", F.year(df.ts_tsType))\n",
    "df = df.withColumn(\"weekNum\", F.weekofyear(df.ts_tsType))\n",
    "\n",
    "# df.printSchema()\n",
    "df.show(5)"
   ]
  },
  {
   "cell_type": "code",
   "execution_count": 16,
   "metadata": {},
   "outputs": [
    {
     "name": "stdout",
     "output_type": "stream",
     "text": [
      "+--------------------+---------+---------+------+-------------+---------+---------+-----+--------------------+------+---------+-------------+---------+--------------------+------+-------------+--------------------+------+-----+-----------+-------------------+----------+-------------------+----------+-------------------+-------+-----------+---+----+----+-------+-----------------+-----------------+-----------------------+\n",
      "|              artist|     auth|firstName|gender|itemInSession| lastName|   length|level|            location|method|     page| registration|sessionId|                song|status|           ts|           userAgent|userId|state|deviceGroup|deviceGroupDetailed|  ts_no_ms|             ts_str|   ts_date|          ts_tsType|weekday|day_of_week|day|hour|year|weekNum|registration_date|last_visited_date|days_since_registration|\n",
      "+--------------------+---------+---------+------+-------------+---------+---------+-----+--------------------+------+---------+-------------+---------+--------------------+------+-------------+--------------------+------+-----+-----------+-------------------+----------+-------------------+----------+-------------------+-------+-----------+---+----+----+-------+-----------------+-----------------+-----------------------+\n",
      "|Sleeping With Sirens|Logged In| Darianna|     F|            0|Carpenter|202.97098| free|Bridgeport-Stamfo...|   PUT| NextSong|1538016340000|       31|Captain Tyin Knot...|   200|1539003534000|\"Mozilla/5.0 (iPh...|100010|   CT|      Apple|             iPhone|1539003534|2018-10-08 14:58:54|2018-10-08|2018-10-08 14:58:54|      0|          2|Mon|  14|2018|     41|       2018-09-27|       2018-11-21|                     55|\n",
      "|Francesca Battist...|Logged In| Darianna|     F|            1|Carpenter|196.54485| free|Bridgeport-Stamfo...|   PUT| NextSong|1538016340000|       31|Beautiful_ Beauti...|   200|1539003736000|\"Mozilla/5.0 (iPh...|100010|   CT|      Apple|             iPhone|1539003736|2018-10-08 15:02:16|2018-10-08|2018-10-08 15:02:16|      0|          2|Mon|  15|2018|     41|       2018-09-27|       2018-11-21|                     55|\n",
      "|              Brutha|Logged In| Darianna|     F|            2|Carpenter|263.13098| free|Bridgeport-Stamfo...|   PUT| NextSong|1538016340000|       31|          She's Gone|   200|1539003932000|\"Mozilla/5.0 (iPh...|100010|   CT|      Apple|             iPhone|1539003932|2018-10-08 15:05:32|2018-10-08|2018-10-08 15:05:32|      0|          2|Mon|  15|2018|     41|       2018-09-27|       2018-11-21|                     55|\n",
      "|                NULL|Logged In| Darianna|     F|            3|Carpenter|     NULL| free|Bridgeport-Stamfo...|   PUT|Thumbs Up|1538016340000|       31|                NULL|   307|1539003933000|\"Mozilla/5.0 (iPh...|100010|   CT|      Apple|             iPhone|1539003933|2018-10-08 15:05:33|2018-10-08|2018-10-08 15:05:33|      0|          2|Mon|  15|2018|     41|       2018-09-27|       2018-11-21|                     55|\n",
      "|         Josh Ritter|Logged In| Darianna|     F|            4|Carpenter|316.23791| free|Bridgeport-Stamfo...|   PUT| NextSong|1538016340000|       31|      Folk Bloodbath|   200|1539004195000|\"Mozilla/5.0 (iPh...|100010|   CT|      Apple|             iPhone|1539004195|2018-10-08 15:09:55|2018-10-08|2018-10-08 15:09:55|      0|          2|Mon|  15|2018|     41|       2018-09-27|       2018-11-21|                     55|\n",
      "+--------------------+---------+---------+------+-------------+---------+---------+-----+--------------------+------+---------+-------------+---------+--------------------+------+-------------+--------------------+------+-----+-----------+-------------------+----------+-------------------+----------+-------------------+-------+-----------+---+----+----+-------+-----------------+-----------------+-----------------------+\n",
      "only showing top 5 rows\n",
      "\n"
     ]
    }
   ],
   "source": [
    "# Format registration date and days since registration per user\n",
    "df = df.withColumn(\"registration_date\", F.to_date(F.from_unixtime(substring(df.registration, 0, 10))))\n",
    "\n",
    "# How to efficiently find the last date / ts when each user used the service?\n",
    "window = Window.partitionBy([\"userId\"])\n",
    "df = df.withColumn(\"last_visited_date\", F.max(col(\"ts_date\")).over(window))\n",
    "\n",
    "df = df.withColumn(\"days_since_registration\", F.date_diff(col(\"last_visited_date\"), col(\"registration_date\")))\n",
    "\n",
    "df.show(5)\n",
    "\n",
    "\n",
    "### Code to verify correct calculation of days_since_registration:\n",
    "# df.where(df.userId == 132).show()\n",
    "# df.groupBy(\"userId\").agg(F.max(\"registration_date\"), F.max(\"ts_date\")).show()"
   ]
  },
  {
   "cell_type": "markdown",
   "metadata": {},
   "source": [
    "## Visualizations on Sparkify usage"
   ]
  },
  {
   "cell_type": "markdown",
   "metadata": {},
   "source": [
    "Songs played per hour of the day"
   ]
  },
  {
   "cell_type": "code",
   "execution_count": 17,
   "metadata": {},
   "outputs": [
    {
     "data": {
      "image/png": "[encoded data removed]",
      "text/plain": [
       "<Figure size 640x480 with 1 Axes>"
      ]
     },
     "metadata": {},
     "output_type": "display_data"
    }
   ],
   "source": [
    "songs_in_hour = df.filter(df.page == \"NextSong\").groupby(\"hour\").count().sort(\"hour\").toPandas()\n",
    "\n",
    "plt.scatter(songs_in_hour[\"hour\"], songs_in_hour[\"count\"])\n",
    "plt.xlim(-1, 24);\n",
    "plt.ylim(0, 1.2 * max(songs_in_hour[\"count\"]))\n",
    "plt.xlabel(\"Hour\")\n",
    "plt.ylabel(\"Songs played\");"
   ]
  },
  {
   "cell_type": "code",
   "execution_count": 18,
   "metadata": {},
   "outputs": [],
   "source": [
    "def groupby_plot(df, x_col:str, page_filter:str, x_label:str, y_label:str):\n",
    "    \"\"\"Aggregate data and create scatterplot to visualize trends in the data.\"\"\"\n",
    "    # df_grouped = df.groupby(x_col).count().sort(x_col).toPandas()\n",
    "    df_grouped = df.filter(df.page == page_filter).groupby(x_col).count().sort(x_col).toPandas()\n",
    "    plt.scatter(df_grouped[x_col], df_grouped[\"count\"])\n",
    "    plt.xlim(-1, max(df_grouped[x_col])+1);\n",
    "    plt.ylim(0, 1.2 * max(df_grouped[\"count\"]))\n",
    "    plt.xlabel(x_label)\n",
    "    plt.ylabel(y_label)\n",
    "    plt.show\n",
    "    return None"
   ]
  },
  {
   "cell_type": "code",
   "execution_count": 19,
   "metadata": {},
   "outputs": [
    {
     "data": {
      "text/html": [
       "<div>\n",
       "<style scoped>\n",
       "    .dataframe tbody tr th:only-of-type {\n",
       "        vertical-align: middle;\n",
       "    }\n",
       "\n",
       "    .dataframe tbody tr th {\n",
       "        vertical-align: top;\n",
       "    }\n",
       "\n",
       "    .dataframe thead th {\n",
       "        text-align: right;\n",
       "    }\n",
       "</style>\n",
       "<table border=\"1\" class=\"dataframe\">\n",
       "  <thead>\n",
       "    <tr style=\"text-align: right;\">\n",
       "      <th></th>\n",
       "      <th>artist</th>\n",
       "      <th>auth</th>\n",
       "      <th>firstName</th>\n",
       "      <th>gender</th>\n",
       "      <th>itemInSession</th>\n",
       "      <th>lastName</th>\n",
       "      <th>length</th>\n",
       "      <th>level</th>\n",
       "      <th>location</th>\n",
       "      <th>method</th>\n",
       "      <th>...</th>\n",
       "      <th>ts_tsType</th>\n",
       "      <th>weekday</th>\n",
       "      <th>day_of_week</th>\n",
       "      <th>day</th>\n",
       "      <th>hour</th>\n",
       "      <th>year</th>\n",
       "      <th>weekNum</th>\n",
       "      <th>registration_date</th>\n",
       "      <th>last_visited_date</th>\n",
       "      <th>days_since_registration</th>\n",
       "    </tr>\n",
       "  </thead>\n",
       "  <tbody>\n",
       "    <tr>\n",
       "      <th>0</th>\n",
       "      <td>17655</td>\n",
       "      <td>4</td>\n",
       "      <td>189</td>\n",
       "      <td>2</td>\n",
       "      <td>1322</td>\n",
       "      <td>173</td>\n",
       "      <td>14865</td>\n",
       "      <td>2</td>\n",
       "      <td>114</td>\n",
       "      <td>2</td>\n",
       "      <td>...</td>\n",
       "      <td>277447</td>\n",
       "      <td>7</td>\n",
       "      <td>7</td>\n",
       "      <td>7</td>\n",
       "      <td>24</td>\n",
       "      <td>1</td>\n",
       "      <td>10</td>\n",
       "      <td>87</td>\n",
       "      <td>49</td>\n",
       "      <td>110</td>\n",
       "    </tr>\n",
       "  </tbody>\n",
       "</table>\n",
       "<p>1 rows × 34 columns</p>\n",
       "</div>"
      ],
      "text/plain": [
       "   artist  auth  firstName  gender  itemInSession  lastName  length  level  \\\n",
       "0   17655     4        189       2           1322       173   14865      2   \n",
       "\n",
       "   location  method  ...  ts_tsType  weekday  day_of_week  day  hour  year  \\\n",
       "0       114       2  ...     277447        7            7    7    24     1   \n",
       "\n",
       "   weekNum  registration_date  last_visited_date  days_since_registration  \n",
       "0       10                 87                 49                      110  \n",
       "\n",
       "[1 rows x 34 columns]"
      ]
     },
     "execution_count": 19,
     "metadata": {},
     "output_type": "execute_result"
    }
   ],
   "source": [
    "# https://stackoverflow.com/questions/44627386/how-to-find-count-of-null-and-nan-values-for-each-column-in-a-pyspark-dataframe\n",
    "df.agg(*(F.countDistinct(col(c)).alias(c) for c in df.columns)).toPandas()"
   ]
  },
  {
   "cell_type": "code",
   "execution_count": 20,
   "metadata": {},
   "outputs": [
    {
     "data": {
      "image/png": "[encoded data removed]",
      "text/plain": [
       "<Figure size 640x480 with 1 Axes>"
      ]
     },
     "metadata": {},
     "output_type": "display_data"
    }
   ],
   "source": [
    "# groupby_plot(df, \"hour\", \"NextSong\", \"Hour\", \"Songs played\")\n",
    "\n",
    "# groupby_plot(df, \"hour\", \"Home\", \"Hour\", \"Songs played\")\n",
    "\n",
    "groupby_plot(df, \"weekday\", \"NextSong\", \"Weekday\", \"Songs played\")"
   ]
  },
  {
   "cell_type": "markdown",
   "metadata": {},
   "source": [
    "## Analysis and handling of null values"
   ]
  },
  {
   "cell_type": "code",
   "execution_count": 21,
   "metadata": {},
   "outputs": [
    {
     "name": "stdout",
     "output_type": "stream",
     "text": [
      "+------+----+---------+------+-------------+--------+------+-----+--------+------+----+------------+---------+-----+------+---+---------+------+-----+-----------+-------------------+--------+------+-------+---------+-------+-----------+---+----+----+-------+-----------------+-----------------+-----------------------+\n",
      "|artist|auth|firstName|gender|itemInSession|lastName|length|level|location|method|page|registration|sessionId| song|status| ts|userAgent|userId|state|deviceGroup|deviceGroupDetailed|ts_no_ms|ts_str|ts_date|ts_tsType|weekday|day_of_week|day|hour|year|weekNum|registration_date|last_visited_date|days_since_registration|\n",
      "+------+----+---------+------+-------------+--------+------+-----+--------+------+----+------------+---------+-----+------+---+---------+------+-----+-----------+-------------------+--------+------+-------+---------+-------+-----------+---+----+----+-------+-----------------+-----------------+-----------------------+\n",
      "| 58392|   0|     8346|  8346|            0|    8346| 58392|    0|    8346|     0|   0|        8346|        0|58392|     0|  0|     8346|     0| 8346|          0|                  0|       0|     0|      0|        0|      0|          0|  0|   0|   0|      0|             8346|                0|                   8346|\n",
      "+------+----+---------+------+-------------+--------+------+-----+--------+------+----+------------+---------+-----+------+---+---------+------+-----+-----------+-------------------+--------+------+-------+---------+-------+-----------+---+----+----+-------+-----------------+-----------------+-----------------------+\n",
      "\n"
     ]
    }
   ],
   "source": [
    "# https://stackoverflow.com/questions/64147246/pyspark-need-to-show-a-count-of-null-empty-values-per-each-column-in-a-datafram\n",
    "df.select(*(count(F.when(col(c).isNull(), c)).alias(c) for c in df.columns)).show()"
   ]
  },
  {
   "cell_type": "code",
   "execution_count": 22,
   "metadata": {},
   "outputs": [
    {
     "name": "stdout",
     "output_type": "stream",
     "text": [
      "+------+---------+---------+------+-------------+--------+------+-----+--------------------+------+--------------------+-------------+---------+----+------+-------------+--------------------+------+--------+-----------+-------------------+----------+-------------------+----------+-------------------+-------+-----------+---+----+----+-------+-----------------+-----------------+-----------------------+\n",
      "|artist|     auth|firstName|gender|itemInSession|lastName|length|level|            location|method|                page| registration|sessionId|song|status|           ts|           userAgent|userId|   state|deviceGroup|deviceGroupDetailed|  ts_no_ms|             ts_str|   ts_date|          ts_tsType|weekday|day_of_week|day|hour|year|weekNum|registration_date|last_visited_date|days_since_registration|\n",
      "+------+---------+---------+------+-------------+--------+------+-----+--------------------+------+--------------------+-------------+---------+----+------+-------------+--------------------+------+--------+-----------+-------------------+----------+-------------------+----------+-------------------+-------+-----------+---+----+----+-------+-----------------+-----------------+-----------------------+\n",
      "|  NULL|Cancelled|    Mason|     M|           10|    Hart|  NULL| free|  Corpus Christi, TX|   GET|Cancellation Conf...|1533157139000|      174|NULL|   200|1539318918000|\"Mozilla/5.0 (Mac...|   125|      TX|      Apple|          MacIntosh|1539318918|2018-10-12 06:35:18|2018-10-12|2018-10-12 06:35:18|      4|          6|Fri|   6|2018|     41|       2018-08-01|       2018-10-12|                     72|\n",
      "|  NULL|Cancelled|    Ethan|     M|          176| Johnson|  NULL| paid|Lexington-Fayette...|   GET|Cancellation Conf...|1538080987000|      934|NULL|   200|1539761972000|\"Mozilla/5.0 (Win...|    51|      KY|    Windows|            Windows|1539761972|2018-10-17 09:39:32|2018-10-17|2018-10-17 09:39:32|      2|          4|Wed|   9|2018|     42|       2018-09-27|       2018-10-17|                     20|\n",
      "|  NULL|Cancelled|    Alexi|     F|           42|  Warren|  NULL| paid|Spokane-Spokane V...|   GET|Cancellation Conf...|1532482662000|     1819|NULL|   200|1542051608000|Mozilla/5.0 (Wind...|    54|      WA|    Windows|            Windows|1542051608|2018-11-12 20:40:08|2018-11-12|2018-11-12 20:40:08|      0|          2|Mon|  20|2018|     46|       2018-07-25|       2018-11-12|                    110|\n",
      "|  NULL|Cancelled|  Rodrigo|     M|           73|   Carey|  NULL| paid|New York-Newark-J...|   GET|Cancellation Conf...|1535389443000|      185|NULL|   200|1542740649000|\"Mozilla/5.0 (Win...|100014|NY-NJ-PA|    Windows|            Windows|1542740649|2018-11-20 20:04:09|2018-11-20|2018-11-20 20:04:09|      1|          3|Tue|  20|2018|     47|       2018-08-27|       2018-11-20|                     85|\n",
      "|  NULL|Cancelled|     Alex|     M|          145|   Hogan|  NULL| paid|Denver-Aurora-Lak...|   GET|Cancellation Conf...|1535066380000|      842|NULL|   200|1539729037000|Mozilla/5.0 (Wind...|   101|      CO|    Windows|            Windows|1539729037|2018-10-17 00:30:37|2018-10-17|2018-10-17 00:30:37|      2|          4|Wed|   0|2018|     42|       2018-08-24|       2018-10-17|                     54|\n",
      "+------+---------+---------+------+-------------+--------+------+-----+--------------------+------+--------------------+-------------+---------+----+------+-------------+--------------------+------+--------+-----------+-------------------+----------+-------------------+----------+-------------------+-------+-----------+---+----+----+-------+-----------------+-----------------+-----------------------+\n",
      "only showing top 5 rows\n",
      "\n",
      "+------+-----+---------+------+-------------+--------+------+-----+--------+------+--------+------------+---------+----+------+-------------+---------+------+-----+-----------+-------------------+----------+-------------------+----------+-------------------+-------+-----------+---+----+----+-------+-----------------+-----------------+-----------------------+\n",
      "|artist| auth|firstName|gender|itemInSession|lastName|length|level|location|method|    page|registration|sessionId|song|status|           ts|userAgent|userId|state|deviceGroup|deviceGroupDetailed|  ts_no_ms|             ts_str|   ts_date|          ts_tsType|weekday|day_of_week|day|hour|year|weekNum|registration_date|last_visited_date|days_since_registration|\n",
      "+------+-----+---------+------+-------------+--------+------+-----+--------+------+--------+------------+---------+----+------+-------------+---------+------+-----+-----------+-------------------+----------+-------------------+----------+-------------------+-------+-----------+---+----+----+-------+-----------------+-----------------+-----------------------+\n",
      "|  NULL|Guest|     NULL|  NULL|            0|    NULL|  NULL| free|    NULL|   GET|   Error|        NULL|      151|NULL|   404|1540841775000|     NULL|      | NULL|      other|              other|1540841775|2018-10-29 20:36:15|2018-10-29|2018-10-29 20:36:15|      0|          2|Mon|  20|2018|     44|             NULL|       2018-12-01|                   NULL|\n",
      "|  NULL|Guest|     NULL|  NULL|            1|    NULL|  NULL| free|    NULL|   GET|    Home|        NULL|      151|NULL|   200|1540841817000|     NULL|      | NULL|      other|              other|1540841817|2018-10-29 20:36:57|2018-10-29|2018-10-29 20:36:57|      0|          2|Mon|  20|2018|     44|             NULL|       2018-12-01|                   NULL|\n",
      "|  NULL|Guest|     NULL|  NULL|            2|    NULL|  NULL| free|    NULL|   GET|Register|        NULL|      151|NULL|   200|1540841826000|     NULL|      | NULL|      other|              other|1540841826|2018-10-29 20:37:06|2018-10-29|2018-10-29 20:37:06|      0|          2|Mon|  20|2018|     44|             NULL|       2018-12-01|                   NULL|\n",
      "|  NULL|Guest|     NULL|  NULL|            3|    NULL|  NULL| free|    NULL|   GET|    Help|        NULL|      151|NULL|   200|1540841834000|     NULL|      | NULL|      other|              other|1540841834|2018-10-29 20:37:14|2018-10-29|2018-10-29 20:37:14|      0|          2|Mon|  20|2018|     44|             NULL|       2018-12-01|                   NULL|\n",
      "|  NULL|Guest|     NULL|  NULL|            4|    NULL|  NULL| free|    NULL|   GET|    Home|        NULL|      151|NULL|   200|1540841838000|     NULL|      | NULL|      other|              other|1540841838|2018-10-29 20:37:18|2018-10-29|2018-10-29 20:37:18|      0|          2|Mon|  20|2018|     44|             NULL|       2018-12-01|                   NULL|\n",
      "+------+-----+---------+------+-------------+--------+------+-----+--------+------+--------+------------+---------+----+------+-------------+---------+------+-----+-----------+-------------------+----------+-------------------+----------+-------------------+-------+-----------+---+----+----+-------+-----------------+-----------------+-----------------------+\n",
      "only showing top 5 rows\n",
      "\n"
     ]
    }
   ],
   "source": [
    "# df.filter(df.gender.isNull()).show()\n",
    "\n",
    "df.filter(df.auth == \"Cancelled\").show(5)\n",
    "\n",
    "df.filter(df.auth == \"Guest\").show(5)"
   ]
  },
  {
   "cell_type": "code",
   "execution_count": 23,
   "metadata": {},
   "outputs": [
    {
     "name": "stdout",
     "output_type": "stream",
     "text": [
      "+------+------+\n",
      "|gender| count|\n",
      "+------+------+\n",
      "|     F|154578|\n",
      "|  NULL|  8346|\n",
      "|     M|123576|\n",
      "+------+------+\n",
      "\n",
      "+----------+------+\n",
      "|      auth| count|\n",
      "+----------+------+\n",
      "|Logged Out|  8249|\n",
      "| Logged In|278102|\n",
      "| Cancelled|    52|\n",
      "|     Guest|    97|\n",
      "+----------+------+\n",
      "\n"
     ]
    }
   ],
   "source": [
    "df.groupBy(\"gender\").count().show()\n",
    "\n",
    "df.groupBy(\"auth\").count().show()"
   ]
  },
  {
   "cell_type": "code",
   "execution_count": 24,
   "metadata": {},
   "outputs": [
    {
     "name": "stdout",
     "output_type": "stream",
     "text": [
      "+----------+--------------------+------+\n",
      "|      auth|                page| count|\n",
      "+----------+--------------------+------+\n",
      "| Cancelled|Cancellation Conf...|    52|\n",
      "|     Guest|            Register|    18|\n",
      "|     Guest|               About|    14|\n",
      "|     Guest|               Error|     1|\n",
      "|     Guest| Submit Registration|     5|\n",
      "|     Guest|                Help|    23|\n",
      "|     Guest|                Home|    36|\n",
      "| Logged In|              Logout|  3226|\n",
      "| Logged In|           Thumbs Up| 12551|\n",
      "| Logged In|         Roll Advert|  3933|\n",
      "| Logged In|      Submit Upgrade|   159|\n",
      "| Logged In|            Settings|  1514|\n",
      "| Logged In|         Thumbs Down|  2546|\n",
      "| Logged In|       Save Settings|   310|\n",
      "| Logged In|                Help|  1454|\n",
      "| Logged In|            NextSong|228108|\n",
      "| Logged In|               About|   495|\n",
      "| Logged In|     Add to Playlist|  6526|\n",
      "| Logged In|               Error|   252|\n",
      "| Logged In|                Home| 10082|\n",
      "| Logged In|          Add Friend|  4277|\n",
      "| Logged In|           Downgrade|  2055|\n",
      "| Logged In|             Upgrade|   499|\n",
      "| Logged In|    Submit Downgrade|    63|\n",
      "| Logged In|              Cancel|    52|\n",
      "|Logged Out|                Home|  4339|\n",
      "|Logged Out|               Login|  3241|\n",
      "|Logged Out|                Help|   249|\n",
      "|Logged Out|               About|   415|\n",
      "|Logged Out|               Error|     5|\n",
      "+----------+--------------------+------+\n",
      "\n"
     ]
    }
   ],
   "source": [
    "# Number of subscription cancellations (churn)\n",
    "# df.where(df.page==\"Cancellation Confirmation\").agg(count(\"userID\")).collect()\n",
    "\n",
    "# df.where(df.page==\"Cancellation Confirmation\").show()\n",
    "\n",
    "# See which pages can be visited as a logged in user / guest\n",
    "df.groupBy([\"auth\", \"page\"]).count().sort(\"auth\").show(100)"
   ]
  },
  {
   "cell_type": "code",
   "execution_count": 25,
   "metadata": {},
   "outputs": [],
   "source": [
    "# Keep only logged in users & cancellations in the data set\n",
    "df = df.filter((df.auth == \"Logged In\") | (df.auth == \"Cancelled\"))"
   ]
  },
  {
   "cell_type": "code",
   "execution_count": 26,
   "metadata": {},
   "outputs": [
    {
     "name": "stdout",
     "output_type": "stream",
     "text": [
      "+------+---------------+-----------+---------------+--------------------+\n",
      "|userId|           page|page_visits|sum_page_visits|   share_page_visits|\n",
      "+------+---------------+-----------+---------------+--------------------+\n",
      "|    10|          About|          2|            795|0.002515723270440...|\n",
      "|    10|     Add Friend|         12|            795| 0.01509433962264151|\n",
      "|    10|Add to Playlist|          9|            795|0.011320754716981131|\n",
      "|    10|      Downgrade|          7|            795| 0.00880503144654088|\n",
      "|    10|           Help|          1|            795|0.001257861635220...|\n",
      "|    10|           Home|         30|            795| 0.03773584905660377|\n",
      "|    10|         Logout|         11|            795|0.013836477987421384|\n",
      "|    10|       NextSong|        673|            795|  0.8465408805031447|\n",
      "|    10|    Roll Advert|          1|            795|0.001257861635220...|\n",
      "|    10|  Save Settings|          1|            795|0.001257861635220...|\n",
      "|    10|       Settings|          7|            795| 0.00880503144654088|\n",
      "|    10|    Thumbs Down|          4|            795|0.005031446540880503|\n",
      "|    10|      Thumbs Up|         37|            795| 0.04654088050314465|\n",
      "|   100|          About|         12|           3214| 0.00373366521468575|\n",
      "|   100|     Add Friend|         49|           3214|0.015245799626633479|\n",
      "|   100|Add to Playlist|         61|           3214|0.018979464841319228|\n",
      "|   100|      Downgrade|         30|           3214|0.009334163036714374|\n",
      "|   100|          Error|          3|           3214|9.334163036714375E-4|\n",
      "|   100|           Help|         18|           3214|0.005600497822028625|\n",
      "|   100|           Home|        105|           3214| 0.03266957062850031|\n",
      "+------+---------------+-----------+---------------+--------------------+\n",
      "only showing top 20 rows\n",
      "\n"
     ]
    }
   ],
   "source": [
    "# Remove cancellation confirmation from df that will be pivoted for feature engineering\n",
    "df_pages_share = df.filter((df.auth == \"Logged In\") & (df.page != \"Cancel\"))\n",
    "\n",
    "df_pages_share = df_pages_share.groupBy([\"userId\", \"page\"]).count().sort([\"userId\", \"page\"])\n",
    "df_pages_share = df_pages_share.withColumnRenamed(\"count\", \"page_visits\")\n",
    "# df_pages_share = df_pages_share.where(\"\")\n",
    "\n",
    "\n",
    "window = Window.partitionBy([\"userId\"])\n",
    "\n",
    "df_pages_share = df_pages_share.withColumn(\"sum_page_visits\", F.sum(col(\"page_visits\")).over(window))\n",
    "df_pages_share = df_pages_share.withColumn(\"share_page_visits\", (df_pages_share.page_visits / F.sum(col(\"page_visits\")).over(window)))\n",
    "\n",
    "\n",
    "df_pages_share.show()"
   ]
  },
  {
   "cell_type": "code",
   "execution_count": 27,
   "metadata": {},
   "outputs": [
    {
     "name": "stdout",
     "output_type": "stream",
     "text": [
      "+------+--------------------+--------------------+--------------------+--------------------+--------------------+--------------------+--------------------+--------------------+------------------+--------------------+--------------------+--------------------+--------------------+--------------------+--------------------+--------------------+--------------------+\n",
      "|userId|               About|          Add Friend|     Add to Playlist|           Downgrade|               Error|                Help|                Home|              Logout|          NextSong|         Roll Advert|       Save Settings|            Settings|    Submit Downgrade|      Submit Upgrade|         Thumbs Down|           Thumbs Up|             Upgrade|\n",
      "+------+--------------------+--------------------+--------------------+--------------------+--------------------+--------------------+--------------------+--------------------+------------------+--------------------+--------------------+--------------------+--------------------+--------------------+--------------------+--------------------+--------------------+\n",
      "|    10|0.002515723270440...| 0.01509433962264151|0.011320754716981131| 0.00880503144654088|                 0.0|0.001257861635220...| 0.03773584905660377|0.013836477987421384|0.8465408805031447|0.001257861635220...|0.001257861635220...| 0.00880503144654088|                 0.0|                 0.0|0.005031446540880503| 0.04654088050314465|                 0.0|\n",
      "|   100| 0.00373366521468575|0.015245799626633479|0.018979464841319228|0.009334163036714374|9.334163036714375E-4|0.005600497822028625| 0.03266957062850031|0.010889856876166771|0.8344741754822651|0.007778469197261979|0.001555693839452...|0.003422526446795271|3.111387678904791...|3.111387678904791...|0.008400746733042938| 0.04604853764779091|3.111387678904791...|\n",
      "|100001|                 0.0|0.010810810810810811|0.016216216216216217|                 0.0|0.005405405405405406|0.005405405405405406| 0.05945945945945946| 0.03783783783783784|0.7189189189189189| 0.07567567567567568|                 0.0|0.005405405405405406|                 0.0|                 0.0|0.010810810810810811|0.043243243243243246|0.010810810810810811|\n",
      "|100002|                 0.0|0.004587155963302...|0.022935779816513763|0.009174311926605505|                 0.0|                 0.0|0.027522935779816515|0.004587155963302...|0.8944954128440367|0.013761467889908258|                 0.0|                 0.0|                 0.0|                 0.0|                 0.0|0.022935779816513763|                 0.0|\n",
      "|100003|                 0.0|                 0.0| 0.02631578947368421|                 0.0|                 0.0|0.013157894736842105| 0.09210526315789473|0.039473684210526314|0.6710526315789473| 0.11842105263157894|                 0.0|                 0.0|                 0.0|                 0.0|                 0.0|0.039473684210526314|                 0.0|\n",
      "|100004|                 0.0|0.015261044176706828|0.018473895582329317|0.008032128514056224|0.001606425702811245|0.004819277108433735| 0.05301204819277108|0.015261044176706828|0.7566265060240964| 0.06907630522088354|0.001606425702811245|0.008835341365461847|0.001606425702811245|0.002409638554216...|0.008835341365461847|0.028112449799196786| 0.00642570281124498|\n",
      "|100005|                 0.0|0.014018691588785047|0.014018691588785047|                 0.0|                 0.0|0.009345794392523364| 0.07009345794392523|0.014018691588785047| 0.719626168224299| 0.08411214953271028|                 0.0|0.009345794392523364|                 0.0|                 0.0|0.014018691588785047| 0.03271028037383177|0.018691588785046728|\n",
      "|100006|                 0.0| 0.09523809523809523|0.023809523809523808|                 0.0|                 0.0|                 0.0|0.047619047619047616|0.023809523809523808|0.6190476190476191| 0.07142857142857142|                 0.0|0.023809523809523808|                 0.0|                 0.0|0.047619047619047616|0.047619047619047616|                 0.0|\n",
      "|100007|                 0.0|0.032818532818532815|0.017374517374517374|0.013513513513513514|                 0.0|0.005791505791505791| 0.03861003861003861|0.009652509652509652|0.8166023166023166|0.009652509652509652|0.001930501930501...|0.005791505791505791|                 0.0|                 0.0|0.011583011583011582| 0.03667953667953668|                 0.0|\n",
      "|100008|0.003191489361702...|0.018085106382978722|0.031914893617021274|0.010638297872340425|                 0.0|0.006382978723404255| 0.02553191489361702|0.007446808510638298|0.8212765957446808| 0.02127659574468085|                 0.0|0.003191489361702...|0.001063829787234...|                 0.0|0.006382978723404255|0.039361702127659576| 0.00425531914893617|\n",
      "|100009|0.001494768310911...| 0.01046337817638266|0.017937219730941704|0.007473841554559043|                 0.0|0.008968609865470852|  0.0343796711509716| 0.01943198804185351|0.7742899850523169| 0.06278026905829596|0.001494768310911...|0.005979073243647235|0.001494768310911...|0.001494768310911...| 0.01195814648729447|  0.0343796711509716|0.005979073243647235|\n",
      "|100010|0.002624671916010...|0.010498687664041995| 0.01837270341207349|                 0.0|                 0.0|0.005249343832020997|0.028871391076115485|0.013123359580052493|0.7217847769028871| 0.13648293963254593|                 0.0|                 0.0|                 0.0|                 0.0|0.013123359580052493| 0.04461942257217848|0.005249343832020997|\n",
      "|100011|                 0.0|                 0.0| 0.09523809523809523|                 0.0|                 0.0|                 0.0| 0.19047619047619047|                 0.0|0.5238095238095238| 0.09523809523809523|                 0.0|0.047619047619047616|                 0.0|                 0.0|0.047619047619047616|                 0.0|                 0.0|\n",
      "|100012|0.001672240802675...|0.003344481605351...|0.020066889632107024|0.006688963210702341|                 0.0|0.003344481605351...|  0.0451505016722408|0.010033444816053512|0.7959866220735786| 0.06354515050167224|                 0.0|                 0.0|0.001672240802675...|0.001672240802675...|0.015050167224080268|0.030100334448160536|0.001672240802675...|\n",
      "|100013|0.001438848920863...| 0.02014388489208633|0.022302158273381296| 0.00935251798561151|0.001438848920863...|0.006474820143884892|0.038129496402877695| 0.00935251798561151|0.8136690647482014| 0.02805755395683453|0.002158273381294964|0.005035971223021582|                 0.0|7.194244604316547E-4| 0.01079136690647482| 0.02805755395683453|0.002877697841726...|\n",
      "|100014|                 0.0| 0.01948051948051948|0.022727272727272728| 0.00974025974025974|                 0.0|0.006493506493506494|0.022727272727272728| 0.00974025974025974|0.8344155844155844|0.006493506493506494|                 0.0|0.003246753246753247|                 0.0|                 0.0| 0.00974025974025974| 0.05519480519480519|                 0.0|\n",
      "|100015|0.003816793893129771|0.013358778625954198| 0.02099236641221374|0.004770992366412214|9.541984732824427E-4|0.005725190839694...| 0.04484732824427481| 0.01717557251908397|0.7633587786259542| 0.06583969465648855|9.541984732824427E-4|0.006679389312977099|9.541984732824427E-4|0.001908396946564...|0.007633587786259542|0.033396946564885496|0.007633587786259542|\n",
      "|100016|0.001567398119122257| 0.02037617554858934|0.009404388714733543|0.009404388714733543|0.001567398119122257|0.004702194357366771|0.032915360501567396|0.014106583072100314|0.8307210031347962|0.025078369905956112|                 0.0|0.001567398119122257|0.001567398119122257|                 0.0|0.007836990595611285| 0.03918495297805643|                 0.0|\n",
      "|100017|                 0.0|                 0.0|  0.0136986301369863|                 0.0|                 0.0|                 0.0|  0.0410958904109589|                 0.0|0.7123287671232876|  0.1917808219178082|                 0.0|                 0.0|                 0.0|                 0.0|  0.0136986301369863|  0.0273972602739726|                 0.0|\n",
      "|100018|7.763975155279503E-4|0.017857142857142856| 0.02406832298136646|0.006987577639751553|                 0.0|0.005434782608695652|0.033385093167701864|0.013198757763975156|0.7779503105590062|0.062111801242236024|0.002329192546583851|0.006987577639751553|0.001552795031055...|0.001552795031055...|0.006987577639751553| 0.03571428571428571|0.003105590062111801|\n",
      "+------+--------------------+--------------------+--------------------+--------------------+--------------------+--------------------+--------------------+--------------------+------------------+--------------------+--------------------+--------------------+--------------------+--------------------+--------------------+--------------------+--------------------+\n",
      "only showing top 20 rows\n",
      "\n"
     ]
    }
   ],
   "source": [
    "join_df_pages_share = df_pages_share.groupBy(\"userId\").pivot(\"page\").max(\"share_page_visits\").fillna(0)\n",
    "join_df_pages_share.show()"
   ]
  },
  {
   "cell_type": "markdown",
   "metadata": {},
   "source": [
    "# Exploratory Data Analysis\n",
    "When you're working with the full dataset, perform EDA by loading a small subset of the data and doing basic manipulations within Spark. In this workspace, you are already provided a small subset of data you can explore.\n",
    "\n",
    "### Define Churn\n",
    "\n",
    "Once you've done some preliminary analysis, create a column `Churn` to use as the label for your model. I suggest using the `Cancellation Confirmation` events to define your churn, which happen for both paid and free users. As a bonus task, you can also look into the `Downgrade` events.\n",
    "\n",
    "### Explore Data\n",
    "Once you've defined churn, perform some exploratory data analysis to observe the behavior for users who stayed vs users who churned. You can start by exploring aggregates on these two groups of users, observing how much of a specific action they experienced per a certain time unit or number of songs played."
   ]
  },
  {
   "cell_type": "code",
   "execution_count": 28,
   "metadata": {},
   "outputs": [
    {
     "name": "stdout",
     "output_type": "stream",
     "text": [
      "root\n",
      " |-- artist: string (nullable = true)\n",
      " |-- auth: string (nullable = true)\n",
      " |-- firstName: string (nullable = true)\n",
      " |-- gender: string (nullable = true)\n",
      " |-- itemInSession: long (nullable = true)\n",
      " |-- lastName: string (nullable = true)\n",
      " |-- length: double (nullable = true)\n",
      " |-- level: string (nullable = true)\n",
      " |-- location: string (nullable = true)\n",
      " |-- method: string (nullable = true)\n",
      " |-- page: string (nullable = true)\n",
      " |-- registration: long (nullable = true)\n",
      " |-- sessionId: long (nullable = true)\n",
      " |-- song: string (nullable = true)\n",
      " |-- status: long (nullable = true)\n",
      " |-- ts: long (nullable = true)\n",
      " |-- userAgent: string (nullable = true)\n",
      " |-- userId: string (nullable = true)\n",
      " |-- state: string (nullable = true)\n",
      " |-- deviceGroup: string (nullable = false)\n",
      " |-- deviceGroupDetailed: string (nullable = false)\n",
      " |-- ts_no_ms: string (nullable = true)\n",
      " |-- ts_str: string (nullable = true)\n",
      " |-- ts_date: date (nullable = true)\n",
      " |-- ts_tsType: timestamp (nullable = true)\n",
      " |-- weekday: integer (nullable = true)\n",
      " |-- day_of_week: integer (nullable = true)\n",
      " |-- day: string (nullable = true)\n",
      " |-- hour: integer (nullable = true)\n",
      " |-- year: integer (nullable = true)\n",
      " |-- weekNum: integer (nullable = true)\n",
      " |-- registration_date: date (nullable = true)\n",
      " |-- last_visited_date: date (nullable = true)\n",
      " |-- days_since_registration: integer (nullable = true)\n",
      "\n"
     ]
    }
   ],
   "source": [
    "df.printSchema()"
   ]
  },
  {
   "cell_type": "code",
   "execution_count": 29,
   "metadata": {},
   "outputs": [
    {
     "data": {
      "text/plain": [
       "225"
      ]
     },
     "execution_count": 29,
     "metadata": {},
     "output_type": "execute_result"
    }
   ],
   "source": [
    "# Number of unique users in this subset of data\n",
    "df.agg(countDistinct(\"userID\")).collect()[0][0]"
   ]
  },
  {
   "cell_type": "code",
   "execution_count": 30,
   "metadata": {},
   "outputs": [
    {
     "data": {
      "text/plain": [
       "[Row(userId='18', count=1),\n",
       " Row(userId='32', count=1),\n",
       " Row(userId='125', count=1),\n",
       " Row(userId='51', count=1),\n",
       " Row(userId='101', count=1),\n",
       " Row(userId='17', count=1),\n",
       " Row(userId='143', count=1),\n",
       " Row(userId='105', count=1),\n",
       " Row(userId='121', count=1),\n",
       " Row(userId='129', count=1)]"
      ]
     },
     "execution_count": 30,
     "metadata": {},
     "output_type": "execute_result"
    }
   ],
   "source": [
    "# Are all of these unique cancellations or did some users resubscribe and cancel again?\n",
    "df.where(df.page==\"Cancellation Confirmation\").groupBy(\"userId\").count().sort(\"count\", ascending=False).head(10)\n",
    "# > No, all cancellations are from unique users"
   ]
  },
  {
   "cell_type": "markdown",
   "metadata": {},
   "source": [
    "### Add churn flag"
   ]
  },
  {
   "cell_type": "code",
   "execution_count": 31,
   "metadata": {},
   "outputs": [
    {
     "name": "stdout",
     "output_type": "stream",
     "text": [
      "+------+---------+---------+------+-------------+--------+------+-----+--------------------+------+--------------------+-------------+---------+----+------+-------------+--------------------+------+--------+-----------+-------------------+----------+-------------------+----------+-------------------+-------+-----------+---+----+----+-------+-----------------+-----------------+-----------------------+---------+\n",
      "|artist|     auth|firstName|gender|itemInSession|lastName|length|level|            location|method|                page| registration|sessionId|song|status|           ts|           userAgent|userId|   state|deviceGroup|deviceGroupDetailed|  ts_no_ms|             ts_str|   ts_date|          ts_tsType|weekday|day_of_week|day|hour|year|weekNum|registration_date|last_visited_date|days_since_registration|churnFlag|\n",
      "+------+---------+---------+------+-------------+--------+------+-----+--------------------+------+--------------------+-------------+---------+----+------+-------------+--------------------+------+--------+-----------+-------------------+----------+-------------------+----------+-------------------+-------+-----------+---+----+----+-------+-----------------+-----------------+-----------------------+---------+\n",
      "|  NULL|Cancelled|    Mason|     M|           10|    Hart|  NULL| free|  Corpus Christi, TX|   GET|Cancellation Conf...|1533157139000|      174|NULL|   200|1539318918000|\"Mozilla/5.0 (Mac...|   125|      TX|      Apple|          MacIntosh|1539318918|2018-10-12 06:35:18|2018-10-12|2018-10-12 06:35:18|      4|          6|Fri|   6|2018|     41|       2018-08-01|       2018-10-12|                     72|        1|\n",
      "|  NULL|Cancelled|    Ethan|     M|          176| Johnson|  NULL| paid|Lexington-Fayette...|   GET|Cancellation Conf...|1538080987000|      934|NULL|   200|1539761972000|\"Mozilla/5.0 (Win...|    51|      KY|    Windows|            Windows|1539761972|2018-10-17 09:39:32|2018-10-17|2018-10-17 09:39:32|      2|          4|Wed|   9|2018|     42|       2018-09-27|       2018-10-17|                     20|        1|\n",
      "|  NULL|Cancelled|    Alexi|     F|           42|  Warren|  NULL| paid|Spokane-Spokane V...|   GET|Cancellation Conf...|1532482662000|     1819|NULL|   200|1542051608000|Mozilla/5.0 (Wind...|    54|      WA|    Windows|            Windows|1542051608|2018-11-12 20:40:08|2018-11-12|2018-11-12 20:40:08|      0|          2|Mon|  20|2018|     46|       2018-07-25|       2018-11-12|                    110|        1|\n",
      "|  NULL|Cancelled|  Rodrigo|     M|           73|   Carey|  NULL| paid|New York-Newark-J...|   GET|Cancellation Conf...|1535389443000|      185|NULL|   200|1542740649000|\"Mozilla/5.0 (Win...|100014|NY-NJ-PA|    Windows|            Windows|1542740649|2018-11-20 20:04:09|2018-11-20|2018-11-20 20:04:09|      1|          3|Tue|  20|2018|     47|       2018-08-27|       2018-11-20|                     85|        1|\n",
      "|  NULL|Cancelled|     Alex|     M|          145|   Hogan|  NULL| paid|Denver-Aurora-Lak...|   GET|Cancellation Conf...|1535066380000|      842|NULL|   200|1539729037000|Mozilla/5.0 (Wind...|   101|      CO|    Windows|            Windows|1539729037|2018-10-17 00:30:37|2018-10-17|2018-10-17 00:30:37|      2|          4|Wed|   0|2018|     42|       2018-08-24|       2018-10-17|                     54|        1|\n",
      "+------+---------+---------+------+-------------+--------+------+-----+--------------------+------+--------------------+-------------+---------+----+------+-------------+--------------------+------+--------+-----------+-------------------+----------+-------------------+----------+-------------------+-------+-----------+---+----+----+-------+-----------------+-----------------+-----------------------+---------+\n",
      "only showing top 5 rows\n",
      "\n"
     ]
    }
   ],
   "source": [
    "df = df.withColumn(\"churnFlag\", F.when(df.page==\"Cancellation Confirmation\", 1).otherwise(0))\n",
    "df.where(df.churnFlag==1).show(5)"
   ]
  },
  {
   "cell_type": "markdown",
   "metadata": {},
   "source": [
    "### Create column that flags all churned users for each interaction"
   ]
  },
  {
   "cell_type": "code",
   "execution_count": 32,
   "metadata": {},
   "outputs": [],
   "source": [
    "# window_userId = Window.partitionBy(\"userId\").orderBy(\"ts\")\n",
    "\n",
    "# df = df.withColumn(\"window_test\", count(\"userId\").over(window_userId))\n",
    "# df.show()"
   ]
  },
  {
   "cell_type": "code",
   "execution_count": 33,
   "metadata": {},
   "outputs": [
    {
     "name": "stdout",
     "output_type": "stream",
     "text": [
      "+--------------------+---------+---------+------+-------------+---------+---------+-----+--------------------+------+-----------+-------------+---------+--------------------+------+-------------+--------------------+------+-----+-----------+-------------------+----------+-------------------+----------+-------------------+-------+-----------+---+----+----+-------+-----------------+-----------------+-----------------------+---------+-----------+\n",
      "|              artist|     auth|firstName|gender|itemInSession| lastName|   length|level|            location|method|       page| registration|sessionId|                song|status|           ts|           userAgent|userId|state|deviceGroup|deviceGroupDetailed|  ts_no_ms|             ts_str|   ts_date|          ts_tsType|weekday|day_of_week|day|hour|year|weekNum|registration_date|last_visited_date|days_since_registration|churnFlag|userChurned|\n",
      "+--------------------+---------+---------+------+-------------+---------+---------+-----+--------------------+------+-----------+-------------+---------+--------------------+------+-------------+--------------------+------+-----+-----------+-------------------+----------+-------------------+----------+-------------------+-------+-----------+---+----+----+-------+-----------------+-----------------+-----------------------+---------+-----------+\n",
      "|Sleeping With Sirens|Logged In| Darianna|     F|            0|Carpenter|202.97098| free|Bridgeport-Stamfo...|   PUT|   NextSong|1538016340000|       31|Captain Tyin Knot...|   200|1539003534000|\"Mozilla/5.0 (iPh...|100010|   CT|      Apple|             iPhone|1539003534|2018-10-08 14:58:54|2018-10-08|2018-10-08 14:58:54|      0|          2|Mon|  14|2018|     41|       2018-09-27|       2018-11-21|                     55|        0|          0|\n",
      "|Francesca Battist...|Logged In| Darianna|     F|            1|Carpenter|196.54485| free|Bridgeport-Stamfo...|   PUT|   NextSong|1538016340000|       31|Beautiful_ Beauti...|   200|1539003736000|\"Mozilla/5.0 (iPh...|100010|   CT|      Apple|             iPhone|1539003736|2018-10-08 15:02:16|2018-10-08|2018-10-08 15:02:16|      0|          2|Mon|  15|2018|     41|       2018-09-27|       2018-11-21|                     55|        0|          0|\n",
      "|              Brutha|Logged In| Darianna|     F|            2|Carpenter|263.13098| free|Bridgeport-Stamfo...|   PUT|   NextSong|1538016340000|       31|          She's Gone|   200|1539003932000|\"Mozilla/5.0 (iPh...|100010|   CT|      Apple|             iPhone|1539003932|2018-10-08 15:05:32|2018-10-08|2018-10-08 15:05:32|      0|          2|Mon|  15|2018|     41|       2018-09-27|       2018-11-21|                     55|        0|          0|\n",
      "|                NULL|Logged In| Darianna|     F|            3|Carpenter|     NULL| free|Bridgeport-Stamfo...|   PUT|  Thumbs Up|1538016340000|       31|                NULL|   307|1539003933000|\"Mozilla/5.0 (iPh...|100010|   CT|      Apple|             iPhone|1539003933|2018-10-08 15:05:33|2018-10-08|2018-10-08 15:05:33|      0|          2|Mon|  15|2018|     41|       2018-09-27|       2018-11-21|                     55|        0|          0|\n",
      "|         Josh Ritter|Logged In| Darianna|     F|            4|Carpenter|316.23791| free|Bridgeport-Stamfo...|   PUT|   NextSong|1538016340000|       31|      Folk Bloodbath|   200|1539004195000|\"Mozilla/5.0 (iPh...|100010|   CT|      Apple|             iPhone|1539004195|2018-10-08 15:09:55|2018-10-08|2018-10-08 15:09:55|      0|          2|Mon|  15|2018|     41|       2018-09-27|       2018-11-21|                     55|        0|          0|\n",
      "|               LMFAO|Logged In| Darianna|     F|            5|Carpenter|183.74485| free|Bridgeport-Stamfo...|   PUT|   NextSong|1538016340000|       31|                 Yes|   200|1539004511000|\"Mozilla/5.0 (iPh...|100010|   CT|      Apple|             iPhone|1539004511|2018-10-08 15:15:11|2018-10-08|2018-10-08 15:15:11|      0|          2|Mon|  15|2018|     41|       2018-09-27|       2018-11-21|                     55|        0|          0|\n",
      "|         OneRepublic|Logged In| Darianna|     F|            6|Carpenter|224.67873| free|Bridgeport-Stamfo...|   PUT|   NextSong|1538016340000|       31|             Secrets|   200|1539004694000|\"Mozilla/5.0 (iPh...|100010|   CT|      Apple|             iPhone|1539004694|2018-10-08 15:18:14|2018-10-08|2018-10-08 15:18:14|      0|          2|Mon|  15|2018|     41|       2018-09-27|       2018-11-21|                     55|        0|          0|\n",
      "|       Dwight Yoakam|Logged In| Darianna|     F|            7|Carpenter| 239.3073| free|Bridgeport-Stamfo...|   PUT|   NextSong|1538016340000|       31|      You're The One|   200|1539004918000|\"Mozilla/5.0 (iPh...|100010|   CT|      Apple|             iPhone|1539004918|2018-10-08 15:21:58|2018-10-08|2018-10-08 15:21:58|      0|          2|Mon|  15|2018|     41|       2018-09-27|       2018-11-21|                     55|        0|          0|\n",
      "|                NULL|Logged In| Darianna|     F|            8|Carpenter|     NULL| free|Bridgeport-Stamfo...|   GET|Roll Advert|1538016340000|       31|                NULL|   200|1539004961000|\"Mozilla/5.0 (iPh...|100010|   CT|      Apple|             iPhone|1539004961|2018-10-08 15:22:41|2018-10-08|2018-10-08 15:22:41|      0|          2|Mon|  15|2018|     41|       2018-09-27|       2018-11-21|                     55|        0|          0|\n",
      "|      The Chordettes|Logged In| Darianna|     F|            9|Carpenter|142.41914| free|Bridgeport-Stamfo...|   PUT|   NextSong|1538016340000|       31|          Mr Sandman|   200|1539005157000|\"Mozilla/5.0 (iPh...|100010|   CT|      Apple|             iPhone|1539005157|2018-10-08 15:25:57|2018-10-08|2018-10-08 15:25:57|      0|          2|Mon|  15|2018|     41|       2018-09-27|       2018-11-21|                     55|        0|          0|\n",
      "|Coko featuring Ki...|Logged In| Darianna|     F|           10|Carpenter| 249.3122| free|Bridgeport-Stamfo...|   PUT|   NextSong|1538016340000|       31|           I Get Joy|   200|1539005299000|\"Mozilla/5.0 (iPh...|100010|   CT|      Apple|             iPhone|1539005299|2018-10-08 15:28:19|2018-10-08|2018-10-08 15:28:19|      0|          2|Mon|  15|2018|     41|       2018-09-27|       2018-11-21|                     55|        0|          0|\n",
      "|            The Cure|Logged In| Darianna|     F|           11|Carpenter| 52.27057| free|Bridgeport-Stamfo...|   PUT|   NextSong|1538016340000|       31|     The Final Sound|   200|1539005548000|\"Mozilla/5.0 (iPh...|100010|   CT|      Apple|             iPhone|1539005548|2018-10-08 15:32:28|2018-10-08|2018-10-08 15:32:28|      0|          2|Mon|  15|2018|     41|       2018-09-27|       2018-11-21|                     55|        0|          0|\n",
      "|                NULL|Logged In| Darianna|     F|           12|Carpenter|     NULL| free|Bridgeport-Stamfo...|   GET|Roll Advert|1538016340000|       31|                NULL|   200|1539005571000|\"Mozilla/5.0 (iPh...|100010|   CT|      Apple|             iPhone|1539005571|2018-10-08 15:32:51|2018-10-08|2018-10-08 15:32:51|      0|          2|Mon|  15|2018|     41|       2018-09-27|       2018-11-21|                     55|        0|          0|\n",
      "|Kid Cudi Vs Crookers|Logged In| Darianna|     F|           13|Carpenter|162.97751| free|Bridgeport-Stamfo...|   PUT|   NextSong|1538016340000|       31|        Day 'N' Nite|   200|1539005600000|\"Mozilla/5.0 (iPh...|100010|   CT|      Apple|             iPhone|1539005600|2018-10-08 15:33:20|2018-10-08|2018-10-08 15:33:20|      0|          2|Mon|  15|2018|     41|       2018-09-27|       2018-11-21|                     55|        0|          0|\n",
      "|                NULL|Logged In| Darianna|     F|           14|Carpenter|     NULL| free|Bridgeport-Stamfo...|   PUT|  Thumbs Up|1538016340000|       31|                NULL|   307|1539005601000|\"Mozilla/5.0 (iPh...|100010|   CT|      Apple|             iPhone|1539005601|2018-10-08 15:33:21|2018-10-08|2018-10-08 15:33:21|      0|          2|Mon|  15|2018|     41|       2018-09-27|       2018-11-21|                     55|        0|          0|\n",
      "|            Yeasayer|Logged In| Darianna|     F|           15|Carpenter|323.44771| free|Bridgeport-Stamfo...|   PUT|   NextSong|1538016340000|       31|                2080|   200|1539005762000|\"Mozilla/5.0 (iPh...|100010|   CT|      Apple|             iPhone|1539005762|2018-10-08 15:36:02|2018-10-08|2018-10-08 15:36:02|      0|          2|Mon|  15|2018|     41|       2018-09-27|       2018-11-21|                     55|        0|          0|\n",
      "|             Ben Lee|Logged In| Darianna|     F|           16|Carpenter|245.78567| free|Bridgeport-Stamfo...|   PUT|   NextSong|1538016340000|       31|        Ache For You|   200|1539006085000|\"Mozilla/5.0 (iPh...|100010|   CT|      Apple|             iPhone|1539006085|2018-10-08 15:41:25|2018-10-08|2018-10-08 15:41:25|      0|          2|Mon|  15|2018|     41|       2018-09-27|       2018-11-21|                     55|        0|          0|\n",
      "|                NULL|Logged In| Darianna|     F|           17|Carpenter|     NULL| free|Bridgeport-Stamfo...|   GET|Roll Advert|1538016340000|       31|                NULL|   200|1539006103000|\"Mozilla/5.0 (iPh...|100010|   CT|      Apple|             iPhone|1539006103|2018-10-08 15:41:43|2018-10-08|2018-10-08 15:41:43|      0|          2|Mon|  15|2018|     41|       2018-09-27|       2018-11-21|                     55|        0|          0|\n",
      "|  ? & The Mysterians|Logged In| Darianna|     F|           18|Carpenter|128.10404| free|Bridgeport-Stamfo...|   PUT|   NextSong|1538016340000|       31|    Just Like A Rose|   200|1539006330000|\"Mozilla/5.0 (iPh...|100010|   CT|      Apple|             iPhone|1539006330|2018-10-08 15:45:30|2018-10-08|2018-10-08 15:45:30|      0|          2|Mon|  15|2018|     41|       2018-09-27|       2018-11-21|                     55|        0|          0|\n",
      "|                NULL|Logged In| Darianna|     F|           19|Carpenter|     NULL| free|Bridgeport-Stamfo...|   GET|Roll Advert|1538016340000|       31|                NULL|   200|1539006331000|\"Mozilla/5.0 (iPh...|100010|   CT|      Apple|             iPhone|1539006331|2018-10-08 15:45:31|2018-10-08|2018-10-08 15:45:31|      0|          2|Mon|  15|2018|     41|       2018-09-27|       2018-11-21|                     55|        0|          0|\n",
      "+--------------------+---------+---------+------+-------------+---------+---------+-----+--------------------+------+-----------+-------------+---------+--------------------+------+-------------+--------------------+------+-----+-----------+-------------------+----------+-------------------+----------+-------------------+-------+-----------+---+----+----+-------+-----------------+-----------------+-----------------------+---------+-----------+\n",
      "only showing top 20 rows\n",
      "\n"
     ]
    }
   ],
   "source": [
    "df.createOrReplaceTempView(\"user_logs\")\n",
    "\n",
    "# Issue, the distinct userId also selects rows where the flag is not present\n",
    "\n",
    "df_sql = spark.sql('''\n",
    "    SELECT *, IF(flag = 1, 1, 0) AS userChurned\n",
    "    FROM user_logs\n",
    "    LEFT JOIN (\n",
    "        SELECT DISTINCT userId AS uid, 1 AS flag\n",
    "        FROM user_logs\n",
    "        WHERE churnFlag = 1\n",
    "        ) AS churned_users\n",
    "    ON user_logs.userId = churned_users.uid\n",
    "    '''\n",
    ")\n",
    "\n",
    "df_sql = df_sql.drop(*[\"uid\", \"flag\"])\n",
    "\n",
    "df_sql.show()\n",
    "\n",
    "df = df_sql"
   ]
  },
  {
   "cell_type": "code",
   "execution_count": 34,
   "metadata": {},
   "outputs": [
    {
     "name": "stdout",
     "output_type": "stream",
     "text": [
      "+--------------------+---------+---------+------+-------------+--------+---------+-----+--------------------+------+-----------+-------------+---------+--------------------+------+-------------+--------------------+------+-----+-----------+-------------------+----------+-------------------+----------+-------------------+-------+-----------+---+----+----+-------+-----------------+-----------------+-----------------------+---------+-----------+\n",
      "|              artist|     auth|firstName|gender|itemInSession|lastName|   length|level|            location|method|       page| registration|sessionId|                song|status|           ts|           userAgent|userId|state|deviceGroup|deviceGroupDetailed|  ts_no_ms|             ts_str|   ts_date|          ts_tsType|weekday|day_of_week|day|hour|year|weekNum|registration_date|last_visited_date|days_since_registration|churnFlag|userChurned|\n",
      "+--------------------+---------+---------+------+-------------+--------+---------+-----+--------------------+------+-----------+-------------+---------+--------------------+------+-------------+--------------------+------+-----+-----------+-------------------+----------+-------------------+----------+-------------------+-------+-----------+---+----+----+-------+-----------------+-----------------+-----------------------+---------+-----------+\n",
      "| Christopher O'Riley|Logged In|    Mason|     M|            0|    Hart|337.91955| free|  Corpus Christi, TX|   PUT|   NextSong|1533157139000|      174|    paranoid android|   200|1539317144000|\"Mozilla/5.0 (Mac...|   125|   TX|      Apple|          MacIntosh|1539317144|2018-10-12 06:05:44|2018-10-12|2018-10-12 06:05:44|      4|          6|Fri|   6|2018|     41|       2018-08-01|       2018-10-12|                     72|        0|          1|\n",
      "|The Notorious B.I.G.|Logged In|    Mason|     M|            1|    Hart|230.03383| free|  Corpus Christi, TX|   PUT|   NextSong|1533157139000|      174|Hypnotize(Album V...|   200|1539317481000|\"Mozilla/5.0 (Mac...|   125|   TX|      Apple|          MacIntosh|1539317481|2018-10-12 06:11:21|2018-10-12|2018-10-12 06:11:21|      4|          6|Fri|   6|2018|     41|       2018-08-01|       2018-10-12|                     72|        0|          1|\n",
      "|           Betty Boo|Logged In|    Mason|     M|            2|    Hart| 203.2322| free|  Corpus Christi, TX|   PUT|   NextSong|1533157139000|      174|       I'm On My Way|   200|1539317711000|\"Mozilla/5.0 (Mac...|   125|   TX|      Apple|          MacIntosh|1539317711|2018-10-12 06:15:11|2018-10-12|2018-10-12 06:15:11|      4|          6|Fri|   6|2018|     41|       2018-08-01|       2018-10-12|                     72|        0|          1|\n",
      "|          Nickelback|Logged In|    Mason|     M|            3|    Hart|210.83383| free|  Corpus Christi, TX|   PUT|   NextSong|1533157139000|      174|Leader Of Men (Al...|   200|1539317914000|\"Mozilla/5.0 (Mac...|   125|   TX|      Apple|          MacIntosh|1539317914|2018-10-12 06:18:34|2018-10-12|2018-10-12 06:18:34|      4|          6|Fri|   6|2018|     41|       2018-08-01|       2018-10-12|                     72|        0|          1|\n",
      "| Ready For The World|Logged In|    Mason|     M|            4|    Hart|391.26159| free|  Corpus Christi, TX|   PUT|   NextSong|1533157139000|      174|       Love You Down|   200|1539318124000|\"Mozilla/5.0 (Mac...|   125|   TX|      Apple|          MacIntosh|1539318124|2018-10-12 06:22:04|2018-10-12|2018-10-12 06:22:04|      4|          6|Fri|   6|2018|     41|       2018-08-01|       2018-10-12|                     72|        0|          1|\n",
      "|   We Are The Fallen|Logged In|    Mason|     M|            5|    Hart|213.60281| free|  Corpus Christi, TX|   PUT|   NextSong|1533157139000|      174|Don't Leave Me Be...|   200|1539318515000|\"Mozilla/5.0 (Mac...|   125|   TX|      Apple|          MacIntosh|1539318515|2018-10-12 06:28:35|2018-10-12|2018-10-12 06:28:35|      4|          6|Fri|   6|2018|     41|       2018-08-01|       2018-10-12|                     72|        0|          1|\n",
      "|      Robert Johnson|Logged In|    Mason|     M|            6|    Hart|178.41587| free|  Corpus Christi, TX|   PUT|   NextSong|1533157139000|      174|     They're Red Hot|   200|1539318728000|\"Mozilla/5.0 (Mac...|   125|   TX|      Apple|          MacIntosh|1539318728|2018-10-12 06:32:08|2018-10-12|2018-10-12 06:32:08|      4|          6|Fri|   6|2018|     41|       2018-08-01|       2018-10-12|                     72|        0|          1|\n",
      "|              Bonobo|Logged In|    Mason|     M|            7|    Hart|323.81342| free|  Corpus Christi, TX|   PUT|   NextSong|1533157139000|      174|                Kota|   200|1539318906000|\"Mozilla/5.0 (Mac...|   125|   TX|      Apple|          MacIntosh|1539318906|2018-10-12 06:35:06|2018-10-12|2018-10-12 06:35:06|      4|          6|Fri|   6|2018|     41|       2018-08-01|       2018-10-12|                     72|        0|          1|\n",
      "|                NULL|Logged In|    Mason|     M|            8|    Hart|     NULL| free|  Corpus Christi, TX|   GET|Roll Advert|1533157139000|      174|                NULL|   200|1539318917000|\"Mozilla/5.0 (Mac...|   125|   TX|      Apple|          MacIntosh|1539318917|2018-10-12 06:35:17|2018-10-12|2018-10-12 06:35:17|      4|          6|Fri|   6|2018|     41|       2018-08-01|       2018-10-12|                     72|        0|          1|\n",
      "|                NULL|Logged In|    Mason|     M|            9|    Hart|     NULL| free|  Corpus Christi, TX|   PUT|     Cancel|1533157139000|      174|                NULL|   307|1539318918000|\"Mozilla/5.0 (Mac...|   125|   TX|      Apple|          MacIntosh|1539318918|2018-10-12 06:35:18|2018-10-12|2018-10-12 06:35:18|      4|          6|Fri|   6|2018|     41|       2018-08-01|       2018-10-12|                     72|        0|          1|\n",
      "|                NULL|Logged In|    Ethan|     M|            6| Johnson|     NULL| paid|Lexington-Fayette...|   GET|       Home|1538080987000|      236|                NULL|   200|1538398632000|\"Mozilla/5.0 (Win...|    51|   KY|    Windows|            Windows|1538398632|2018-10-01 14:57:12|2018-10-01|2018-10-01 14:57:12|      0|          2|Mon|  14|2018|     40|       2018-09-27|       2018-10-17|                     20|        0|          1|\n",
      "|         Erykah Badu|Logged In|    Ethan|     M|            7| Johnson|289.69751| paid|Lexington-Fayette...|   PUT|   NextSong|1538080987000|      236|         Window Seat|   200|1538398649000|\"Mozilla/5.0 (Win...|    51|   KY|    Windows|            Windows|1538398649|2018-10-01 14:57:29|2018-10-01|2018-10-01 14:57:29|      0|          2|Mon|  14|2018|     40|       2018-09-27|       2018-10-17|                     20|        0|          1|\n",
      "|             BlÃÂ¸f|Logged In|    Ethan|     M|            8| Johnson|229.82485| paid|Lexington-Fayette...|   PUT|   NextSong|1538080987000|      236|       Niets Dan Dit|   200|1538398938000|\"Mozilla/5.0 (Win...|    51|   KY|    Windows|            Windows|1538398938|2018-10-01 15:02:18|2018-10-01|2018-10-01 15:02:18|      0|          2|Mon|  15|2018|     40|       2018-09-27|       2018-10-17|                     20|        0|          1|\n",
      "|Mousse T. Vs Hot ...|Logged In|    Ethan|     M|            9| Johnson|184.29342| paid|Lexington-Fayette...|   PUT|   NextSong|1538080987000|      236|               Horny|   200|1538399167000|\"Mozilla/5.0 (Win...|    51|   KY|    Windows|            Windows|1538399167|2018-10-01 15:06:07|2018-10-01|2018-10-01 15:06:07|      0|          2|Mon|  15|2018|     40|       2018-09-27|       2018-10-17|                     20|        0|          1|\n",
      "|     Miranda Lambert|Logged In|    Ethan|     M|           10| Johnson|144.14322| paid|Lexington-Fayette...|   PUT|   NextSong|1538080987000|      236|Me and Your Cigar...|   200|1538399351000|\"Mozilla/5.0 (Win...|    51|   KY|    Windows|            Windows|1538399351|2018-10-01 15:09:11|2018-10-01|2018-10-01 15:09:11|      0|          2|Mon|  15|2018|     40|       2018-09-27|       2018-10-17|                     20|        0|          1|\n",
      "|            BjÃÂ¶rk|Logged In|    Ethan|     M|           11| Johnson|348.57751| paid|Lexington-Fayette...|   PUT|   NextSong|1538080987000|      236|                Undo|   200|1538399495000|\"Mozilla/5.0 (Win...|    51|   KY|    Windows|            Windows|1538399495|2018-10-01 15:11:35|2018-10-01|2018-10-01 15:11:35|      0|          2|Mon|  15|2018|     40|       2018-09-27|       2018-10-17|                     20|        0|          1|\n",
      "|         Chris Cagle|Logged In|    Ethan|     M|           12| Johnson|243.04281| paid|Lexington-Fayette...|   PUT|   NextSong|1538080987000|      236|   Anywhere But Here|   200|1538399843000|\"Mozilla/5.0 (Win...|    51|   KY|    Windows|            Windows|1538399843|2018-10-01 15:17:23|2018-10-01|2018-10-01 15:17:23|      0|          2|Mon|  15|2018|     40|       2018-09-27|       2018-10-17|                     20|        0|          1|\n",
      "|           Daft Punk|Logged In|    Ethan|     M|           13| Johnson|223.60771| paid|Lexington-Fayette...|   PUT|   NextSong|1538080987000|      236|Harder Better Fas...|   200|1538400086000|\"Mozilla/5.0 (Win...|    51|   KY|    Windows|            Windows|1538400086|2018-10-01 15:21:26|2018-10-01|2018-10-01 15:21:26|      0|          2|Mon|  15|2018|     40|       2018-09-27|       2018-10-17|                     20|        0|          1|\n",
      "|   Avenged Sevenfold|Logged In|    Ethan|     M|           14| Johnson|312.11057| paid|Lexington-Fayette...|   PUT|   NextSong|1538080987000|      236|Bat Country (Albu...|   200|1538400309000|\"Mozilla/5.0 (Win...|    51|   KY|    Windows|            Windows|1538400309|2018-10-01 15:25:09|2018-10-01|2018-10-01 15:25:09|      0|          2|Mon|  15|2018|     40|       2018-09-27|       2018-10-17|                     20|        0|          1|\n",
      "|       Jorge Drexler|Logged In|    Ethan|     M|           15| Johnson|203.72853| paid|Lexington-Fayette...|   PUT|   NextSong|1538080987000|      236|              Veneno|   200|1538400621000|\"Mozilla/5.0 (Win...|    51|   KY|    Windows|            Windows|1538400621|2018-10-01 15:30:21|2018-10-01|2018-10-01 15:30:21|      0|          2|Mon|  15|2018|     40|       2018-09-27|       2018-10-17|                     20|        0|          1|\n",
      "+--------------------+---------+---------+------+-------------+--------+---------+-----+--------------------+------+-----------+-------------+---------+--------------------+------+-------------+--------------------+------+-----+-----------+-------------------+----------+-------------------+----------+-------------------+-------+-----------+---+----+----+-------+-----------------+-----------------+-----------------------+---------+-----------+\n",
      "only showing top 20 rows\n",
      "\n"
     ]
    }
   ],
   "source": [
    "df_sql.filter((df_sql.userChurned == 1) & (df_sql.page != \"Cancellation Confirmation\")).show()"
   ]
  },
  {
   "cell_type": "markdown",
   "metadata": {},
   "source": [
    "#### sessionId Analysis\n",
    "Could the sessionId be a useful feature? --> No"
   ]
  },
  {
   "cell_type": "code",
   "execution_count": 35,
   "metadata": {},
   "outputs": [
    {
     "name": "stdout",
     "output_type": "stream",
     "text": [
      "+---------+-----+\n",
      "|sessionId|count|\n",
      "+---------+-----+\n",
      "|        1|  680|\n",
      "|        2|    7|\n",
      "|        3|   37|\n",
      "|        4|   24|\n",
      "|        5|   57|\n",
      "|        6|   68|\n",
      "|        7|    1|\n",
      "|        8|   45|\n",
      "|        9|  190|\n",
      "|       10|  165|\n",
      "|       11|   46|\n",
      "|       12|   59|\n",
      "|       13|  119|\n",
      "|       15|  213|\n",
      "|       16|   39|\n",
      "|       17|  169|\n",
      "|       18|   27|\n",
      "|       19|  151|\n",
      "|       20|   29|\n",
      "|       21|  127|\n",
      "+---------+-----+\n",
      "only showing top 20 rows\n",
      "\n",
      "+---------+------+-----+\n",
      "|sessionId|userId|count|\n",
      "+---------+------+-----+\n",
      "|        1|     2|  428|\n",
      "|        1|100001|   51|\n",
      "|        1|300001|  201|\n",
      "|        2|200002|    7|\n",
      "|        3|100003|    2|\n",
      "|        3|300003|   35|\n",
      "|        4|100004|   24|\n",
      "|        5|     6|    5|\n",
      "|        5|100005|   52|\n",
      "|        6|100006|   44|\n",
      "|        6|300006|   24|\n",
      "|        7|200007|    1|\n",
      "|        8|     9|   45|\n",
      "|        9|    10|   70|\n",
      "|        9|100009|   28|\n",
      "|        9|300009|   92|\n",
      "|       10|200010|   86|\n",
      "|       10|    11|    9|\n",
      "|       10|300010|   70|\n",
      "|       11|    12|   25|\n",
      "+---------+------+-----+\n",
      "only showing top 20 rows\n",
      "\n"
     ]
    }
   ],
   "source": [
    "# Count per distinct sessionId\n",
    "df.groupBy(\"sessionId\").count().sort(\"sessionId\").show()\n",
    "\n",
    "# Count per distinct sessionId & userId\n",
    "df.groupBy(\"sessionId\", \"userId\").count().sort(\"sessionId\").show()\n",
    "\n",
    "# --> Seems to have no meaningful logic since not all users have data for session 1 - x"
   ]
  },
  {
   "cell_type": "markdown",
   "metadata": {},
   "source": [
    "### Compare characteristics of both groups (churned & active users)"
   ]
  },
  {
   "cell_type": "code",
   "execution_count": 36,
   "metadata": {},
   "outputs": [
    {
     "name": "stdout",
     "output_type": "stream",
     "text": [
      "+-----------+------+\n",
      "|userChurned| count|\n",
      "+-----------+------+\n",
      "|          0|233290|\n",
      "|          1| 44864|\n",
      "+-----------+------+\n",
      "\n"
     ]
    }
   ],
   "source": [
    "df.groupBy([\"userChurned\"]).count().sort(\"userChurned\").show(100)\n",
    "\n",
    "# df.groupBy([\"userChurned\", \"page\"]).count().sort(\"userChurned\").show(100)"
   ]
  },
  {
   "cell_type": "markdown",
   "metadata": {},
   "source": [
    "##### Usage statistics by churned / active"
   ]
  },
  {
   "cell_type": "code",
   "execution_count": 37,
   "metadata": {},
   "outputs": [
    {
     "name": "stdout",
     "output_type": "stream",
     "text": [
      "+-----------+----------+-----------+------------------+--------------------+------------+------------------+\n",
      "|userChurned|user_count|userChurned|        avg_length|          sum_length|played_songs|  avg_songs_played|\n",
      "+-----------+----------+-----------+------------------+--------------------+------------+------------------+\n",
      "|          1|        52|          1|248.63279564406227|   9048741.964670002|       36394| 699.8846153846154|\n",
      "|          0|       173|          0| 249.2091353888082|4.7776880181929976E7|      191714|1108.1734104046243|\n",
      "+-----------+----------+-----------+------------------+--------------------+------------+------------------+\n",
      "\n"
     ]
    }
   ],
   "source": [
    "df.groupBy([\"userChurned\"]).agg(\n",
    "                                                F.count_distinct(\"userId\").alias(\"user_count\"),\n",
    "                                                F.max(\"userChurned\").alias(\"userChurned\"),\n",
    "                                                F.mean(\"length\").alias(\"avg_length\"), \n",
    "                                                F.sum(\"length\").alias(\"sum_length\"),\n",
    "                                                F.count(\"length\").alias(\"played_songs\"),\n",
    "                                                (F.count(\"length\").alias(\"played_songs\") / F.count_distinct(\"userId\")).alias(\"avg_songs_played\")\n",
    "                                                ).show()"
   ]
  },
  {
   "cell_type": "markdown",
   "metadata": {},
   "source": [
    "##### Usage statistics by churned / active and week"
   ]
  },
  {
   "cell_type": "code",
   "execution_count": 38,
   "metadata": {},
   "outputs": [
    {
     "name": "stdout",
     "output_type": "stream",
     "text": [
      "+-----------+-------+----------+-----------+------------------+------------------+------------+------------------+\n",
      "|userChurned|weekNum|user_count|userChurned|        avg_length|        sum_length|played_songs|  avg_songs_played|\n",
      "+-----------+-------+----------+-----------+------------------+------------------+------------+------------------+\n",
      "|          0|     40|       116|          0|249.07581465804785|     3853202.85276|       15470|133.36206896551724|\n",
      "|          1|     40|        46|          1|251.29148589659124|     1754517.15453|        6982| 151.7826086956522|\n",
      "|          0|     41|       117|          0| 249.0836966144075|     4353235.76573|       17477| 149.3760683760684|\n",
      "|          1|     41|        41|          1|246.75710027618663|2412297.4123000004|        9776| 238.4390243902439|\n",
      "|          0|     42|       122|          0|249.09202399431004| 5515893.779330001|       22144|181.50819672131146|\n",
      "|          1|     42|        34|          1|248.63771257003478|1783975.5876899995|        7175|211.02941176470588|\n",
      "|          0|     43|       112|          0|248.11867449927024| 5269792.527690001|       21239|189.63392857142858|\n",
      "|          1|     43|        26|          1| 248.5667721267648|      827478.78441|        3329|128.03846153846155|\n",
      "|          0|     44|       122|          0|248.95065443498055|      6780917.9255|       27238| 223.2622950819672|\n",
      "|          1|     44|        22|          1|249.89442505002282|1099035.6813700004|        4398| 199.9090909090909|\n",
      "|          0|     45|       119|          0|249.92767089111248|     5295217.56317|       21187| 178.0420168067227|\n",
      "|          1|     45|        13|          1|     249.354271875|       622388.2626|        2496|             192.0|\n",
      "|          0|     46|       123|          0| 249.6753629644661|      5536800.8491|       22176|180.29268292682926|\n",
      "|          1|     46|        10|          1|244.49983597780857|352568.76347999997|        1442|             144.2|\n",
      "|          0|     47|       125|          0|249.41155847383783|     6067933.80611|       24329|           194.632|\n",
      "|          1|     47|         6|          1|246.02865317535554|155736.13746000006|         633|             105.5|\n",
      "|          0|     48|       112|          0| 249.5193617787122| 5103419.506460001|       20453|182.61607142857142|\n",
      "|          1|     48|         1|          1| 249.9642995705522| 40744.18083000001|         163|             163.0|\n",
      "|          0|     49|         1|          0|         465.60608|         465.60608|           1|               1.0|\n",
      "+-----------+-------+----------+-----------+------------------+------------------+------------+------------------+\n",
      "\n"
     ]
    }
   ],
   "source": [
    "df.groupBy([\"userChurned\", \"weekNum\"]).agg(\n",
    "                                                F.count_distinct(\"userId\").alias(\"user_count\"),\n",
    "                                                F.max(\"userChurned\").alias(\"userChurned\"),\n",
    "                                                F.mean(\"length\").alias(\"avg_length\"), \n",
    "                                                F.sum(\"length\").alias(\"sum_length\"),\n",
    "                                                F.count(\"length\").alias(\"played_songs\"),\n",
    "                                                (F.count(\"length\").alias(\"played_songs\") / F.count_distinct(\"userId\")).alias(\"avg_songs_played\")\n",
    "                                                ).sort([\"weekNum\", \"userChurned\"]).show()"
   ]
  },
  {
   "cell_type": "code",
   "execution_count": 39,
   "metadata": {},
   "outputs": [],
   "source": [
    "# How to flg actions before churn per user?\n",
    "# Groupby / window by user and flag where the timestamp is before the churnFlag\n",
    "# df = df.withColumn(\"beforeChurn\")\n",
    "\n"
   ]
  },
  {
   "cell_type": "markdown",
   "metadata": {},
   "source": [
    "## Aggregations on user level"
   ]
  },
  {
   "cell_type": "code",
   "execution_count": 40,
   "metadata": {},
   "outputs": [
    {
     "name": "stdout",
     "output_type": "stream",
     "text": [
      "+--------------------+---------+---------+------+-------------+---------+---------+-----+--------------------+------+--------+-------------+---------+--------------------+------+-------------+--------------------+------+-----+-----------+-------------------+----------+-------------------+----------+-------------------+-------+-----------+---+----+----+-------+-----------------+-----------------+-----------------------+---------+-----------+\n",
      "|              artist|     auth|firstName|gender|itemInSession| lastName|   length|level|            location|method|    page| registration|sessionId|                song|status|           ts|           userAgent|userId|state|deviceGroup|deviceGroupDetailed|  ts_no_ms|             ts_str|   ts_date|          ts_tsType|weekday|day_of_week|day|hour|year|weekNum|registration_date|last_visited_date|days_since_registration|churnFlag|userChurned|\n",
      "+--------------------+---------+---------+------+-------------+---------+---------+-----+--------------------+------+--------+-------------+---------+--------------------+------+-------------+--------------------+------+-----+-----------+-------------------+----------+-------------------+----------+-------------------+-------+-----------+---+----+----+-------+-----------------+-----------------+-----------------------+---------+-----------+\n",
      "|Sleeping With Sirens|Logged In| Darianna|     F|            0|Carpenter|202.97098| free|Bridgeport-Stamfo...|   PUT|NextSong|1538016340000|       31|Captain Tyin Knot...|   200|1539003534000|\"Mozilla/5.0 (iPh...|100010|   CT|      Apple|             iPhone|1539003534|2018-10-08 14:58:54|2018-10-08|2018-10-08 14:58:54|      0|          2|Mon|  14|2018|     41|       2018-09-27|       2018-11-21|                     55|        0|          0|\n",
      "+--------------------+---------+---------+------+-------------+---------+---------+-----+--------------------+------+--------+-------------+---------+--------------------+------+-------------+--------------------+------+-----+-----------+-------------------+----------+-------------------+----------+-------------------+-------+-----------+---+----+----+-------+-----------------+-----------------+-----------------------+---------+-----------+\n",
      "only showing top 1 row\n",
      "\n"
     ]
    }
   ],
   "source": [
    "df.show(1)"
   ]
  },
  {
   "cell_type": "code",
   "execution_count": 41,
   "metadata": {},
   "outputs": [
    {
     "name": "stdout",
     "output_type": "stream",
     "text": [
      "+------+-----------+------+-----+------------------+------------------+------------+--------+-----------+-----------------------+\n",
      "|userId|userChurned|gender|level|        avg_length|        sum_length|played_songs|   state|deviceGroup|days_since_registration|\n",
      "+------+-----------+------+-----+------------------+------------------+------------+--------+-----------+-----------------------+\n",
      "|   100|          0|     M| paid|250.88659828113387|  672877.856590001|        2682|      TX|    Windows|                     65|\n",
      "|100005|          1|     M| free|240.50079227272732| 37037.12201000001|         154|      LA|      Apple|                     85|\n",
      "|100006|          1|     F| free|225.18811730769232|        5854.89105|          26|      MI|    Windows|                      9|\n",
      "|100008|          0|     F| paid|247.92331090673568|191396.79601999995|         772|      CA|      Apple|                     68|\n",
      "|100010|          0|     F| free|  243.421444909091| 66940.89735000003|         275|      CT|      Apple|                     55|\n",
      "|100014|          1|     M| paid|263.43763455252935| 67703.47208000004|         257|NY-NJ-PA|    Windows|                     85|\n",
      "|100021|          1|     M| free| 250.5790245217391| 57633.17563999999|         230|      TX|      Apple|                     65|\n",
      "|100022|          1|     F| free| 247.5950993979443|168612.26269000006|         681|      TX|      Apple|                     48|\n",
      "|100025|          1|     F| paid|242.92456783673484|119033.03824000007|         490|NY-NJ-PA|      Apple|                     89|\n",
      "|   101|          1|     M| paid|249.00612947690533| 447464.0146699989|        1797|      CO|    Windows|                     54|\n",
      "|   107|          0|     F| free|251.43098520325194| 61852.02235999997|         246|      IL|    Windows|                     74|\n",
      "|    11|          0|     F| paid| 246.7851051622872|159669.96303999983|         647|   RI-MA|    Windows|                    125|\n",
      "|   110|          0|     M| free| 260.4133601123595| 46353.57809999999|         178|IL-IN-WI|      Apple|                     68|\n",
      "|   112|          0|     M| free|246.80347251162797| 53062.74659000002|         215|      IN|    Windows|                     87|\n",
      "|   113|          0|     F| paid|252.42531988643512|400094.13201999967|        1585|   NC-SC|      Apple|                    123|\n",
      "|   124|          0|     F| paid|248.17653659965674|1012312.0927899999|        4079|      NJ|      Apple|                    131|\n",
      "|   125|          1|     M| free|261.13913750000006|2089.1131000000005|           8|      TX|      Apple|                     72|\n",
      "|   126|          0|     M| paid| 251.7809889794337| 648839.6086000006|        2577|NY-NJ-PA|    Windows|                     62|\n",
      "|   131|          0|     M| paid|249.09481882352938|389584.29663999996|        1564|   TN-VA|      Apple|                    121|\n",
      "|   132|          0|     F| paid|250.58034431535253| 483118.9038399997|        1928|      CO|      Apple|                     66|\n",
      "+------+-----------+------+-----+------------------+------------------+------------+--------+-----------+-----------------------+\n",
      "only showing top 20 rows\n",
      "\n"
     ]
    }
   ],
   "source": [
    "df_agg_user = df.groupBy([\"userId\"]).agg(\n",
    "                                            F.max(\"userChurned\").alias(\"userChurned\"),\n",
    "                                            F.max(\"gender\").alias(\"gender\"),\n",
    "                                            F.max(\"level\").alias(\"level\"),\n",
    "                                            F.mean(\"length\").alias(\"avg_length\"), \n",
    "                                            F.sum(\"length\").alias(\"sum_length\"),\n",
    "                                            F.count(\"length\").alias(\"played_songs\"),\n",
    "                                            F.max(\"state\").alias(\"state\"),\n",
    "                                            F.max(\"deviceGroup\").alias(\"deviceGroup\"),\n",
    "                                            F.max(\"days_since_registration\").alias(\"days_since_registration\")\n",
    "                                        )\n",
    "\n",
    "\n",
    "df_agg_user.show()"
   ]
  },
  {
   "cell_type": "markdown",
   "metadata": {},
   "source": [
    "## Aggregations on user & week level"
   ]
  },
  {
   "cell_type": "code",
   "execution_count": 42,
   "metadata": {},
   "outputs": [
    {
     "name": "stdout",
     "output_type": "stream",
     "text": [
      "+------+-------+-----------+------------------+------------------+------------+\n",
      "|userId|weekNum|userChurned|        avg_length|        sum_length|played_songs|\n",
      "+------+-------+-----------+------------------+------------------+------------+\n",
      "|   143|     40|          1|247.14041907692314|16064.127240000003|          65|\n",
      "|   143|     41|          1|237.30048294117643|4034.1082099999994|          17|\n",
      "|   143|     42|          1|262.78725894736846| 4992.957920000001|          19|\n",
      "+------+-------+-----------+------------------+------------------+------------+\n",
      "\n",
      "+------+-------+-----------+------------------+------------------+------------+-------------------+----------------------+\n",
      "|userId|weekNum|userChurned|        avg_length|        sum_length|played_songs| delta_playtime_wow|delta_songs_played_wow|\n",
      "+------+-------+-----------+------------------+------------------+------------+-------------------+----------------------+\n",
      "|   100|     40|          0| 244.2558602362204|62040.988499999985|         254|               NULL|                  NULL|\n",
      "|   100|     41|          0| 247.9595591538462|64469.485380000006|         260| 1.0391434266073956|    1.0236220472440944|\n",
      "|   100|     42|          0|252.45126944162433| 49732.90007999999|         197|  0.771417668170628|    0.7576923076923077|\n",
      "|   100|     43|          0|249.55147358722337|101567.44974999991|         407|  2.042258737910301|     2.065989847715736|\n",
      "|   100|     44|          0|252.27935996062988|128157.91485999998|         508| 1.2618010511778168|    1.2481572481572483|\n",
      "|   100|     45|          0| 250.2552666467066|       41792.62953|         167|0.32610260221270276|     0.328740157480315|\n",
      "|   100|     46|          0| 257.1805128164557|       81269.04205|         316| 1.9445783374712677|    1.8922155688622755|\n",
      "|   100|     47|          0|251.19532356466868| 79628.91756999998|         317| 0.9798185823454033|    1.0031645569620253|\n",
      "|   100|     48|          0| 250.8536283984375|       64218.52887|         256| 0.8064724578674192|     0.807570977917981|\n",
      "|100005|     40|          1|230.58022678571425|19368.739049999996|          84|               NULL|                  NULL|\n",
      "|100005|     42|          1|252.40547085714283|       17668.38296|          70|  0.912211317132697|    0.8333333333333334|\n",
      "|100006|     40|          1|225.18811730769232|        5854.89105|          26|               NULL|                  NULL|\n",
      "|100007|     40|          1| 239.8681658169936| 36699.82937000002|         153|               NULL|                  NULL|\n",
      "|100007|     42|          1|259.09136056603774|       13731.84211|          53|0.37416637476862447|    0.3464052287581699|\n",
      "|100007|     43|          1|271.57287833333334|        1629.43727|           6|0.11866122964036906|   0.11320754716981132|\n",
      "|100007|     44|          1|        250.114158|        2501.14158|          10|  1.534972610513567|    1.6666666666666667|\n",
      "|100007|     45|          1| 242.2489160869565|5571.7250699999995|          23| 2.2276728013133904|                   2.3|\n",
      "|100007|     46|          1|202.61178999999998| 810.4471599999999|           4|0.14545713397879484|   0.17391304347826086|\n",
      "|100007|     47|          1| 255.1565027272727|        2806.72153|          11|   3.46317646421267|                  2.75|\n",
      "|100007|     48|          1| 249.9642995705522| 40744.18083000001|         163| 14.516645272607438|    14.818181818181818|\n",
      "+------+-------+-----------+------------------+------------------+------------+-------------------+----------------------+\n",
      "only showing top 20 rows\n",
      "\n"
     ]
    }
   ],
   "source": [
    "# df_agg = df.groupBy([\"userId\", \"weekNum\"]).agg({\"length\":\"mean\", \"length\":\"sum\", \"length\":\"count\"})\n",
    "\n",
    "df_agg = df.groupBy([\"userId\", \"weekNum\"]).agg(\n",
    "                                                F.max(\"userChurned\").alias(\"userChurned\"),\n",
    "                                                F.mean(\"length\").alias(\"avg_length\"), \n",
    "                                                F.sum(\"length\").alias(\"sum_length\"),\n",
    "                                                F.count(\"length\").alias(\"played_songs\")\n",
    "                                                \n",
    "                                                )\n",
    "\n",
    "\n",
    "df_agg.where(df_agg.userId == 143).show()\n",
    "\n",
    "window = Window.partitionBy([\"userId\"]).orderBy([\"userId\", \"weekNum\"])\n",
    "\n",
    "# df_agg.withColumn(\"delta_playtime_wow\", F.lag(\"sum_length\", default=0).over(window)).show()\n",
    "\n",
    "df_agg = df_agg.withColumn(\"delta_playtime_wow\", (df_agg.sum_length / F.lag(\"sum_length\", default=0).over(window)))\n",
    "\n",
    "df_agg = df_agg.withColumn(\"delta_songs_played_wow\", (df_agg.played_songs / F.lag(\"played_songs\", default=0).over(window)))\n",
    "\n",
    "\n",
    "df_agg.show()\n"
   ]
  },
  {
   "cell_type": "markdown",
   "metadata": {},
   "source": [
    "#### Create tables with WoW changes in played songs / playtime per user"
   ]
  },
  {
   "cell_type": "code",
   "execution_count": 43,
   "metadata": {},
   "outputs": [],
   "source": [
    "weeks_list = [\"41\", \"42\", \"43\", \"44\", \"45\", \"46\", \"47\", \"48\"]"
   ]
  },
  {
   "cell_type": "markdown",
   "metadata": {},
   "source": [
    "##### WoW Playtime"
   ]
  },
  {
   "cell_type": "code",
   "execution_count": 44,
   "metadata": {},
   "outputs": [
    {
     "name": "stdout",
     "output_type": "stream",
     "text": [
      "+------+------------------+-------------------+-------------------+------------------+-------------------+-------------------+------------------+-------------------+\n",
      "|userId|  41_wow_pt_change|   42_wow_pt_change|   43_wow_pt_change|  44_wow_pt_change|   45_wow_pt_change|   46_wow_pt_change|  47_wow_pt_change|   48_wow_pt_change|\n",
      "+------+------------------+-------------------+-------------------+------------------+-------------------+-------------------+------------------+-------------------+\n",
      "|   100|1.0391434266073956|  0.771417668170628|  2.042258737910301|1.2618010511778168|0.32610260221270276| 1.9445783374712677|0.9798185823454033| 0.8064724578674192|\n",
      "|100005|               0.0|  0.912211317132697|                0.0|               0.0|                0.0|                0.0|               0.0|                0.0|\n",
      "|100006|               0.0|                0.0|                0.0|               0.0|                0.0|                0.0|               0.0|                0.0|\n",
      "|100007|               0.0|0.37416637476862447|0.11866122964036906| 1.534972610513567| 2.2276728013133904|0.14545713397879484|  3.46317646421267| 14.516645272607438|\n",
      "|100008|               0.0| 1.0841847720452336|                0.0|               0.0|                0.0|                0.0|3.8645627727759218|0.06931898581581769|\n",
      "+------+------------------+-------------------+-------------------+------------------+-------------------+-------------------+------------------+-------------------+\n",
      "only showing top 5 rows\n",
      "\n"
     ]
    }
   ],
   "source": [
    "wow_playtime_colnames = [\"userId\"] + [x + \"_wow_pt_change\" for x in weeks_list]\n",
    "\n",
    "join_df_wow_playtime = df_agg.groupBy(\"userId\").pivot(\"weekNum\").max(\"delta_playtime_wow\").fillna(0)\n",
    "\n",
    "# Drop first and last week in dataset since no changes are present\n",
    "join_df_wow_playtime = join_df_wow_playtime.drop(\"40\", \"49\")\n",
    "join_df_wow_playtime = join_df_wow_playtime.toDF(*wow_playtime_colnames)\n",
    "\n",
    "join_df_wow_playtime.show(5)"
   ]
  },
  {
   "cell_type": "markdown",
   "metadata": {},
   "source": [
    "##### WoW Played Songs"
   ]
  },
  {
   "cell_type": "code",
   "execution_count": 45,
   "metadata": {},
   "outputs": [
    {
     "name": "stdout",
     "output_type": "stream",
     "text": [
      "+------+-------------------+-------------------+-------------------+-------------------+-------------------+-------------------+-------------------+-------------------+\n",
      "|userId|41_wow_songs_change|42_wow_songs_change|43_wow_songs_change|44_wow_songs_change|45_wow_songs_change|46_wow_songs_change|47_wow_songs_change|48_wow_songs_change|\n",
      "+------+-------------------+-------------------+-------------------+-------------------+-------------------+-------------------+-------------------+-------------------+\n",
      "|   100| 1.0236220472440944| 0.7576923076923077|  2.065989847715736| 1.2481572481572483|  0.328740157480315| 1.8922155688622755| 1.0031645569620253|  0.807570977917981|\n",
      "|100005|                0.0| 0.8333333333333334|                0.0|                0.0|                0.0|                0.0|                0.0|                0.0|\n",
      "|100006|                0.0|                0.0|                0.0|                0.0|                0.0|                0.0|                0.0|                0.0|\n",
      "|100007|                0.0| 0.3464052287581699|0.11320754716981132| 1.6666666666666667|                2.3|0.17391304347826086|               2.75| 14.818181818181818|\n",
      "|100008|                0.0| 1.1293103448275863|                0.0|                0.0|                0.0|                0.0| 3.7480916030534353|0.06924643584521385|\n",
      "+------+-------------------+-------------------+-------------------+-------------------+-------------------+-------------------+-------------------+-------------------+\n",
      "only showing top 5 rows\n",
      "\n"
     ]
    }
   ],
   "source": [
    "wow_played_songs_colnames = [\"userId\"] + [x + \"_wow_songs_change\" for x in weeks_list]\n",
    "\n",
    "join_df_wow_played_songs = df_agg.groupBy(\"userId\").pivot(\"weekNum\").max(\"delta_songs_played_wow\").fillna(0)\n",
    "\n",
    "# Drop first and last week in dataset since no changes are present\n",
    "join_df_wow_played_songs = join_df_wow_played_songs.drop(\"40\", \"49\")\n",
    "join_df_wow_played_songs = join_df_wow_played_songs.toDF(*wow_played_songs_colnames)\n",
    "\n",
    "join_df_wow_played_songs.show(5)"
   ]
  },
  {
   "cell_type": "code",
   "execution_count": 46,
   "metadata": {},
   "outputs": [],
   "source": [
    "# df_agg.groupBy([\"userId\", \"weekNum\"]).agg({\"length\":\"mean\"}).show()\n",
    "\n",
    "# df_agg.groupBy(\"weekNum\").agg(F.avg(\"length\")).sort(\"weekNum\").show()\n",
    "\n",
    "# df_agg.groupBy(\"weekNum\", \"userChurned\").agg(F.avg(\"length\")).sort(\"weekNum\", \"userChurned\").show()"
   ]
  },
  {
   "cell_type": "code",
   "execution_count": 47,
   "metadata": {},
   "outputs": [
    {
     "data": {
      "text/plain": [
       "Row(userId='100', weekNum=40, userChurned=0, avg_length=244.2558602362204, sum_length=62040.988499999985, played_songs=254, delta_playtime_wow=None, delta_songs_played_wow=None)"
      ]
     },
     "execution_count": 47,
     "metadata": {},
     "output_type": "execute_result"
    }
   ],
   "source": [
    "df_agg.head()"
   ]
  },
  {
   "cell_type": "code",
   "execution_count": 48,
   "metadata": {},
   "outputs": [],
   "source": [
    "# window = Window.partitionBy(\"weekNum\").orderBy(\"weekNum\")\n",
    "\n",
    "# df_window = df.withColumn(\"TEST\", F.avg(\"length\").over(window))\n",
    "\n",
    "# df_window.where(df_window.weekNum == 48).show()"
   ]
  },
  {
   "cell_type": "markdown",
   "metadata": {},
   "source": [
    "### Join DFs on User Level"
   ]
  },
  {
   "cell_type": "code",
   "execution_count": 49,
   "metadata": {},
   "outputs": [
    {
     "name": "stdout",
     "output_type": "stream",
     "text": [
      "+------+-----------+------+-----+------------------+------------------+------------+-----+-----------+-----------------------+\n",
      "|userId|userChurned|gender|level|        avg_length|        sum_length|played_songs|state|deviceGroup|days_since_registration|\n",
      "+------+-----------+------+-----+------------------+------------------+------------+-----+-----------+-----------------------+\n",
      "|   100|          0|     M| paid|250.88659828113387|  672877.856590001|        2682|   TX|    Windows|                     65|\n",
      "|100005|          1|     M| free|240.50079227272732| 37037.12201000001|         154|   LA|      Apple|                     85|\n",
      "|100006|          1|     F| free|225.18811730769232|        5854.89105|          26|   MI|    Windows|                      9|\n",
      "|100008|          0|     F| paid|247.92331090673568|191396.79601999995|         772|   CA|      Apple|                     68|\n",
      "|100010|          0|     F| free|  243.421444909091| 66940.89735000003|         275|   CT|      Apple|                     55|\n",
      "+------+-----------+------+-----+------------------+------------------+------------+-----+-----------+-----------------------+\n",
      "only showing top 5 rows\n",
      "\n"
     ]
    }
   ],
   "source": [
    "df_agg_user.show(5)"
   ]
  },
  {
   "cell_type": "code",
   "execution_count": 50,
   "metadata": {},
   "outputs": [
    {
     "name": "stdout",
     "output_type": "stream",
     "text": [
      "+------+--------------------+--------------------+--------------------+--------------------+--------------------+--------------------+--------------------+--------------------+------------------+--------------------+--------------------+--------------------+--------------------+--------------------+--------------------+--------------------+--------------------+\n",
      "|userId|               About|          Add Friend|     Add to Playlist|           Downgrade|               Error|                Help|                Home|              Logout|          NextSong|         Roll Advert|       Save Settings|            Settings|    Submit Downgrade|      Submit Upgrade|         Thumbs Down|           Thumbs Up|             Upgrade|\n",
      "+------+--------------------+--------------------+--------------------+--------------------+--------------------+--------------------+--------------------+--------------------+------------------+--------------------+--------------------+--------------------+--------------------+--------------------+--------------------+--------------------+--------------------+\n",
      "|    10|0.002515723270440...| 0.01509433962264151|0.011320754716981131| 0.00880503144654088|                 0.0|0.001257861635220...| 0.03773584905660377|0.013836477987421384|0.8465408805031447|0.001257861635220...|0.001257861635220...| 0.00880503144654088|                 0.0|                 0.0|0.005031446540880503| 0.04654088050314465|                 0.0|\n",
      "|   100| 0.00373366521468575|0.015245799626633479|0.018979464841319228|0.009334163036714374|9.334163036714375E-4|0.005600497822028625| 0.03266957062850031|0.010889856876166771|0.8344741754822651|0.007778469197261979|0.001555693839452...|0.003422526446795271|3.111387678904791...|3.111387678904791...|0.008400746733042938| 0.04604853764779091|3.111387678904791...|\n",
      "|100001|                 0.0|0.010810810810810811|0.016216216216216217|                 0.0|0.005405405405405406|0.005405405405405406| 0.05945945945945946| 0.03783783783783784|0.7189189189189189| 0.07567567567567568|                 0.0|0.005405405405405406|                 0.0|                 0.0|0.010810810810810811|0.043243243243243246|0.010810810810810811|\n",
      "|100002|                 0.0|0.004587155963302...|0.022935779816513763|0.009174311926605505|                 0.0|                 0.0|0.027522935779816515|0.004587155963302...|0.8944954128440367|0.013761467889908258|                 0.0|                 0.0|                 0.0|                 0.0|                 0.0|0.022935779816513763|                 0.0|\n",
      "|100003|                 0.0|                 0.0| 0.02631578947368421|                 0.0|                 0.0|0.013157894736842105| 0.09210526315789473|0.039473684210526314|0.6710526315789473| 0.11842105263157894|                 0.0|                 0.0|                 0.0|                 0.0|                 0.0|0.039473684210526314|                 0.0|\n",
      "+------+--------------------+--------------------+--------------------+--------------------+--------------------+--------------------+--------------------+--------------------+------------------+--------------------+--------------------+--------------------+--------------------+--------------------+--------------------+--------------------+--------------------+\n",
      "only showing top 5 rows\n",
      "\n",
      "+------+-------------------+-------------------+-------------------+-------------------+-------------------+-------------------+-------------------+-------------------+\n",
      "|userId|41_wow_songs_change|42_wow_songs_change|43_wow_songs_change|44_wow_songs_change|45_wow_songs_change|46_wow_songs_change|47_wow_songs_change|48_wow_songs_change|\n",
      "+------+-------------------+-------------------+-------------------+-------------------+-------------------+-------------------+-------------------+-------------------+\n",
      "|   100| 1.0236220472440944| 0.7576923076923077|  2.065989847715736| 1.2481572481572483|  0.328740157480315| 1.8922155688622755| 1.0031645569620253|  0.807570977917981|\n",
      "|100005|                0.0| 0.8333333333333334|                0.0|                0.0|                0.0|                0.0|                0.0|                0.0|\n",
      "|100006|                0.0|                0.0|                0.0|                0.0|                0.0|                0.0|                0.0|                0.0|\n",
      "|100007|                0.0| 0.3464052287581699|0.11320754716981132| 1.6666666666666667|                2.3|0.17391304347826086|               2.75| 14.818181818181818|\n",
      "|100008|                0.0| 1.1293103448275863|                0.0|                0.0|                0.0|                0.0| 3.7480916030534353|0.06924643584521385|\n",
      "+------+-------------------+-------------------+-------------------+-------------------+-------------------+-------------------+-------------------+-------------------+\n",
      "only showing top 5 rows\n",
      "\n"
     ]
    }
   ],
   "source": [
    "join_df_pages_share.show(5)\n",
    "join_df_wow_played_songs.show(5)"
   ]
  },
  {
   "cell_type": "code",
   "execution_count": 51,
   "metadata": {},
   "outputs": [
    {
     "name": "stdout",
     "output_type": "stream",
     "text": [
      "+------+-----------+------+-----+------------------+------------------+------------+--------+-----------+-----------------------+--------------------+--------------------+--------------------+--------------------+--------------------+--------------------+--------------------+--------------------+------------------+--------------------+--------------------+--------------------+--------------------+--------------------+--------------------+--------------------+--------------------+-------------------+-------------------+-------------------+-------------------+--------------------+-------------------+--------------------+-------------------+\n",
      "|userId|userChurned|gender|level|        avg_length|        sum_length|played_songs|   state|deviceGroup|days_since_registration|               About|          Add Friend|     Add to Playlist|           Downgrade|               Error|                Help|                Home|              Logout|          NextSong|         Roll Advert|       Save Settings|            Settings|    Submit Downgrade|      Submit Upgrade|         Thumbs Down|           Thumbs Up|             Upgrade|41_wow_songs_change|42_wow_songs_change|43_wow_songs_change|44_wow_songs_change| 45_wow_songs_change|46_wow_songs_change| 47_wow_songs_change|48_wow_songs_change|\n",
      "+------+-----------+------+-----+------------------+------------------+------------+--------+-----------+-----------------------+--------------------+--------------------+--------------------+--------------------+--------------------+--------------------+--------------------+--------------------+------------------+--------------------+--------------------+--------------------+--------------------+--------------------+--------------------+--------------------+--------------------+-------------------+-------------------+-------------------+-------------------+--------------------+-------------------+--------------------+-------------------+\n",
      "|100010|          0|     F| free|  243.421444909091| 66940.89735000003|         275|      CT|      Apple|                     55|0.002624671916010...|0.010498687664041995| 0.01837270341207349|                 0.0|                 0.0|0.005249343832020997|0.028871391076115485|0.013123359580052493|0.7217847769028871| 0.13648293963254593|                 0.0|                 0.0|                 0.0|                 0.0|0.013123359580052493| 0.04461942257217848|0.005249343832020997|                0.0|  2.870967741935484|                0.0|                0.0|  1.4719101123595506|                0.0|   0.183206106870229|                0.0|\n",
      "|100014|          1|     M| paid|263.43763455252935| 67703.47208000004|         257|NY-NJ-PA|    Windows|                     85|                 0.0| 0.01948051948051948|0.022727272727272728| 0.00974025974025974|                 0.0|0.006493506493506494|0.022727272727272728| 0.00974025974025974|0.8344155844155844|0.006493506493506494|                 0.0|0.003246753246753247|                 0.0|                 0.0| 0.00974025974025974| 0.05519480519480519|                 0.0|                0.0| 1.4074074074074074|                0.0|                0.0|0.017543859649122806|                0.0|                30.0|                0.0|\n",
      "|100021|          1|     M| free| 250.5790245217391| 57633.17563999999|         230|      TX|      Apple|                     65|0.003154574132492...|0.022082018927444796|0.022082018927444796|                 0.0|0.006309148264984227|                 0.0|  0.0473186119873817|0.022082018927444796|0.7255520504731862|  0.0946372239747634|                 0.0|                 0.0|                 0.0|                 0.0|0.015772870662460567| 0.03470031545741325|0.006309148264984227|                0.0|                0.0|                0.0|0.39705882352941174|                 0.0|                0.0|                 5.0|                0.0|\n",
      "|   101|          1|     M| paid|249.00612947690533| 447464.0146699989|        1797|      CO|    Windows|                     54|9.315323707498836E-4| 0.01350721937587331| 0.02841173730787145|0.010246856078248719|0.001397298556124...|0.005589194224499...|0.034466697717745694|0.011178388448998603|0.8369818351187703|0.003726129482999...|9.315323707498836E-4|0.004191895668374476|                 0.0|4.657661853749418E-4|0.007452258965999069|0.040055891942244994|4.657661853749418E-4| 2.7433035714285716|0.09764035801464606|                0.0|                0.0|                 0.0|                0.0|                 0.0|                0.0|\n",
      "|    11|          0|     F| paid| 246.7851051622872|159669.96303999983|         647|   RI-MA|    Windows|                    125|0.008254716981132075|0.007075471698113208| 0.02358490566037736| 0.00589622641509434|0.001179245283018...|0.003537735849056604| 0.04363207547169811| 0.01650943396226415|0.7629716981132075|0.045990566037735846|0.002358490566037...|0.007075471698113208|0.001179245283018...|0.002358490566037...| 0.01061320754716981| 0.04716981132075472| 0.01061320754716981| 11.833333333333334|  0.352112676056338|                0.8|               8.85|  0.4745762711864407| 1.9166666666666667|  0.4409937888198758| 0.4507042253521127|\n",
      "|   112|          0|     M| free|246.80347251162797| 53062.74659000002|         215|      IN|    Windows|                     87|0.003424657534246575|0.023972602739726026|0.023972602739726026|                 0.0|                 0.0|0.003424657534246575|  0.0547945205479452|0.010273972602739725|0.7363013698630136| 0.07191780821917808|0.010273972602739725|  0.0136986301369863|                 0.0|                 0.0|0.010273972602739725|0.030821917808219176| 0.00684931506849315|                0.0|                0.0| 0.5384615384615384| 0.5714285714285714|              0.9375|                5.4|                 0.0| 0.2839506172839506|\n",
      "|   113|          0|     F| paid|252.42531988643512|400094.13201999967|        1585|   NC-SC|      Apple|                    123|5.277044854881266E-4|0.016886543535620052|0.026385224274406333|0.008443271767810026|0.001583113456464...|0.003693931398416...| 0.03799472295514512| 0.00949868073878628|0.8364116094986808|5.277044854881266E-4|0.001583113456464...|0.004221635883905013|                 0.0|5.277044854881266E-4|0.006332453825857...| 0.04327176781002638|0.002110817941952...| 2.5568181818181817|               1.76|                0.0|0.49747474747474746|  1.1269035532994924| 0.9864864864864865|   0.365296803652968|              1.975|\n",
      "|   124|          0|     F| paid|248.17653659965674|1012312.0927899999|        4079|      NJ|      Apple|                    131|0.001450777202072539| 0.01533678756476684|  0.0244559585492228| 0.00849740932642487|0.001243523316062176|0.004766839378238342|0.036476683937823835|  0.0122279792746114|0.8453886010362694|8.290155440414508E-4|0.001243523316062176|0.004145077720207254|                 0.0|                 0.0| 0.00849740932642487| 0.03544041450777202|                 0.0| 0.1717557251908397|  3.214814814814815| 0.7258064516129032|  2.403174603174603|  1.1743725231175695|0.36332958380202474|  0.6934984520123839| 0.9642857142857143|\n",
      "|   125|          1|     M| free|261.13913750000006|2089.1131000000005|           8|      TX|      Apple|                     72|                 0.0|                 0.0|                 0.0|                 0.0|                 0.0|                 0.0|                 0.0|                 0.0|0.8888888888888888|  0.1111111111111111|                 0.0|                 0.0|                 0.0|                 0.0|                 0.0|                 0.0|                 0.0|                0.0|                0.0|                0.0|                0.0|                 0.0|                0.0|                 0.0|                0.0|\n",
      "|   132|          0|     F| paid|250.58034431535253| 483118.9038399997|        1928|      CO|      Apple|                     66|0.001736111111111111|0.017795138888888888|0.016493055555555556|0.008246527777777778|0.001302083333333...|0.006944444444444444| 0.03602430555555555|0.014756944444444444|0.8368055555555556|8.680555555555555E-4|0.001736111111111111|0.007378472222222222|                 0.0|4.340277777777777...|0.007378472222222222|0.041666666666666664|4.340277777777777...| 1.3333333333333333|              4.125|                0.0|  1.981060606060606|  0.3403441682600382|  3.353932584269663| 0.42546063651591287|                0.0|\n",
      "|   133|          0|     M| free|250.91138375000006| 8029.164280000002|          32|      CA|    Windows|                     40|                 0.0|0.022727272727272728| 0.06818181818181818|                 0.0|                 0.0|                 0.0| 0.06818181818181818|0.045454545454545456|0.7272727272727273|0.022727272727272728|                 0.0|                 0.0|                 0.0|                 0.0|                 0.0|0.045454545454545456|                 0.0|                0.0|                0.0|                0.0|                0.0|                 0.0|                0.0|                 0.0|                0.0|\n",
      "|   138|          0|     M| paid|247.56032983574826| 512449.8827599989|        2070|NY-NJ-PA|      Apple|                     67|0.003240178209801...| 0.01660591332523289| 0.02713649250708789| 0.00850546780072904|4.050222762251924E-4|0.005265289590927501| 0.02875658161198866|0.007290400972053463|0.8383961117861483| 0.00688537869582827|0.001620089104900...| 0.00688537869582827|                 0.0|4.050222762251924E-4|0.009720534629404616| 0.03847711624139328|4.050222762251924E-4| 1.8571428571428572| 6.1923076923076925|  4.751552795031056| 0.3437908496732026| 0.11787072243346007|  3.193548387096774|  0.3333333333333333| 20.545454545454547|\n",
      "|   139|          0|     M| paid|252.16980140583536| 95068.01512999993|         377|      CA|      Apple|                     87|0.002188183807439825| 0.01312910284463895|0.028446389496717725|0.019693654266958426|0.002188183807439825|0.002188183807439825| 0.03938730853391685|0.010940919037199124| 0.824945295404814|0.002188183807439825|                 0.0|                 0.0|                 0.0|0.002188183807439825|0.010940919037199124| 0.03938730853391685|0.002188183807439825|                0.0|                0.0|                0.0|                0.0|                 0.0| 2.8842105263157896|0.029197080291970802|                0.0|\n",
      "|   146|          0|     M| free|251.73314789230773|163626.54613000003|         650|   SC-NC|    Windows|                     86|0.001194743130227...|0.010752688172043012|0.015531660692951015|                 0.0|0.001194743130227...|0.007168458781362007|0.035842293906810034|0.010752688172043012|0.7765830346475507| 0.06690561529271206|                 0.0|0.004778972520908...|                 0.0|                 0.0|0.010752688172043012| 0.04540023894862605|0.013142174432497013| 0.2857142857142857| 1.6176470588235294| 1.6727272727272726|0.06521739130434782|   7.666666666666667|  0.717391304347826| 0.15151515151515152|               52.0|\n",
      "|    15|          0|     M| paid|249.37701452978064|477307.60581000015|        1914|      WV|    Windows|                     57| 8.77963125548727E-4|0.013608428446005268|0.025899912203687446|0.012291483757682178| 8.77963125548727E-4|0.003511852502194908|0.040825285338015806|0.011852502194907815|0.8402107111501317|4.389815627743635E-4| 8.77963125548727E-4|0.007023705004389816|                 0.0|                 0.0|0.006145741878841089| 0.03555750658472344|                 0.0| 0.6961770623742455| 0.6040462427745664|0.31100478468899523| 3.8461538461538463|                 0.0|              0.764|  1.8638743455497382|                0.0|\n",
      "|   154|          0|     F| free| 245.9526655952382|20660.023910000007|          84|NY-NJ-PA|    Windows|                     24|                 0.0|0.025423728813559324| 0.00847457627118644|                 0.0|                 0.0| 0.00847457627118644| 0.05084745762711865| 0.01694915254237288| 0.711864406779661|  0.0847457627118644|                 0.0|                 0.0|                 0.0|                 0.0|                 0.0| 0.09322033898305085|                 0.0|                0.0|                0.0|                0.0|                0.0|  2.3157894736842106|                0.0|                 0.0| 0.4772727272727273|\n",
      "|   155|          0|     F| paid| 242.4137706097561|       198779.2919|         820|   MA-NH|    Windows|                     24|0.001996007984031936|0.010978043912175649|0.023952095808383235|0.011976047904191617|0.002994011976047...|0.008982035928143712|0.029940119760479042|0.013972055888223553|0.8183632734530938|0.007984031936127744|                 0.0| 0.00499001996007984|                 0.0| 9.98003992015968E-4|0.002994011976047...| 0.05788423153692615|0.001996007984031936|                0.0|                0.0|                0.0|                0.0|   2.642857142857143|                1.6|                 0.0| 0.9087837837837838|\n",
      "|200002|          0|     M| paid|242.91699209302305| 94008.87593999993|         387|IL-IN-WI|      Apple|                     71|0.006329113924050633|0.008438818565400843|0.016877637130801686|0.010548523206751054|                 0.0|0.004219409282700422| 0.04219409282700422|0.010548523206751054|0.8164556962025317|0.014767932489451477|                 0.0|0.006329113924050633|                 0.0|0.002109704641350211|0.012658227848101266| 0.04430379746835443|0.004219409282700422|                0.0|  6.291666666666667|  0.609271523178808|                0.0|                 0.0| 1.3043478260869565|                 0.0|                0.0|\n",
      "|200010|          0|     F| free| 256.4414237552741| 60776.61742999997|         237|   UT-ID|      Linux|                     38|                 0.0|0.025236593059936908|0.015772870662460567|                 0.0|0.003154574132492...|0.003154574132492...| 0.04416403785488959|0.028391167192429023|0.7476340694006309| 0.05362776025236593|                 0.0|0.003154574132492...|                 0.0|                 0.0|0.022082018927444796| 0.04416403785488959| 0.00946372239747634| 2.0615384615384613|0.27611940298507465|                0.0|0.02702702702702703|                 0.0|                0.0|                 0.0|                0.0|\n",
      "|    22|          0|     F| free|264.42217142857146|         7403.8208|          28|OH-KY-IN|    Windows|                     61|                 0.0|               0.075|                 0.0|                 0.0|                 0.0|                 0.0|                0.05|                 0.0|               0.7|                 0.1|                 0.0|                 0.0|                 0.0|                 0.0|                 0.0|               0.075|                 0.0|                0.0|                0.0|                0.0|                0.0|                 0.0|                0.0|                13.0|                0.0|\n",
      "+------+-----------+------+-----+------------------+------------------+------------+--------+-----------+-----------------------+--------------------+--------------------+--------------------+--------------------+--------------------+--------------------+--------------------+--------------------+------------------+--------------------+--------------------+--------------------+--------------------+--------------------+--------------------+--------------------+--------------------+-------------------+-------------------+-------------------+-------------------+--------------------+-------------------+--------------------+-------------------+\n",
      "only showing top 20 rows\n",
      "\n"
     ]
    }
   ],
   "source": [
    "# Avoid duplicate column names by using a list inside the join function\n",
    "# https://stackoverflow.com/questions/46944493/removing-duplicate-columns-after-a-df-join-in-spark\n",
    "\n",
    "df_joined = df_agg_user.join(join_df_pages_share, [\"userId\"], \"left\")\n",
    "df_joined = df_joined.join(join_df_wow_played_songs, [\"userId\"],  \"left\")\n",
    "\n",
    "df_joined.show()"
   ]
  },
  {
   "cell_type": "markdown",
   "metadata": {},
   "source": [
    "# Feature Engineering\n",
    "Once you've familiarized yourself with the data, build out the features you find promising to train your model on. To work with the full dataset, you can follow the following steps.\n",
    "- Write a script to extract the necessary features from the smaller subset of data\n",
    "- Ensure that your script is scalable, using the best practices discussed in Lesson 3\n",
    "- Try your script on the full data set, debugging your script if necessary\n",
    "\n",
    "If you are working in the classroom workspace, you can just extract features based on the small subset of data contained here. Be sure to transfer over this work to the larger dataset when you work on your Spark cluster."
   ]
  },
  {
   "cell_type": "code",
   "execution_count": 52,
   "metadata": {},
   "outputs": [],
   "source": [
    "from pyspark.ml.feature import StringIndexer, OneHotEncoder, VectorAssembler\n",
    "from pyspark.ml.classification import LogisticRegression\n",
    "from pyspark.ml import Pipeline\n"
   ]
  },
  {
   "cell_type": "code",
   "execution_count": 53,
   "metadata": {},
   "outputs": [
    {
     "name": "stdout",
     "output_type": "stream",
     "text": [
      "+------+-----------+------+-----+------------------+-----------------+------------+--------+-----------+-----------------------+--------------------+--------------------+--------------------+-------------------+--------------------+--------------------+--------------------+--------------------+------------------+--------------------+-------------+--------------------+----------------+--------------+--------------------+-------------------+--------------------+-------------------+-------------------+-------------------+-------------------+--------------------+-------------------+-------------------+-------------------+\n",
      "|userId|userChurned|gender|level|        avg_length|       sum_length|played_songs|   state|deviceGroup|days_since_registration|               About|          Add Friend|     Add to Playlist|          Downgrade|               Error|                Help|                Home|              Logout|          NextSong|         Roll Advert|Save Settings|            Settings|Submit Downgrade|Submit Upgrade|         Thumbs Down|          Thumbs Up|             Upgrade|41_wow_songs_change|42_wow_songs_change|43_wow_songs_change|44_wow_songs_change| 45_wow_songs_change|46_wow_songs_change|47_wow_songs_change|48_wow_songs_change|\n",
      "+------+-----------+------+-----+------------------+-----------------+------------+--------+-----------+-----------------------+--------------------+--------------------+--------------------+-------------------+--------------------+--------------------+--------------------+--------------------+------------------+--------------------+-------------+--------------------+----------------+--------------+--------------------+-------------------+--------------------+-------------------+-------------------+-------------------+-------------------+--------------------+-------------------+-------------------+-------------------+\n",
      "|100010|          0|     F| free|  243.421444909091|66940.89735000003|         275|      CT|      Apple|                     55|0.002624671916010...|0.010498687664041995| 0.01837270341207349|                0.0|                 0.0|0.005249343832020997|0.028871391076115485|0.013123359580052493|0.7217847769028871| 0.13648293963254593|          0.0|                 0.0|             0.0|           0.0|0.013123359580052493|0.04461942257217848|0.005249343832020997|                0.0|  2.870967741935484|                0.0|                0.0|  1.4719101123595506|                0.0|  0.183206106870229|                0.0|\n",
      "|100014|          1|     M| paid|263.43763455252935|67703.47208000004|         257|NY-NJ-PA|    Windows|                     85|                 0.0| 0.01948051948051948|0.022727272727272728|0.00974025974025974|                 0.0|0.006493506493506494|0.022727272727272728| 0.00974025974025974|0.8344155844155844|0.006493506493506494|          0.0|0.003246753246753247|             0.0|           0.0| 0.00974025974025974|0.05519480519480519|                 0.0|                0.0| 1.4074074074074074|                0.0|                0.0|0.017543859649122806|                0.0|               30.0|                0.0|\n",
      "|100021|          1|     M| free| 250.5790245217391|57633.17563999999|         230|      TX|      Apple|                     65|0.003154574132492...|0.022082018927444796|0.022082018927444796|                0.0|0.006309148264984227|                 0.0|  0.0473186119873817|0.022082018927444796|0.7255520504731862|  0.0946372239747634|          0.0|                 0.0|             0.0|           0.0|0.015772870662460567|0.03470031545741325|0.006309148264984227|                0.0|                0.0|                0.0|0.39705882352941174|                 0.0|                0.0|                5.0|                0.0|\n",
      "+------+-----------+------+-----+------------------+-----------------+------------+--------+-----------+-----------------------+--------------------+--------------------+--------------------+-------------------+--------------------+--------------------+--------------------+--------------------+------------------+--------------------+-------------+--------------------+----------------+--------------+--------------------+-------------------+--------------------+-------------------+-------------------+-------------------+-------------------+--------------------+-------------------+-------------------+-------------------+\n",
      "only showing top 3 rows\n",
      "\n"
     ]
    }
   ],
   "source": [
    "df_joined.show(3)"
   ]
  },
  {
   "cell_type": "markdown",
   "metadata": {},
   "source": [
    "##### Prepare lists for easier automation of pipeline"
   ]
  },
  {
   "cell_type": "code",
   "execution_count": 54,
   "metadata": {},
   "outputs": [
    {
     "data": {
      "text/plain": [
       "['deviceGroup_vec', 'level_vec']"
      ]
     },
     "execution_count": 54,
     "metadata": {},
     "output_type": "execute_result"
    }
   ],
   "source": [
    "# cols_for_transformation = [\"state\", \"gender\", \"deviceGroup\", \"level\"]\n",
    "cols_for_transformation = [\"deviceGroup\", \"level\"]\n",
    "\n",
    "indexed_cols = [x + \"_index\" for x in cols_for_transformation]\n",
    "vectorized_cols = [x + \"_vec\" for x in cols_for_transformation]\n",
    "\n",
    "vectorized_cols"
   ]
  },
  {
   "cell_type": "markdown",
   "metadata": {},
   "source": [
    "##### Index categorical variables"
   ]
  },
  {
   "cell_type": "code",
   "execution_count": 55,
   "metadata": {},
   "outputs": [
    {
     "name": "stdout",
     "output_type": "stream",
     "text": [
      "+------+-----------+-----+------------------+-----------------+------------+-----------+-----------------------+--------------------+--------------------+--------------------+-------------------+--------------------+--------------------+--------------------+--------------------+------------------+--------------------+-------------+--------------------+----------------+--------------+--------------------+-------------------+--------------------+-------------------+-------------------+-------------------+-------------------+--------------------+-------------------+-------------------+-------------------+-----------------+-----------+\n",
      "|userId|userChurned|level|        avg_length|       sum_length|played_songs|deviceGroup|days_since_registration|               About|          Add Friend|     Add to Playlist|          Downgrade|               Error|                Help|                Home|              Logout|          NextSong|         Roll Advert|Save Settings|            Settings|Submit Downgrade|Submit Upgrade|         Thumbs Down|          Thumbs Up|             Upgrade|41_wow_songs_change|42_wow_songs_change|43_wow_songs_change|44_wow_songs_change| 45_wow_songs_change|46_wow_songs_change|47_wow_songs_change|48_wow_songs_change|deviceGroup_index|level_index|\n",
      "+------+-----------+-----+------------------+-----------------+------------+-----------+-----------------------+--------------------+--------------------+--------------------+-------------------+--------------------+--------------------+--------------------+--------------------+------------------+--------------------+-------------+--------------------+----------------+--------------+--------------------+-------------------+--------------------+-------------------+-------------------+-------------------+-------------------+--------------------+-------------------+-------------------+-------------------+-----------------+-----------+\n",
      "|100010|          0| free|  243.421444909091|66940.89735000003|         275|      Apple|                     55|0.002624671916010...|0.010498687664041995| 0.01837270341207349|                0.0|                 0.0|0.005249343832020997|0.028871391076115485|0.013123359580052493|0.7217847769028871| 0.13648293963254593|          0.0|                 0.0|             0.0|           0.0|0.013123359580052493|0.04461942257217848|0.005249343832020997|                0.0|  2.870967741935484|                0.0|                0.0|  1.4719101123595506|                0.0|  0.183206106870229|                0.0|              1.0|        1.0|\n",
      "|100014|          1| paid|263.43763455252935|67703.47208000004|         257|    Windows|                     85|                 0.0| 0.01948051948051948|0.022727272727272728|0.00974025974025974|                 0.0|0.006493506493506494|0.022727272727272728| 0.00974025974025974|0.8344155844155844|0.006493506493506494|          0.0|0.003246753246753247|             0.0|           0.0| 0.00974025974025974|0.05519480519480519|                 0.0|                0.0| 1.4074074074074074|                0.0|                0.0|0.017543859649122806|                0.0|               30.0|                0.0|              0.0|        0.0|\n",
      "|100021|          1| free| 250.5790245217391|57633.17563999999|         230|      Apple|                     65|0.003154574132492...|0.022082018927444796|0.022082018927444796|                0.0|0.006309148264984227|                 0.0|  0.0473186119873817|0.022082018927444796|0.7255520504731862|  0.0946372239747634|          0.0|                 0.0|             0.0|           0.0|0.015772870662460567|0.03470031545741325|0.006309148264984227|                0.0|                0.0|                0.0|0.39705882352941174|                 0.0|                0.0|                5.0|                0.0|              1.0|        1.0|\n",
      "+------+-----------+-----+------------------+-----------------+------------+-----------+-----------------------+--------------------+--------------------+--------------------+-------------------+--------------------+--------------------+--------------------+--------------------+------------------+--------------------+-------------+--------------------+----------------+--------------+--------------------+-------------------+--------------------+-------------------+-------------------+-------------------+-------------------+--------------------+-------------------+-------------------+-------------------+-----------------+-----------+\n",
      "only showing top 3 rows\n",
      "\n"
     ]
    }
   ],
   "source": [
    "str_indexer = StringIndexer(inputCols=cols_for_transformation, outputCols=indexed_cols)\n",
    "model = str_indexer.fit(df_joined)\n",
    "df_transformed = model.transform(df_joined)\n",
    "\n",
    "df_transformed = df_transformed.drop(\"gender\").drop(\"state\")\n",
    "\n",
    "df_transformed.show(3)"
   ]
  },
  {
   "cell_type": "markdown",
   "metadata": {},
   "source": [
    "##### Use One Hot Encoder for Indexed Variables"
   ]
  },
  {
   "cell_type": "code",
   "execution_count": 56,
   "metadata": {},
   "outputs": [
    {
     "name": "stdout",
     "output_type": "stream",
     "text": [
      "+------+-----------+-----+------------------+-----------------+------------+-----------+-----------------------+--------------------+--------------------+--------------------+-------------------+--------------------+--------------------+--------------------+--------------------+------------------+--------------------+-------------+--------------------+----------------+--------------+--------------------+-------------------+--------------------+-------------------+-------------------+-------------------+-------------------+--------------------+-------------------+-------------------+-------------------+-----------------+-----------+---------------+-------------+\n",
      "|userId|userChurned|level|        avg_length|       sum_length|played_songs|deviceGroup|days_since_registration|               About|          Add Friend|     Add to Playlist|          Downgrade|               Error|                Help|                Home|              Logout|          NextSong|         Roll Advert|Save Settings|            Settings|Submit Downgrade|Submit Upgrade|         Thumbs Down|          Thumbs Up|             Upgrade|41_wow_songs_change|42_wow_songs_change|43_wow_songs_change|44_wow_songs_change| 45_wow_songs_change|46_wow_songs_change|47_wow_songs_change|48_wow_songs_change|deviceGroup_index|level_index|deviceGroup_vec|    level_vec|\n",
      "+------+-----------+-----+------------------+-----------------+------------+-----------+-----------------------+--------------------+--------------------+--------------------+-------------------+--------------------+--------------------+--------------------+--------------------+------------------+--------------------+-------------+--------------------+----------------+--------------+--------------------+-------------------+--------------------+-------------------+-------------------+-------------------+-------------------+--------------------+-------------------+-------------------+-------------------+-----------------+-----------+---------------+-------------+\n",
      "|100010|          0| free|  243.421444909091|66940.89735000003|         275|      Apple|                     55|0.002624671916010...|0.010498687664041995| 0.01837270341207349|                0.0|                 0.0|0.005249343832020997|0.028871391076115485|0.013123359580052493|0.7217847769028871| 0.13648293963254593|          0.0|                 0.0|             0.0|           0.0|0.013123359580052493|0.04461942257217848|0.005249343832020997|                0.0|  2.870967741935484|                0.0|                0.0|  1.4719101123595506|                0.0|  0.183206106870229|                0.0|              1.0|        1.0|  (2,[1],[1.0])|    (1,[],[])|\n",
      "|100014|          1| paid|263.43763455252935|67703.47208000004|         257|    Windows|                     85|                 0.0| 0.01948051948051948|0.022727272727272728|0.00974025974025974|                 0.0|0.006493506493506494|0.022727272727272728| 0.00974025974025974|0.8344155844155844|0.006493506493506494|          0.0|0.003246753246753247|             0.0|           0.0| 0.00974025974025974|0.05519480519480519|                 0.0|                0.0| 1.4074074074074074|                0.0|                0.0|0.017543859649122806|                0.0|               30.0|                0.0|              0.0|        0.0|  (2,[0],[1.0])|(1,[0],[1.0])|\n",
      "|100021|          1| free| 250.5790245217391|57633.17563999999|         230|      Apple|                     65|0.003154574132492...|0.022082018927444796|0.022082018927444796|                0.0|0.006309148264984227|                 0.0|  0.0473186119873817|0.022082018927444796|0.7255520504731862|  0.0946372239747634|          0.0|                 0.0|             0.0|           0.0|0.015772870662460567|0.03470031545741325|0.006309148264984227|                0.0|                0.0|                0.0|0.39705882352941174|                 0.0|                0.0|                5.0|                0.0|              1.0|        1.0|  (2,[1],[1.0])|    (1,[],[])|\n",
      "+------+-----------+-----+------------------+-----------------+------------+-----------+-----------------------+--------------------+--------------------+--------------------+-------------------+--------------------+--------------------+--------------------+--------------------+------------------+--------------------+-------------+--------------------+----------------+--------------+--------------------+-------------------+--------------------+-------------------+-------------------+-------------------+-------------------+--------------------+-------------------+-------------------+-------------------+-----------------+-----------+---------------+-------------+\n",
      "only showing top 3 rows\n",
      "\n"
     ]
    }
   ],
   "source": [
    "ohe = OneHotEncoder(inputCols=indexed_cols, outputCols=vectorized_cols)\n",
    "model_ohe = ohe.fit(df_transformed)\n",
    "df_transformed = model_ohe.transform(df_transformed)\n",
    "\n",
    "df_transformed.show(3)"
   ]
  },
  {
   "cell_type": "code",
   "execution_count": 57,
   "metadata": {},
   "outputs": [],
   "source": [
    "cols_for_vecAssembler = set(df_transformed.columns) - set(cols_for_transformation)\n",
    "cols_for_vecAssembler.remove(\"userId\")\n",
    "cols_for_vecAssembler.remove(\"userChurned\")\n",
    "\n",
    "cols_for_vecAssembler = list(cols_for_vecAssembler)"
   ]
  },
  {
   "cell_type": "code",
   "execution_count": 58,
   "metadata": {},
   "outputs": [
    {
     "name": "stdout",
     "output_type": "stream",
     "text": [
      "+------+-----------+-----+------------------+------------------+------------+-----------+-----------------------+--------------------+--------------------+--------------------+--------------------+--------------------+--------------------+--------------------+--------------------+------------------+--------------------+--------------------+--------------------+--------------------+--------------------+--------------------+--------------------+--------------------+-------------------+-------------------+-------------------+-------------------+--------------------+-------------------+-------------------+-------------------+-----------------+-----------+---------------+-------------+--------------------+\n",
      "|userId|userChurned|level|        avg_length|        sum_length|played_songs|deviceGroup|days_since_registration|               About|          Add Friend|     Add to Playlist|           Downgrade|               Error|                Help|                Home|              Logout|          NextSong|         Roll Advert|       Save Settings|            Settings|    Submit Downgrade|      Submit Upgrade|         Thumbs Down|           Thumbs Up|             Upgrade|41_wow_songs_change|42_wow_songs_change|43_wow_songs_change|44_wow_songs_change| 45_wow_songs_change|46_wow_songs_change|47_wow_songs_change|48_wow_songs_change|deviceGroup_index|level_index|deviceGroup_vec|    level_vec|            features|\n",
      "+------+-----------+-----+------------------+------------------+------------+-----------+-----------------------+--------------------+--------------------+--------------------+--------------------+--------------------+--------------------+--------------------+--------------------+------------------+--------------------+--------------------+--------------------+--------------------+--------------------+--------------------+--------------------+--------------------+-------------------+-------------------+-------------------+-------------------+--------------------+-------------------+-------------------+-------------------+-----------------+-----------+---------------+-------------+--------------------+\n",
      "|100010|          0| free|  243.421444909091| 66940.89735000003|         275|      Apple|                     55|0.002624671916010...|0.010498687664041995| 0.01837270341207349|                 0.0|                 0.0|0.005249343832020997|0.028871391076115485|0.013123359580052493|0.7217847769028871| 0.13648293963254593|                 0.0|                 0.0|                 0.0|                 0.0|0.013123359580052493| 0.04461942257217848|0.005249343832020997|                0.0|  2.870967741935484|                0.0|                0.0|  1.4719101123595506|                0.0|  0.183206106870229|                0.0|              1.0|        1.0|  (2,[1],[1.0])|    (1,[],[])|(34,[0,1,2,6,7,8,...|\n",
      "|100014|          1| paid|263.43763455252935| 67703.47208000004|         257|    Windows|                     85|                 0.0| 0.01948051948051948|0.022727272727272728| 0.00974025974025974|                 0.0|0.006493506493506494|0.022727272727272728| 0.00974025974025974|0.8344155844155844|0.006493506493506494|                 0.0|0.003246753246753247|                 0.0|                 0.0| 0.00974025974025974| 0.05519480519480519|                 0.0|                0.0| 1.4074074074074074|                0.0|                0.0|0.017543859649122806|                0.0|               30.0|                0.0|              0.0|        0.0|  (2,[0],[1.0])|(1,[0],[1.0])|(34,[0,1,2,5,6,7,...|\n",
      "|100021|          1| free| 250.5790245217391| 57633.17563999999|         230|      Apple|                     65|0.003154574132492...|0.022082018927444796|0.022082018927444796|                 0.0|0.006309148264984227|                 0.0|  0.0473186119873817|0.022082018927444796|0.7255520504731862|  0.0946372239747634|                 0.0|                 0.0|                 0.0|                 0.0|0.015772870662460567| 0.03470031545741325|0.006309148264984227|                0.0|                0.0|                0.0|0.39705882352941174|                 0.0|                0.0|                5.0|                0.0|              1.0|        1.0|  (2,[1],[1.0])|    (1,[],[])|(34,[0,1,2,7,8,9,...|\n",
      "|   101|          1| paid|249.00612947690533| 447464.0146699989|        1797|    Windows|                     54|9.315323707498836E-4| 0.01350721937587331| 0.02841173730787145|0.010246856078248719|0.001397298556124...|0.005589194224499...|0.034466697717745694|0.011178388448998603|0.8369818351187703|0.003726129482999...|9.315323707498836E-4|0.004191895668374476|                 0.0|4.657661853749418E-4|0.007452258965999069|0.040055891942244994|4.657661853749418E-4| 2.7433035714285716|0.09764035801464606|                0.0|                0.0|                 0.0|                0.0|                0.0|                0.0|              0.0|        0.0|  (2,[0],[1.0])|(1,[0],[1.0])|[0.01117838844899...|\n",
      "|    11|          0| paid| 246.7851051622872|159669.96303999983|         647|    Windows|                    125|0.008254716981132075|0.007075471698113208| 0.02358490566037736| 0.00589622641509434|0.001179245283018...|0.003537735849056604| 0.04363207547169811| 0.01650943396226415|0.7629716981132075|0.045990566037735846|0.002358490566037...|0.007075471698113208|0.001179245283018...|0.002358490566037...| 0.01061320754716981| 0.04716981132075472| 0.01061320754716981| 11.833333333333334|  0.352112676056338|                0.8|               8.85|  0.4745762711864407| 1.9166666666666667| 0.4409937888198758| 0.4507042253521127|              0.0|        0.0|  (2,[0],[1.0])|(1,[0],[1.0])|[0.01650943396226...|\n",
      "+------+-----------+-----+------------------+------------------+------------+-----------+-----------------------+--------------------+--------------------+--------------------+--------------------+--------------------+--------------------+--------------------+--------------------+------------------+--------------------+--------------------+--------------------+--------------------+--------------------+--------------------+--------------------+--------------------+-------------------+-------------------+-------------------+-------------------+--------------------+-------------------+-------------------+-------------------+-----------------+-----------+---------------+-------------+--------------------+\n",
      "only showing top 5 rows\n",
      "\n"
     ]
    }
   ],
   "source": [
    "vec_assembler = VectorAssembler(inputCols=cols_for_vecAssembler, outputCol=\"features\")\n",
    "df_transformed = vec_assembler.transform(df_transformed)\n",
    "# df_transformed.groupby([\"page\", \"page_numeric\"]).count().sort(\"page_numeric\").toPandas()\n",
    "\n",
    "df_transformed.show(5)"
   ]
  },
  {
   "cell_type": "markdown",
   "metadata": {},
   "source": [
    "### OLD Features"
   ]
  },
  {
   "cell_type": "code",
   "execution_count": 59,
   "metadata": {},
   "outputs": [],
   "source": [
    "# # String indexer for visited page\n",
    "# str_indexer = StringIndexer(inputCol=\"page\", outputCol=\"page_numeric\")\n",
    "\n",
    "# model = str_indexer.fit(df)\n",
    "\n",
    "# df_transformed = model.transform(df)\n",
    "\n",
    "# str_ohe = OneHotEncoder(inputCol=\"page_numeric\", outputCol=\"page_vec\")\n",
    "# model2 = str_ohe.fit(df_transformed)\n",
    "# df_transformed = model2.transform(df_transformed)\n",
    "\n",
    "# # df_transformed.groupby([\"page\", \"page_numeric\"]).count().sort(\"page_numeric\").toPandas()\n",
    "\n",
    "# df_transformed.show()"
   ]
  },
  {
   "cell_type": "code",
   "execution_count": 60,
   "metadata": {},
   "outputs": [],
   "source": [
    "# # The approach of indexing and transforming several columns at once was taken from here: \n",
    "# # https://stackoverflow.com/questions/36942233/apply-stringindexer-to-several-columns-in-a-pyspark-dataframe\n",
    "\n",
    "# indexers = [StringIndexer(inputCol=column, outputCol=column+\"_index\").fit(df) for column in [\"page\"]]\n",
    "\n",
    "# pipeline = Pipeline(stages=indexers)\n",
    "\n",
    "# df_transformed = pipeline.fit(df).transform(df)\n",
    "\n",
    "# df_transformed.head()"
   ]
  },
  {
   "cell_type": "code",
   "execution_count": 61,
   "metadata": {},
   "outputs": [],
   "source": [
    "# # Test same approach as above for multiple columns and then indexing + vectorizing\n",
    "# indexers = [StringIndexer(inputCol=column, outputCol=column+\"_index\").fit(df) for column in [\"page\", \"gender\"]]\n",
    "\n",
    "# # vectorizers = [OneHotEncoder(inputCol=column, outputCol=column+\"_ohe\").fit(df) for column in [\"page_index\", \"gender_index\"]]\n",
    "\n",
    "\n",
    "# pipeline = Pipeline(stages=indexers)\n",
    "\n",
    "# df_transformed = pipeline.fit(df).transform(df)\n",
    "\n",
    "# df_transformed.show()"
   ]
  },
  {
   "cell_type": "code",
   "execution_count": 62,
   "metadata": {},
   "outputs": [],
   "source": [
    "# cols_for_transformation = [\"page\", \"gender\"]\n",
    "# indexed_cols = [x + \"_index\" for x in cols_for_transformation]\n",
    "# vectorized_cols = [x + \"_vec\" for x in cols_for_transformation]\n",
    "\n",
    "# vectorized_cols"
   ]
  },
  {
   "cell_type": "code",
   "execution_count": 63,
   "metadata": {},
   "outputs": [],
   "source": [
    "# # Test other approach with new argument input_cols / output_cols\n",
    "# str_indexer = StringIndexer(inputCols=cols_for_transformation, outputCols=indexed_cols)\n",
    "# model = str_indexer.fit(df)\n",
    "# df_transformed = model.transform(df)\n",
    "\n",
    "# ohe = OneHotEncoder(inputCols=indexed_cols, outputCols=vectorized_cols)\n",
    "# model2 = ohe.fit(df_transformed)\n",
    "# df_transformed = model2.transform(df_transformed)\n",
    "\n",
    "# vec_assembler = VectorAssembler(inputCols=vectorized_cols, outputCol=\"features\")\n",
    "# df_transformed = vec_assembler.transform(df_transformed)\n",
    "# # df_transformed.groupby([\"page\", \"page_numeric\"]).count().sort(\"page_numeric\").toPandas()\n",
    "\n",
    "# df_transformed.show()"
   ]
  },
  {
   "cell_type": "markdown",
   "metadata": {},
   "source": [
    "### Aggregate Data on User Level for Modeling"
   ]
  },
  {
   "cell_type": "code",
   "execution_count": 64,
   "metadata": {},
   "outputs": [
    {
     "name": "stdout",
     "output_type": "stream",
     "text": [
      "+--------------------+---------+---------+------+-------------+---------+---------+-----+--------------------+------+-----------+-------------+---------+--------------------+------+-------------+--------------------+------+-----+-----------+-------------------+----------+-------------------+----------+-------------------+-------+-----------+---+----+----+-------+-----------------+-----------------+-----------------------+---------+-----------+\n",
      "|              artist|     auth|firstName|gender|itemInSession| lastName|   length|level|            location|method|       page| registration|sessionId|                song|status|           ts|           userAgent|userId|state|deviceGroup|deviceGroupDetailed|  ts_no_ms|             ts_str|   ts_date|          ts_tsType|weekday|day_of_week|day|hour|year|weekNum|registration_date|last_visited_date|days_since_registration|churnFlag|userChurned|\n",
      "+--------------------+---------+---------+------+-------------+---------+---------+-----+--------------------+------+-----------+-------------+---------+--------------------+------+-------------+--------------------+------+-----+-----------+-------------------+----------+-------------------+----------+-------------------+-------+-----------+---+----+----+-------+-----------------+-----------------+-----------------------+---------+-----------+\n",
      "|Sleeping With Sirens|Logged In| Darianna|     F|            0|Carpenter|202.97098| free|Bridgeport-Stamfo...|   PUT|   NextSong|1538016340000|       31|Captain Tyin Knot...|   200|1539003534000|\"Mozilla/5.0 (iPh...|100010|   CT|      Apple|             iPhone|1539003534|2018-10-08 14:58:54|2018-10-08|2018-10-08 14:58:54|      0|          2|Mon|  14|2018|     41|       2018-09-27|       2018-11-21|                     55|        0|          0|\n",
      "|Francesca Battist...|Logged In| Darianna|     F|            1|Carpenter|196.54485| free|Bridgeport-Stamfo...|   PUT|   NextSong|1538016340000|       31|Beautiful_ Beauti...|   200|1539003736000|\"Mozilla/5.0 (iPh...|100010|   CT|      Apple|             iPhone|1539003736|2018-10-08 15:02:16|2018-10-08|2018-10-08 15:02:16|      0|          2|Mon|  15|2018|     41|       2018-09-27|       2018-11-21|                     55|        0|          0|\n",
      "|              Brutha|Logged In| Darianna|     F|            2|Carpenter|263.13098| free|Bridgeport-Stamfo...|   PUT|   NextSong|1538016340000|       31|          She's Gone|   200|1539003932000|\"Mozilla/5.0 (iPh...|100010|   CT|      Apple|             iPhone|1539003932|2018-10-08 15:05:32|2018-10-08|2018-10-08 15:05:32|      0|          2|Mon|  15|2018|     41|       2018-09-27|       2018-11-21|                     55|        0|          0|\n",
      "|                NULL|Logged In| Darianna|     F|            3|Carpenter|     NULL| free|Bridgeport-Stamfo...|   PUT|  Thumbs Up|1538016340000|       31|                NULL|   307|1539003933000|\"Mozilla/5.0 (iPh...|100010|   CT|      Apple|             iPhone|1539003933|2018-10-08 15:05:33|2018-10-08|2018-10-08 15:05:33|      0|          2|Mon|  15|2018|     41|       2018-09-27|       2018-11-21|                     55|        0|          0|\n",
      "|         Josh Ritter|Logged In| Darianna|     F|            4|Carpenter|316.23791| free|Bridgeport-Stamfo...|   PUT|   NextSong|1538016340000|       31|      Folk Bloodbath|   200|1539004195000|\"Mozilla/5.0 (iPh...|100010|   CT|      Apple|             iPhone|1539004195|2018-10-08 15:09:55|2018-10-08|2018-10-08 15:09:55|      0|          2|Mon|  15|2018|     41|       2018-09-27|       2018-11-21|                     55|        0|          0|\n",
      "|               LMFAO|Logged In| Darianna|     F|            5|Carpenter|183.74485| free|Bridgeport-Stamfo...|   PUT|   NextSong|1538016340000|       31|                 Yes|   200|1539004511000|\"Mozilla/5.0 (iPh...|100010|   CT|      Apple|             iPhone|1539004511|2018-10-08 15:15:11|2018-10-08|2018-10-08 15:15:11|      0|          2|Mon|  15|2018|     41|       2018-09-27|       2018-11-21|                     55|        0|          0|\n",
      "|         OneRepublic|Logged In| Darianna|     F|            6|Carpenter|224.67873| free|Bridgeport-Stamfo...|   PUT|   NextSong|1538016340000|       31|             Secrets|   200|1539004694000|\"Mozilla/5.0 (iPh...|100010|   CT|      Apple|             iPhone|1539004694|2018-10-08 15:18:14|2018-10-08|2018-10-08 15:18:14|      0|          2|Mon|  15|2018|     41|       2018-09-27|       2018-11-21|                     55|        0|          0|\n",
      "|       Dwight Yoakam|Logged In| Darianna|     F|            7|Carpenter| 239.3073| free|Bridgeport-Stamfo...|   PUT|   NextSong|1538016340000|       31|      You're The One|   200|1539004918000|\"Mozilla/5.0 (iPh...|100010|   CT|      Apple|             iPhone|1539004918|2018-10-08 15:21:58|2018-10-08|2018-10-08 15:21:58|      0|          2|Mon|  15|2018|     41|       2018-09-27|       2018-11-21|                     55|        0|          0|\n",
      "|                NULL|Logged In| Darianna|     F|            8|Carpenter|     NULL| free|Bridgeport-Stamfo...|   GET|Roll Advert|1538016340000|       31|                NULL|   200|1539004961000|\"Mozilla/5.0 (iPh...|100010|   CT|      Apple|             iPhone|1539004961|2018-10-08 15:22:41|2018-10-08|2018-10-08 15:22:41|      0|          2|Mon|  15|2018|     41|       2018-09-27|       2018-11-21|                     55|        0|          0|\n",
      "|      The Chordettes|Logged In| Darianna|     F|            9|Carpenter|142.41914| free|Bridgeport-Stamfo...|   PUT|   NextSong|1538016340000|       31|          Mr Sandman|   200|1539005157000|\"Mozilla/5.0 (iPh...|100010|   CT|      Apple|             iPhone|1539005157|2018-10-08 15:25:57|2018-10-08|2018-10-08 15:25:57|      0|          2|Mon|  15|2018|     41|       2018-09-27|       2018-11-21|                     55|        0|          0|\n",
      "|Coko featuring Ki...|Logged In| Darianna|     F|           10|Carpenter| 249.3122| free|Bridgeport-Stamfo...|   PUT|   NextSong|1538016340000|       31|           I Get Joy|   200|1539005299000|\"Mozilla/5.0 (iPh...|100010|   CT|      Apple|             iPhone|1539005299|2018-10-08 15:28:19|2018-10-08|2018-10-08 15:28:19|      0|          2|Mon|  15|2018|     41|       2018-09-27|       2018-11-21|                     55|        0|          0|\n",
      "|            The Cure|Logged In| Darianna|     F|           11|Carpenter| 52.27057| free|Bridgeport-Stamfo...|   PUT|   NextSong|1538016340000|       31|     The Final Sound|   200|1539005548000|\"Mozilla/5.0 (iPh...|100010|   CT|      Apple|             iPhone|1539005548|2018-10-08 15:32:28|2018-10-08|2018-10-08 15:32:28|      0|          2|Mon|  15|2018|     41|       2018-09-27|       2018-11-21|                     55|        0|          0|\n",
      "|                NULL|Logged In| Darianna|     F|           12|Carpenter|     NULL| free|Bridgeport-Stamfo...|   GET|Roll Advert|1538016340000|       31|                NULL|   200|1539005571000|\"Mozilla/5.0 (iPh...|100010|   CT|      Apple|             iPhone|1539005571|2018-10-08 15:32:51|2018-10-08|2018-10-08 15:32:51|      0|          2|Mon|  15|2018|     41|       2018-09-27|       2018-11-21|                     55|        0|          0|\n",
      "|Kid Cudi Vs Crookers|Logged In| Darianna|     F|           13|Carpenter|162.97751| free|Bridgeport-Stamfo...|   PUT|   NextSong|1538016340000|       31|        Day 'N' Nite|   200|1539005600000|\"Mozilla/5.0 (iPh...|100010|   CT|      Apple|             iPhone|1539005600|2018-10-08 15:33:20|2018-10-08|2018-10-08 15:33:20|      0|          2|Mon|  15|2018|     41|       2018-09-27|       2018-11-21|                     55|        0|          0|\n",
      "|                NULL|Logged In| Darianna|     F|           14|Carpenter|     NULL| free|Bridgeport-Stamfo...|   PUT|  Thumbs Up|1538016340000|       31|                NULL|   307|1539005601000|\"Mozilla/5.0 (iPh...|100010|   CT|      Apple|             iPhone|1539005601|2018-10-08 15:33:21|2018-10-08|2018-10-08 15:33:21|      0|          2|Mon|  15|2018|     41|       2018-09-27|       2018-11-21|                     55|        0|          0|\n",
      "|            Yeasayer|Logged In| Darianna|     F|           15|Carpenter|323.44771| free|Bridgeport-Stamfo...|   PUT|   NextSong|1538016340000|       31|                2080|   200|1539005762000|\"Mozilla/5.0 (iPh...|100010|   CT|      Apple|             iPhone|1539005762|2018-10-08 15:36:02|2018-10-08|2018-10-08 15:36:02|      0|          2|Mon|  15|2018|     41|       2018-09-27|       2018-11-21|                     55|        0|          0|\n",
      "|             Ben Lee|Logged In| Darianna|     F|           16|Carpenter|245.78567| free|Bridgeport-Stamfo...|   PUT|   NextSong|1538016340000|       31|        Ache For You|   200|1539006085000|\"Mozilla/5.0 (iPh...|100010|   CT|      Apple|             iPhone|1539006085|2018-10-08 15:41:25|2018-10-08|2018-10-08 15:41:25|      0|          2|Mon|  15|2018|     41|       2018-09-27|       2018-11-21|                     55|        0|          0|\n",
      "|                NULL|Logged In| Darianna|     F|           17|Carpenter|     NULL| free|Bridgeport-Stamfo...|   GET|Roll Advert|1538016340000|       31|                NULL|   200|1539006103000|\"Mozilla/5.0 (iPh...|100010|   CT|      Apple|             iPhone|1539006103|2018-10-08 15:41:43|2018-10-08|2018-10-08 15:41:43|      0|          2|Mon|  15|2018|     41|       2018-09-27|       2018-11-21|                     55|        0|          0|\n",
      "|  ? & The Mysterians|Logged In| Darianna|     F|           18|Carpenter|128.10404| free|Bridgeport-Stamfo...|   PUT|   NextSong|1538016340000|       31|    Just Like A Rose|   200|1539006330000|\"Mozilla/5.0 (iPh...|100010|   CT|      Apple|             iPhone|1539006330|2018-10-08 15:45:30|2018-10-08|2018-10-08 15:45:30|      0|          2|Mon|  15|2018|     41|       2018-09-27|       2018-11-21|                     55|        0|          0|\n",
      "|                NULL|Logged In| Darianna|     F|           19|Carpenter|     NULL| free|Bridgeport-Stamfo...|   GET|Roll Advert|1538016340000|       31|                NULL|   200|1539006331000|\"Mozilla/5.0 (iPh...|100010|   CT|      Apple|             iPhone|1539006331|2018-10-08 15:45:31|2018-10-08|2018-10-08 15:45:31|      0|          2|Mon|  15|2018|     41|       2018-09-27|       2018-11-21|                     55|        0|          0|\n",
      "+--------------------+---------+---------+------+-------------+---------+---------+-----+--------------------+------+-----------+-------------+---------+--------------------+------+-------------+--------------------+------+-----+-----------+-------------------+----------+-------------------+----------+-------------------+-------+-----------+---+----+----+-------+-----------------+-----------------+-----------------------+---------+-----------+\n",
      "only showing top 20 rows\n",
      "\n"
     ]
    }
   ],
   "source": [
    "df.show()"
   ]
  },
  {
   "cell_type": "markdown",
   "metadata": {},
   "source": [
    "### Aggregate data on user & weekly level (OLD)"
   ]
  },
  {
   "cell_type": "code",
   "execution_count": 65,
   "metadata": {},
   "outputs": [
    {
     "name": "stdout",
     "output_type": "stream",
     "text": [
      "+------+-------+-----------+------------------+------------------+------------+-------------------+----------------------+\n",
      "|userId|weekNum|userChurned|        avg_length|        sum_length|played_songs| delta_playtime_wow|delta_songs_played_wow|\n",
      "+------+-------+-----------+------------------+------------------+------------+-------------------+----------------------+\n",
      "|   100|     40|          0| 244.2558602362204|62040.988499999985|         254|               NULL|                  NULL|\n",
      "|   100|     41|          0| 247.9595591538462|64469.485380000006|         260| 1.0391434266073956|    1.0236220472440944|\n",
      "|   100|     42|          0|252.45126944162433| 49732.90007999999|         197|  0.771417668170628|    0.7576923076923077|\n",
      "|   100|     43|          0|249.55147358722337|101567.44974999991|         407|  2.042258737910301|     2.065989847715736|\n",
      "|   100|     44|          0|252.27935996062988|128157.91485999998|         508| 1.2618010511778168|    1.2481572481572483|\n",
      "|   100|     45|          0| 250.2552666467066|       41792.62953|         167|0.32610260221270276|     0.328740157480315|\n",
      "|   100|     46|          0| 257.1805128164557|       81269.04205|         316| 1.9445783374712677|    1.8922155688622755|\n",
      "|   100|     47|          0|251.19532356466868| 79628.91756999998|         317| 0.9798185823454033|    1.0031645569620253|\n",
      "|   100|     48|          0| 250.8536283984375|       64218.52887|         256| 0.8064724578674192|     0.807570977917981|\n",
      "|100005|     40|          1|230.58022678571425|19368.739049999996|          84|               NULL|                  NULL|\n",
      "|100005|     42|          1|252.40547085714283|       17668.38296|          70|  0.912211317132697|    0.8333333333333334|\n",
      "|100006|     40|          1|225.18811730769232|        5854.89105|          26|               NULL|                  NULL|\n",
      "|100007|     40|          1| 239.8681658169936| 36699.82937000002|         153|               NULL|                  NULL|\n",
      "|100007|     42|          1|259.09136056603774|       13731.84211|          53|0.37416637476862447|    0.3464052287581699|\n",
      "|100007|     43|          1|271.57287833333334|        1629.43727|           6|0.11866122964036906|   0.11320754716981132|\n",
      "|100007|     44|          1|        250.114158|        2501.14158|          10|  1.534972610513567|    1.6666666666666667|\n",
      "|100007|     45|          1| 242.2489160869565|5571.7250699999995|          23| 2.2276728013133904|                   2.3|\n",
      "|100007|     46|          1|202.61178999999998| 810.4471599999999|           4|0.14545713397879484|   0.17391304347826086|\n",
      "|100007|     47|          1| 255.1565027272727|        2806.72153|          11|   3.46317646421267|                  2.75|\n",
      "|100007|     48|          1| 249.9642995705522| 40744.18083000001|         163| 14.516645272607438|    14.818181818181818|\n",
      "+------+-------+-----------+------------------+------------------+------------+-------------------+----------------------+\n",
      "only showing top 20 rows\n",
      "\n"
     ]
    }
   ],
   "source": [
    "df_agg.show()"
   ]
  },
  {
   "cell_type": "code",
   "execution_count": 66,
   "metadata": {},
   "outputs": [],
   "source": [
    "# # df_transformed = df_agg.withColumnRenamed(\"delta_songs_played_wow\", \"features\")\n",
    "# df_transformed = df_agg.where(col(\"delta_songs_played_wow\").isNotNull())\n",
    "\n",
    "# vec_assembler = VectorAssembler(inputCols=[\"delta_songs_played_wow\"], outputCol=\"features\")\n",
    "# df_transformed = vec_assembler.transform(df_transformed)"
   ]
  },
  {
   "cell_type": "markdown",
   "metadata": {},
   "source": [
    "### Modeling"
   ]
  },
  {
   "cell_type": "markdown",
   "metadata": {},
   "source": [
    "#### Handling of imbalanced data\n",
    "\n",
    "Since we have an imbalanced data set (23% of users churned), adding a weight column for modeling is appropriate.\n",
    "\n",
    "https://stackoverflow.com/questions/69464059/how-to-assign-class-weights-for-a-logistic-regression-model-in-apache-sparks-ml"
   ]
  },
  {
   "cell_type": "code",
   "execution_count": 67,
   "metadata": {},
   "outputs": [
    {
     "name": "stdout",
     "output_type": "stream",
     "text": [
      "+-----------+----------+\n",
      "|userChurned|user_count|\n",
      "+-----------+----------+\n",
      "|          1|        52|\n",
      "|          0|       173|\n",
      "+-----------+----------+\n",
      "\n",
      "Share of churned users: 0.2311111111111111\n",
      "+------+-----------+-----+------------------+-----------------+------------+-----------+-----------------------+--------------------+--------------------+--------------------+-------------------+--------------------+--------------------+--------------------+--------------------+------------------+--------------------+-------------+--------------------+----------------+--------------+--------------------+-------------------+--------------------+-------------------+-------------------+-------------------+-------------------+--------------------+-------------------+-------------------+-------------------+-----------------+-----------+---------------+-------------+--------------------+------------+\n",
      "|userId|userChurned|level|        avg_length|       sum_length|played_songs|deviceGroup|days_since_registration|               About|          Add Friend|     Add to Playlist|          Downgrade|               Error|                Help|                Home|              Logout|          NextSong|         Roll Advert|Save Settings|            Settings|Submit Downgrade|Submit Upgrade|         Thumbs Down|          Thumbs Up|             Upgrade|41_wow_songs_change|42_wow_songs_change|43_wow_songs_change|44_wow_songs_change| 45_wow_songs_change|46_wow_songs_change|47_wow_songs_change|48_wow_songs_change|deviceGroup_index|level_index|deviceGroup_vec|    level_vec|            features|class_weight|\n",
      "+------+-----------+-----+------------------+-----------------+------------+-----------+-----------------------+--------------------+--------------------+--------------------+-------------------+--------------------+--------------------+--------------------+--------------------+------------------+--------------------+-------------+--------------------+----------------+--------------+--------------------+-------------------+--------------------+-------------------+-------------------+-------------------+-------------------+--------------------+-------------------+-------------------+-------------------+-----------------+-----------+---------------+-------------+--------------------+------------+\n",
      "|100010|          0| free|  243.421444909091|66940.89735000003|         275|      Apple|                     55|0.002624671916010...|0.010498687664041995| 0.01837270341207349|                0.0|                 0.0|0.005249343832020997|0.028871391076115485|0.013123359580052493|0.7217847769028871| 0.13648293963254593|          0.0|                 0.0|             0.0|           0.0|0.013123359580052493|0.04461942257217848|0.005249343832020997|                0.0|  2.870967741935484|                0.0|                0.0|  1.4719101123595506|                0.0|  0.183206106870229|                0.0|              1.0|        1.0|  (2,[1],[1.0])|    (1,[],[])|(34,[0,1,2,6,7,8,...|        0.23|\n",
      "|100014|          1| paid|263.43763455252935|67703.47208000004|         257|    Windows|                     85|                 0.0| 0.01948051948051948|0.022727272727272728|0.00974025974025974|                 0.0|0.006493506493506494|0.022727272727272728| 0.00974025974025974|0.8344155844155844|0.006493506493506494|          0.0|0.003246753246753247|             0.0|           0.0| 0.00974025974025974|0.05519480519480519|                 0.0|                0.0| 1.4074074074074074|                0.0|                0.0|0.017543859649122806|                0.0|               30.0|                0.0|              0.0|        0.0|  (2,[0],[1.0])|(1,[0],[1.0])|(34,[0,1,2,5,6,7,...|        0.77|\n",
      "|100021|          1| free| 250.5790245217391|57633.17563999999|         230|      Apple|                     65|0.003154574132492...|0.022082018927444796|0.022082018927444796|                0.0|0.006309148264984227|                 0.0|  0.0473186119873817|0.022082018927444796|0.7255520504731862|  0.0946372239747634|          0.0|                 0.0|             0.0|           0.0|0.015772870662460567|0.03470031545741325|0.006309148264984227|                0.0|                0.0|                0.0|0.39705882352941174|                 0.0|                0.0|                5.0|                0.0|              1.0|        1.0|  (2,[1],[1.0])|    (1,[],[])|(34,[0,1,2,7,8,9,...|        0.77|\n",
      "+------+-----------+-----+------------------+-----------------+------------+-----------+-----------------------+--------------------+--------------------+--------------------+-------------------+--------------------+--------------------+--------------------+--------------------+------------------+--------------------+-------------+--------------------+----------------+--------------+--------------------+-------------------+--------------------+-------------------+-------------------+-------------------+-------------------+--------------------+-------------------+-------------------+-------------------+-----------------+-----------+---------------+-------------+--------------------+------------+\n",
      "only showing top 3 rows\n",
      "\n"
     ]
    }
   ],
   "source": [
    "df.groupBy([\"userChurned\"]).agg(F.count_distinct(\"userId\").alias(\"user_count\")).show()\n",
    "\n",
    "print(f\"Share of churned users: {52/(173+52)}\")\n",
    "\n",
    "df_transformed = df_transformed.withColumn(\"class_weight\", F.when(df_transformed.userChurned == 1, 0.77).otherwise(0.23))\n",
    "df_transformed.show(3)"
   ]
  },
  {
   "cell_type": "markdown",
   "metadata": {},
   "source": [
    "### Logistic Regression"
   ]
  },
  {
   "cell_type": "code",
   "execution_count": 68,
   "metadata": {},
   "outputs": [],
   "source": [
    "lr = LogisticRegression(featuresCol=\"features\", labelCol=\"userChurned\", weightCol=\"class_weight\")"
   ]
  },
  {
   "cell_type": "code",
   "execution_count": 69,
   "metadata": {},
   "outputs": [
    {
     "name": "stdout",
     "output_type": "stream",
     "text": [
      "+------+-----------+-----+------------------+-----------------+------------+-----------+-----------------------+--------------------+--------------------+--------------------+--------------------+--------------------+--------------------+--------------------+--------------------+------------------+--------------------+--------------------+--------------------+----------------+--------------------+--------------------+--------------------+--------------------+-------------------+-------------------+-------------------+-------------------+--------------------+-------------------+-------------------+-------------------+-----------------+-----------+---------------+-------------+--------------------+------------+\n",
      "|userId|userChurned|level|        avg_length|       sum_length|played_songs|deviceGroup|days_since_registration|               About|          Add Friend|     Add to Playlist|           Downgrade|               Error|                Help|                Home|              Logout|          NextSong|         Roll Advert|       Save Settings|            Settings|Submit Downgrade|      Submit Upgrade|         Thumbs Down|           Thumbs Up|             Upgrade|41_wow_songs_change|42_wow_songs_change|43_wow_songs_change|44_wow_songs_change| 45_wow_songs_change|46_wow_songs_change|47_wow_songs_change|48_wow_songs_change|deviceGroup_index|level_index|deviceGroup_vec|    level_vec|            features|class_weight|\n",
      "+------+-----------+-----+------------------+-----------------+------------+-----------+-----------------------+--------------------+--------------------+--------------------+--------------------+--------------------+--------------------+--------------------+--------------------+------------------+--------------------+--------------------+--------------------+----------------+--------------------+--------------------+--------------------+--------------------+-------------------+-------------------+-------------------+-------------------+--------------------+-------------------+-------------------+-------------------+-----------------+-----------+---------------+-------------+--------------------+------------+\n",
      "|100010|          0| free|  243.421444909091|66940.89735000003|         275|      Apple|                     55|0.002624671916010...|0.010498687664041995| 0.01837270341207349|                 0.0|                 0.0|0.005249343832020997|0.028871391076115485|0.013123359580052493|0.7217847769028871| 0.13648293963254593|                 0.0|                 0.0|             0.0|                 0.0|0.013123359580052493| 0.04461942257217848|0.005249343832020997|                0.0|  2.870967741935484|                0.0|                0.0|  1.4719101123595506|                0.0|  0.183206106870229|                0.0|              1.0|        1.0|  (2,[1],[1.0])|    (1,[],[])|(34,[0,1,2,6,7,8,...|        0.23|\n",
      "|100014|          1| paid|263.43763455252935|67703.47208000004|         257|    Windows|                     85|                 0.0| 0.01948051948051948|0.022727272727272728| 0.00974025974025974|                 0.0|0.006493506493506494|0.022727272727272728| 0.00974025974025974|0.8344155844155844|0.006493506493506494|                 0.0|0.003246753246753247|             0.0|                 0.0| 0.00974025974025974| 0.05519480519480519|                 0.0|                0.0| 1.4074074074074074|                0.0|                0.0|0.017543859649122806|                0.0|               30.0|                0.0|              0.0|        0.0|  (2,[0],[1.0])|(1,[0],[1.0])|(34,[0,1,2,5,6,7,...|        0.77|\n",
      "|   101|          1| paid|249.00612947690533|447464.0146699989|        1797|    Windows|                     54|9.315323707498836E-4| 0.01350721937587331| 0.02841173730787145|0.010246856078248719|0.001397298556124...|0.005589194224499...|0.034466697717745694|0.011178388448998603|0.8369818351187703|0.003726129482999...|9.315323707498836E-4|0.004191895668374476|             0.0|4.657661853749418E-4|0.007452258965999069|0.040055891942244994|4.657661853749418E-4| 2.7433035714285716|0.09764035801464606|                0.0|                0.0|                 0.0|                0.0|                0.0|                0.0|              0.0|        0.0|  (2,[0],[1.0])|(1,[0],[1.0])|[0.01117838844899...|        0.77|\n",
      "+------+-----------+-----+------------------+-----------------+------------+-----------+-----------------------+--------------------+--------------------+--------------------+--------------------+--------------------+--------------------+--------------------+--------------------+------------------+--------------------+--------------------+--------------------+----------------+--------------------+--------------------+--------------------+--------------------+-------------------+-------------------+-------------------+-------------------+--------------------+-------------------+-------------------+-------------------+-----------------+-----------+---------------+-------------+--------------------+------------+\n",
      "only showing top 3 rows\n",
      "\n"
     ]
    }
   ],
   "source": [
    "# https://www.geeksforgeeks.org/logistic-regression-using-pyspark-python/\n",
    "\n",
    "# Split dataset into training and test\n",
    "df_train, df_test = df_transformed.randomSplit([0.8, 0.2], seed=42)\n",
    "\n",
    "model = lr.fit(df_train)\n",
    "\n",
    "predictions = model.transform(df_test)\n",
    "\n",
    "df_train.show(3)"
   ]
  },
  {
   "cell_type": "code",
   "execution_count": 70,
   "metadata": {},
   "outputs": [
    {
     "name": "stdout",
     "output_type": "stream",
     "text": [
      "+------+-----------+-----+------------------+------------------+------------+-----------+-----------------------+--------------------+--------------------+--------------------+--------------------+--------------------+--------------------+-------------------+--------------------+------------------+--------------------+--------------------+--------------------+----------------+--------------------+--------------------+-------------------+--------------------+-------------------+-------------------+-------------------+-------------------+-------------------+-------------------+-------------------+-------------------+-----------------+-----------+---------------+-------------+--------------------+------------+--------------------+--------------------+----------+\n",
      "|userId|userChurned|level|        avg_length|        sum_length|played_songs|deviceGroup|days_since_registration|               About|          Add Friend|     Add to Playlist|           Downgrade|               Error|                Help|               Home|              Logout|          NextSong|         Roll Advert|       Save Settings|            Settings|Submit Downgrade|      Submit Upgrade|         Thumbs Down|          Thumbs Up|             Upgrade|41_wow_songs_change|42_wow_songs_change|43_wow_songs_change|44_wow_songs_change|45_wow_songs_change|46_wow_songs_change|47_wow_songs_change|48_wow_songs_change|deviceGroup_index|level_index|deviceGroup_vec|    level_vec|            features|class_weight|       rawPrediction|         probability|prediction|\n",
      "+------+-----------+-----+------------------+------------------+------------+-----------+-----------------------+--------------------+--------------------+--------------------+--------------------+--------------------+--------------------+-------------------+--------------------+------------------+--------------------+--------------------+--------------------+----------------+--------------------+--------------------+-------------------+--------------------+-------------------+-------------------+-------------------+-------------------+-------------------+-------------------+-------------------+-------------------+-----------------+-----------+---------------+-------------+--------------------+------------+--------------------+--------------------+----------+\n",
      "|100021|          1| free| 250.5790245217391| 57633.17563999999|         230|      Apple|                     65|0.003154574132492...|0.022082018927444796|0.022082018927444796|                 0.0|0.006309148264984227|                 0.0| 0.0473186119873817|0.022082018927444796|0.7255520504731862|  0.0946372239747634|                 0.0|                 0.0|             0.0|                 0.0|0.015772870662460567|0.03470031545741325|0.006309148264984227|                0.0|                0.0|                0.0|0.39705882352941174|                0.0|                0.0|                5.0|                0.0|              1.0|        1.0|  (2,[1],[1.0])|    (1,[],[])|(34,[0,1,2,7,8,9,...|        0.77|[1.88239544582428...|[0.86788603008968...|       0.0|\n",
      "|   113|          0| paid|252.42531988643512|400094.13201999967|        1585|      Apple|                    123|5.277044854881266E-4|0.016886543535620052|0.026385224274406333|0.008443271767810026|0.001583113456464...|0.003693931398416...|0.03799472295514512| 0.00949868073878628|0.8364116094986808|5.277044854881266E-4|0.001583113456464...|0.004221635883905013|             0.0|5.277044854881266E-4|0.006332453825857...|0.04327176781002638|0.002110817941952...| 2.5568181818181817|               1.76|                0.0|0.49747474747474746| 1.1269035532994924| 0.9864864864864865|  0.365296803652968|              1.975|              1.0|        0.0|  (2,[1],[1.0])|(1,[0],[1.0])|[0.00949868073878...|        0.23|[1.56741135683000...|[0.82741426352780...|       0.0|\n",
      "|   125|          1| free|261.13913750000006|2089.1131000000005|           8|      Apple|                     72|                 0.0|                 0.0|                 0.0|                 0.0|                 0.0|                 0.0|                0.0|                 0.0|0.8888888888888888|  0.1111111111111111|                 0.0|                 0.0|             0.0|                 0.0|                 0.0|                0.0|                 0.0|                0.0|                0.0|                0.0|                0.0|                0.0|                0.0|                0.0|                0.0|              1.0|        1.0|  (2,[1],[1.0])|    (1,[],[])|(34,[1,10,11,12,1...|        0.77|[3.30781457793550...|[0.96469592589398...|       0.0|\n",
      "+------+-----------+-----+------------------+------------------+------------+-----------+-----------------------+--------------------+--------------------+--------------------+--------------------+--------------------+--------------------+-------------------+--------------------+------------------+--------------------+--------------------+--------------------+----------------+--------------------+--------------------+-------------------+--------------------+-------------------+-------------------+-------------------+-------------------+-------------------+-------------------+-------------------+-------------------+-----------------+-----------+---------------+-------------+--------------------+------------+--------------------+--------------------+----------+\n",
      "only showing top 3 rows\n",
      "\n"
     ]
    }
   ],
   "source": [
    "predictions.show(3)"
   ]
  },
  {
   "cell_type": "markdown",
   "metadata": {},
   "source": [
    "Which metrics should be used for evaluation?\n",
    "\n",
    "The F-Score is best in this case since the data set is imbalanced. Only about 20% of users have churned. \n",
    "See https://spark.apache.org/docs/latest/mllib-evaluation-metrics.html#binary-classification "
   ]
  },
  {
   "cell_type": "code",
   "execution_count": 71,
   "metadata": {},
   "outputs": [
    {
     "data": {
      "text/plain": [
       "0.9069272445820433"
      ]
     },
     "execution_count": 71,
     "metadata": {},
     "output_type": "execute_result"
    }
   ],
   "source": [
    "model.summary.areaUnderROC"
   ]
  },
  {
   "cell_type": "code",
   "execution_count": 72,
   "metadata": {},
   "outputs": [
    {
     "data": {
      "text/plain": [
       "0.6776061776061776"
      ]
     },
     "execution_count": 72,
     "metadata": {},
     "output_type": "execute_result"
    }
   ],
   "source": [
    "from pyspark.ml.evaluation import BinaryClassificationEvaluator\n",
    "\n",
    "evaluator = BinaryClassificationEvaluator(rawPredictionCol=\"prediction\", labelCol=\"userChurned\", weightCol=\"class_weight\")\n",
    "\n",
    "evaluator.evaluate(predictions)"
   ]
  },
  {
   "cell_type": "markdown",
   "metadata": {},
   "source": [
    "### Random Forest"
   ]
  },
  {
   "cell_type": "code",
   "execution_count": 73,
   "metadata": {},
   "outputs": [],
   "source": [
    "# Remove columns with too many categorical features"
   ]
  },
  {
   "cell_type": "code",
   "execution_count": 74,
   "metadata": {},
   "outputs": [
    {
     "name": "stdout",
     "output_type": "stream",
     "text": [
      "+------+-----------+-----+------------------+-----------------+------------+-----------+-----------------------+--------------------+--------------------+--------------------+--------------------+--------------------+--------------------+--------------------+--------------------+------------------+--------------------+--------------------+--------------------+----------------+--------------------+--------------------+--------------------+--------------------+-------------------+-------------------+-------------------+-------------------+-------------------+-------------------+-------------------+-------------------+-----------------+-----------+---------------+-------------+--------------------+------------+\n",
      "|userId|userChurned|level|        avg_length|       sum_length|played_songs|deviceGroup|days_since_registration|               About|          Add Friend|     Add to Playlist|           Downgrade|               Error|                Help|                Home|              Logout|          NextSong|         Roll Advert|       Save Settings|            Settings|Submit Downgrade|      Submit Upgrade|         Thumbs Down|           Thumbs Up|             Upgrade|41_wow_songs_change|42_wow_songs_change|43_wow_songs_change|44_wow_songs_change|45_wow_songs_change|46_wow_songs_change|47_wow_songs_change|48_wow_songs_change|deviceGroup_index|level_index|deviceGroup_vec|    level_vec|            features|class_weight|\n",
      "+------+-----------+-----+------------------+-----------------+------------+-----------+-----------------------+--------------------+--------------------+--------------------+--------------------+--------------------+--------------------+--------------------+--------------------+------------------+--------------------+--------------------+--------------------+----------------+--------------------+--------------------+--------------------+--------------------+-------------------+-------------------+-------------------+-------------------+-------------------+-------------------+-------------------+-------------------+-----------------+-----------+---------------+-------------+--------------------+------------+\n",
      "|100021|          1| free| 250.5790245217391|57633.17563999999|         230|      Apple|                     65|0.003154574132492...|0.022082018927444796|0.022082018927444796|                 0.0|0.006309148264984227|                 0.0|  0.0473186119873817|0.022082018927444796|0.7255520504731862|  0.0946372239747634|                 0.0|                 0.0|             0.0|                 0.0|0.015772870662460567| 0.03470031545741325|0.006309148264984227|                0.0|                0.0|                0.0|0.39705882352941174|                0.0|                0.0|                5.0|                0.0|              1.0|        1.0|  (2,[1],[1.0])|    (1,[],[])|(34,[0,1,2,7,8,9,...|        0.77|\n",
      "|   101|          1| paid|249.00612947690533|447464.0146699989|        1797|    Windows|                     54|9.315323707498836E-4| 0.01350721937587331| 0.02841173730787145|0.010246856078248719|0.001397298556124...|0.005589194224499...|0.034466697717745694|0.011178388448998603|0.8369818351187703|0.003726129482999...|9.315323707498836E-4|0.004191895668374476|             0.0|4.657661853749418E-4|0.007452258965999069|0.040055891942244994|4.657661853749418E-4| 2.7433035714285716|0.09764035801464606|                0.0|                0.0|                0.0|                0.0|                0.0|                0.0|              0.0|        0.0|  (2,[0],[1.0])|(1,[0],[1.0])|[0.01117838844899...|        0.77|\n",
      "|   112|          0| free|246.80347251162797|53062.74659000002|         215|    Windows|                     87|0.003424657534246575|0.023972602739726026|0.023972602739726026|                 0.0|                 0.0|0.003424657534246575|  0.0547945205479452|0.010273972602739725|0.7363013698630136| 0.07191780821917808|0.010273972602739725|  0.0136986301369863|             0.0|                 0.0|0.010273972602739725|0.030821917808219176| 0.00684931506849315|                0.0|                0.0| 0.5384615384615384| 0.5714285714285714|             0.9375|                5.4|                0.0| 0.2839506172839506|              0.0|        1.0|  (2,[0],[1.0])|    (1,[],[])|[0.01027397260273...|        0.23|\n",
      "+------+-----------+-----+------------------+-----------------+------------+-----------+-----------------------+--------------------+--------------------+--------------------+--------------------+--------------------+--------------------+--------------------+--------------------+------------------+--------------------+--------------------+--------------------+----------------+--------------------+--------------------+--------------------+--------------------+-------------------+-------------------+-------------------+-------------------+-------------------+-------------------+-------------------+-------------------+-----------------+-----------+---------------+-------------+--------------------+------------+\n",
      "only showing top 3 rows\n",
      "\n"
     ]
    }
   ],
   "source": [
    "from pyspark.ml.classification import RandomForestClassifier\n",
    "\n",
    "\n",
    "# Split dataset into training and test\n",
    "df_train, df_test = df_transformed.randomSplit([0.8, 0.2])\n",
    "\n",
    "rf = RandomForestClassifier(featuresCol=\"features\", labelCol=\"userChurned\", weightCol=\"class_weight\")\n",
    "\n",
    "model_rf = rf.fit(df_train)\n",
    "\n",
    "predictions_rf = model_rf.transform(df_test)\n",
    "\n",
    "df_train.show(3)"
   ]
  },
  {
   "cell_type": "code",
   "execution_count": 75,
   "metadata": {},
   "outputs": [
    {
     "name": "stdout",
     "output_type": "stream",
     "text": [
      "+------+-----------+-----+------------------+------------------+------------+-----------+-----------------------+--------------------+--------------------+--------------------+--------------------+--------------------+--------------------+--------------------+--------------------+------------------+--------------------+--------------------+--------------------+----------------+--------------------+--------------------+--------------------+--------------------+-------------------+-------------------+-------------------+-------------------+--------------------+-------------------+-------------------+-------------------+-----------------+-----------+---------------+-------------+--------------------+------------+--------------------+--------------------+----------+\n",
      "|userId|userChurned|level|        avg_length|        sum_length|played_songs|deviceGroup|days_since_registration|               About|          Add Friend|     Add to Playlist|           Downgrade|               Error|                Help|                Home|              Logout|          NextSong|         Roll Advert|       Save Settings|            Settings|Submit Downgrade|      Submit Upgrade|         Thumbs Down|           Thumbs Up|             Upgrade|41_wow_songs_change|42_wow_songs_change|43_wow_songs_change|44_wow_songs_change| 45_wow_songs_change|46_wow_songs_change|47_wow_songs_change|48_wow_songs_change|deviceGroup_index|level_index|deviceGroup_vec|    level_vec|            features|class_weight|       rawPrediction|         probability|prediction|\n",
      "+------+-----------+-----+------------------+------------------+------------+-----------+-----------------------+--------------------+--------------------+--------------------+--------------------+--------------------+--------------------+--------------------+--------------------+------------------+--------------------+--------------------+--------------------+----------------+--------------------+--------------------+--------------------+--------------------+-------------------+-------------------+-------------------+-------------------+--------------------+-------------------+-------------------+-------------------+-----------------+-----------+---------------+-------------+--------------------+------------+--------------------+--------------------+----------+\n",
      "|100014|          1| paid|263.43763455252935| 67703.47208000004|         257|    Windows|                     85|                 0.0| 0.01948051948051948|0.022727272727272728| 0.00974025974025974|                 0.0|0.006493506493506494|0.022727272727272728| 0.00974025974025974|0.8344155844155844|0.006493506493506494|                 0.0|0.003246753246753247|             0.0|                 0.0| 0.00974025974025974| 0.05519480519480519|                 0.0|                0.0| 1.4074074074074074|                0.0|                0.0|0.017543859649122806|                0.0|               30.0|                0.0|              0.0|        0.0|  (2,[0],[1.0])|(1,[0],[1.0])|(34,[0,1,2,5,6,7,...|        0.77|[17.5972168360372...|[0.87986084180186...|       0.0|\n",
      "|   125|          1| free|261.13913750000006|2089.1131000000005|           8|      Apple|                     72|                 0.0|                 0.0|                 0.0|                 0.0|                 0.0|                 0.0|                 0.0|                 0.0|0.8888888888888888|  0.1111111111111111|                 0.0|                 0.0|             0.0|                 0.0|                 0.0|                 0.0|                 0.0|                0.0|                0.0|                0.0|                0.0|                 0.0|                0.0|                0.0|                0.0|              1.0|        1.0|  (2,[1],[1.0])|    (1,[],[])|(34,[1,10,11,12,1...|        0.77|[15.6281594739713...|[0.78140797369856...|       0.0|\n",
      "|200002|          0| paid|242.91699209302305| 94008.87593999993|         387|      Apple|                     71|0.006329113924050633|0.008438818565400843|0.016877637130801686|0.010548523206751054|                 0.0|0.004219409282700422| 0.04219409282700422|0.010548523206751054|0.8164556962025317|0.014767932489451477|                 0.0|0.006329113924050633|             0.0|0.002109704641350211|0.012658227848101266| 0.04430379746835443|0.004219409282700422|                0.0|  6.291666666666667|  0.609271523178808|                0.0|                 0.0| 1.3043478260869565|                0.0|                0.0|              1.0|        0.0|  (2,[1],[1.0])|(1,[0],[1.0])|[0.01054852320675...|        0.23|[9.96425378355388...|[0.49821268917769...|       1.0|\n",
      "|     3|          1| paid|254.32124037383184| 54424.74544000001|         214|    Windows|                     81|0.003968253968253968|0.003968253968253968|0.015873015873015872|0.007936507936507936|                 0.0|0.003968253968253968|0.031746031746031744|0.011904761904761904|0.8492063492063492|0.003968253968253968|                 0.0|                 0.0|             0.0|                 0.0|0.011904761904761904| 0.05555555555555555|                 0.0|                0.0|                0.0|                7.0|0.24675324675324675|                 0.0|                0.0|                0.0|                0.0|              0.0|        0.0|  (2,[0],[1.0])|(1,[0],[1.0])|(34,[0,1,2,4,6,8,...|        0.77|[14.6981680699947...|[0.73490840349973...|       0.0|\n",
      "|    70|          1| paid|  249.087879865772| 371140.9410000003|        1490|    Windows|                    145|0.001128031584884...|0.014664410603496898|0.023124647490129723|0.007332205301748449|0.001128031584884...|0.005076142131979695|0.029892836999435984|0.009588268471517203|0.8403835307388607|0.002256063169768...|0.002256063169768...|0.003948110547095319|             0.0|5.640157924421884E-4| 0.00676818950930626|0.050761421319796954|0.001128031584884...| 0.6308243727598566|  2.215909090909091| 0.2692307692307692| 1.1047619047619048|  0.7844827586206896|  3.659340659340659|                0.0|                0.0|              0.0|        0.0|  (2,[0],[1.0])|(1,[0],[1.0])|[0.00958826847151...|        0.77|[14.0605382819475...|[0.70302691409737...|       0.0|\n",
      "|100003|          1| free|241.30233960784318|12306.419320000003|          51|    Windows|                     22|                 0.0|                 0.0| 0.02631578947368421|                 0.0|                 0.0|0.013157894736842105| 0.09210526315789473|0.039473684210526314|0.6710526315789473| 0.11842105263157894|                 0.0|                 0.0|             0.0|                 0.0|                 0.0|0.039473684210526314|                 0.0|                0.0|                0.0|                0.0|                0.0|                 0.0|                0.0|                0.0|                0.0|              0.0|        1.0|  (2,[0],[1.0])|    (1,[],[])|(34,[0,1,2,6,10,1...|        0.77|[13.1829996678624...|[0.65914998339312...|       0.0|\n",
      "|300001|          1| paid| 247.8673548942249| 433520.0037099993|        1749|    Windows|                    188|4.616805170821791E-4|0.013850415512465374| 0.03185595567867036|0.004155124653739612|0.001385041551246...|0.005078485687903...|0.036011080332409975|0.010156971375807941|0.8074792243767313|0.002770083102493075|0.001385041551246...|0.007848568790397045|             0.0|4.616805170821791E-4|0.007848568790397045| 0.06832871652816251|9.233610341643582E-4| 2.6095890410958904| 0.2887139107611549| 1.6363636363636365|0.29444444444444445|  10.471698113207546|0.14774774774774774|  2.951219512195122|                0.0|              0.0|        0.0|  (2,[0],[1.0])|(1,[0],[1.0])|[0.01015697137580...|        0.77|[14.2578736429107...|[0.71289368214553...|       0.0|\n",
      "|100024|          1| free|234.56963954545455|        5160.53207|          22|    Windows|                     28|                 0.0|                 0.0|                 0.0|                 0.0|                 0.0|                 0.0|0.029411764705882353|                 0.0|0.6470588235294118| 0.08823529411764706|                 0.0| 0.08823529411764706|             0.0|                 0.0|                 0.0| 0.14705882352941177|                 0.0|                0.0|                0.0|                0.0|                0.0|                 0.0|                0.0|                0.0|                0.0|              0.0|        1.0|  (2,[0],[1.0])|    (1,[],[])|(34,[1,2,5,10,11,...|        0.77|[11.6328963460667...|[0.58164481730333...|       0.0|\n",
      "|    44|          0| paid|247.93726979020968|106365.08873999995|         429|      Apple|                     37|         0.005859375|            0.015625|          0.01953125|         0.001953125|                 0.0|          0.01171875|         0.029296875|          0.01171875|       0.837890625|                 0.0|         0.001953125|           0.0078125|             0.0|         0.001953125|          0.00390625|         0.048828125|         0.001953125| 0.3877551020408163|                0.0|                0.0|               19.0|                 0.0|                0.0|                0.0|                0.0|              1.0|        0.0|  (2,[1],[1.0])|(1,[0],[1.0])|[0.01171875,37.0,...|        0.23|[7.69114863941608...|[0.38455743197080...|       1.0|\n",
      "+------+-----------+-----+------------------+------------------+------------+-----------+-----------------------+--------------------+--------------------+--------------------+--------------------+--------------------+--------------------+--------------------+--------------------+------------------+--------------------+--------------------+--------------------+----------------+--------------------+--------------------+--------------------+--------------------+-------------------+-------------------+-------------------+-------------------+--------------------+-------------------+-------------------+-------------------+-----------------+-----------+---------------+-------------+--------------------+------------+--------------------+--------------------+----------+\n",
      "\n"
     ]
    }
   ],
   "source": [
    "# predictions_rf.select([\"userId\", \"userChurned\", \"prediction\"]).show()\n",
    "\n",
    "# predictions_rf.withColumn(\"prediction_check\")\n",
    "\n",
    "predictions_rf.filter(predictions_rf.userChurned != predictions_rf.prediction).show()"
   ]
  },
  {
   "cell_type": "code",
   "execution_count": 76,
   "metadata": {},
   "outputs": [
    {
     "data": {
      "text/plain": [
       "0.6236842105263158"
      ]
     },
     "execution_count": 76,
     "metadata": {},
     "output_type": "execute_result"
    }
   ],
   "source": [
    "evaluator_rf = BinaryClassificationEvaluator(rawPredictionCol=\"prediction\", labelCol=\"userChurned\", weightCol=\"class_weight\")\n",
    "\n",
    "evaluator_rf.evaluate(predictions_rf)"
   ]
  },
  {
   "cell_type": "markdown",
   "metadata": {},
   "source": [
    "### K-Means"
   ]
  },
  {
   "cell_type": "code",
   "execution_count": 77,
   "metadata": {},
   "outputs": [
    {
     "name": "stdout",
     "output_type": "stream",
     "text": [
      "+------+-----------+------+-----+----------+----------+------------+-----+-----------+-----------------------+-----+----------+---------------+---------+-----+----+----+------+--------+-----------+-------------+--------+----------------+--------------+-----------+---------+-------+-------------------+-------------------+-------------------+-------------------+-------------------+-------------------+-------------------+-------------------+\n",
      "|userId|userChurned|gender|level|avg_length|sum_length|played_songs|state|deviceGroup|days_since_registration|About|Add Friend|Add to Playlist|Downgrade|Error|Help|Home|Logout|NextSong|Roll Advert|Save Settings|Settings|Submit Downgrade|Submit Upgrade|Thumbs Down|Thumbs Up|Upgrade|41_wow_songs_change|42_wow_songs_change|43_wow_songs_change|44_wow_songs_change|45_wow_songs_change|46_wow_songs_change|47_wow_songs_change|48_wow_songs_change|\n",
      "+------+-----------+------+-----+----------+----------+------------+-----+-----------+-----------------------+-----+----------+---------------+---------+-----+----+----+------+--------+-----------+-------------+--------+----------------+--------------+-----------+---------+-------+-------------------+-------------------+-------------------+-------------------+-------------------+-------------------+-------------------+-------------------+\n",
      "|     0|          0|     0|    0|         0|         0|           0|    0|          0|                      0|    0|         0|              0|        0|    0|   0|   0|     0|       0|          0|            0|       0|               0|             0|          0|        0|      0|                  0|                  0|                  0|                  0|                  0|                  0|                  0|                  0|\n",
      "+------+-----------+------+-----+----------+----------+------------+-----+-----------+-----------------------+-----+----------+---------------+---------+-----+----+----+------+--------+-----------+-------------+--------+----------------+--------------+-----------+---------+-------+-------------------+-------------------+-------------------+-------------------+-------------------+-------------------+-------------------+-------------------+\n",
      "\n"
     ]
    }
   ],
   "source": [
    "#df_transformed.filter((df[\"ts\"] == \"\") | df[\"ts\"].isNull() | isnan(df[\"ts\"])).count()\n",
    "# https://stackoverflow.com/questions/44627386/how-to-find-count-of-null-and-nan-values-for-each-column-in-a-pyspark-dataframe\n",
    "\n",
    "\n",
    "df_joined.select([count(F.when(isnan(c), c)).alias(c) for c in df_joined.columns]).show()"
   ]
  },
  {
   "cell_type": "code",
   "execution_count": 78,
   "metadata": {},
   "outputs": [
    {
     "ename": "Py4JJavaError",
     "evalue": "An error occurred while calling o1708.fit.\n: org.apache.spark.SparkException: Job aborted due to stage failure: Task 3 in stage 1247.0 failed 1 times, most recent failure: Lost task 3.0 in stage 1247.0 (TID 3787) (DESKTOP-1UQ0ALE.fritz.box executor driver): java.lang.NullPointerException: Cannot invoke \"org.apache.spark.util.collection.unsafe.sort.UnsafeInMemorySorter.numRecords()\" because \"this.inMemSorter\" is null\r\n\tat org.apache.spark.util.collection.unsafe.sort.UnsafeExternalSorter.insertRecord(UnsafeExternalSorter.java:478)\r\n\tat org.apache.spark.sql.execution.UnsafeExternalRowSorter.insertRow(UnsafeExternalRowSorter.java:138)\r\n\tat org.apache.spark.sql.catalyst.expressions.GeneratedClass$GeneratedIteratorForCodegenStage18.sort_addToSorter_0$(Unknown Source)\r\n\tat org.apache.spark.sql.catalyst.expressions.GeneratedClass$GeneratedIteratorForCodegenStage18.processNext(Unknown Source)\r\n\tat org.apache.spark.sql.execution.BufferedRowIterator.hasNext(BufferedRowIterator.java:43)\r\n\tat org.apache.spark.sql.execution.WholeStageCodegenEvaluatorFactory$WholeStageCodegenPartitionEvaluator$$anon$1.hasNext(WholeStageCodegenEvaluatorFactory.scala:43)\r\n\tat org.apache.spark.sql.catalyst.expressions.GeneratedClass$GeneratedIteratorForCodegenStage19.smj_findNextJoinRows_0$(Unknown Source)\r\n\tat org.apache.spark.sql.catalyst.expressions.GeneratedClass$GeneratedIteratorForCodegenStage19.sort_addToSorter_0$(Unknown Source)\r\n\tat org.apache.spark.sql.catalyst.expressions.GeneratedClass$GeneratedIteratorForCodegenStage19.processNext(Unknown Source)\r\n\tat org.apache.spark.sql.execution.BufferedRowIterator.hasNext(BufferedRowIterator.java:43)\r\n\tat org.apache.spark.sql.execution.WholeStageCodegenEvaluatorFactory$WholeStageCodegenPartitionEvaluator$$anon$1.hasNext(WholeStageCodegenEvaluatorFactory.scala:43)\r\n\tat scala.collection.Iterator$$anon$10.hasNext(Iterator.scala:460)\r\n\tat scala.collection.Iterator$$anon$10.hasNext(Iterator.scala:460)\r\n\tat scala.collection.Iterator$$anon$10.hasNext(Iterator.scala:460)\r\n\tat scala.collection.Iterator$$anon$10.hasNext(Iterator.scala:460)\r\n\tat org.apache.spark.rdd.RDD$$anon$3.hasNext(RDD.scala:968)\r\n\tat scala.collection.Iterator$$anon$10.hasNext(Iterator.scala:460)\r\n\tat org.apache.spark.storage.memory.MemoryStore.putIterator(MemoryStore.scala:223)\r\n\tat org.apache.spark.storage.memory.MemoryStore.putIteratorAsValues(MemoryStore.scala:302)\r\n\tat org.apache.spark.storage.BlockManager.$anonfun$doPutIterator$1(BlockManager.scala:1601)\r\n\tat org.apache.spark.storage.BlockManager.org$apache$spark$storage$BlockManager$$doPut(BlockManager.scala:1528)\r\n\tat org.apache.spark.storage.BlockManager.doPutIterator(BlockManager.scala:1592)\r\n\tat org.apache.spark.storage.BlockManager.getOrElseUpdate(BlockManager.scala:1389)\r\n\tat org.apache.spark.storage.BlockManager.getOrElseUpdateRDDBlock(BlockManager.scala:1343)\r\n\tat org.apache.spark.rdd.RDD.getOrCompute(RDD.scala:376)\r\n\tat org.apache.spark.rdd.RDD.iterator(RDD.scala:326)\r\n\tat org.apache.spark.scheduler.ResultTask.runTask(ResultTask.scala:93)\r\n\tat org.apache.spark.TaskContext.runTaskWithListeners(TaskContext.scala:161)\r\n\tat org.apache.spark.scheduler.Task.run(Task.scala:141)\r\n\tat org.apache.spark.executor.Executor$TaskRunner.$anonfun$run$4(Executor.scala:620)\r\n\tat org.apache.spark.util.SparkErrorUtils.tryWithSafeFinally(SparkErrorUtils.scala:64)\r\n\tat org.apache.spark.util.SparkErrorUtils.tryWithSafeFinally$(SparkErrorUtils.scala:61)\r\n\tat org.apache.spark.util.Utils$.tryWithSafeFinally(Utils.scala:94)\r\n\tat org.apache.spark.executor.Executor$TaskRunner.run(Executor.scala:623)\r\n\tat java.base/java.util.concurrent.ThreadPoolExecutor.runWorker(ThreadPoolExecutor.java:1144)\r\n\tat java.base/java.util.concurrent.ThreadPoolExecutor$Worker.run(ThreadPoolExecutor.java:642)\r\n\tat java.base/java.lang.Thread.run(Thread.java:1583)\r\n\nDriver stacktrace:\r\n\tat org.apache.spark.scheduler.DAGScheduler.failJobAndIndependentStages(DAGScheduler.scala:2844)\r\n\tat org.apache.spark.scheduler.DAGScheduler.$anonfun$abortStage$2(DAGScheduler.scala:2780)\r\n\tat org.apache.spark.scheduler.DAGScheduler.$anonfun$abortStage$2$adapted(DAGScheduler.scala:2779)\r\n\tat scala.collection.mutable.ResizableArray.foreach(ResizableArray.scala:62)\r\n\tat scala.collection.mutable.ResizableArray.foreach$(ResizableArray.scala:55)\r\n\tat scala.collection.mutable.ArrayBuffer.foreach(ArrayBuffer.scala:49)\r\n\tat org.apache.spark.scheduler.DAGScheduler.abortStage(DAGScheduler.scala:2779)\r\n\tat org.apache.spark.scheduler.DAGScheduler.$anonfun$handleTaskSetFailed$1(DAGScheduler.scala:1242)\r\n\tat org.apache.spark.scheduler.DAGScheduler.$anonfun$handleTaskSetFailed$1$adapted(DAGScheduler.scala:1242)\r\n\tat scala.Option.foreach(Option.scala:407)\r\n\tat org.apache.spark.scheduler.DAGScheduler.handleTaskSetFailed(DAGScheduler.scala:1242)\r\n\tat org.apache.spark.scheduler.DAGSchedulerEventProcessLoop.doOnReceive(DAGScheduler.scala:3048)\r\n\tat org.apache.spark.scheduler.DAGSchedulerEventProcessLoop.onReceive(DAGScheduler.scala:2982)\r\n\tat org.apache.spark.scheduler.DAGSchedulerEventProcessLoop.onReceive(DAGScheduler.scala:2971)\r\n\tat org.apache.spark.util.EventLoop$$anon$1.run(EventLoop.scala:49)\r\n\tat org.apache.spark.scheduler.DAGScheduler.runJob(DAGScheduler.scala:984)\r\n\tat org.apache.spark.SparkContext.runJob(SparkContext.scala:2398)\r\n\tat org.apache.spark.SparkContext.runJob(SparkContext.scala:2419)\r\n\tat org.apache.spark.SparkContext.runJob(SparkContext.scala:2438)\r\n\tat org.apache.spark.SparkContext.runJob(SparkContext.scala:2463)\r\n\tat org.apache.spark.rdd.RDD.count(RDD.scala:1293)\r\n\tat org.apache.spark.rdd.RDD.$anonfun$takeSample$1(RDD.scala:626)\r\n\tat org.apache.spark.rdd.RDDOperationScope$.withScope(RDDOperationScope.scala:151)\r\n\tat org.apache.spark.rdd.RDDOperationScope$.withScope(RDDOperationScope.scala:112)\r\n\tat org.apache.spark.rdd.RDD.withScope(RDD.scala:407)\r\n\tat org.apache.spark.rdd.RDD.takeSample(RDD.scala:615)\r\n\tat org.apache.spark.mllib.clustering.KMeans.initKMeansParallel(KMeans.scala:400)\r\n\tat org.apache.spark.mllib.clustering.KMeans.runAlgorithmWithWeight(KMeans.scala:273)\r\n\tat org.apache.spark.mllib.clustering.KMeans.runWithWeight(KMeans.scala:231)\r\n\tat org.apache.spark.ml.clustering.KMeans.trainWithRow(KMeans.scala:446)\r\n\tat org.apache.spark.ml.clustering.KMeans.$anonfun$fit$1(KMeans.scala:382)\r\n\tat org.apache.spark.ml.util.Instrumentation$.$anonfun$instrumented$1(Instrumentation.scala:191)\r\n\tat scala.util.Try$.apply(Try.scala:213)\r\n\tat org.apache.spark.ml.util.Instrumentation$.instrumented(Instrumentation.scala:191)\r\n\tat org.apache.spark.ml.clustering.KMeans.fit(KMeans.scala:371)\r\n\tat java.base/jdk.internal.reflect.NativeMethodAccessorImpl.invoke0(Native Method)\r\n\tat java.base/jdk.internal.reflect.NativeMethodAccessorImpl.invoke(NativeMethodAccessorImpl.java:75)\r\n\tat java.base/jdk.internal.reflect.DelegatingMethodAccessorImpl.invoke(DelegatingMethodAccessorImpl.java:52)\r\n\tat java.base/java.lang.reflect.Method.invoke(Method.java:580)\r\n\tat py4j.reflection.MethodInvoker.invoke(MethodInvoker.java:244)\r\n\tat py4j.reflection.ReflectionEngine.invoke(ReflectionEngine.java:374)\r\n\tat py4j.Gateway.invoke(Gateway.java:282)\r\n\tat py4j.commands.AbstractCommand.invokeMethod(AbstractCommand.java:132)\r\n\tat py4j.commands.CallCommand.execute(CallCommand.java:79)\r\n\tat py4j.ClientServerConnection.waitForCommands(ClientServerConnection.java:182)\r\n\tat py4j.ClientServerConnection.run(ClientServerConnection.java:106)\r\n\tat java.base/java.lang.Thread.run(Thread.java:1583)\r\nCaused by: java.lang.NullPointerException\r\n\tat org.apache.spark.util.collection.unsafe.sort.UnsafeExternalSorter.insertRecord(UnsafeExternalSorter.java:478)\r\n\tat org.apache.spark.sql.execution.UnsafeExternalRowSorter.insertRow(UnsafeExternalRowSorter.java:138)\r\n\tat org.apache.spark.sql.catalyst.expressions.GeneratedClass$GeneratedIteratorForCodegenStage18.sort_addToSorter_0$(Unknown Source)\r\n\tat org.apache.spark.sql.catalyst.expressions.GeneratedClass$GeneratedIteratorForCodegenStage18.processNext(Unknown Source)\r\n\tat org.apache.spark.sql.execution.BufferedRowIterator.hasNext(BufferedRowIterator.java:43)\r\n\tat org.apache.spark.sql.execution.WholeStageCodegenEvaluatorFactory$WholeStageCodegenPartitionEvaluator$$anon$1.hasNext(WholeStageCodegenEvaluatorFactory.scala:43)\r\n\tat org.apache.spark.sql.catalyst.expressions.GeneratedClass$GeneratedIteratorForCodegenStage19.smj_findNextJoinRows_0$(Unknown Source)\r\n\tat org.apache.spark.sql.catalyst.expressions.GeneratedClass$GeneratedIteratorForCodegenStage19.sort_addToSorter_0$(Unknown Source)\r\n\tat org.apache.spark.sql.catalyst.expressions.GeneratedClass$GeneratedIteratorForCodegenStage19.processNext(Unknown Source)\r\n\tat org.apache.spark.sql.execution.BufferedRowIterator.hasNext(BufferedRowIterator.java:43)\r\n\tat org.apache.spark.sql.execution.WholeStageCodegenEvaluatorFactory$WholeStageCodegenPartitionEvaluator$$anon$1.hasNext(WholeStageCodegenEvaluatorFactory.scala:43)\r\n\tat scala.collection.Iterator$$anon$10.hasNext(Iterator.scala:460)\r\n\tat scala.collection.Iterator$$anon$10.hasNext(Iterator.scala:460)\r\n\tat scala.collection.Iterator$$anon$10.hasNext(Iterator.scala:460)\r\n\tat scala.collection.Iterator$$anon$10.hasNext(Iterator.scala:460)\r\n\tat org.apache.spark.rdd.RDD$$anon$3.hasNext(RDD.scala:968)\r\n\tat scala.collection.Iterator$$anon$10.hasNext(Iterator.scala:460)\r\n\tat org.apache.spark.storage.memory.MemoryStore.putIterator(MemoryStore.scala:223)\r\n\tat org.apache.spark.storage.memory.MemoryStore.putIteratorAsValues(MemoryStore.scala:302)\r\n\tat org.apache.spark.storage.BlockManager.$anonfun$doPutIterator$1(BlockManager.scala:1601)\r\n\tat org.apache.spark.storage.BlockManager.org$apache$spark$storage$BlockManager$$doPut(BlockManager.scala:1528)\r\n\tat org.apache.spark.storage.BlockManager.doPutIterator(BlockManager.scala:1592)\r\n\tat org.apache.spark.storage.BlockManager.getOrElseUpdate(BlockManager.scala:1389)\r\n\tat org.apache.spark.storage.BlockManager.getOrElseUpdateRDDBlock(BlockManager.scala:1343)\r\n\tat org.apache.spark.rdd.RDD.getOrCompute(RDD.scala:376)\r\n\tat org.apache.spark.rdd.RDD.iterator(RDD.scala:326)\r\n\tat org.apache.spark.scheduler.ResultTask.runTask(ResultTask.scala:93)\r\n\tat org.apache.spark.TaskContext.runTaskWithListeners(TaskContext.scala:161)\r\n\tat org.apache.spark.scheduler.Task.run(Task.scala:141)\r\n\tat org.apache.spark.executor.Executor$TaskRunner.$anonfun$run$4(Executor.scala:620)\r\n\tat org.apache.spark.util.SparkErrorUtils.tryWithSafeFinally(SparkErrorUtils.scala:64)\r\n\tat org.apache.spark.util.SparkErrorUtils.tryWithSafeFinally$(SparkErrorUtils.scala:61)\r\n\tat org.apache.spark.util.Utils$.tryWithSafeFinally(Utils.scala:94)\r\n\tat org.apache.spark.executor.Executor$TaskRunner.run(Executor.scala:623)\r\n\tat java.base/java.util.concurrent.ThreadPoolExecutor.runWorker(ThreadPoolExecutor.java:1144)\r\n\tat java.base/java.util.concurrent.ThreadPoolExecutor$Worker.run(ThreadPoolExecutor.java:642)\r\n\t... 1 more\r\n",
     "output_type": "error",
     "traceback": [
      "\u001b[1;31m---------------------------------------------------------------------------\u001b[0m",
      "\u001b[1;31mPy4JJavaError\u001b[0m                             Traceback (most recent call last)",
      "\u001b[1;32mc:\\Users\\Ben\\Documents\\Coding\\Udacity\\sparkify\\Sparkify.ipynb Cell 113\u001b[0m line \u001b[0;36m5\n\u001b[0;32m      <a href='vscode-notebook-cell:/c%3A/Users/Ben/Documents/Coding/Udacity/sparkify/Sparkify.ipynb#Y213sZmlsZQ%3D%3D?line=2'>3</a>\u001b[0m df_train, df_test \u001b[39m=\u001b[39m df_transformed\u001b[39m.\u001b[39mrandomSplit([\u001b[39m0.8\u001b[39m, \u001b[39m0.2\u001b[39m], seed\u001b[39m=\u001b[39m\u001b[39m42\u001b[39m)\n\u001b[0;32m      <a href='vscode-notebook-cell:/c%3A/Users/Ben/Documents/Coding/Udacity/sparkify/Sparkify.ipynb#Y213sZmlsZQ%3D%3D?line=3'>4</a>\u001b[0m kmeans \u001b[39m=\u001b[39m KMeans()\u001b[39m.\u001b[39msetParams(featuresCol\u001b[39m=\u001b[39m\u001b[39m\"\u001b[39m\u001b[39mfeatures\u001b[39m\u001b[39m\"\u001b[39m, predictionCol\u001b[39m=\u001b[39m\u001b[39m\"\u001b[39m\u001b[39mprediction\u001b[39m\u001b[39m\"\u001b[39m, k\u001b[39m=\u001b[39m\u001b[39m5\u001b[39m, seed\u001b[39m=\u001b[39m\u001b[39m42\u001b[39m)\n\u001b[1;32m----> <a href='vscode-notebook-cell:/c%3A/Users/Ben/Documents/Coding/Udacity/sparkify/Sparkify.ipynb#Y213sZmlsZQ%3D%3D?line=4'>5</a>\u001b[0m model \u001b[39m=\u001b[39m kmeans\u001b[39m.\u001b[39;49mfit(df_train)\n\u001b[0;32m      <a href='vscode-notebook-cell:/c%3A/Users/Ben/Documents/Coding/Udacity/sparkify/Sparkify.ipynb#Y213sZmlsZQ%3D%3D?line=6'>7</a>\u001b[0m \u001b[39m# predictions = model.transform(df_test)\u001b[39;00m\n\u001b[0;32m      <a href='vscode-notebook-cell:/c%3A/Users/Ben/Documents/Coding/Udacity/sparkify/Sparkify.ipynb#Y213sZmlsZQ%3D%3D?line=7'>8</a>\u001b[0m \n\u001b[0;32m      <a href='vscode-notebook-cell:/c%3A/Users/Ben/Documents/Coding/Udacity/sparkify/Sparkify.ipynb#Y213sZmlsZQ%3D%3D?line=8'>9</a>\u001b[0m \u001b[39m# df_train.show(3)\u001b[39;00m\n",
      "File \u001b[1;32mc:\\Users\\Ben\\miniconda3\\envs\\py310\\lib\\site-packages\\pyspark\\ml\\base.py:205\u001b[0m, in \u001b[0;36mEstimator.fit\u001b[1;34m(self, dataset, params)\u001b[0m\n\u001b[0;32m    203\u001b[0m         \u001b[39mreturn\u001b[39;00m \u001b[39mself\u001b[39m\u001b[39m.\u001b[39mcopy(params)\u001b[39m.\u001b[39m_fit(dataset)\n\u001b[0;32m    204\u001b[0m     \u001b[39melse\u001b[39;00m:\n\u001b[1;32m--> 205\u001b[0m         \u001b[39mreturn\u001b[39;00m \u001b[39mself\u001b[39;49m\u001b[39m.\u001b[39;49m_fit(dataset)\n\u001b[0;32m    206\u001b[0m \u001b[39melse\u001b[39;00m:\n\u001b[0;32m    207\u001b[0m     \u001b[39mraise\u001b[39;00m \u001b[39mTypeError\u001b[39;00m(\n\u001b[0;32m    208\u001b[0m         \u001b[39m\"\u001b[39m\u001b[39mParams must be either a param map or a list/tuple of param maps, \u001b[39m\u001b[39m\"\u001b[39m\n\u001b[0;32m    209\u001b[0m         \u001b[39m\"\u001b[39m\u001b[39mbut got \u001b[39m\u001b[39m%s\u001b[39;00m\u001b[39m.\u001b[39m\u001b[39m\"\u001b[39m \u001b[39m%\u001b[39m \u001b[39mtype\u001b[39m(params)\n\u001b[0;32m    210\u001b[0m     )\n",
      "File \u001b[1;32mc:\\Users\\Ben\\miniconda3\\envs\\py310\\lib\\site-packages\\pyspark\\ml\\wrapper.py:381\u001b[0m, in \u001b[0;36mJavaEstimator._fit\u001b[1;34m(self, dataset)\u001b[0m\n\u001b[0;32m    380\u001b[0m \u001b[39mdef\u001b[39;00m \u001b[39m_fit\u001b[39m(\u001b[39mself\u001b[39m, dataset: DataFrame) \u001b[39m-\u001b[39m\u001b[39m>\u001b[39m JM:\n\u001b[1;32m--> 381\u001b[0m     java_model \u001b[39m=\u001b[39m \u001b[39mself\u001b[39;49m\u001b[39m.\u001b[39;49m_fit_java(dataset)\n\u001b[0;32m    382\u001b[0m     model \u001b[39m=\u001b[39m \u001b[39mself\u001b[39m\u001b[39m.\u001b[39m_create_model(java_model)\n\u001b[0;32m    383\u001b[0m     \u001b[39mreturn\u001b[39;00m \u001b[39mself\u001b[39m\u001b[39m.\u001b[39m_copyValues(model)\n",
      "File \u001b[1;32mc:\\Users\\Ben\\miniconda3\\envs\\py310\\lib\\site-packages\\pyspark\\ml\\wrapper.py:378\u001b[0m, in \u001b[0;36mJavaEstimator._fit_java\u001b[1;34m(self, dataset)\u001b[0m\n\u001b[0;32m    375\u001b[0m \u001b[39massert\u001b[39;00m \u001b[39mself\u001b[39m\u001b[39m.\u001b[39m_java_obj \u001b[39mis\u001b[39;00m \u001b[39mnot\u001b[39;00m \u001b[39mNone\u001b[39;00m\n\u001b[0;32m    377\u001b[0m \u001b[39mself\u001b[39m\u001b[39m.\u001b[39m_transfer_params_to_java()\n\u001b[1;32m--> 378\u001b[0m \u001b[39mreturn\u001b[39;00m \u001b[39mself\u001b[39;49m\u001b[39m.\u001b[39;49m_java_obj\u001b[39m.\u001b[39;49mfit(dataset\u001b[39m.\u001b[39;49m_jdf)\n",
      "File \u001b[1;32mc:\\Users\\Ben\\miniconda3\\envs\\py310\\lib\\site-packages\\py4j\\java_gateway.py:1322\u001b[0m, in \u001b[0;36mJavaMember.__call__\u001b[1;34m(self, *args)\u001b[0m\n\u001b[0;32m   1316\u001b[0m command \u001b[39m=\u001b[39m proto\u001b[39m.\u001b[39mCALL_COMMAND_NAME \u001b[39m+\u001b[39m\\\n\u001b[0;32m   1317\u001b[0m     \u001b[39mself\u001b[39m\u001b[39m.\u001b[39mcommand_header \u001b[39m+\u001b[39m\\\n\u001b[0;32m   1318\u001b[0m     args_command \u001b[39m+\u001b[39m\\\n\u001b[0;32m   1319\u001b[0m     proto\u001b[39m.\u001b[39mEND_COMMAND_PART\n\u001b[0;32m   1321\u001b[0m answer \u001b[39m=\u001b[39m \u001b[39mself\u001b[39m\u001b[39m.\u001b[39mgateway_client\u001b[39m.\u001b[39msend_command(command)\n\u001b[1;32m-> 1322\u001b[0m return_value \u001b[39m=\u001b[39m get_return_value(\n\u001b[0;32m   1323\u001b[0m     answer, \u001b[39mself\u001b[39;49m\u001b[39m.\u001b[39;49mgateway_client, \u001b[39mself\u001b[39;49m\u001b[39m.\u001b[39;49mtarget_id, \u001b[39mself\u001b[39;49m\u001b[39m.\u001b[39;49mname)\n\u001b[0;32m   1325\u001b[0m \u001b[39mfor\u001b[39;00m temp_arg \u001b[39min\u001b[39;00m temp_args:\n\u001b[0;32m   1326\u001b[0m     \u001b[39mif\u001b[39;00m \u001b[39mhasattr\u001b[39m(temp_arg, \u001b[39m\"\u001b[39m\u001b[39m_detach\u001b[39m\u001b[39m\"\u001b[39m):\n",
      "File \u001b[1;32mc:\\Users\\Ben\\miniconda3\\envs\\py310\\lib\\site-packages\\pyspark\\errors\\exceptions\\captured.py:179\u001b[0m, in \u001b[0;36mcapture_sql_exception.<locals>.deco\u001b[1;34m(*a, **kw)\u001b[0m\n\u001b[0;32m    177\u001b[0m \u001b[39mdef\u001b[39;00m \u001b[39mdeco\u001b[39m(\u001b[39m*\u001b[39ma: Any, \u001b[39m*\u001b[39m\u001b[39m*\u001b[39mkw: Any) \u001b[39m-\u001b[39m\u001b[39m>\u001b[39m Any:\n\u001b[0;32m    178\u001b[0m     \u001b[39mtry\u001b[39;00m:\n\u001b[1;32m--> 179\u001b[0m         \u001b[39mreturn\u001b[39;00m f(\u001b[39m*\u001b[39ma, \u001b[39m*\u001b[39m\u001b[39m*\u001b[39mkw)\n\u001b[0;32m    180\u001b[0m     \u001b[39mexcept\u001b[39;00m Py4JJavaError \u001b[39mas\u001b[39;00m e:\n\u001b[0;32m    181\u001b[0m         converted \u001b[39m=\u001b[39m convert_exception(e\u001b[39m.\u001b[39mjava_exception)\n",
      "File \u001b[1;32mc:\\Users\\Ben\\miniconda3\\envs\\py310\\lib\\site-packages\\py4j\\protocol.py:326\u001b[0m, in \u001b[0;36mget_return_value\u001b[1;34m(answer, gateway_client, target_id, name)\u001b[0m\n\u001b[0;32m    324\u001b[0m value \u001b[39m=\u001b[39m OUTPUT_CONVERTER[\u001b[39mtype\u001b[39m](answer[\u001b[39m2\u001b[39m:], gateway_client)\n\u001b[0;32m    325\u001b[0m \u001b[39mif\u001b[39;00m answer[\u001b[39m1\u001b[39m] \u001b[39m==\u001b[39m REFERENCE_TYPE:\n\u001b[1;32m--> 326\u001b[0m     \u001b[39mraise\u001b[39;00m Py4JJavaError(\n\u001b[0;32m    327\u001b[0m         \u001b[39m\"\u001b[39m\u001b[39mAn error occurred while calling \u001b[39m\u001b[39m{0}\u001b[39;00m\u001b[39m{1}\u001b[39;00m\u001b[39m{2}\u001b[39;00m\u001b[39m.\u001b[39m\u001b[39m\\n\u001b[39;00m\u001b[39m\"\u001b[39m\u001b[39m.\u001b[39m\n\u001b[0;32m    328\u001b[0m         \u001b[39mformat\u001b[39m(target_id, \u001b[39m\"\u001b[39m\u001b[39m.\u001b[39m\u001b[39m\"\u001b[39m, name), value)\n\u001b[0;32m    329\u001b[0m \u001b[39melse\u001b[39;00m:\n\u001b[0;32m    330\u001b[0m     \u001b[39mraise\u001b[39;00m Py4JError(\n\u001b[0;32m    331\u001b[0m         \u001b[39m\"\u001b[39m\u001b[39mAn error occurred while calling \u001b[39m\u001b[39m{0}\u001b[39;00m\u001b[39m{1}\u001b[39;00m\u001b[39m{2}\u001b[39;00m\u001b[39m. Trace:\u001b[39m\u001b[39m\\n\u001b[39;00m\u001b[39m{3}\u001b[39;00m\u001b[39m\\n\u001b[39;00m\u001b[39m\"\u001b[39m\u001b[39m.\u001b[39m\n\u001b[0;32m    332\u001b[0m         \u001b[39mformat\u001b[39m(target_id, \u001b[39m\"\u001b[39m\u001b[39m.\u001b[39m\u001b[39m\"\u001b[39m, name, value))\n",
      "\u001b[1;31mPy4JJavaError\u001b[0m: An error occurred while calling o1708.fit.\n: org.apache.spark.SparkException: Job aborted due to stage failure: Task 3 in stage 1247.0 failed 1 times, most recent failure: Lost task 3.0 in stage 1247.0 (TID 3787) (DESKTOP-1UQ0ALE.fritz.box executor driver): java.lang.NullPointerException: Cannot invoke \"org.apache.spark.util.collection.unsafe.sort.UnsafeInMemorySorter.numRecords()\" because \"this.inMemSorter\" is null\r\n\tat org.apache.spark.util.collection.unsafe.sort.UnsafeExternalSorter.insertRecord(UnsafeExternalSorter.java:478)\r\n\tat org.apache.spark.sql.execution.UnsafeExternalRowSorter.insertRow(UnsafeExternalRowSorter.java:138)\r\n\tat org.apache.spark.sql.catalyst.expressions.GeneratedClass$GeneratedIteratorForCodegenStage18.sort_addToSorter_0$(Unknown Source)\r\n\tat org.apache.spark.sql.catalyst.expressions.GeneratedClass$GeneratedIteratorForCodegenStage18.processNext(Unknown Source)\r\n\tat org.apache.spark.sql.execution.BufferedRowIterator.hasNext(BufferedRowIterator.java:43)\r\n\tat org.apache.spark.sql.execution.WholeStageCodegenEvaluatorFactory$WholeStageCodegenPartitionEvaluator$$anon$1.hasNext(WholeStageCodegenEvaluatorFactory.scala:43)\r\n\tat org.apache.spark.sql.catalyst.expressions.GeneratedClass$GeneratedIteratorForCodegenStage19.smj_findNextJoinRows_0$(Unknown Source)\r\n\tat org.apache.spark.sql.catalyst.expressions.GeneratedClass$GeneratedIteratorForCodegenStage19.sort_addToSorter_0$(Unknown Source)\r\n\tat org.apache.spark.sql.catalyst.expressions.GeneratedClass$GeneratedIteratorForCodegenStage19.processNext(Unknown Source)\r\n\tat org.apache.spark.sql.execution.BufferedRowIterator.hasNext(BufferedRowIterator.java:43)\r\n\tat org.apache.spark.sql.execution.WholeStageCodegenEvaluatorFactory$WholeStageCodegenPartitionEvaluator$$anon$1.hasNext(WholeStageCodegenEvaluatorFactory.scala:43)\r\n\tat scala.collection.Iterator$$anon$10.hasNext(Iterator.scala:460)\r\n\tat scala.collection.Iterator$$anon$10.hasNext(Iterator.scala:460)\r\n\tat scala.collection.Iterator$$anon$10.hasNext(Iterator.scala:460)\r\n\tat scala.collection.Iterator$$anon$10.hasNext(Iterator.scala:460)\r\n\tat org.apache.spark.rdd.RDD$$anon$3.hasNext(RDD.scala:968)\r\n\tat scala.collection.Iterator$$anon$10.hasNext(Iterator.scala:460)\r\n\tat org.apache.spark.storage.memory.MemoryStore.putIterator(MemoryStore.scala:223)\r\n\tat org.apache.spark.storage.memory.MemoryStore.putIteratorAsValues(MemoryStore.scala:302)\r\n\tat org.apache.spark.storage.BlockManager.$anonfun$doPutIterator$1(BlockManager.scala:1601)\r\n\tat org.apache.spark.storage.BlockManager.org$apache$spark$storage$BlockManager$$doPut(BlockManager.scala:1528)\r\n\tat org.apache.spark.storage.BlockManager.doPutIterator(BlockManager.scala:1592)\r\n\tat org.apache.spark.storage.BlockManager.getOrElseUpdate(BlockManager.scala:1389)\r\n\tat org.apache.spark.storage.BlockManager.getOrElseUpdateRDDBlock(BlockManager.scala:1343)\r\n\tat org.apache.spark.rdd.RDD.getOrCompute(RDD.scala:376)\r\n\tat org.apache.spark.rdd.RDD.iterator(RDD.scala:326)\r\n\tat org.apache.spark.scheduler.ResultTask.runTask(ResultTask.scala:93)\r\n\tat org.apache.spark.TaskContext.runTaskWithListeners(TaskContext.scala:161)\r\n\tat org.apache.spark.scheduler.Task.run(Task.scala:141)\r\n\tat org.apache.spark.executor.Executor$TaskRunner.$anonfun$run$4(Executor.scala:620)\r\n\tat org.apache.spark.util.SparkErrorUtils.tryWithSafeFinally(SparkErrorUtils.scala:64)\r\n\tat org.apache.spark.util.SparkErrorUtils.tryWithSafeFinally$(SparkErrorUtils.scala:61)\r\n\tat org.apache.spark.util.Utils$.tryWithSafeFinally(Utils.scala:94)\r\n\tat org.apache.spark.executor.Executor$TaskRunner.run(Executor.scala:623)\r\n\tat java.base/java.util.concurrent.ThreadPoolExecutor.runWorker(ThreadPoolExecutor.java:1144)\r\n\tat java.base/java.util.concurrent.ThreadPoolExecutor$Worker.run(ThreadPoolExecutor.java:642)\r\n\tat java.base/java.lang.Thread.run(Thread.java:1583)\r\n\nDriver stacktrace:\r\n\tat org.apache.spark.scheduler.DAGScheduler.failJobAndIndependentStages(DAGScheduler.scala:2844)\r\n\tat org.apache.spark.scheduler.DAGScheduler.$anonfun$abortStage$2(DAGScheduler.scala:2780)\r\n\tat org.apache.spark.scheduler.DAGScheduler.$anonfun$abortStage$2$adapted(DAGScheduler.scala:2779)\r\n\tat scala.collection.mutable.ResizableArray.foreach(ResizableArray.scala:62)\r\n\tat scala.collection.mutable.ResizableArray.foreach$(ResizableArray.scala:55)\r\n\tat scala.collection.mutable.ArrayBuffer.foreach(ArrayBuffer.scala:49)\r\n\tat org.apache.spark.scheduler.DAGScheduler.abortStage(DAGScheduler.scala:2779)\r\n\tat org.apache.spark.scheduler.DAGScheduler.$anonfun$handleTaskSetFailed$1(DAGScheduler.scala:1242)\r\n\tat org.apache.spark.scheduler.DAGScheduler.$anonfun$handleTaskSetFailed$1$adapted(DAGScheduler.scala:1242)\r\n\tat scala.Option.foreach(Option.scala:407)\r\n\tat org.apache.spark.scheduler.DAGScheduler.handleTaskSetFailed(DAGScheduler.scala:1242)\r\n\tat org.apache.spark.scheduler.DAGSchedulerEventProcessLoop.doOnReceive(DAGScheduler.scala:3048)\r\n\tat org.apache.spark.scheduler.DAGSchedulerEventProcessLoop.onReceive(DAGScheduler.scala:2982)\r\n\tat org.apache.spark.scheduler.DAGSchedulerEventProcessLoop.onReceive(DAGScheduler.scala:2971)\r\n\tat org.apache.spark.util.EventLoop$$anon$1.run(EventLoop.scala:49)\r\n\tat org.apache.spark.scheduler.DAGScheduler.runJob(DAGScheduler.scala:984)\r\n\tat org.apache.spark.SparkContext.runJob(SparkContext.scala:2398)\r\n\tat org.apache.spark.SparkContext.runJob(SparkContext.scala:2419)\r\n\tat org.apache.spark.SparkContext.runJob(SparkContext.scala:2438)\r\n\tat org.apache.spark.SparkContext.runJob(SparkContext.scala:2463)\r\n\tat org.apache.spark.rdd.RDD.count(RDD.scala:1293)\r\n\tat org.apache.spark.rdd.RDD.$anonfun$takeSample$1(RDD.scala:626)\r\n\tat org.apache.spark.rdd.RDDOperationScope$.withScope(RDDOperationScope.scala:151)\r\n\tat org.apache.spark.rdd.RDDOperationScope$.withScope(RDDOperationScope.scala:112)\r\n\tat org.apache.spark.rdd.RDD.withScope(RDD.scala:407)\r\n\tat org.apache.spark.rdd.RDD.takeSample(RDD.scala:615)\r\n\tat org.apache.spark.mllib.clustering.KMeans.initKMeansParallel(KMeans.scala:400)\r\n\tat org.apache.spark.mllib.clustering.KMeans.runAlgorithmWithWeight(KMeans.scala:273)\r\n\tat org.apache.spark.mllib.clustering.KMeans.runWithWeight(KMeans.scala:231)\r\n\tat org.apache.spark.ml.clustering.KMeans.trainWithRow(KMeans.scala:446)\r\n\tat org.apache.spark.ml.clustering.KMeans.$anonfun$fit$1(KMeans.scala:382)\r\n\tat org.apache.spark.ml.util.Instrumentation$.$anonfun$instrumented$1(Instrumentation.scala:191)\r\n\tat scala.util.Try$.apply(Try.scala:213)\r\n\tat org.apache.spark.ml.util.Instrumentation$.instrumented(Instrumentation.scala:191)\r\n\tat org.apache.spark.ml.clustering.KMeans.fit(KMeans.scala:371)\r\n\tat java.base/jdk.internal.reflect.NativeMethodAccessorImpl.invoke0(Native Method)\r\n\tat java.base/jdk.internal.reflect.NativeMethodAccessorImpl.invoke(NativeMethodAccessorImpl.java:75)\r\n\tat java.base/jdk.internal.reflect.DelegatingMethodAccessorImpl.invoke(DelegatingMethodAccessorImpl.java:52)\r\n\tat java.base/java.lang.reflect.Method.invoke(Method.java:580)\r\n\tat py4j.reflection.MethodInvoker.invoke(MethodInvoker.java:244)\r\n\tat py4j.reflection.ReflectionEngine.invoke(ReflectionEngine.java:374)\r\n\tat py4j.Gateway.invoke(Gateway.java:282)\r\n\tat py4j.commands.AbstractCommand.invokeMethod(AbstractCommand.java:132)\r\n\tat py4j.commands.CallCommand.execute(CallCommand.java:79)\r\n\tat py4j.ClientServerConnection.waitForCommands(ClientServerConnection.java:182)\r\n\tat py4j.ClientServerConnection.run(ClientServerConnection.java:106)\r\n\tat java.base/java.lang.Thread.run(Thread.java:1583)\r\nCaused by: java.lang.NullPointerException\r\n\tat org.apache.spark.util.collection.unsafe.sort.UnsafeExternalSorter.insertRecord(UnsafeExternalSorter.java:478)\r\n\tat org.apache.spark.sql.execution.UnsafeExternalRowSorter.insertRow(UnsafeExternalRowSorter.java:138)\r\n\tat org.apache.spark.sql.catalyst.expressions.GeneratedClass$GeneratedIteratorForCodegenStage18.sort_addToSorter_0$(Unknown Source)\r\n\tat org.apache.spark.sql.catalyst.expressions.GeneratedClass$GeneratedIteratorForCodegenStage18.processNext(Unknown Source)\r\n\tat org.apache.spark.sql.execution.BufferedRowIterator.hasNext(BufferedRowIterator.java:43)\r\n\tat org.apache.spark.sql.execution.WholeStageCodegenEvaluatorFactory$WholeStageCodegenPartitionEvaluator$$anon$1.hasNext(WholeStageCodegenEvaluatorFactory.scala:43)\r\n\tat org.apache.spark.sql.catalyst.expressions.GeneratedClass$GeneratedIteratorForCodegenStage19.smj_findNextJoinRows_0$(Unknown Source)\r\n\tat org.apache.spark.sql.catalyst.expressions.GeneratedClass$GeneratedIteratorForCodegenStage19.sort_addToSorter_0$(Unknown Source)\r\n\tat org.apache.spark.sql.catalyst.expressions.GeneratedClass$GeneratedIteratorForCodegenStage19.processNext(Unknown Source)\r\n\tat org.apache.spark.sql.execution.BufferedRowIterator.hasNext(BufferedRowIterator.java:43)\r\n\tat org.apache.spark.sql.execution.WholeStageCodegenEvaluatorFactory$WholeStageCodegenPartitionEvaluator$$anon$1.hasNext(WholeStageCodegenEvaluatorFactory.scala:43)\r\n\tat scala.collection.Iterator$$anon$10.hasNext(Iterator.scala:460)\r\n\tat scala.collection.Iterator$$anon$10.hasNext(Iterator.scala:460)\r\n\tat scala.collection.Iterator$$anon$10.hasNext(Iterator.scala:460)\r\n\tat scala.collection.Iterator$$anon$10.hasNext(Iterator.scala:460)\r\n\tat org.apache.spark.rdd.RDD$$anon$3.hasNext(RDD.scala:968)\r\n\tat scala.collection.Iterator$$anon$10.hasNext(Iterator.scala:460)\r\n\tat org.apache.spark.storage.memory.MemoryStore.putIterator(MemoryStore.scala:223)\r\n\tat org.apache.spark.storage.memory.MemoryStore.putIteratorAsValues(MemoryStore.scala:302)\r\n\tat org.apache.spark.storage.BlockManager.$anonfun$doPutIterator$1(BlockManager.scala:1601)\r\n\tat org.apache.spark.storage.BlockManager.org$apache$spark$storage$BlockManager$$doPut(BlockManager.scala:1528)\r\n\tat org.apache.spark.storage.BlockManager.doPutIterator(BlockManager.scala:1592)\r\n\tat org.apache.spark.storage.BlockManager.getOrElseUpdate(BlockManager.scala:1389)\r\n\tat org.apache.spark.storage.BlockManager.getOrElseUpdateRDDBlock(BlockManager.scala:1343)\r\n\tat org.apache.spark.rdd.RDD.getOrCompute(RDD.scala:376)\r\n\tat org.apache.spark.rdd.RDD.iterator(RDD.scala:326)\r\n\tat org.apache.spark.scheduler.ResultTask.runTask(ResultTask.scala:93)\r\n\tat org.apache.spark.TaskContext.runTaskWithListeners(TaskContext.scala:161)\r\n\tat org.apache.spark.scheduler.Task.run(Task.scala:141)\r\n\tat org.apache.spark.executor.Executor$TaskRunner.$anonfun$run$4(Executor.scala:620)\r\n\tat org.apache.spark.util.SparkErrorUtils.tryWithSafeFinally(SparkErrorUtils.scala:64)\r\n\tat org.apache.spark.util.SparkErrorUtils.tryWithSafeFinally$(SparkErrorUtils.scala:61)\r\n\tat org.apache.spark.util.Utils$.tryWithSafeFinally(Utils.scala:94)\r\n\tat org.apache.spark.executor.Executor$TaskRunner.run(Executor.scala:623)\r\n\tat java.base/java.util.concurrent.ThreadPoolExecutor.runWorker(ThreadPoolExecutor.java:1144)\r\n\tat java.base/java.util.concurrent.ThreadPoolExecutor$Worker.run(ThreadPoolExecutor.java:642)\r\n\t... 1 more\r\n"
     ]
    }
   ],
   "source": [
    "from pyspark.ml.clustering import KMeans\n",
    "\n",
    "df_train, df_test = df_transformed.randomSplit([0.8, 0.2], seed=42)\n",
    "kmeans = KMeans().setParams(featuresCol=\"features\", predictionCol=\"prediction\", k=5, seed=42)\n",
    "model = kmeans.fit(df_train)\n",
    "\n",
    "# predictions = model.transform(df_test)\n",
    "\n",
    "# df_train.show(3)"
   ]
  },
  {
   "cell_type": "markdown",
   "metadata": {},
   "source": [
    "# Modeling\n",
    "Split the full dataset into train, test, and validation sets. Test out several of the machine learning methods you learned. Evaluate the accuracy of the various models, tuning parameters as necessary. Determine your winning model based on test accuracy and report results on the validation set. Since the churned users are a fairly small subset, I suggest using F1 score as the metric to optimize."
   ]
  },
  {
   "cell_type": "code",
   "execution_count": null,
   "metadata": {},
   "outputs": [],
   "source": []
  },
  {
   "cell_type": "markdown",
   "metadata": {},
   "source": [
    "# Final Steps\n",
    "Clean up your code, adding comments and renaming variables to make the code easier to read and maintain. Refer to the Spark Project Overview page and Data Scientist Capstone Project Rubric to make sure you are including all components of the capstone project and meet all expectations. Remember, this includes thorough documentation in a README file in a Github repository, as well as a web app or blog post."
   ]
  },
  {
   "cell_type": "code",
   "execution_count": null,
   "metadata": {},
   "outputs": [],
   "source": []
  }
 ],
 "metadata": {
  "kernelspec": {
   "display_name": "Python 3",
   "language": "python",
   "name": "python3"
  },
  "language_info": {
   "codemirror_mode": {
    "name": "ipython",
    "version": 3
   },
   "file_extension": ".py",
   "mimetype": "text/x-python",
   "name": "python",
   "nbconvert_exporter": "python",
   "pygments_lexer": "ipython3",
   "version": "3.10.12"
  }
 },
 "nbformat": 4,
 "nbformat_minor": 2
}
